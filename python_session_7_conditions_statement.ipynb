{
 "cells": [
  {
   "cell_type": "markdown",
   "id": "44511362-fa5e-4377-a257-636158095081",
   "metadata": {},
   "source": [
    "**Conditional Statements**"
   ]
  },
  {
   "cell_type": "markdown",
   "id": "7643d2f0-8471-4cfa-a2e3-cff414a6e15b",
   "metadata": {},
   "source": [
    "- Conditional statements means we want to run the code lines based on condition\n",
    "\n",
    "- if rain comes i will go to school other wise i will go to movie\n",
    "\n",
    "- Rain is there \n",
    "\n",
    "- rain is not affect condition "
   ]
  },
  {
   "cell_type": "markdown",
   "id": "4b1c2082-1af5-458d-b44b-ba1a2526374d",
   "metadata": {},
   "source": [
    "**if**"
   ]
  },
  {
   "cell_type": "code",
   "execution_count": null,
   "id": "510aa6a2-6638-4b35-b8c8-e9e20095b055",
   "metadata": {},
   "outputs": [],
   "source": [
    "# syntax\n",
    "\n",
    "if <condition>:\n",
    "    <codeline1>\n",
    "    <codeline2>"
   ]
  },
  {
   "cell_type": "markdown",
   "id": "8dc73ed5-d657-4804-befe-9d463235a08a",
   "metadata": {},
   "source": [
    "- whenever any line start with keyword(green) at the end of the line we have colon(:)\n",
    "\n",
    "- whenever we have a colon(:) the next line starts with some gap\n",
    "\n",
    "- and gthis gap is called as indentation \n",
    "\n",
    "- How many lines we are maintianing gap(indentation) that all are under one area"
   ]
  },
  {
   "cell_type": "markdown",
   "id": "c4293c4a-4758-4285-8739-9a149ab5356c",
   "metadata": {},
   "source": [
    "- if is a conditional statement, it will check the condition is True or False\n",
    "\n",
    "- if that condition will True then only it will enter inside the if area\n",
    "\n",
    "- and execute those code lines\n",
    "\n",
    "- if that condition will False, then it will not enter inside if\n",
    "\n",
    "- and it will not execute those code line    "
   ]
  },
  {
   "cell_type": "code",
   "execution_count": 9,
   "id": "7c53d6c0-31df-4fab-a4ab-a3cffa7db05f",
   "metadata": {},
   "outputs": [
    {
     "data": {
      "text/plain": [
       "True"
      ]
     },
     "execution_count": 9,
     "metadata": {},
     "output_type": "execute_result"
    }
   ],
   "source": [
    "100>10"
   ]
  },
  {
   "cell_type": "code",
   "execution_count": 11,
   "id": "ddd63f83-7813-4cea-8b66-b43f4fac113f",
   "metadata": {},
   "outputs": [
    {
     "name": "stdout",
     "output_type": "stream",
     "text": [
      "hello\n"
     ]
    }
   ],
   "source": [
    "if 100>10:\n",
    "    print(\"hello\")"
   ]
  },
  {
   "cell_type": "markdown",
   "id": "ddef55d2-597c-4ae0-886a-ccca6a8e2281",
   "metadata": {},
   "source": [
    "**mistake-1**\n",
    "\n",
    "- Indentation"
   ]
  },
  {
   "cell_type": "code",
   "execution_count": 15,
   "id": "87ea7aa1-1d75-4cdf-bc3e-a74ad63e41fa",
   "metadata": {},
   "outputs": [
    {
     "ename": "IndentationError",
     "evalue": "expected an indented block after 'if' statement on line 1 (3663483495.py, line 2)",
     "output_type": "error",
     "traceback": [
      "\u001b[1;36m  Cell \u001b[1;32mIn[15], line 2\u001b[1;36m\u001b[0m\n\u001b[1;33m    print(\"hello\")\u001b[0m\n\u001b[1;37m    ^\u001b[0m\n\u001b[1;31mIndentationError\u001b[0m\u001b[1;31m:\u001b[0m expected an indented block after 'if' statement on line 1\n"
     ]
    }
   ],
   "source": [
    "if 100>10:\n",
    "print(\"hello\")"
   ]
  },
  {
   "cell_type": "code",
   "execution_count": 20,
   "id": "bed4e3cb-585e-425d-8c19-5b6b0f93a732",
   "metadata": {},
   "outputs": [
    {
     "name": "stdout",
     "output_type": "stream",
     "text": [
      "hello\n"
     ]
    }
   ],
   "source": [
    "if 100>10:\n",
    "    print(\"hello\")\n",
    "# Indentation required 4 spaces"
   ]
  },
  {
   "cell_type": "markdown",
   "id": "6d2d4779-58b4-4705-8a55-bc54ef2b4709",
   "metadata": {},
   "source": [
    "**Mistake-2**\n",
    "\n",
    "- Colon(:) missing"
   ]
  },
  {
   "cell_type": "code",
   "execution_count": 23,
   "id": "61ee1701-ade8-4f4b-9efc-2b173ce20e1e",
   "metadata": {},
   "outputs": [
    {
     "ename": "SyntaxError",
     "evalue": "expected ':' (4173596931.py, line 1)",
     "output_type": "error",
     "traceback": [
      "\u001b[1;36m  Cell \u001b[1;32mIn[23], line 1\u001b[1;36m\u001b[0m\n\u001b[1;33m    if 100>10\u001b[0m\n\u001b[1;37m             ^\u001b[0m\n\u001b[1;31mSyntaxError\u001b[0m\u001b[1;31m:\u001b[0m expected ':'\n"
     ]
    }
   ],
   "source": [
    "if 100>10\n",
    "    print(\"hello\")"
   ]
  },
  {
   "cell_type": "markdown",
   "id": "b25e8509-2937-4c39-af2f-9aaa699b6e15",
   "metadata": {},
   "source": [
    "**mistake-3**\n",
    "\n",
    "- if will expect a condition"
   ]
  },
  {
   "cell_type": "code",
   "execution_count": 26,
   "id": "0dd5f230-1057-47f9-b9d5-2501e50b25c1",
   "metadata": {},
   "outputs": [
    {
     "ename": "SyntaxError",
     "evalue": "invalid syntax (3604022329.py, line 1)",
     "output_type": "error",
     "traceback": [
      "\u001b[1;36m  Cell \u001b[1;32mIn[26], line 1\u001b[1;36m\u001b[0m\n\u001b[1;33m    if :\u001b[0m\n\u001b[1;37m       ^\u001b[0m\n\u001b[1;31mSyntaxError\u001b[0m\u001b[1;31m:\u001b[0m invalid syntax\n"
     ]
    }
   ],
   "source": [
    "if :\n",
    "    print(\"hello\")"
   ]
  },
  {
   "cell_type": "markdown",
   "id": "1944d762-6685-4321-a737-094015f68773",
   "metadata": {},
   "source": [
    "**mistake-4**\n",
    "\n",
    "- missing brackets()"
   ]
  },
  {
   "cell_type": "code",
   "execution_count": 32,
   "id": "993f0e63-6051-4c89-925e-8a7e88f77505",
   "metadata": {},
   "outputs": [
    {
     "ename": "SyntaxError",
     "evalue": "Missing parentheses in call to 'print'. Did you mean print(...)? (3193104350.py, line 2)",
     "output_type": "error",
     "traceback": [
      "\u001b[1;36m  Cell \u001b[1;32mIn[32], line 2\u001b[1;36m\u001b[0m\n\u001b[1;33m    print\"hello\"\u001b[0m\n\u001b[1;37m    ^\u001b[0m\n\u001b[1;31mSyntaxError\u001b[0m\u001b[1;31m:\u001b[0m Missing parentheses in call to 'print'. Did you mean print(...)?\n"
     ]
    }
   ],
   "source": [
    "if 100>10:\n",
    "    print\"hello\""
   ]
  },
  {
   "cell_type": "markdown",
   "id": "b136ed9d-537f-4d2c-b0d2-72176b21ebf0",
   "metadata": {},
   "source": [
    "**mistake-5**\n",
    "\n",
    "- never assign a variable to a print statement\n",
    "\n",
    "- print we are using for to see the answer"
   ]
  },
  {
   "cell_type": "code",
   "execution_count": 35,
   "id": "8ece45f1-2eb4-4cc3-8616-e8b3482f7028",
   "metadata": {},
   "outputs": [
    {
     "name": "stdout",
     "output_type": "stream",
     "text": [
      "hello\n"
     ]
    }
   ],
   "source": [
    "if 100>10:\n",
    "    name=print(\"hello\")"
   ]
  },
  {
   "cell_type": "markdown",
   "id": "fe310424-d0e2-4043-a4e9-984cedefb4e7",
   "metadata": {},
   "source": [
    "**mistake-6**\n",
    "\n",
    "- all the syntax error\n",
    "\n",
    "- spelling mistakes"
   ]
  },
  {
   "cell_type": "code",
   "execution_count": 38,
   "id": "7737d1a2-2b47-4483-a125-8643ce0d9d0b",
   "metadata": {},
   "outputs": [
    {
     "name": "stdout",
     "output_type": "stream",
     "text": [
      "hello\n",
      "Good morning\n"
     ]
    }
   ],
   "source": [
    "if 100>10:\n",
    "    print(\"hello\")\n",
    "    print('Good morning')"
   ]
  },
  {
   "cell_type": "code",
   "execution_count": 46,
   "id": "4efc8733-cafc-45e4-912f-94edc84b0b28",
   "metadata": {},
   "outputs": [
    {
     "name": "stdout",
     "output_type": "stream",
     "text": [
      "hello\n",
      "Good morning\n",
      "okay\n"
     ]
    }
   ],
   "source": [
    "if 100>10:\n",
    "    print(\"hello\")\n",
    "    print('Good morning')\n",
    "print(\"okay\")    \n",
    "\n",
    "#step-1: if 100>10 if true\n",
    "#step-2: hello\n",
    "#step3: good morning\n",
    "#step4: okay"
   ]
  },
  {
   "cell_type": "code",
   "execution_count": 48,
   "id": "94c35b47-e35c-4b23-9965-5707c2518d20",
   "metadata": {},
   "outputs": [
    {
     "name": "stdout",
     "output_type": "stream",
     "text": [
      "10\n",
      "20\n",
      "hello\n",
      "Good morning\n",
      "okay\n"
     ]
    }
   ],
   "source": [
    "print(10)\n",
    "print(20)\n",
    "##############################\n",
    "if 100>10:\n",
    "    print(\"hello\")\n",
    "    print('Good morning')\n",
    "#############################\n",
    "print(\"okay\")"
   ]
  },
  {
   "cell_type": "code",
   "execution_count": 52,
   "id": "5173d31b-aac1-48a8-a633-7b3f528d41e5",
   "metadata": {},
   "outputs": [
    {
     "ename": "IndentationError",
     "evalue": "unexpected indent (3515080829.py, line 4)",
     "output_type": "error",
     "traceback": [
      "\u001b[1;36m  Cell \u001b[1;32mIn[52], line 4\u001b[1;36m\u001b[0m\n\u001b[1;33m    print(\"okay\")\u001b[0m\n\u001b[1;37m    ^\u001b[0m\n\u001b[1;31mIndentationError\u001b[0m\u001b[1;31m:\u001b[0m unexpected indent\n"
     ]
    }
   ],
   "source": [
    "if 100>10:\n",
    "    print(\"hello\")\n",
    "print('Good morning')\n",
    "    print(\"okay\")"
   ]
  },
  {
   "cell_type": "code",
   "execution_count": 58,
   "id": "6d944208-8060-4c38-82b4-0af2b496940d",
   "metadata": {},
   "outputs": [
    {
     "name": "stdout",
     "output_type": "stream",
     "text": [
      "hello\n",
      "Good morning\n",
      "okay\n"
     ]
    }
   ],
   "source": [
    "if True:\n",
    "    print(\"hello\")\n",
    "    print('Good morning')\n",
    "print(\"okay\")"
   ]
  },
  {
   "cell_type": "code",
   "execution_count": 60,
   "id": "dded68ba-79c8-407b-999f-8cc91afcc01d",
   "metadata": {},
   "outputs": [
    {
     "name": "stdout",
     "output_type": "stream",
     "text": [
      "10\n",
      "okay\n"
     ]
    }
   ],
   "source": [
    "print(10)\n",
    "if 100<10:\n",
    "    print(\"hello\")\n",
    "    print('Good morning')\n",
    "print(\"okay\")"
   ]
  },
  {
   "cell_type": "code",
   "execution_count": 62,
   "id": "3bddb264-0526-44d8-aa52-443efc7439b8",
   "metadata": {},
   "outputs": [
    {
     "name": "stdout",
     "output_type": "stream",
     "text": [
      "10\n",
      "okay\n"
     ]
    }
   ],
   "source": [
    "print(10)\n",
    "if False:\n",
    "    print(\"hello\")\n",
    "    print('Good morning')\n",
    "print(\"okay\")"
   ]
  },
  {
   "cell_type": "code",
   "execution_count": 72,
   "id": "8eb47f0a-3526-466f-95a8-ac6db1675ec3",
   "metadata": {},
   "outputs": [
    {
     "name": "stdout",
     "output_type": "stream",
     "text": [
      "10\n",
      "hello\n",
      "Good morning\n",
      "okay\n"
     ]
    }
   ],
   "source": [
    "print(10)\n",
    "if 100:\n",
    "    print(\"hello\")\n",
    "    print('Good morning')\n",
    "print(\"okay\")"
   ]
  },
  {
   "cell_type": "code",
   "execution_count": 74,
   "id": "196eb2c0-1fe2-486e-acbc-d587cb6acb99",
   "metadata": {},
   "outputs": [
    {
     "data": {
      "text/plain": [
       "True"
      ]
     },
     "execution_count": 74,
     "metadata": {},
     "output_type": "execute_result"
    }
   ],
   "source": [
    "bool(100)"
   ]
  },
  {
   "cell_type": "code",
   "execution_count": 76,
   "id": "0881ae15-2dbc-475d-8bdf-5b237243d06e",
   "metadata": {},
   "outputs": [
    {
     "name": "stdout",
     "output_type": "stream",
     "text": [
      "10\n",
      "okay\n"
     ]
    }
   ],
   "source": [
    "print(10)\n",
    "if 0:\n",
    "    print(\"hello\")\n",
    "    print('Good morning')\n",
    "print(\"okay\")"
   ]
  },
  {
   "cell_type": "code",
   "execution_count": 78,
   "id": "74df6bbd-f356-434d-8e50-e6a0192351de",
   "metadata": {},
   "outputs": [
    {
     "name": "stdout",
     "output_type": "stream",
     "text": [
      "10\n",
      "hello\n",
      "Good morning\n",
      "okay\n"
     ]
    }
   ],
   "source": [
    "print(10)\n",
    "if 'hello':\n",
    "    print(\"hello\")\n",
    "    print('Good morning')\n",
    "print(\"okay\")"
   ]
  },
  {
   "cell_type": "code",
   "execution_count": 80,
   "id": "537f415e-befb-409d-88d9-ced99758a520",
   "metadata": {},
   "outputs": [
    {
     "data": {
      "text/plain": [
       "True"
      ]
     },
     "execution_count": 80,
     "metadata": {},
     "output_type": "execute_result"
    }
   ],
   "source": [
    "bool('hello')"
   ]
  },
  {
   "cell_type": "code",
   "execution_count": 82,
   "id": "7cd3abc3-1ccb-46a1-be7e-39ff83f13e71",
   "metadata": {},
   "outputs": [
    {
     "name": "stdout",
     "output_type": "stream",
     "text": [
      "10\n",
      "okay\n"
     ]
    }
   ],
   "source": [
    "print(10)\n",
    "if '':\n",
    "    print(\"hello\")\n",
    "    print('Good morning')\n",
    "print(\"okay\")"
   ]
  },
  {
   "cell_type": "code",
   "execution_count": 84,
   "id": "8fe4f8a5-2a3e-4834-8bdb-4d6376bd63d8",
   "metadata": {},
   "outputs": [
    {
     "data": {
      "text/plain": [
       "False"
      ]
     },
     "execution_count": 84,
     "metadata": {},
     "output_type": "execute_result"
    }
   ],
   "source": [
    "bool()"
   ]
  },
  {
   "cell_type": "markdown",
   "id": "f570d860-e274-4d3b-9b22-77f0c26f6798",
   "metadata": {},
   "source": [
    "**if-else**"
   ]
  },
  {
   "cell_type": "code",
   "execution_count": null,
   "id": "5d9addad-b32c-4fea-9d75-b4c3fe92d5e1",
   "metadata": {},
   "outputs": [],
   "source": [
    "- if requried condition"
   ]
  },
  {
   "cell_type": "code",
   "execution_count": null,
   "id": "e7439595-daec-474d-9b76-5e58e8e5bfd5",
   "metadata": {},
   "outputs": [],
   "source": [
    "#syntax\n",
    "\n",
    "if <condition>:\n",
    "    <codeline>\n",
    "else:\n",
    "    <codeline>"
   ]
  },
  {
   "cell_type": "code",
   "execution_count": 94,
   "id": "eedf7df3-efbf-49c6-9292-544b93b13467",
   "metadata": {},
   "outputs": [
    {
     "name": "stdout",
     "output_type": "stream",
     "text": [
      "condition is correct\n"
     ]
    }
   ],
   "source": [
    "if 100>10:\n",
    "    print(\"condition is correct\")\n",
    "else:\n",
    "    print(\"condition is wrong\")"
   ]
  },
  {
   "cell_type": "code",
   "execution_count": 96,
   "id": "bf2c414d-76e2-418c-86fb-233cd531b3cb",
   "metadata": {},
   "outputs": [
    {
     "name": "stdout",
     "output_type": "stream",
     "text": [
      "Hello\n",
      "condition is correct\n"
     ]
    }
   ],
   "source": [
    "print('Hello')\n",
    "if 100>10:\n",
    "    print(\"condition is correct\")\n",
    "else:\n",
    "    print(\"condition is wrong\")"
   ]
  },
  {
   "cell_type": "code",
   "execution_count": 98,
   "id": "91f632b4-8e90-4b55-94d3-94363252a153",
   "metadata": {},
   "outputs": [
    {
     "ename": "SyntaxError",
     "evalue": "invalid syntax (3047506250.py, line 5)",
     "output_type": "error",
     "traceback": [
      "\u001b[1;36m  Cell \u001b[1;32mIn[98], line 5\u001b[1;36m\u001b[0m\n\u001b[1;33m    else:\u001b[0m\n\u001b[1;37m    ^\u001b[0m\n\u001b[1;31mSyntaxError\u001b[0m\u001b[1;31m:\u001b[0m invalid syntax\n"
     ]
    }
   ],
   "source": [
    "print('Hello')\n",
    "if 100>10:\n",
    "    print(\"condition is correct\")\n",
    "print(\"why are you in middle\")\n",
    "else:\n",
    "    print(\"condition is wrong\")"
   ]
  },
  {
   "cell_type": "code",
   "execution_count": 112,
   "id": "fd060531-7245-4f12-a541-de4e3172e3a1",
   "metadata": {},
   "outputs": [
    {
     "name": "stdout",
     "output_type": "stream",
     "text": [
      "Hello\n",
      "condition is correct\n",
      "why are you in middle\n"
     ]
    }
   ],
   "source": [
    "print('Hello')\n",
    "if 100>10:\n",
    "    print(\"condition is correct\")\n",
    "    print(\"why are you in middle\")\n",
    "else:\n",
    "    print(\"condition is wrong\")"
   ]
  },
  {
   "cell_type": "code",
   "execution_count": 116,
   "id": "7635a622-6eb5-4b90-a221-0a6be94de8af",
   "metadata": {},
   "outputs": [
    {
     "name": "stdout",
     "output_type": "stream",
     "text": [
      "10\n",
      "0\n",
      "10\n",
      "0.0\n"
     ]
    },
    {
     "ename": "ZeroDivisionError",
     "evalue": "division by zero",
     "output_type": "error",
     "traceback": [
      "\u001b[1;31m---------------------------------------------------------------------------\u001b[0m",
      "\u001b[1;31mZeroDivisionError\u001b[0m                         Traceback (most recent call last)",
      "Cell \u001b[1;32mIn[116], line 10\u001b[0m\n\u001b[0;32m      8\u001b[0m d\u001b[38;5;241m=\u001b[39mb\u001b[38;5;241m/\u001b[39ma\n\u001b[0;32m      9\u001b[0m \u001b[38;5;28mprint\u001b[39m(d)\n\u001b[1;32m---> 10\u001b[0m e\u001b[38;5;241m=\u001b[39ma\u001b[38;5;241m/\u001b[39mb\n\u001b[0;32m     11\u001b[0m \u001b[38;5;28mprint\u001b[39m(e)\n",
      "\u001b[1;31mZeroDivisionError\u001b[0m: division by zero"
     ]
    }
   ],
   "source": [
    "if True:\n",
    "    a=10\n",
    "    b=0\n",
    "    print(a)\n",
    "    print(b)\n",
    "    c=a+b\n",
    "    print(c)\n",
    "    d=b/a\n",
    "    print(d)\n",
    "    e=a/b\n",
    "    print(e)"
   ]
  },
  {
   "cell_type": "code",
   "execution_count": 119,
   "id": "2179fb71-a13e-40fb-b2a3-68758108bad5",
   "metadata": {},
   "outputs": [
    {
     "data": {
      "text/plain": [
       "1.25"
      ]
     },
     "execution_count": 119,
     "metadata": {},
     "output_type": "execute_result"
    }
   ],
   "source": [
    "5/4 #normal division"
   ]
  },
  {
   "cell_type": "code",
   "execution_count": 121,
   "id": "6bb4b731-a917-4c57-a541-1178abd9b6a6",
   "metadata": {},
   "outputs": [
    {
     "data": {
      "text/plain": [
       "1"
      ]
     },
     "execution_count": 121,
     "metadata": {},
     "output_type": "execute_result"
    }
   ],
   "source": [
    "5//4 #floor division"
   ]
  },
  {
   "cell_type": "code",
   "execution_count": 123,
   "id": "2978eb21-b1a8-4cf0-a920-10680a5c6c87",
   "metadata": {},
   "outputs": [
    {
     "data": {
      "text/plain": [
       "1"
      ]
     },
     "execution_count": 123,
     "metadata": {},
     "output_type": "execute_result"
    }
   ],
   "source": [
    "#modulus operator\n",
    "5%4 #reminder"
   ]
  },
  {
   "cell_type": "code",
   "execution_count": null,
   "id": "2060d8ef-87f1-4adb-a49a-7830b8f67e8b",
   "metadata": {},
   "outputs": [],
   "source": [
    "# wap ask the user enter a number\n",
    "# find it is a even number or odd number"
   ]
  },
  {
   "cell_type": "code",
   "execution_count": 128,
   "id": "4d5b405f-1481-4f5c-8d3c-a42113a0280a",
   "metadata": {},
   "outputs": [
    {
     "name": "stdin",
     "output_type": "stream",
     "text": [
      "enter the number: 5\n"
     ]
    },
    {
     "name": "stdout",
     "output_type": "stream",
     "text": [
      "the 5 odd number\n"
     ]
    }
   ],
   "source": [
    "num=eval(input(\"enter the number:\"))\n",
    "if num%2==0:\n",
    "    print(f'the {num} even number')\n",
    "else:\n",
    "    print(f\"the {num} odd number\")\n",
    "    "
   ]
  },
  {
   "cell_type": "code",
   "execution_count": null,
   "id": "36907700-6d25-49ef-9272-106ed998dbab",
   "metadata": {},
   "outputs": [],
   "source": [
    "# Implement the above problem by taking a random input between 1, 100"
   ]
  },
  {
   "cell_type": "code",
   "execution_count": 9,
   "id": "4b665744-67a2-423e-b198-039645728cc7",
   "metadata": {},
   "outputs": [
    {
     "name": "stdin",
     "output_type": "stream",
     "text": [
      "enter the start value: 10\n",
      "enter the start value: 15\n"
     ]
    },
    {
     "name": "stdout",
     "output_type": "stream",
     "text": [
      "the 15 odd number\n"
     ]
    }
   ],
   "source": [
    "import random\n",
    "start=eval(input(\"enter the start value:\"))\n",
    "end=eval(input(\"enter the start value:\"))\n",
    "num=random.randint(start,end)\n",
    "if num%2==0:\n",
    "    print(f'the {num} even number')\n",
    "else:\n",
    "    print(f\"the {num} odd number\")"
   ]
  },
  {
   "cell_type": "markdown",
   "id": "d5b70ec6-cf5f-4c33-8ced-a63fc762d4f7",
   "metadata": {},
   "source": [
    "- we are providing values means it is hard coded\n",
    "\n",
    "- code should be always generic, without hard codings"
   ]
  },
  {
   "cell_type": "code",
   "execution_count": null,
   "id": "556010a0-8740-4e91-bbf2-7078999df3f8",
   "metadata": {},
   "outputs": [],
   "source": [
    "# wap ask the user enter the distance\n",
    "#if distance greater than 25km\n",
    "#   then enter the charge\n",
    "#   print the total cost\n",
    "#   otherwise\n",
    "#   print free ride"
   ]
  },
  {
   "cell_type": "code",
   "execution_count": 24,
   "id": "cdc6bc98-158d-4d46-80c5-029d6b70582d",
   "metadata": {},
   "outputs": [
    {
     "name": "stdin",
     "output_type": "stream",
     "text": [
      "enter the distance in km: 10\n"
     ]
    },
    {
     "name": "stdout",
     "output_type": "stream",
     "text": [
      "free ride\n"
     ]
    }
   ],
   "source": [
    "num=eval(input(\"enter the distance in km:\"))\n",
    "if num<25:\n",
    "    print(\"enjoy free ride\")\n",
    "else:\n",
    "    charge=eval(input(\"enter the charge in rupees:\"))\n",
    "    totalcost= num*charge\n",
    "    print(\"Total cost of the ride is:\",totalcost)"
   ]
  },
  {
   "cell_type": "code",
   "execution_count": null,
   "id": "1cec9c05-31bb-400e-85c5-cbbe45e855d3",
   "metadata": {},
   "outputs": [],
   "source": [
    "# wap ask the user enter the distance\n",
    "#cutoff distance enter 25\n",
    "#if distance greater than 25km\n",
    "# print (\"Good news yours charge is applicable for only remaining of 25\")\n",
    "# charageble distance = distance - cutoff\n",
    "#   then enter the charge\n",
    "#   print the total cost\n",
    "#   otherwise\n",
    "#   print free ride"
   ]
  },
  {
   "cell_type": "code",
   "execution_count": 34,
   "id": "fd8c5fbc-3076-4f30-be72-f8e096d60cd4",
   "metadata": {},
   "outputs": [
    {
     "name": "stdin",
     "output_type": "stream",
     "text": [
      "enter the distance in km: 10\n",
      "enter the cutoff distance in km: 25\n"
     ]
    },
    {
     "name": "stdout",
     "output_type": "stream",
     "text": [
      "enjoy free ride\n"
     ]
    }
   ],
   "source": [
    "num=eval(input(\"enter the distance in km:\"))\n",
    "cutoff_distance=eval(input(\"enter the cutoff distance in km:\"))\n",
    "if num>cutoff_distance:   \n",
    "    chargeable_distance=num-cutoff_distance\n",
    "    print(\"Kudos to you the chargeable distance is:\",chargeable_distance)\n",
    "    charge=eval(input(\"enter the charge in rupees:\"))\n",
    "    totalcost= chargeable_distance*charge\n",
    "    print(\"Total cost of the ride is:\",totalcost)\n",
    "else:\n",
    "    print(\"enjoy free ride\")    "
   ]
  },
  {
   "cell_type": "code",
   "execution_count": null,
   "id": "38b87913-36c9-4916-a8d4-adfc4f011158",
   "metadata": {},
   "outputs": [],
   "source": [
    "# wap ask the user enter the course\n",
    "# ask the user enter the institue\n",
    "# if the course equal to data scicene and institue\n",
    "# then your are good\n",
    "# otherwise\n",
    "# you are good"
   ]
  },
  {
   "cell_type": "code",
   "execution_count": 40,
   "id": "f2e854ac-8291-45d4-a908-6afbc0d09af3",
   "metadata": {},
   "outputs": [
    {
     "name": "stdin",
     "output_type": "stream",
     "text": [
      "enter the course: data science\n",
      "enter the institue: naresh it\n"
     ]
    },
    {
     "name": "stdout",
     "output_type": "stream",
     "text": [
      "good\n"
     ]
    }
   ],
   "source": [
    "course=input(\"enter the course:\")\n",
    "institute=input(\"enter the institue:\")\n",
    "if course=='data science' and institute=='naresh it': ## and is condition--- both condition in one statement \n",
    "    print(\"good\")\n",
    "else:\n",
    "    print(\"bad\")\n"
   ]
  },
  {
   "cell_type": "code",
   "execution_count": 44,
   "id": "17a6bbf2-dd6f-40ca-bc57-b7573af3731c",
   "metadata": {},
   "outputs": [
    {
     "name": "stdin",
     "output_type": "stream",
     "text": [
      "enter the course: python\n",
      "enter the institue: omkar\n"
     ]
    },
    {
     "name": "stdout",
     "output_type": "stream",
     "text": [
      "bad\n"
     ]
    }
   ],
   "source": [
    "course=input(\"enter the course:\")\n",
    "institute=input(\"enter the institue:\")\n",
    "if course=='data science' or institute=='naresh it': # or condition is used to satisfy any condition\n",
    "    print(\"good\")\n",
    "else:\n",
    "    print(\"bad\")"
   ]
  },
  {
   "cell_type": "code",
   "execution_count": null,
   "id": "03e689f7-d887-4372-b53a-6e4092827cd2",
   "metadata": {},
   "outputs": [],
   "source": [
    "# wap ask the user enter a random number between 1 to 10\n",
    "# ask the user enter another number from keyword\n",
    "# if number1 is equal to number2\n",
    "# print you won\n",
    "#otherwise\n",
    "#print lost"
   ]
  },
  {
   "cell_type": "code",
   "execution_count": 71,
   "id": "6114aa25-58a6-44f5-8041-82a293b0b709",
   "metadata": {},
   "outputs": [
    {
     "name": "stdout",
     "output_type": "stream",
     "text": [
      "4\n"
     ]
    },
    {
     "name": "stdin",
     "output_type": "stream",
     "text": [
      "enter the number2 10\n"
     ]
    },
    {
     "name": "stdout",
     "output_type": "stream",
     "text": [
      "you lost\n"
     ]
    }
   ],
   "source": [
    "import random\n",
    "num1=random.randint(1,10)\n",
    "print(num1)    #cheat\n",
    "num2=eval(input(\"enter the number2\"))\n",
    "if num1==num2:\n",
    "    print(\"you won\")\n",
    "else:\n",
    "    print(\"you lost\")"
   ]
  },
  {
   "cell_type": "markdown",
   "id": "ca2364da-5c7e-40dd-9d3b-255fc76bcff2",
   "metadata": {},
   "source": [
    "- Till now we have seen one condition problem\n",
    "\n",
    "- which means if that condition is True will one answer\n",
    "\n",
    "- if that condition False then will get another answer\n",
    "\n",
    "- How about if we have more than 2 condition\n",
    "\n",
    "- if-elif-else\n",
    "\n",
    "- two condition means 3 results\n",
    "\n",
    "- if has one condition \n",
    "\n",
    "- elif has second condition\n",
    "\n",
    "- if both are false then the result in else"
   ]
  },
  {
   "cell_type": "code",
   "execution_count": null,
   "id": "ac5fc437-52fb-4ef3-a612-47035dbb9530",
   "metadata": {},
   "outputs": [],
   "source": [
    "##syntax\n",
    "if <condition>:\n",
    "    <statements>\n",
    "elif<condition>:\n",
    "    <statements>\n",
    "else:\n",
    "    <statement>\n",
    "\n",
    "if-else (1- condition) \n",
    "if-elif-else(2)\n",
    "if- elif-elif- else(3)"
   ]
  },
  {
   "cell_type": "code",
   "execution_count": null,
   "id": "911611d3-5118-4acb-a245-f23b0e9990a1",
   "metadata": {},
   "outputs": [],
   "source": [
    "# wao ask the user enter number\n",
    "# if number equal to 1 then print one\n",
    "# if number equal to 2 then print two\n",
    "# if number equal to 3 then print three\n",
    "# otherwise print enter a valid number"
   ]
  },
  {
   "cell_type": "code",
   "execution_count": 75,
   "id": "7bbf7f73-be13-4946-b1fa-57f6bea97948",
   "metadata": {},
   "outputs": [
    {
     "name": "stdin",
     "output_type": "stream",
     "text": [
      "enter the number 3\n"
     ]
    },
    {
     "name": "stdout",
     "output_type": "stream",
     "text": [
      "three\n"
     ]
    }
   ],
   "source": [
    "num=eval(input(\"enter the number\") )\n",
    "if num==1:print(\"one\")\n",
    "elif num==2:print(\"two\")\n",
    "elif num==3:print(\"three\")\n",
    "else:print(\"enter the valid number\")"
   ]
  },
  {
   "cell_type": "code",
   "execution_count": null,
   "id": "71da2471-740a-4b46-b520-398c129711f3",
   "metadata": {},
   "outputs": [],
   "source": [
    "# wap ask the user enter a number \n",
    "# if that number greater than zero print positive\n",
    "# if that number less than zero print negative\n",
    "# otherwise print zero"
   ]
  },
  {
   "cell_type": "code",
   "execution_count": 81,
   "id": "3d2fb03d-35ce-4c47-8ec3-8f124e678e14",
   "metadata": {},
   "outputs": [
    {
     "name": "stdin",
     "output_type": "stream",
     "text": [
      "enter a number 0\n"
     ]
    },
    {
     "name": "stdout",
     "output_type": "stream",
     "text": [
      "zero\n"
     ]
    }
   ],
   "source": [
    "num=eval(input(\"enter a number\"))\n",
    "if num>0:print(\"positive\")\n",
    "elif num<0:print(\"negative\")\n",
    "else: print(\"zero\")"
   ]
  },
  {
   "cell_type": "code",
   "execution_count": null,
   "id": "d1b2a463-84e8-403d-8c59-2b801f4c97cf",
   "metadata": {},
   "outputs": [],
   "source": [
    "# wap ask user enter the percentage of marks\n",
    "# if percentage greater than 90 print A grade\n",
    "# if percentage btw 75 to 90 print b grade\n",
    "# if percentage btw 50 to 75 print C grade\n",
    "# if percentage btw 35 to 50 print D grade\n",
    "# if percentage less than 35 print fail\n"
   ]
  },
  {
   "cell_type": "code",
   "execution_count": 107,
   "id": "3bb7b342-cc76-4c75-9092-76b8af88b544",
   "metadata": {},
   "outputs": [
    {
     "name": "stdin",
     "output_type": "stream",
     "text": [
      "enter the precentage 34\n"
     ]
    },
    {
     "name": "stdout",
     "output_type": "stream",
     "text": [
      "Fail\n"
     ]
    }
   ],
   "source": [
    "num=eval(input(\"enter the precentage\"))\n",
    "if num>=90:print(\"A grade\")\n",
    "elif num>=75: print(\"B grade\")\n",
    "elif num>35: print(\"C grade\")\n",
    "elif num>=35: print(\"D grade\")\n",
    "else: print(\"Fail\")"
   ]
  },
  {
   "cell_type": "code",
   "execution_count": 109,
   "id": "ad2b0bb2-2c68-4542-8763-3543e11c4e66",
   "metadata": {},
   "outputs": [],
   "source": [
    "# enter age\n",
    "# if the age greater than 100 print you are Lucky\n",
    "# if the age greater than 75 print old age\n",
    "# if the age btw 50 to 75 print ss\n",
    "# if the age btw 30 to 50 print middle age\n",
    "# if the age btw 15 to 30 print young age\n",
    "# if the age btw less than 15 print kid"
   ]
  },
  {
   "cell_type": "code",
   "execution_count": 113,
   "id": "86261985-908a-425c-a6bf-e9e48e83ec72",
   "metadata": {},
   "outputs": [
    {
     "name": "stdin",
     "output_type": "stream",
     "text": [
      "enter the age 23\n"
     ]
    },
    {
     "name": "stdout",
     "output_type": "stream",
     "text": [
      "young age\n"
     ]
    }
   ],
   "source": [
    "num=eval(input(\"enter the age\"))\n",
    "if num>=100:print(\"You are lucky\")\n",
    "elif num>=75: print(\"Old age\")\n",
    "elif num>50: print(\"senior citizen\")\n",
    "elif num>=30: print(\"Middle age\")\n",
    "elif num>=15: print(\"young age\")\n",
    "else: print(\"kid\")"
   ]
  },
  {
   "cell_type": "code",
   "execution_count": null,
   "id": "a9d30d83-eca6-44dc-a4e1-207abb3fa55b",
   "metadata": {},
   "outputs": [],
   "source": [
    "#ask the user enter 2 numbers\n",
    "#num1\n",
    "#num2\n",
    "# You need to print\n",
    "# enter operation 1 for addition\n",
    "# enter operation 2 for mult\n",
    "# enter operation 3 for sub\n",
    "# enter operation 4 for div\n",
    "\n",
    "# enter the operation between 1 to 4\n",
    "# if operation equal to 1 then do add\n",
    "# if operation equal to 2 then do mul\n",
    "# if operation equal to 3 then do sub\n",
    "# if operation equal to 4 then do div\n",
    "# otherwise print enter a valid number"
   ]
  },
  {
   "cell_type": "code",
   "execution_count": 26,
   "id": "c31b1d16-49cd-4569-9d04-2388d6a0ca7a",
   "metadata": {},
   "outputs": [
    {
     "name": "stdin",
     "output_type": "stream",
     "text": [
      "enter the number1 20\n",
      "enter the number2 40\n",
      "\n",
      "Enter operation:\n",
      "  1 for addition\n",
      "  2 for multiplication\n",
      "  3 for subtraction\n",
      "  4 for division\n",
      " 4\n"
     ]
    },
    {
     "name": "stdout",
     "output_type": "stream",
     "text": [
      "division of two number is 2.0\n"
     ]
    }
   ],
   "source": [
    "num1=eval(input(\"enter the number1\"))\n",
    "num2=eval(input(\"enter the number2\"))\n",
    "operation = int(input(\"\"\"\n",
    "Enter operation:\n",
    "  1 for addition\n",
    "  2 for multiplication\n",
    "  3 for subtraction\n",
    "  4 for division\n",
    "\"\"\")) \n",
    "if operation == 1:\n",
    "    sum=num1 + num2\n",
    "    print(f\"Addittion of two number is {sum}\")\n",
    "elif operation == 2:\n",
    "    mul=num1 * num2\n",
    "    print(f\"Multipicaltion of two number is {mul}\")\n",
    "elif operation == 3:\n",
    "    sub=num1 - num2\n",
    "    print(f\"Subtraction of two number is {sub}\")    \n",
    "elif operation == 4:\n",
    "    div=num2/num1\n",
    "    print(f\"division of two number is {div}\")\n",
    "else: print(\"Enter valid number\")"
   ]
  },
  {
   "cell_type": "code",
   "execution_count": null,
   "id": "759890d4-4721-447c-ad43-a65122eed667",
   "metadata": {},
   "outputs": [],
   "source": [
    "#wap ask the user enter the gender\n",
    "# if gender equal to male\n",
    "#ask the user enter age\n",
    "# if the age greater than 60 print SS\n",
    "#if the age between 30 to 60 print maman\n",
    "#if the age between 15 to 30 print young man\n",
    "#otherwise print boy\n",
    "# elif gender equal to female\n",
    "#ask the user enter age\n",
    "#if the age greater than 60 print SS\n",
    "#if the age between 30 to 60 print mawoman\n",
    "#if the age between 15 to 30 print young Girl\n",
    "#otherwise print Girl\n",
    "# Otherwise:\n",
    "#print enter a valid gender"
   ]
  },
  {
   "cell_type": "code",
   "execution_count": 43,
   "id": "82f58443-d3d8-44af-8f77-48486817fe5e",
   "metadata": {},
   "outputs": [
    {
     "name": "stdin",
     "output_type": "stream",
     "text": [
      "Enter the gender male\n",
      "enter the age: 45\n"
     ]
    },
    {
     "name": "stdout",
     "output_type": "stream",
     "text": [
      "Middle age\n"
     ]
    }
   ],
   "source": [
    "gender=input(\"Enter the gender\")\n",
    "if gender=='male':\n",
    "    num=eval(input(\"enter the age:\"))\n",
    "    if num>=100:print(\"You are lucky\")\n",
    "    elif num>=75: print(\"Old age\")\n",
    "    elif num>50: print(\"senior citizen\")\n",
    "    elif num>=30: print(\"Middle age\")\n",
    "    elif num>=15: print(\"young age\")\n",
    "    else: print(\"kid\")\n",
    "elif gender=='female':\n",
    "    num=(input(\"Enter the age:\"))\n",
    "    if num>=100:print(\"You are lucky\")\n",
    "    elif num>=75: print(\"Old age\")\n",
    "    elif num>50: print(\"senior citizen\")\n",
    "    elif num>=30: print(\"Middle age\")\n",
    "    elif num>=15: print(\"young age\")\n",
    "    else: print(\"kid\")\n",
    "else:\n",
    "    print(\"enter the valid gender\")"
   ]
  },
  {
   "cell_type": "code",
   "execution_count": null,
   "id": "df395d62-2389-48b2-9068-310028ff071e",
   "metadata": {},
   "outputs": [],
   "source": [
    "## wap ask the user enter a number\n",
    "# if that number greater than or equal to zero\n",
    "#if number equal to zero\n",
    "#print zero\n",
    "# else\n",
    "#print postive\n",
    "# else\n",
    "#print negative"
   ]
  },
  {
   "cell_type": "code",
   "execution_count": 49,
   "id": "044f136b-c85b-443b-8008-7ad6d76780d7",
   "metadata": {},
   "outputs": [
    {
     "name": "stdin",
     "output_type": "stream",
     "text": [
      "enter the number -8\n"
     ]
    },
    {
     "name": "stdout",
     "output_type": "stream",
     "text": [
      "negative\n"
     ]
    }
   ],
   "source": [
    "num=eval(input(\"enter the number\"))\n",
    "if num>=0:\n",
    "    if num==0: print(\"zero\")\n",
    "    else: print(\"positive\")\n",
    "else: print(\"negative\")"
   ]
  },
  {
   "cell_type": "code",
   "execution_count": null,
   "id": "a3ec1f5a-6a69-49d2-98a6-6ad7f5f8be14",
   "metadata": {},
   "outputs": [],
   "source": [
    "# take three numbers\n",
    "# num1 num2 num3\n",
    "# find the maximum value"
   ]
  }
 ],
 "metadata": {
  "kernelspec": {
   "display_name": "Python 3 (ipykernel)",
   "language": "python",
   "name": "python3"
  },
  "language_info": {
   "codemirror_mode": {
    "name": "ipython",
    "version": 3
   },
   "file_extension": ".py",
   "mimetype": "text/x-python",
   "name": "python",
   "nbconvert_exporter": "python",
   "pygments_lexer": "ipython3",
   "version": "3.11.7"
  }
 },
 "nbformat": 4,
 "nbformat_minor": 5
}
