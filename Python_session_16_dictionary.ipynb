{
 "cells": [
  {
   "cell_type": "markdown",
   "id": "8913108d-26db-418b-a0d0-b2bbbe446f39",
   "metadata": {},
   "source": [
    "### Dictionary\n",
    "\n",
    "- We already seen many data types\n",
    "\n",
    "- string\n",
    "\n",
    "- List\n",
    "\n",
    "- Tuple\n",
    "\n",
    "- set\n",
    "\n",
    "- Dictionary\n",
    "\n",
    "- int float bool complex\n",
    "\n",
    "- range\n",
    "\n",
    "- bytes\n",
    "\n",
    "- eval is not a data type"
   ]
  },
  {
   "cell_type": "code",
   "execution_count": null,
   "id": "002c0915-2271-426a-8f08-c6355261ec93",
   "metadata": {},
   "outputs": [],
   "source": [
    "names=['Ramesh','Suresh','Satish']\n",
    "age=[37,25,30]"
   ]
  },
  {
   "cell_type": "markdown",
   "id": "812035b3-3949-4f3d-8fd1-3b9186f25d96",
   "metadata": {},
   "source": [
    "**ZIP**"
   ]
  },
  {
   "cell_type": "code",
   "execution_count": 12,
   "id": "b9099e80-a5d0-4aae-84cd-5147ad9a03c4",
   "metadata": {},
   "outputs": [
    {
     "name": "stdout",
     "output_type": "stream",
     "text": [
      "Ramesh 37\n",
      "Suresh 25\n",
      "Satish 30\n"
     ]
    }
   ],
   "source": [
    "names=['Ramesh','Suresh','Satish']\n",
    "age=[37,25,30]\n",
    "for i,j in zip(names,age):\n",
    "    print(i,j)"
   ]
  },
  {
   "cell_type": "code",
   "execution_count": 14,
   "id": "c3c2810f-020a-449b-ae56-2f2f18af1e26",
   "metadata": {},
   "outputs": [
    {
     "data": {
      "text/plain": [
       "[('Ramesh', 37), ('Suresh', 25), ('Satish', 30)]"
      ]
     },
     "execution_count": 14,
     "metadata": {},
     "output_type": "execute_result"
    }
   ],
   "source": [
    "list(zip(names,age))"
   ]
  },
  {
   "cell_type": "code",
   "execution_count": null,
   "id": "42454247-2de2-45c7-b638-fc0cdd2d3e77",
   "metadata": {},
   "outputs": [],
   "source": [
    "dict1={<key>:<value>}\n",
    "names=['Ramesh','Suresh','Satish']\n",
    "age=[37,25,30]\n",
    "'Ramesh'  is the key ====== 37 its related value\n",
    "dict1={'Ramesh':37,'Suresh':25,'Satish':30}"
   ]
  },
  {
   "cell_type": "code",
   "execution_count": 18,
   "id": "c4b86950-49b5-496d-8225-02191402bcc4",
   "metadata": {},
   "outputs": [
    {
     "data": {
      "text/plain": [
       "dict"
      ]
     },
     "execution_count": 18,
     "metadata": {},
     "output_type": "execute_result"
    }
   ],
   "source": [
    "dict1={'Ramesh':37,'Suresh':25,'Satish':30}\n",
    "type(dict1)"
   ]
  },
  {
   "cell_type": "markdown",
   "id": "203830f5-1737-4f0d-8ece-58455ddaa310",
   "metadata": {},
   "source": [
    "**Create all type of dictionaries**"
   ]
  },
  {
   "cell_type": "code",
   "execution_count": null,
   "id": "6e285eda-a36a-435b-924a-8f36257d6a7a",
   "metadata": {},
   "outputs": [],
   "source": [
    "d1={'Manish':25,'Shubam Gill':20,'Govind':15}\n",
    "d2{'Manish':'25','Shubam Gill':'20','Govind':'15'}\n",
    "d3={25:'Manish',20:'Shubam Gill',15:'Govind'}\n",
    "d4={25:50}\n",
    "d5={'Fruites':['Apple','Cherry']}\n",
    "d6={['Apple','Cherry']:'Fruites'}\n",
    "d7={('Apple','Cherry'):'Fruites'}\n",
    "d8={'Ajay':25,'Ajay':30}\n",
    "d9={25:'Ajay',30:'Ajay'}\n",
    "d10={'Fruites':{'Mango':25}}"
   ]
  },
  {
   "cell_type": "markdown",
   "id": "e8275899-514b-484d-ac0d-89771a258744",
   "metadata": {},
   "source": [
    "**- Keys are important**\n",
    "\n",
    "- Keys have only latest\n",
    "\n",
    "- key should be \n",
    "\n",
    "- Values can be duplicate\n",
    "\n",
    "- which means different keys have same value\n",
    "\n",
    "- List can not be a key, Because Lists are mutable\n",
    "\n",
    "- Tuple can be a key, because Tuple are immutable"
   ]
  },
  {
   "cell_type": "code",
   "execution_count": null,
   "id": "bfa80275-dca6-40a8-b9ac-80f7bdc79c33",
   "metadata": {},
   "outputs": [],
   "source": [
    "d1={'Manish':25,'Shubam Gill':20,'Govind':15}\n",
    "d2={'Manish':'25','Shubam Gill':'20','Govind':'15'}\n",
    "d3={25:'Manish',20:'Shubam Gill',15:'Govind'}\n",
    "d4={'Manish':25,'Shubam Gill':'20','Govind':15}\n",
    "d5={25:'Manish','20':'Shubam Gill',15:'Govind'}\n",
    "d6={'Manish':20,'Shubam Gill':20,'Govind':20}\n",
    "d7={20:'Manish',20:'Shubam Gill',20:'Govind'}"
   ]
  },
  {
   "cell_type": "code",
   "execution_count": 22,
   "id": "d17908ef-e745-403b-8875-6fb7437dc916",
   "metadata": {},
   "outputs": [
    {
     "data": {
      "text/plain": [
       "'Shubam Gill'"
      ]
     },
     "execution_count": 22,
     "metadata": {},
     "output_type": "execute_result"
    }
   ],
   "source": [
    "d1={'Manish':25,'Shubam Gill':20,'Govind':15}\n",
    "max(d1)\n",
    "\n",
    "# operations apply on keys\n",
    "#Keys are important"
   ]
  },
  {
   "cell_type": "code",
   "execution_count": 26,
   "id": "42770cd3-b9ac-4b96-931b-9b0b4f1dc438",
   "metadata": {},
   "outputs": [
    {
     "data": {
      "text/plain": [
       "'Shubam Gill'"
      ]
     },
     "execution_count": 26,
     "metadata": {},
     "output_type": "execute_result"
    }
   ],
   "source": [
    "d2={'Manish':'25','Shubam Gill':'20','Govind':'15'}\n",
    "max(d2)"
   ]
  },
  {
   "cell_type": "code",
   "execution_count": 28,
   "id": "dc8b3a27-057b-4fb8-8ba1-69bfe9b07d27",
   "metadata": {},
   "outputs": [
    {
     "data": {
      "text/plain": [
       "25"
      ]
     },
     "execution_count": 28,
     "metadata": {},
     "output_type": "execute_result"
    }
   ],
   "source": [
    "d3={25:'Manish',20:'Shubam Gill',15:'Govind'}\n",
    "max(d3)"
   ]
  },
  {
   "cell_type": "code",
   "execution_count": 30,
   "id": "b85d09f5-8035-4157-b4b9-c23b9d8b8e96",
   "metadata": {},
   "outputs": [
    {
     "data": {
      "text/plain": [
       "25"
      ]
     },
     "execution_count": 30,
     "metadata": {},
     "output_type": "execute_result"
    }
   ],
   "source": [
    "d4={25:50}\n",
    "max(d4)"
   ]
  },
  {
   "cell_type": "code",
   "execution_count": 32,
   "id": "7fea5c9c-eef1-4b4d-88df-6e1a11f49290",
   "metadata": {},
   "outputs": [
    {
     "data": {
      "text/plain": [
       "'Shubam Gill'"
      ]
     },
     "execution_count": 32,
     "metadata": {},
     "output_type": "execute_result"
    }
   ],
   "source": [
    "d4={'Manish':25,'Shubam Gill':'20','Govind':15}\n",
    "max(d4)"
   ]
  },
  {
   "cell_type": "code",
   "execution_count": 34,
   "id": "e2e7ede8-01a4-4ebf-9ff5-d8ed735c542c",
   "metadata": {},
   "outputs": [
    {
     "ename": "TypeError",
     "evalue": "'>' not supported between instances of 'str' and 'int'",
     "output_type": "error",
     "traceback": [
      "\u001b[1;31m---------------------------------------------------------------------------\u001b[0m",
      "\u001b[1;31mTypeError\u001b[0m                                 Traceback (most recent call last)",
      "Cell \u001b[1;32mIn[34], line 2\u001b[0m\n\u001b[0;32m      1\u001b[0m d5\u001b[38;5;241m=\u001b[39m{\u001b[38;5;241m25\u001b[39m:\u001b[38;5;124m'\u001b[39m\u001b[38;5;124mManish\u001b[39m\u001b[38;5;124m'\u001b[39m,\u001b[38;5;124m'\u001b[39m\u001b[38;5;124m20\u001b[39m\u001b[38;5;124m'\u001b[39m:\u001b[38;5;124m'\u001b[39m\u001b[38;5;124mShubam Gill\u001b[39m\u001b[38;5;124m'\u001b[39m,\u001b[38;5;241m15\u001b[39m:\u001b[38;5;124m'\u001b[39m\u001b[38;5;124mGovind\u001b[39m\u001b[38;5;124m'\u001b[39m}\n\u001b[1;32m----> 2\u001b[0m \u001b[38;5;28mmax\u001b[39m(d5)\n",
      "\u001b[1;31mTypeError\u001b[0m: '>' not supported between instances of 'str' and 'int'"
     ]
    }
   ],
   "source": [
    "d5={25:'Manish','20':'Shubam Gill',15:'Govind'}\n",
    "max(d5)"
   ]
  },
  {
   "cell_type": "code",
   "execution_count": 36,
   "id": "802f58e4-bd95-4355-96a6-3886695d249c",
   "metadata": {},
   "outputs": [
    {
     "data": {
      "text/plain": [
       "'Shubam Gill'"
      ]
     },
     "execution_count": 36,
     "metadata": {},
     "output_type": "execute_result"
    }
   ],
   "source": [
    "d6={'Manish':20,'Shubam Gill':20,'Govind':20}\n",
    "max(d6)"
   ]
  },
  {
   "cell_type": "code",
   "execution_count": 38,
   "id": "d4be18ca-4d69-484b-bc44-1f3d85e1cc88",
   "metadata": {},
   "outputs": [
    {
     "data": {
      "text/plain": [
       "20"
      ]
     },
     "execution_count": 38,
     "metadata": {},
     "output_type": "execute_result"
    }
   ],
   "source": [
    "d7={20:'Manish',20:'Shubam Gill',20:'Govind'}\n",
    "max(d7)"
   ]
  },
  {
   "cell_type": "code",
   "execution_count": 41,
   "id": "7afe4fa4-dd3b-40d2-9bf5-7d7d1b929871",
   "metadata": {},
   "outputs": [
    {
     "data": {
      "text/plain": [
       "{20: 'Govind'}"
      ]
     },
     "execution_count": 41,
     "metadata": {},
     "output_type": "execute_result"
    }
   ],
   "source": [
    "d67={20:'Manish',20:'Shubam Gill',20:'Govind'}\n",
    "d67"
   ]
  },
  {
   "cell_type": "code",
   "execution_count": 58,
   "id": "d5193664-ea0f-49f5-a729-5da30a35ca48",
   "metadata": {},
   "outputs": [
    {
     "data": {
      "text/plain": [
       "'Fruites'"
      ]
     },
     "execution_count": 58,
     "metadata": {},
     "output_type": "execute_result"
    }
   ],
   "source": [
    "d10={'Fruites':{'Mango':25}}\n",
    "max(d10)"
   ]
  },
  {
   "cell_type": "code",
   "execution_count": null,
   "id": "2c9d226e-608a-420b-adf6-c6ab84cc38f2",
   "metadata": {},
   "outputs": [],
   "source": [
    "**reversed**\n",
    "\n",
    "- You might have think dictionary will reverse\n",
    "\n",
    "- when yu apply reversed, then you got to know\n",
    "\n",
    "- only keys will come in reverse"
   ]
  },
  {
   "cell_type": "code",
   "execution_count": 45,
   "id": "b0f23174-f435-4947-a09f-4979eeb85593",
   "metadata": {},
   "outputs": [
    {
     "data": {
      "text/plain": [
       "['Govind', 'Shubam Gill', 'Manish']"
      ]
     },
     "execution_count": 45,
     "metadata": {},
     "output_type": "execute_result"
    }
   ],
   "source": [
    "d1={'Manish':25,'Shubam Gill':20,'Govind':15}\n",
    "list(reversed(d1))"
   ]
  },
  {
   "cell_type": "code",
   "execution_count": 49,
   "id": "2fd747f8-7ef2-4f0a-924e-4c3abe6aa503",
   "metadata": {},
   "outputs": [
    {
     "data": {
      "text/plain": [
       "['Govind', 'Manish', 'Shubam Gill']"
      ]
     },
     "execution_count": 49,
     "metadata": {},
     "output_type": "execute_result"
    }
   ],
   "source": [
    "d1={'Manish':25,'Shubam Gill':20,'Govind':15}\n",
    "list(sorted(d1))"
   ]
  },
  {
   "cell_type": "code",
   "execution_count": 53,
   "id": "a5d89438-1687-42ce-9d01-c77cf63daeb5",
   "metadata": {},
   "outputs": [
    {
     "data": {
      "text/plain": [
       "['Shubam Gill', 'Manish', 'Govind']"
      ]
     },
     "execution_count": 53,
     "metadata": {},
     "output_type": "execute_result"
    }
   ],
   "source": [
    "d1={'Manish':25,'Shubam Gill':20,'Govind':15}\n",
    "list(sorted(d1,reverse=True))"
   ]
  },
  {
   "cell_type": "code",
   "execution_count": 47,
   "id": "8d4cd973-7764-411d-83c3-f95f9be8d057",
   "metadata": {},
   "outputs": [
    {
     "data": {
      "text/plain": [
       "[20]"
      ]
     },
     "execution_count": 47,
     "metadata": {},
     "output_type": "execute_result"
    }
   ],
   "source": [
    "d67={20:'Manish',20:'Shubam Gill',20:'Govind'}\n",
    "list(reversed(d67))"
   ]
  },
  {
   "cell_type": "markdown",
   "id": "c2c33903-2f0e-4440-bdb4-87ab311df030",
   "metadata": {},
   "source": [
    "**Index**"
   ]
  },
  {
   "cell_type": "code",
   "execution_count": 3,
   "id": "bbd2d9ce-2a8b-4470-9625-ead54798c172",
   "metadata": {},
   "outputs": [
    {
     "ename": "KeyError",
     "evalue": "0",
     "output_type": "error",
     "traceback": [
      "\u001b[1;31m---------------------------------------------------------------------------\u001b[0m",
      "\u001b[1;31mKeyError\u001b[0m                                  Traceback (most recent call last)",
      "Cell \u001b[1;32mIn[3], line 4\u001b[0m\n\u001b[0;32m      1\u001b[0m d1\u001b[38;5;241m=\u001b[39m{\u001b[38;5;124m'\u001b[39m\u001b[38;5;124mManish\u001b[39m\u001b[38;5;124m'\u001b[39m:\u001b[38;5;241m25\u001b[39m,\u001b[38;5;124m'\u001b[39m\u001b[38;5;124mShubam Gill\u001b[39m\u001b[38;5;124m'\u001b[39m:\u001b[38;5;241m20\u001b[39m,\u001b[38;5;124m'\u001b[39m\u001b[38;5;124mGovind\u001b[39m\u001b[38;5;124m'\u001b[39m:\u001b[38;5;241m15\u001b[39m}\n\u001b[0;32m      2\u001b[0m \u001b[38;5;66;03m# If you want retrive the values\u001b[39;00m\n\u001b[0;32m      3\u001b[0m \u001b[38;5;66;03m#python will never give 'Manish':25\u001b[39;00m\n\u001b[1;32m----> 4\u001b[0m d1[\u001b[38;5;241m0\u001b[39m]\n",
      "\u001b[1;31mKeyError\u001b[0m: 0"
     ]
    }
   ],
   "source": [
    "d1={'Manish':25,'Shubam Gill':20,'Govind':15}\n",
    "# If you want retrive the values\n",
    "#python will never give 'Manish':25\n",
    "d1[0]"
   ]
  },
  {
   "cell_type": "code",
   "execution_count": 5,
   "id": "7bf4c36e-2c09-4bf0-a614-f1a3023ef8ba",
   "metadata": {},
   "outputs": [
    {
     "data": {
      "text/plain": [
       "25"
      ]
     },
     "execution_count": 5,
     "metadata": {},
     "output_type": "execute_result"
    }
   ],
   "source": [
    "d1['Manish']"
   ]
  },
  {
   "cell_type": "code",
   "execution_count": 21,
   "id": "dc36398c-bf70-416b-a1f4-7380ccf025f7",
   "metadata": {},
   "outputs": [
    {
     "data": {
      "text/plain": [
       "15"
      ]
     },
     "execution_count": 21,
     "metadata": {},
     "output_type": "execute_result"
    }
   ],
   "source": [
    "d1={'Manish':25,'Shubam Gill':20,'Govind':15}\n",
    "# Dictionary is a key:value pair\n",
    "# we cannot use index number directly\n",
    "# whenever you want to call a value, we will use key\n",
    "d1['Manish']\n",
    "d1['Shubam Gill']\n",
    "d1['Govind']\n",
    "\n",
    "#d1[i]"
   ]
  },
  {
   "cell_type": "code",
   "execution_count": 19,
   "id": "e01ec9d0-baf6-47ef-b05e-a0a4b984aeec",
   "metadata": {},
   "outputs": [
    {
     "name": "stdout",
     "output_type": "stream",
     "text": [
      "Manish has age 25\n",
      "Shubam Gill has age 20\n",
      "Govind has age 15\n"
     ]
    }
   ],
   "source": [
    "for i in d1:\n",
    "    print(f\"{i} has age {d1[i]}\")"
   ]
  },
  {
   "cell_type": "code",
   "execution_count": 25,
   "id": "09a45020-8f43-4007-9690-d082196febd3",
   "metadata": {},
   "outputs": [
    {
     "name": "stdout",
     "output_type": "stream",
     "text": [
      "Sallu has age 20\n",
      "Sharath has age 24\n",
      "Mani has age 30\n"
     ]
    }
   ],
   "source": [
    "names=['Sallu','Sharath','Mani']\n",
    "age=[20,24,30]\n",
    "for i,j in zip(names,age):\n",
    "    print(f\"{i} has age {j}\")"
   ]
  },
  {
   "cell_type": "markdown",
   "id": "31cecaea-5874-4e86-86bb-4e3d0437d54a",
   "metadata": {},
   "source": [
    "**Dictionary to List**"
   ]
  },
  {
   "cell_type": "code",
   "execution_count": 27,
   "id": "7797faa9-3255-44f4-95cc-3444c8eebcbc",
   "metadata": {},
   "outputs": [
    {
     "data": {
      "text/plain": [
       "[25, 20, 15]"
      ]
     },
     "execution_count": 27,
     "metadata": {},
     "output_type": "execute_result"
    }
   ],
   "source": [
    "d1={'Manish':25,'Shubam Gill':20,'Govind':15}\n",
    "keys,values=[],[]\n",
    "for i in d1:\n",
    "    keys.append(i)\n",
    "    values.append(d1[i])\n",
    "values"
   ]
  },
  {
   "cell_type": "markdown",
   "id": "39aca1dc-7a36-489c-9a75-2e9c34931214",
   "metadata": {},
   "source": [
    "**empty string**"
   ]
  },
  {
   "cell_type": "code",
   "execution_count": null,
   "id": "18a1dc2d-f342-4988-a79a-cff5e8dc8cb5",
   "metadata": {},
   "outputs": [],
   "source": [
    "d={}\n",
    "d[<key>]=<value>"
   ]
  },
  {
   "cell_type": "code",
   "execution_count": 33,
   "id": "9ed707cf-76ed-4cb7-8026-f874af935a0a",
   "metadata": {},
   "outputs": [
    {
     "data": {
      "text/plain": [
       "{'Sharath': 24}"
      ]
     },
     "execution_count": 33,
     "metadata": {},
     "output_type": "execute_result"
    }
   ],
   "source": [
    "d={}\n",
    "d['Sharath']=24\n",
    "d"
   ]
  },
  {
   "cell_type": "code",
   "execution_count": 41,
   "id": "1fe96f55-ed79-4c28-b8ab-dc37354f3171",
   "metadata": {},
   "outputs": [
    {
     "data": {
      "text/plain": [
       "{'Sallu': 20, 'Sharath': 24, 'Mani': 30}"
      ]
     },
     "execution_count": 41,
     "metadata": {},
     "output_type": "execute_result"
    }
   ],
   "source": [
    "names=['Sallu','Sharath','Mani']\n",
    "age=[20,24,30]\n",
    "NAMES={}\n",
    "for i,j in zip(names,age):\n",
    "    NAMES[i]=j\n",
    "NAMES"
   ]
  },
  {
   "cell_type": "markdown",
   "id": "f796326e-1a9f-4883-9d53-c8cb0aef367b",
   "metadata": {},
   "source": [
    "**string to list**"
   ]
  },
  {
   "cell_type": "code",
   "execution_count": 50,
   "id": "2c6f56c7-a5d0-42e7-9028-14fc2b14b387",
   "metadata": {},
   "outputs": [
    {
     "data": {
      "text/plain": [
       "['hello', 'hai', 'hai', 'how', 'how', 'are', 'you']"
      ]
     },
     "execution_count": 50,
     "metadata": {},
     "output_type": "execute_result"
    }
   ],
   "source": [
    "s='hello hai hai how how are you'\n",
    "s.split()"
   ]
  },
  {
   "cell_type": "markdown",
   "id": "aa6cef86-c853-497d-9667-50f43c10fd91",
   "metadata": {},
   "source": [
    "**word frequency**"
   ]
  },
  {
   "cell_type": "code",
   "execution_count": 83,
   "id": "93aaaf9e-e6d6-4671-bd9e-5cf39d07a0da",
   "metadata": {},
   "outputs": [
    {
     "data": {
      "text/plain": [
       "{'hello': 1, 'hai': 2, 'how': 2, 'are': 1, 'you': 1}"
      ]
     },
     "execution_count": 83,
     "metadata": {},
     "output_type": "execute_result"
    }
   ],
   "source": [
    "s='hello hai hai how how are you'\n",
    "words_list=s.split()\n",
    "words_list\n",
    "dict1={}\n",
    "for word in words_list:\n",
    "    dict1[word]=s.count(word)\n",
    "dict1"
   ]
  },
  {
   "cell_type": "code",
   "execution_count": null,
   "id": "dbbcfa74-9582-4ea9-94ee-0e2e2b2fcc64",
   "metadata": {},
   "outputs": [],
   "source": [
    "string1=\"\"\"Data science is an interdisciplinary academic field that uses statistics,\n",
    "          scientific computing, scientific methods, processes, scientific visualization,\n",
    "          algorithms and systems to extract or extrapolate knowledge and insights from potentially noisy, structured, or unstructured data.\n",
    "         Data science also integrates domain knowledge from the underlying applicatin.Data science is multifaceted and can be described as a science,\n",
    "         a research paradigm, a research method, a discipline, a workflow, and a profession.\"\"\"\n",
    "\n",
    "#task -1: in the above sentence you need to remove a,an,is,the\n",
    "# task-2: Data first letter Ascii value: 68\n",
    "#         scince first letter Ascii value : 115"
   ]
  },
  {
   "cell_type": "markdown",
   "id": "e39175a1-2393-4c0a-af84-cdeb725e8db7",
   "metadata": {},
   "source": [
    "**Mutable-immutable**\n",
    "\n",
    "- Change the Elements using index\n",
    "\n",
    "- But in dictionary there is no index\n",
    "\n",
    "- In dictionary we will change the value based on key only\n",
    "\n",
    "- Instead of using the index, change the values using key \n",
    "\n",
    "- if it is change it is mutable \n",
    "\n",
    "- if it is not change it is Immutable"
   ]
  },
  {
   "cell_type": "code",
   "execution_count": 86,
   "id": "93561cca-e17f-4dc1-a00f-e4d9de065a2e",
   "metadata": {},
   "outputs": [
    {
     "data": {
      "text/plain": [
       "{'Sharath': 24, 'sallu': 23, 'Nagesh': 30}"
      ]
     },
     "execution_count": 86,
     "metadata": {},
     "output_type": "execute_result"
    }
   ],
   "source": [
    "d={'Sharath':23,'sallu':23,'Nagesh':30}\n",
    "d['Sharath']=24\n",
    "d"
   ]
  },
  {
   "cell_type": "code",
   "execution_count": null,
   "id": "0c3ff55a-bc14-40bd-877d-877768e54b7e",
   "metadata": {},
   "outputs": [],
   "source": [
    "- List and dictionary are mutable \n",
    "\n",
    "- Tuple and strings are immutable\n",
    "\n",
    "- Difference between list and Tuple"
   ]
  },
  {
   "cell_type": "code",
   "execution_count": 88,
   "id": "4258cbed-7b64-4626-aeb3-f69da1a5fdb1",
   "metadata": {},
   "outputs": [
    {
     "data": {
      "text/plain": [
       "'Mango'"
      ]
     },
     "execution_count": 88,
     "metadata": {},
     "output_type": "execute_result"
    }
   ],
   "source": [
    "d={'Fruites':['Mango']}\n",
    "d['Fruites'][0]"
   ]
  },
  {
   "cell_type": "code",
   "execution_count": 98,
   "id": "294f0e34-6ee1-4cf9-9f1a-b28298c2a328",
   "metadata": {},
   "outputs": [
    {
     "data": {
      "text/plain": [
       "'Kashmir'"
      ]
     },
     "execution_count": 98,
     "metadata": {},
     "output_type": "execute_result"
    }
   ],
   "source": [
    "d={'Fruites':[{'Apple':['Kashmir']}]}\n",
    "d['Fruites'][0]['Apple'][0]"
   ]
  },
  {
   "cell_type": "code",
   "execution_count": 122,
   "id": "9a632c5c-e8ff-4a23-83e8-68cedb32382d",
   "metadata": {},
   "outputs": [
    {
     "data": {
      "text/plain": [
       "'India'"
      ]
     },
     "execution_count": 122,
     "metadata": {},
     "output_type": "execute_result"
    }
   ],
   "source": [
    "d={'Fruites':[{'Apple':{'Kashmir':['India']}}]}\n",
    "d['Fruites'][0]['Apple']['Kashmir'][0]"
   ]
  },
  {
   "cell_type": "code",
   "execution_count": 140,
   "id": "38c6c492-fa6b-4e5d-8216-ab877345b760",
   "metadata": {},
   "outputs": [
    {
     "data": {
      "text/plain": [
       "{'Shambaji'}"
      ]
     },
     "execution_count": 140,
     "metadata": {},
     "output_type": "execute_result"
    }
   ],
   "source": [
    "d={'Fruites':{'Benganapalli':{'Mango':{'Nagpur':{'MH':{'Shivaji':{'Shambaji'}}}}}}}\n",
    "d['Fruites']['Benganapalli']['Mango']['Nagpur']['MH']['Shivaji']"
   ]
  },
  {
   "cell_type": "code",
   "execution_count": 13,
   "id": "8655b00a-cb4d-4532-be41-3b40ab49ef28",
   "metadata": {},
   "outputs": [
    {
     "data": {
      "text/plain": [
       "{'Benganapalli': {'Mango': {'Nagpur': {'MH': {'Shivaji': {'Shambaji'}}}}}}"
      ]
     },
     "execution_count": 13,
     "metadata": {},
     "output_type": "execute_result"
    }
   ],
   "source": [
    "d={'Fruites':{'Benganapalli':{'Mango':{'Nagpur':{'MH':{'Shivaji':{'Shambaji'}}}}}}}\n",
    "d['Fruites']"
   ]
  },
  {
   "cell_type": "code",
   "execution_count": null,
   "id": "5a175045-55ef-499f-9b86-831792b2c5af",
   "metadata": {},
   "outputs": [],
   "source": [
    "string\n",
    "list \n",
    "tuple\n",
    "dictionary all are class objects"
   ]
  },
  {
   "cell_type": "code",
   "execution_count": 15,
   "id": "d126d65a-8350-4c9d-ab96-567cc6dc5913",
   "metadata": {},
   "outputs": [
    {
     "data": {
      "text/plain": [
       "{'Manish': 25, 'Shubam Gill': 20, 'Govind': 15}"
      ]
     },
     "execution_count": 15,
     "metadata": {},
     "output_type": "execute_result"
    }
   ],
   "source": [
    "d1={'Manish':25,'Shubam Gill':20,'Govind':15}\n",
    "d1"
   ]
  },
  {
   "cell_type": "code",
   "execution_count": 17,
   "id": "92433a51-cfe9-47d4-a6c1-d503afc5a1ed",
   "metadata": {},
   "outputs": [
    {
     "data": {
      "text/plain": [
       "dict_items([('Manish', 25), ('Shubam Gill', 20), ('Govind', 15)])"
      ]
     },
     "execution_count": 17,
     "metadata": {},
     "output_type": "execute_result"
    }
   ],
   "source": [
    "d1.items()"
   ]
  },
  {
   "cell_type": "code",
   "execution_count": 19,
   "id": "0d4d8099-a5b5-4638-ad75-45d9af837bfc",
   "metadata": {},
   "outputs": [
    {
     "data": {
      "text/plain": [
       "dict_keys(['Manish', 'Shubam Gill', 'Govind'])"
      ]
     },
     "execution_count": 19,
     "metadata": {},
     "output_type": "execute_result"
    }
   ],
   "source": [
    "d1.keys()"
   ]
  },
  {
   "cell_type": "code",
   "execution_count": 21,
   "id": "654e6b7e-1b92-4521-8121-f89913584ffb",
   "metadata": {},
   "outputs": [
    {
     "data": {
      "text/plain": [
       "dict_values([25, 20, 15])"
      ]
     },
     "execution_count": 21,
     "metadata": {},
     "output_type": "execute_result"
    }
   ],
   "source": [
    "d1.values()"
   ]
  },
  {
   "cell_type": "code",
   "execution_count": 29,
   "id": "b8aee0b4-25a9-4c0f-8eb3-19c9de0d13ce",
   "metadata": {},
   "outputs": [
    {
     "name": "stdout",
     "output_type": "stream",
     "text": [
      "Manish 25\n",
      "Shubam Gill 20\n",
      "Govind 15\n"
     ]
    },
    {
     "data": {
      "text/plain": [
       "(['Manish', 'Shubam Gill', 'Govind'], [25, 20, 15])"
      ]
     },
     "execution_count": 29,
     "metadata": {},
     "output_type": "execute_result"
    }
   ],
   "source": [
    "d={'Manish':25,'Shubam Gill':20,'Govind':15}\n",
    "keys,values=[],[]\n",
    "for i in d:\n",
    "    print(i,d[i])\n",
    "    keys.append(i)\n",
    "    values.append(d[i])\n",
    "keys,values"
   ]
  },
  {
   "cell_type": "markdown",
   "id": "1cfadbd9-38ab-4db4-808f-1d0eb01630aa",
   "metadata": {},
   "source": [
    "- Dictionary keys will give dictionary keys items in a list\n",
    "\n",
    "- It looks like, but it is not a list\n",
    "\n",
    "- which means we can not apply list methods\n",
    "\n",
    "- So we need to coonvert into list type, by using list type casting"
   ]
  },
  {
   "cell_type": "code",
   "execution_count": 32,
   "id": "0b7b7ea7-1bfa-4028-9de5-6f1e3781ab48",
   "metadata": {},
   "outputs": [
    {
     "data": {
      "text/plain": [
       "list[dict_keys(['Manish', 'Shubam Gill', 'Govind'])]"
      ]
     },
     "execution_count": 32,
     "metadata": {},
     "output_type": "execute_result"
    }
   ],
   "source": [
    "list[d.keys()]"
   ]
  },
  {
   "cell_type": "code",
   "execution_count": 36,
   "id": "616d14b1-0b64-4f33-8438-daaef56ec874",
   "metadata": {},
   "outputs": [
    {
     "data": {
      "text/plain": [
       "'Manish'"
      ]
     },
     "execution_count": 36,
     "metadata": {},
     "output_type": "execute_result"
    }
   ],
   "source": [
    "list(d.keys())"
   ]
  },
  {
   "cell_type": "code",
   "execution_count": 40,
   "id": "6ecca928-597b-4652-b344-8053ec7e1b88",
   "metadata": {},
   "outputs": [
    {
     "data": {
      "text/plain": [
       "['__add__',\n",
       " '__args__',\n",
       " '__class__',\n",
       " '__class_getitem__',\n",
       " '__contains__',\n",
       " '__copy__',\n",
       " '__deepcopy__',\n",
       " '__delattr__',\n",
       " '__delitem__',\n",
       " '__dir__',\n",
       " '__doc__',\n",
       " '__eq__',\n",
       " '__format__',\n",
       " '__ge__',\n",
       " '__getattribute__',\n",
       " '__getitem__',\n",
       " '__getstate__',\n",
       " '__gt__',\n",
       " '__hash__',\n",
       " '__iadd__',\n",
       " '__imul__',\n",
       " '__init__',\n",
       " '__init_subclass__',\n",
       " '__iter__',\n",
       " '__le__',\n",
       " '__len__',\n",
       " '__lt__',\n",
       " '__mro_entries__',\n",
       " '__mul__',\n",
       " '__ne__',\n",
       " '__new__',\n",
       " '__origin__',\n",
       " '__parameters__',\n",
       " '__reduce__',\n",
       " '__reduce_ex__',\n",
       " '__repr__',\n",
       " '__reversed__',\n",
       " '__rmul__',\n",
       " '__setattr__',\n",
       " '__setitem__',\n",
       " '__sizeof__',\n",
       " '__str__',\n",
       " '__subclasshook__',\n",
       " '__typing_unpacked_tuple_args__',\n",
       " '__unpacked__',\n",
       " 'append',\n",
       " 'clear',\n",
       " 'copy',\n",
       " 'count',\n",
       " 'extend',\n",
       " 'index',\n",
       " 'insert',\n",
       " 'pop',\n",
       " 'remove',\n",
       " 'reverse',\n",
       " 'sort']"
      ]
     },
     "execution_count": 40,
     "metadata": {},
     "output_type": "execute_result"
    }
   ],
   "source": [
    "dir(list[d.keys()])"
   ]
  },
  {
   "cell_type": "code",
   "execution_count": 61,
   "id": "e83068d8-6883-4577-87ff-4fbf1f150cc7",
   "metadata": {},
   "outputs": [
    {
     "data": {
      "text/plain": [
       "['Manish', 'Shubam Gill', 'Govind']"
      ]
     },
     "execution_count": 61,
     "metadata": {},
     "output_type": "execute_result"
    }
   ],
   "source": [
    "list(d.keys())"
   ]
  },
  {
   "cell_type": "code",
   "execution_count": 44,
   "id": "5883ba92-5161-4774-ac13-3c5170821726",
   "metadata": {},
   "outputs": [
    {
     "name": "stdout",
     "output_type": "stream",
     "text": [
      "*list[dict_keys(['Manish', 'Shubam Gill', 'Govind'])]\n"
     ]
    }
   ],
   "source": [
    "for i in list[d.keys()]:\n",
    "    print(i)"
   ]
  },
  {
   "cell_type": "code",
   "execution_count": 48,
   "id": "3b658f32-29d2-4c72-a0c3-188a23074a21",
   "metadata": {},
   "outputs": [
    {
     "data": {
      "text/plain": [
       "types.GenericAlias"
      ]
     },
     "execution_count": 48,
     "metadata": {},
     "output_type": "execute_result"
    }
   ],
   "source": [
    "type(list[d.keys()])"
   ]
  },
  {
   "cell_type": "markdown",
   "id": "c8cea3fb-74fd-4088-8408-713552a4f930",
   "metadata": {},
   "source": [
    "**Method-1**"
   ]
  },
  {
   "cell_type": "code",
   "execution_count": null,
   "id": "ec6e64ca-83f0-46b2-8697-94e073582312",
   "metadata": {},
   "outputs": [],
   "source": [
    "d={'Manish':25,'Shubam Gill':20,'Govind':15}\n",
    "keys,values=[],[]\n",
    "for i in d:\n",
    "    print(i,d[i])\n",
    "    keys.append(i)\n",
    "    values.append(d[i])\n",
    "keys,values"
   ]
  },
  {
   "cell_type": "markdown",
   "id": "62046c68-3d15-4b4f-848b-9da09fbfc0fc",
   "metadata": {},
   "source": [
    "**Methods-2**"
   ]
  },
  {
   "cell_type": "code",
   "execution_count": 58,
   "id": "035c181a-edff-42f4-bc35-6d369ac249da",
   "metadata": {},
   "outputs": [],
   "source": [
    "d={'Manish':25,'Shubam Gill':20,'Govind':15}\n",
    "keys=list(d.keys())\n",
    "values=list(d.values())"
   ]
  },
  {
   "cell_type": "markdown",
   "id": "aa295a21-197c-4da0-ac52-66b8489cdb07",
   "metadata": {},
   "source": [
    "**Methods-2**"
   ]
  },
  {
   "cell_type": "code",
   "execution_count": 52,
   "id": "8de4c86d-0fa8-47aa-9c0b-ec634ae91de3",
   "metadata": {},
   "outputs": [
    {
     "data": {
      "text/plain": [
       "dict_items([('Manish', 25), ('Shubam Gill', 20), ('Govind', 15)])"
      ]
     },
     "execution_count": 52,
     "metadata": {},
     "output_type": "execute_result"
    }
   ],
   "source": [
    "d.items()"
   ]
  },
  {
   "cell_type": "code",
   "execution_count": 56,
   "id": "35791a2b-f228-4b5a-809c-15a2138bed3d",
   "metadata": {},
   "outputs": [
    {
     "name": "stdout",
     "output_type": "stream",
     "text": [
      "Manish 25\n",
      "Shubam Gill 20\n",
      "Govind 15\n"
     ]
    },
    {
     "data": {
      "text/plain": [
       "(['Manish', 'Shubam Gill', 'Govind'], [25, 20, 15])"
      ]
     },
     "execution_count": 56,
     "metadata": {},
     "output_type": "execute_result"
    }
   ],
   "source": [
    "keys,values=[],[]\n",
    "for i,j in d.items():\n",
    "    print(i,j)\n",
    "    keys.append(i)\n",
    "    values.append(j)\n",
    "keys,values    "
   ]
  },
  {
   "cell_type": "code",
   "execution_count": null,
   "id": "8c0974a5-8a64-407f-9170-b11293b5ca06",
   "metadata": {},
   "outputs": [],
   "source": [
    "a=10,20 #works\n",
    "a,b=10,20 #works\n",
    "a,b=10 #fails"
   ]
  },
  {
   "cell_type": "code",
   "execution_count": null,
   "id": "f46aacf2-0790-4f1b-b818-6300a74897ac",
   "metadata": {},
   "outputs": [],
   "source": []
  }
 ],
 "metadata": {
  "kernelspec": {
   "display_name": "Python 3 (ipykernel)",
   "language": "python",
   "name": "python3"
  },
  "language_info": {
   "codemirror_mode": {
    "name": "ipython",
    "version": 3
   },
   "file_extension": ".py",
   "mimetype": "text/x-python",
   "name": "python",
   "nbconvert_exporter": "python",
   "pygments_lexer": "ipython3",
   "version": "3.11.7"
  }
 },
 "nbformat": 4,
 "nbformat_minor": 5
}
