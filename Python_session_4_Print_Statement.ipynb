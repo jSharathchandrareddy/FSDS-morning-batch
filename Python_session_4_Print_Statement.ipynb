{
 "cells": [
  {
   "cell_type": "code",
   "execution_count": 1,
   "id": "0bf0e4a7-c448-4065-9572-02021fe8807b",
   "metadata": {},
   "outputs": [
    {
     "name": "stdout",
     "output_type": "stream",
     "text": [
      "10\n"
     ]
    }
   ],
   "source": [
    "print(10)"
   ]
  },
  {
   "cell_type": "code",
   "execution_count": 3,
   "id": "31271f10-a02c-40f9-b22e-efde7dc77392",
   "metadata": {},
   "outputs": [
    {
     "name": "stdout",
     "output_type": "stream",
     "text": [
      "python\n"
     ]
    }
   ],
   "source": [
    "print('python')"
   ]
  },
  {
   "cell_type": "code",
   "execution_count": 5,
   "id": "74f60ba7-40fb-4d02-ba86-27262e7205bb",
   "metadata": {},
   "outputs": [
    {
     "name": "stdout",
     "output_type": "stream",
     "text": [
      "10 20 30\n"
     ]
    }
   ],
   "source": [
    "print(10,20,30)"
   ]
  },
  {
   "cell_type": "code",
   "execution_count": 7,
   "id": "51d5cc7f-c6eb-497e-91bd-d19f631024c7",
   "metadata": {},
   "outputs": [
    {
     "name": "stdout",
     "output_type": "stream",
     "text": [
      "10 10.5 Sharath True\n"
     ]
    }
   ],
   "source": [
    "print(10,10.5,'Sharath',True)"
   ]
  },
  {
   "cell_type": "code",
   "execution_count": 9,
   "id": "42d36d4d-564b-4bda-a2d1-21e85eea1ab8",
   "metadata": {},
   "outputs": [
    {
     "name": "stdout",
     "output_type": "stream",
     "text": [
      "100 200\n"
     ]
    }
   ],
   "source": [
    "num1=100\n",
    "num2=200\n",
    "print(num1,num2)"
   ]
  },
  {
   "cell_type": "code",
   "execution_count": 15,
   "id": "cd10337f-a4b4-454c-b099-4f2fc1cd3216",
   "metadata": {},
   "outputs": [
    {
     "name": "stdout",
     "output_type": "stream",
     "text": [
      "10\n",
      "20\n"
     ]
    },
    {
     "data": {
      "text/plain": [
       "(None, None)"
      ]
     },
     "execution_count": 15,
     "metadata": {},
     "output_type": "execute_result"
    }
   ],
   "source": [
    "print(10), print(20)  #should not write print this way (side by side)\n",
    "# None = No value"
   ]
  },
  {
   "cell_type": "code",
   "execution_count": 13,
   "id": "e1439b10-48bd-4a64-9460-214a6754a54a",
   "metadata": {},
   "outputs": [
    {
     "name": "stdout",
     "output_type": "stream",
     "text": [
      "10\n",
      "20\n"
     ]
    }
   ],
   "source": [
    "print(10)\n",
    "print(20)"
   ]
  },
  {
   "cell_type": "markdown",
   "id": "01646608-6399-4630-8733-aea4b0d79f91",
   "metadata": {},
   "source": [
    "**Format Method**"
   ]
  },
  {
   "cell_type": "code",
   "execution_count": 20,
   "id": "f439e7f6-ec2a-4fb0-b289-8c3d657c21ff",
   "metadata": {},
   "outputs": [
    {
     "name": "stdout",
     "output_type": "stream",
     "text": [
      "the addition of 100 and 200 is 300\n"
     ]
    }
   ],
   "source": [
    "a=100\n",
    "b=200\n",
    "c=a+b\n",
    "print(\"the addition of {} and {} is {}\".format(a,b,c))"
   ]
  },
  {
   "cell_type": "code",
   "execution_count": 28,
   "id": "6556fda5-2c24-4e3d-80ea-a471f432a137",
   "metadata": {},
   "outputs": [
    {
     "name": "stdout",
     "output_type": "stream",
     "text": [
      " My name is sharath, i am 22 years old, i am form city koilakutnla\n"
     ]
    }
   ],
   "source": [
    "name='sharath'\n",
    "age=22\n",
    "city= 'koilakutnla'\n",
    "print(\" My name is {}, i am {} years old, i am form city {}\".format(name,age,city))"
   ]
  },
  {
   "cell_type": "code",
   "execution_count": 40,
   "id": "a43d5180-2b60-41b9-89b3-1af23adb0ab9",
   "metadata": {},
   "outputs": [
    {
     "name": "stdout",
     "output_type": "stream",
     "text": [
      "The employee name sharath, working as developer in sonic solution company\n"
     ]
    }
   ],
   "source": [
    "employeename='sharath'\n",
    "employeerole='developer'\n",
    "company='sonic solution'\n",
    "print(\"The employee name {}, working as {} in {} company\".format(employeename,employeerole,company))"
   ]
  },
  {
   "cell_type": "markdown",
   "id": "caf7f017-520f-4d43-8869-ddba49229191",
   "metadata": {},
   "source": [
    "** F string**"
   ]
  },
  {
   "cell_type": "code",
   "execution_count": 45,
   "id": "e81f7a09-0ad5-4707-9cc0-e11ebc860488",
   "metadata": {},
   "outputs": [
    {
     "name": "stdout",
     "output_type": "stream",
     "text": [
      "the addition of 100 and 200 is 300\n"
     ]
    }
   ],
   "source": [
    "a=100\n",
    "b=200\n",
    "c=a+b\n",
    "print(f\"the addition of {a} and {b} is {c}\")"
   ]
  },
  {
   "cell_type": "code",
   "execution_count": 47,
   "id": "d353d4d4-8c7c-4714-8b18-e5a7eb365709",
   "metadata": {},
   "outputs": [
    {
     "name": "stdout",
     "output_type": "stream",
     "text": [
      "My name is sharath, working as developer in sonic solution company\n"
     ]
    }
   ],
   "source": [
    "name='sharath'\n",
    "role='developer'\n",
    "company='sonic solution'\n",
    "print(f\"My name is {name}, working as {role} in {company} company\")"
   ]
  },
  {
   "cell_type": "code",
   "execution_count": null,
   "id": "adcd3a51-4b6b-4eca-a503-679833cf0396",
   "metadata": {},
   "outputs": [],
   "source": []
  }
 ],
 "metadata": {
  "kernelspec": {
   "display_name": "Python 3 (ipykernel)",
   "language": "python",
   "name": "python3"
  },
  "language_info": {
   "codemirror_mode": {
    "name": "ipython",
    "version": 3
   },
   "file_extension": ".py",
   "mimetype": "text/x-python",
   "name": "python",
   "nbconvert_exporter": "python",
   "pygments_lexer": "ipython3",
   "version": "3.11.7"
  }
 },
 "nbformat": 4,
 "nbformat_minor": 5
}
