{
 "cells": [
  {
   "cell_type": "markdown",
   "id": "ade5cbe9-a2d3-45e0-8b77-5602efeb5adc",
   "metadata": {},
   "source": [
    "**Loops**\n",
    "\n",
    "- For loop\n",
    "\n",
    "- while loop: If you want to run an infinite iterations will choose while loop\n",
    "\n",
    "- Every loop we need thrree things\n",
    "\n",
    "    - Intial point (starting point)\n",
    "\n",
    "    - Increment or decrement\n",
    "\n",
    "    - Condition(stop point)"
   ]
  },
  {
   "cell_type": "code",
   "execution_count": 2,
   "id": "47ce5b2a-0008-4e57-bd68-01ddf84213b3",
   "metadata": {},
   "outputs": [
    {
     "name": "stdout",
     "output_type": "stream",
     "text": [
      "1 2 3 4 5 6 7 8 9 10 "
     ]
    }
   ],
   "source": [
    "i=1\n",
    "while i<11:\n",
    "    print(i,end=' ')\n",
    "    i=i+1"
   ]
  },
  {
   "cell_type": "code",
   "execution_count": 3,
   "id": "c50817bf-d531-4321-b49e-bce7cafd26dd",
   "metadata": {},
   "outputs": [],
   "source": [
    "i=1\n",
    "while i==10:\n",
    "    print(i,end=' ')\n",
    "    i=i+1"
   ]
  },
  {
   "cell_type": "code",
   "execution_count": 4,
   "id": "66147f3d-ba31-4bc6-9afb-cd1142c3c9de",
   "metadata": {},
   "outputs": [
    {
     "name": "stdout",
     "output_type": "stream",
     "text": [
      "1 0 -1 -2 -3 -4 -5 -6 -7 -8 -9 "
     ]
    }
   ],
   "source": [
    "i=1\n",
    "while i<11:\n",
    "    print(i,end=' ')\n",
    "    i=i-1\n",
    "    if i==-10:\n",
    "        break"
   ]
  },
  {
   "cell_type": "code",
   "execution_count": 5,
   "id": "ed19b789-dc8e-45d3-9e78-7afd12f00648",
   "metadata": {},
   "outputs": [],
   "source": [
    "i=20\n",
    "while i<1:\n",
    "    print(i,end=' ')\n",
    "    i=i-1"
   ]
  },
  {
   "cell_type": "code",
   "execution_count": 6,
   "id": "9411254b-8257-4ac8-ba5f-3338c0e6991c",
   "metadata": {},
   "outputs": [
    {
     "name": "stdout",
     "output_type": "stream",
     "text": [
      "-20 -19 -18 -17 -16 -15 -14 -13 -12 -11 -10 -9 -8 -7 -6 -5 -4 -3 -2 -1 0 "
     ]
    }
   ],
   "source": [
    "i=-20\n",
    "while i<1:\n",
    "    print(i,end=' ')\n",
    "    i=i+1"
   ]
  },
  {
   "cell_type": "code",
   "execution_count": 7,
   "id": "c8339396-c936-4535-a0d5-8123e34e7838",
   "metadata": {},
   "outputs": [
    {
     "ename": "SyntaxError",
     "evalue": "invalid syntax (251443493.py, line 1)",
     "output_type": "error",
     "traceback": [
      "\u001b[1;36m  Cell \u001b[1;32mIn[7], line 1\u001b[1;36m\u001b[0m\n\u001b[1;33m    **True**\u001b[0m\n\u001b[1;37m    ^\u001b[0m\n\u001b[1;31mSyntaxError\u001b[0m\u001b[1;31m:\u001b[0m invalid syntax\n"
     ]
    }
   ],
   "source": [
    "**True**\n",
    "\n",
    "- If tou dont know about valid condition to enter inside while loop\n",
    "\n",
    "- Then use **True**\n",
    "\n",
    "- True will give entry pass irrespective of the condition\n",
    "\n",
    "- But if you apply break"
   ]
  },
  {
   "cell_type": "code",
   "execution_count": null,
   "id": "a98410ad-1d68-48d1-99e4-81cb7dee0eec",
   "metadata": {},
   "outputs": [],
   "source": [
    "i=1\n",
    "while True:\n",
    "    print(i,end=' ')\n",
    "    i=i+1\n",
    "    if i==11:\n",
    "        break"
   ]
  },
  {
   "cell_type": "code",
   "execution_count": null,
   "id": "0ca5b152-ed78-4b68-99e0-a0152e85c3a1",
   "metadata": {},
   "outputs": [],
   "source": [
    "i=20 \n",
    "while i>0:\n",
    "    print(i,end=' ')\n",
    "    i=i-1"
   ]
  },
  {
   "cell_type": "code",
   "execution_count": null,
   "id": "fa0ea6d7-63b5-4b9c-957e-74b708c4da0b",
   "metadata": {},
   "outputs": [],
   "source": [
    "i=20\n",
    "while True:\n",
    "    print(i,end=' ')\n",
    "    i=i-1\n",
    "    if i==0:\n",
    "        break"
   ]
  },
  {
   "cell_type": "code",
   "execution_count": null,
   "id": "dbffda7b-4c89-4186-b787-2c24b0008e18",
   "metadata": {},
   "outputs": [],
   "source": [
    "i=-20 \n",
    "while i<1:\n",
    "    print(i,end=' ')\n",
    "    i=i+1"
   ]
  },
  {
   "cell_type": "code",
   "execution_count": null,
   "id": "8f3b22e9-b0a9-41e9-9303-d666f298e3c8",
   "metadata": {},
   "outputs": [],
   "source": [
    "i=-20 \n",
    "while i<1:\n",
    "    i=i+1\n",
    "    print(i,end=' ')\n",
    "    "
   ]
  },
  {
   "cell_type": "code",
   "execution_count": null,
   "id": "0bec0ad2-31cf-407c-8971-4110b556088e",
   "metadata": {},
   "outputs": [],
   "source": [
    "import random\n",
    "for i in range(3):\n",
    "    num=random.randint(1,100)\n",
    "    if num%2==0:\n",
    "        print(f\"{num} is even\")\n",
    "    else: print(f\"{num} is odd\")"
   ]
  },
  {
   "cell_type": "code",
   "execution_count": null,
   "id": "22032b9f-8290-46d7-8a96-14f9b0c7f1a4",
   "metadata": {},
   "outputs": [],
   "source": [
    "i=0\n",
    "while i<3:\n",
    "    num=random.randint(1,100)\n",
    "    if num%2==0:\n",
    "        print(f\"{num} is even\")\n",
    "    else: print(f\"{num} is odd\")\n",
    "    i=i+1"
   ]
  },
  {
   "cell_type": "code",
   "execution_count": null,
   "id": "340d604c-8fd9-48ce-9b89-93ee9fa336f8",
   "metadata": {},
   "outputs": [],
   "source": [
    " wap ask the user print the number is even or odd between 10 to 20"
   ]
  },
  {
   "cell_type": "code",
   "execution_count": null,
   "id": "e39366c9-efe2-411c-8d4c-ab6c1b541d0c",
   "metadata": {},
   "outputs": [],
   "source": [
    "i=10\n",
    "while i<21:\n",
    "    if i%2==0:\n",
    "        print(f\"{i} is even\")\n",
    "    else: print(f\"{i} is odd\")\n",
    "    i=i+1"
   ]
  },
  {
   "cell_type": "code",
   "execution_count": null,
   "id": "a336b9e0-ba1a-473e-bf56-c26c7a26e0c6",
   "metadata": {},
   "outputs": [],
   "source": [
    "wap ask the user print the square of the number between\n",
    "# 20 to 25"
   ]
  },
  {
   "cell_type": "code",
   "execution_count": null,
   "id": "849a8f9b-64f4-4358-88b9-c2cae2bd5857",
   "metadata": {},
   "outputs": [],
   "source": [
    "i=20\n",
    "while i<26:\n",
    "    print(f\"the square of {i} is {i*i}\")\n",
    "    i=i+1\n",
    "    "
   ]
  },
  {
   "cell_type": "code",
   "execution_count": null,
   "id": "77d69f65-c61c-4752-b826-3afb5a8b8c78",
   "metadata": {},
   "outputs": [],
   "source": [
    " #WAP ask the user enter number three times find the square of the number\n",
    "# How many times loop should run"
   ]
  },
  {
   "cell_type": "code",
   "execution_count": 12,
   "id": "7050e5fd-00ea-4f91-9c3f-a6f97e585c0b",
   "metadata": {},
   "outputs": [
    {
     "name": "stdin",
     "output_type": "stream",
     "text": [
      "Enter the number: 4\n"
     ]
    },
    {
     "name": "stdout",
     "output_type": "stream",
     "text": [
      "the square of 4 is 16\n"
     ]
    },
    {
     "name": "stdin",
     "output_type": "stream",
     "text": [
      "Enter the number: 5\n"
     ]
    },
    {
     "name": "stdout",
     "output_type": "stream",
     "text": [
      "the square of 5 is 25\n"
     ]
    },
    {
     "name": "stdin",
     "output_type": "stream",
     "text": [
      "Enter the number: 6\n"
     ]
    },
    {
     "name": "stdout",
     "output_type": "stream",
     "text": [
      "the square of 6 is 36\n"
     ]
    }
   ],
   "source": [
    "i=0\n",
    "while i<3:\n",
    "    num=eval(input(\"Enter the number:\"))\n",
    "    print(f\"the square of {num} is {num*num}\")\n",
    "    i=i+1"
   ]
  },
  {
   "cell_type": "code",
   "execution_count": null,
   "id": "e3d4226c-a649-4bd7-a33d-bf6c6fbc30ca",
   "metadata": {},
   "outputs": [],
   "source": [
    "#Print the 14th table"
   ]
  },
  {
   "cell_type": "code",
   "execution_count": 14,
   "id": "30fc1b07-0dac-4675-b26a-27a647a1001e",
   "metadata": {},
   "outputs": [
    {
     "name": "stdin",
     "output_type": "stream",
     "text": [
      "enter the table which you want to see 8\n"
     ]
    },
    {
     "name": "stdout",
     "output_type": "stream",
     "text": [
      "8 X 1 = 8 \n",
      "8 X 2 = 16 \n",
      "8 X 3 = 24 \n",
      "8 X 4 = 32 \n",
      "8 X 5 = 40 \n",
      "8 X 6 = 48 \n",
      "8 X 7 = 56 \n",
      "8 X 8 = 64 \n",
      "8 X 9 = 72 \n",
      "8 X 10 = 80 \n"
     ]
    }
   ],
   "source": [
    "num=eval(input(\"enter the table which you want to see\"))\n",
    "i=1\n",
    "while i<11:\n",
    "    val=i*num\n",
    "    print(f\"{num} X {i} = {val} \")\n",
    "    i=i+1"
   ]
  },
  {
   "cell_type": "code",
   "execution_count": null,
   "id": "91fdd702-864d-43d2-8830-e926c0a15775",
   "metadata": {},
   "outputs": [],
   "source": [
    "#6 Q) Find the factors of 75"
   ]
  },
  {
   "cell_type": "code",
   "execution_count": 24,
   "id": "86687927-523b-4413-99c0-5e4939ba3415",
   "metadata": {},
   "outputs": [
    {
     "name": "stdin",
     "output_type": "stream",
     "text": [
      "Enter the factor number: 75\n"
     ]
    }
   ],
   "source": [
    "num=eval(input(\"Enter the factor number:\"))\n",
    "i=1\n",
    "while i>100:\n",
    "    if num%i==0:\n",
    "        print(f\"{i} is divisor of {num}\")\n",
    "        i=num+1"
   ]
  },
  {
   "cell_type": "code",
   "execution_count": null,
   "id": "89e0d4ca-0f3a-4426-8fe5-c239702e1ece",
   "metadata": {},
   "outputs": [],
   "source": []
  }
 ],
 "metadata": {
  "kernelspec": {
   "display_name": "Python 3 (ipykernel)",
   "language": "python",
   "name": "python3"
  },
  "language_info": {
   "codemirror_mode": {
    "name": "ipython",
    "version": 3
   },
   "file_extension": ".py",
   "mimetype": "text/x-python",
   "name": "python",
   "nbconvert_exporter": "python",
   "pygments_lexer": "ipython3",
   "version": "3.11.7"
  }
 },
 "nbformat": 4,
 "nbformat_minor": 5
}
