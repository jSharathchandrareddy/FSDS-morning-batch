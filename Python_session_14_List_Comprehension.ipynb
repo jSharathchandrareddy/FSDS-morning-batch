{
 "cells": [
  {
   "cell_type": "markdown",
   "id": "d967269f-ec81-48b7-a94f-5a1c9908fbeb",
   "metadata": {},
   "source": [
    "- We can store the output values by using append operation\n",
    "\n",
    "- we are taking empty list\n",
    "\n",
    "- we are iterating through elements from a given list\n",
    "\n",
    "- The result we are appending in a new list"
   ]
  },
  {
   "cell_type": "code",
   "execution_count": 2,
   "id": "cf9323ba-7b1a-4b40-a89e-3e17f67c2115",
   "metadata": {},
   "outputs": [
    {
     "data": {
      "text/plain": [
       "[0, 1, 4, 9, 16, 25, 36, 49, 64, 81]"
      ]
     },
     "execution_count": 2,
     "metadata": {},
     "output_type": "execute_result"
    }
   ],
   "source": [
    "square_list=[]\n",
    "for i in range(10):\n",
    "    square_list.append(i*i)\n",
    "square_list"
   ]
  },
  {
   "cell_type": "markdown",
   "id": "b2cd107e-aa82-4cf6-a99e-622f21624976",
   "metadata": {},
   "source": [
    "- There are almost 3 lines are in the process\n",
    "\n",
    "- the three lines we can make into a single line\n",
    "\n",
    "- This is called as LIST COMPREHESION"
   ]
  },
  {
   "cell_type": "markdown",
   "id": "ec31f273-1920-4997-b423-ad59765ee7f8",
   "metadata": {},
   "source": [
    "$pattern-1$\n",
    "\n",
    "**Only for loop**"
   ]
  },
  {
   "cell_type": "code",
   "execution_count": null,
   "id": "6a63b886-d647-4e18-aa33-311e21b44edc",
   "metadata": {},
   "outputs": [],
   "source": [
    "# syntax\n",
    "#[<output>  <for loop>]"
   ]
  },
  {
   "cell_type": "code",
   "execution_count": 7,
   "id": "f2214c72-432a-417f-8281-0cdaf8823cd2",
   "metadata": {},
   "outputs": [
    {
     "data": {
      "text/plain": [
       "['HYD', 'MUMBAI', 'CHENNAI', 'BLR']"
      ]
     },
     "execution_count": 7,
     "metadata": {},
     "output_type": "execute_result"
    }
   ],
   "source": [
    "#Q2)\n",
    "l1=['hyd','mumbai','chennai','blr']\n",
    "upper_list=[i.upper() for i in l1]\n",
    "upper_list"
   ]
  },
  {
   "cell_type": "code",
   "execution_count": 11,
   "id": "cc8ec027-8270-4dce-b519-626d81872119",
   "metadata": {},
   "outputs": [
    {
     "data": {
      "text/plain": [
       "['hyd', 'mumbai', 'chennai', 'blr']"
      ]
     },
     "execution_count": 11,
     "metadata": {},
     "output_type": "execute_result"
    }
   ],
   "source": [
    "l1=['Hyd','Mumbai','Chennai','Blr']\n",
    "lower_list=[i.lower() for i in l1]\n",
    "lower_list"
   ]
  },
  {
   "cell_type": "code",
   "execution_count": 15,
   "id": "ae01a1ec-389a-44c5-b4d7-7caf20e9b4c6",
   "metadata": {},
   "outputs": [
    {
     "name": "stdout",
     "output_type": "stream",
     "text": [
      "0\n",
      "1\n",
      "2\n",
      "3\n"
     ]
    }
   ],
   "source": [
    "l2=['Hyd','Mumbai','Chennai','Blr']\n",
    "for i in l2:\n",
    "    print(l2.index(i))"
   ]
  },
  {
   "cell_type": "code",
   "execution_count": 21,
   "id": "88befdda-b8ce-4baf-9cf8-38cded55f91d",
   "metadata": {},
   "outputs": [
    {
     "data": {
      "text/plain": [
       "6"
      ]
     },
     "execution_count": 21,
     "metadata": {},
     "output_type": "execute_result"
    }
   ],
   "source": [
    "l2=['Hyd','Mumbai','Chennai','Blr']\n",
    "idx_list=[l2.index(i) for i in l2]\n",
    "sum(idx_list)"
   ]
  },
  {
   "cell_type": "markdown",
   "id": "9d175158-416b-4f5e-9279-b700b5c22d0c",
   "metadata": {},
   "source": [
    "$pattern-2$"
   ]
  },
  {
   "cell_type": "markdown",
   "id": "4227b786-16cb-4767-8d81-936e57b420b2",
   "metadata": {},
   "source": [
    "**for loop - if condition**"
   ]
  },
  {
   "cell_type": "code",
   "execution_count": null,
   "id": "2deb4e52-b3e0-400e-acae-7d5c6fa46e54",
   "metadata": {},
   "outputs": [],
   "source": [
    "#syntax\n",
    "#[<output>  <for loop>  <if condition>]"
   ]
  },
  {
   "cell_type": "code",
   "execution_count": null,
   "id": "30da839a-9153-4e0a-b8fa-c2efa673420b",
   "metadata": {},
   "outputs": [],
   "source": [
    "#Q5)l1=['Hyd','Mumbai','Chennai','Blr']\n",
    "# ans=['Mumbai','Chennai']"
   ]
  },
  {
   "cell_type": "code",
   "execution_count": 26,
   "id": "5404b9dc-2f8b-4454-b4fc-d5b6a6d430d9",
   "metadata": {},
   "outputs": [
    {
     "name": "stdout",
     "output_type": "stream",
     "text": [
      "Mumbai\n",
      "Chennai\n"
     ]
    }
   ],
   "source": [
    "l1=['Hyd','Mumbai','Chennai','Blr']\n",
    "for i in l1:\n",
    "    if len(i)>4:\n",
    "        print(i)"
   ]
  },
  {
   "cell_type": "code",
   "execution_count": 28,
   "id": "07047247-a0d9-4237-b3fd-c4b8d22d8d9e",
   "metadata": {},
   "outputs": [
    {
     "ename": "SyntaxError",
     "evalue": "invalid syntax (1300857022.py, line 2)",
     "output_type": "error",
     "traceback": [
      "\u001b[1;36m  Cell \u001b[1;32mIn[28], line 2\u001b[1;36m\u001b[0m\n\u001b[1;33m    op=[for i in l1 if len(i)>4]\u001b[0m\n\u001b[1;37m        ^\u001b[0m\n\u001b[1;31mSyntaxError\u001b[0m\u001b[1;31m:\u001b[0m invalid syntax\n"
     ]
    }
   ],
   "source": [
    "l1=['Hyd','Mumbai','Chennai','Blr']\n",
    "op=[for i in l1 if len(i)>4]\n",
    "op"
   ]
  },
  {
   "cell_type": "code",
   "execution_count": 30,
   "id": "cf161945-2eb6-444a-bb36-edb4ff6f70cc",
   "metadata": {},
   "outputs": [
    {
     "data": {
      "text/plain": [
       "['Mum#bai', 'Chen#nai']"
      ]
     },
     "execution_count": 30,
     "metadata": {},
     "output_type": "execute_result"
    }
   ],
   "source": [
    "#Q6)\n",
    "l1=['Hyd','Mum#bai','Chen#nai','Blr']\n",
    "op=[i for i in l1 if '#' in i ]\n",
    "op"
   ]
  },
  {
   "cell_type": "code",
   "execution_count": 32,
   "id": "6be53e18-8c1c-4028-a147-782831f14992",
   "metadata": {},
   "outputs": [
    {
     "data": {
      "text/plain": [
       "['Hyd', 'Blr']"
      ]
     },
     "execution_count": 32,
     "metadata": {},
     "output_type": "execute_result"
    }
   ],
   "source": [
    "l1=['Hyd','Mum#bai','Chen#nai','Blr']\n",
    "op=[i for i in l1 if '#' not in i ]\n",
    "op"
   ]
  },
  {
   "cell_type": "code",
   "execution_count": 34,
   "id": "79d1993c-15e1-4315-b6ac-752ebe31adeb",
   "metadata": {},
   "outputs": [
    {
     "data": {
      "text/plain": [
       "['Hyd', 'Mumbai', 'Chennai', 'Blr']"
      ]
     },
     "execution_count": 34,
     "metadata": {},
     "output_type": "execute_result"
    }
   ],
   "source": [
    "l1=['Hyd','Mumbai','Chennai','Blr']\n",
    "op=[i for i in l1 if i.istitle() ]\n",
    "op"
   ]
  },
  {
   "cell_type": "code",
   "execution_count": 54,
   "id": "db2d8f20-9bfc-4483-8dc8-250054703b47",
   "metadata": {},
   "outputs": [
    {
     "data": {
      "text/plain": [
       "' KL.Rahul'"
      ]
     },
     "execution_count": 54,
     "metadata": {},
     "output_type": "execute_result"
    }
   ],
   "source": [
    "# Q9) str1='virat.kohli@rcb.com, Rohit.sharma@mi.co, KL.Rahul@lucknow.com'\n",
    "# Firstname=[]  second name=[]  cname =[]\n",
    "# append first name should be in first name list\n",
    "#        second name shoul be in second name list\n",
    "#        thirs name will be in thirs name list\n",
    "str1='virat.kohli@rcb.com, Rohit.sharma@mi.com, KL.Rahul@lucknow.com'\n",
    "list1=str1.split(',')\n",
    "list1[2][:9]"
   ]
  },
  {
   "cell_type": "code",
   "execution_count": 3,
   "id": "0e5854e8-329c-4af2-b2d8-0b3be947c5c3",
   "metadata": {},
   "outputs": [
    {
     "data": {
      "text/plain": [
       "['virat', ' Rohit', ' KL']"
      ]
     },
     "execution_count": 3,
     "metadata": {},
     "output_type": "execute_result"
    }
   ],
   "source": [
    "str1='virat.kohli@rcb.com, Rohit.sharma@mi.com, KL.Rahul@lucknow.com'\n",
    "list1=str1.split(',')\n",
    "list1[0][:list1[0].index('.')]\n",
    "list1[1][:list1[1].index('.')]\n",
    "list1[2][:list1[2].index('.')]\n",
    "f_name=[]\n",
    "for i in list1:\n",
    "    f_name.append(i[:i.index('.')])\n",
    "f_name"
   ]
  },
  {
   "cell_type": "code",
   "execution_count": 5,
   "id": "e79ebc88-d902-474c-b9d5-abe010e6fda1",
   "metadata": {},
   "outputs": [
    {
     "name": "stdout",
     "output_type": "stream",
     "text": [
      "virat\n",
      " Rohit\n",
      " KL\n"
     ]
    }
   ],
   "source": [
    "for i in list1:\n",
    "    print(i[:i.index('.')])"
   ]
  },
  {
   "cell_type": "markdown",
   "id": "1e57f7d3-75b1-4c9c-ab3d-1ad188147b43",
   "metadata": {},
   "source": [
    "$Pattern-3$\n",
    "\n",
    "**if-else**"
   ]
  },
  {
   "cell_type": "code",
   "execution_count": null,
   "id": "8f8cf651-570d-4f89-a301-e26b3924d3c6",
   "metadata": {},
   "outputs": [],
   "source": [
    "[<output> <forloop>] : for loop\n",
    "[<output> <forloop> <if condition>]: for-if\n",
    "[<if_output> <if> <else> <else_output><for>] : if else"
   ]
  },
  {
   "cell_type": "markdown",
   "id": "bd146a08-6523-4d1c-80c1-852445411465",
   "metadata": {},
   "source": [
    "**even-odd**"
   ]
  },
  {
   "cell_type": "code",
   "execution_count": 9,
   "id": "af3f3619-dbe8-4e41-b168-22e9435bf27b",
   "metadata": {},
   "outputs": [
    {
     "name": "stdout",
     "output_type": "stream",
     "text": [
      "odd:1\n",
      "even:2\n",
      "odd:3\n",
      "even:4\n",
      "odd:5\n",
      "even:6\n",
      "odd:7\n",
      "even:8\n",
      "odd:9\n",
      "even:10\n",
      "odd:11\n",
      "even:12\n",
      "odd:13\n",
      "even:14\n",
      "odd:15\n",
      "even:16\n",
      "odd:17\n",
      "even:18\n",
      "odd:19\n"
     ]
    }
   ],
   "source": [
    "for i in range(1,20):\n",
    "    if i%2==0:\n",
    "        print(f'even:{i}')\n",
    "    else:\n",
    "        print(f'odd:{i}')"
   ]
  },
  {
   "cell_type": "code",
   "execution_count": 11,
   "id": "7f7fae1f-88da-42c3-b779-a2d890cf12c8",
   "metadata": {},
   "outputs": [
    {
     "data": {
      "text/plain": [
       "['odd:1',\n",
       " 'even:2',\n",
       " 'odd:3',\n",
       " 'even:4',\n",
       " 'odd:5',\n",
       " 'even:6',\n",
       " 'odd:7',\n",
       " 'even:8',\n",
       " 'odd:9',\n",
       " 'even:10',\n",
       " 'odd:11',\n",
       " 'even:12',\n",
       " 'odd:13',\n",
       " 'even:14',\n",
       " 'odd:15',\n",
       " 'even:16',\n",
       " 'odd:17',\n",
       " 'even:18',\n",
       " 'odd:19']"
      ]
     },
     "execution_count": 11,
     "metadata": {},
     "output_type": "execute_result"
    }
   ],
   "source": [
    "op_list=[]\n",
    "for i in range(1,20):\n",
    "    if i%2==0:\n",
    "        op_list.append(f'even:{i}')\n",
    "    else:\n",
    "        op_list.append(f'odd:{i}')\n",
    "op_list"
   ]
  },
  {
   "cell_type": "code",
   "execution_count": 13,
   "id": "4b7a0b52-c575-4808-817e-efabba072a71",
   "metadata": {},
   "outputs": [
    {
     "data": {
      "text/plain": [
       "['odd:1',\n",
       " 'even:2',\n",
       " 'odd:3',\n",
       " 'even:4',\n",
       " 'odd:5',\n",
       " 'even:6',\n",
       " 'odd:7',\n",
       " 'even:8',\n",
       " 'odd:9',\n",
       " 'even:10',\n",
       " 'odd:11',\n",
       " 'even:12',\n",
       " 'odd:13',\n",
       " 'even:14',\n",
       " 'odd:15',\n",
       " 'even:16',\n",
       " 'odd:17',\n",
       " 'even:18',\n",
       " 'odd:19']"
      ]
     },
     "execution_count": 13,
     "metadata": {},
     "output_type": "execute_result"
    }
   ],
   "source": [
    "[f\"even:{i}\" if i%2==0 else f\"odd:{i}\" for i in range(1,20)]"
   ]
  },
  {
   "cell_type": "code",
   "execution_count": null,
   "id": "811ad789-702f-4ed8-900d-9065576bb532",
   "metadata": {},
   "outputs": [],
   "source": []
  }
 ],
 "metadata": {
  "kernelspec": {
   "display_name": "Python 3 (ipykernel)",
   "language": "python",
   "name": "python3"
  },
  "language_info": {
   "codemirror_mode": {
    "name": "ipython",
    "version": 3
   },
   "file_extension": ".py",
   "mimetype": "text/x-python",
   "name": "python",
   "nbconvert_exporter": "python",
   "pygments_lexer": "ipython3",
   "version": "3.11.7"
  }
 },
 "nbformat": 4,
 "nbformat_minor": 5
}
