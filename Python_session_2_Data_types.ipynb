{
 "cells": [
  {
   "cell_type": "markdown",
   "id": "abb6091d-ae82-4796-9544-295ded955be7",
   "metadata": {},
   "source": [
    "**Data types**\n",
    "\n",
    "- python will automatically takes the type based on provided value\n",
    "\n",
    "- The main data types are\n",
    "\n",
    "    - integer\n",
    "\n",
    "    - float\n",
    "\n",
    "    - Boolean \n",
    "\n",
    "    - string\n",
    "\n",
    "    - List\n",
    "\n",
    "    - Dictionary\n",
    "\n",
    "    - tuple\n",
    "\n",
    "    - complex\n"
   ]
  },
  {
   "cell_type": "markdown",
   "id": "086ad0f9-954e-4b88-b8d9-186beadbc3fe",
   "metadata": {},
   "source": [
    "## Integer"
   ]
  },
  {
   "cell_type": "code",
   "execution_count": 6,
   "id": "5fef19f3-c8a6-48ec-843a-b751a644b7b7",
   "metadata": {},
   "outputs": [
    {
     "data": {
      "text/plain": [
       "int"
      ]
     },
     "execution_count": 6,
     "metadata": {},
     "output_type": "execute_result"
    }
   ],
   "source": [
    "n=100\n",
    "type(n)"
   ]
  },
  {
   "cell_type": "markdown",
   "id": "4bcd2da7-b6d2-4161-a233-5ed52684b09d",
   "metadata": {},
   "source": [
    "- binary representation\n",
    "\n",
    "- Octal representation\n",
    "\n",
    "- Hexa representation "
   ]
  },
  {
   "cell_type": "markdown",
   "id": "db75a105-b392-4060-bbed-cab11e6ecc90",
   "metadata": {},
   "source": [
    "**Binary**\n",
    "\n",
    "- bi means 2\n",
    "\n",
    "- so it requires 2 digits\n",
    "\n",
    "- Generally we have 0 1 2 3 4 5 6 7 8 9\n",
    "\n",
    "- So it will represent with only 0 and 1\n",
    "\n",
    "- Correct representation is 0b10, 0b1001, 0b011\n",
    "\n",
    "- wrong representation is 0b12, 0b1007"
   ]
  },
  {
   "cell_type": "code",
   "execution_count": 8,
   "id": "60d986f0-db11-46c3-9bac-620a44580c3b",
   "metadata": {},
   "outputs": [
    {
     "data": {
      "text/plain": [
       "7"
      ]
     },
     "execution_count": 8,
     "metadata": {},
     "output_type": "execute_result"
    }
   ],
   "source": [
    "0b111"
   ]
  },
  {
   "cell_type": "code",
   "execution_count": 18,
   "id": "939bdab5-0069-43ea-a0f3-f56300382e66",
   "metadata": {},
   "outputs": [
    {
     "data": {
      "text/plain": [
       "9"
      ]
     },
     "execution_count": 18,
     "metadata": {},
     "output_type": "execute_result"
    }
   ],
   "source": [
    "0b1001"
   ]
  },
  {
   "cell_type": "code",
   "execution_count": 1,
   "id": "75aeac03-5cac-455e-9f86-46db0d99fdf8",
   "metadata": {},
   "outputs": [
    {
     "data": {
      "text/plain": [
       "15"
      ]
     },
     "execution_count": 1,
     "metadata": {},
     "output_type": "execute_result"
    }
   ],
   "source": [
    "0b1111"
   ]
  },
  {
   "cell_type": "code",
   "execution_count": null,
   "id": "76f845ab-83a0-4d12-936c-938e3342e176",
   "metadata": {},
   "outputs": [],
   "source": [
    "8  4 2 1    num\n",
    "0  0 0 0     0\n",
    "0  0 0 1     1\n",
    "0  0 1 0     2\n",
    "0  0 1 1     3\n",
    "0  1 0 0     4\n",
    "0  1 0 1     5\n",
    "0  1 1 0     6\n",
    "0  1 1 1     7\n",
    "1  0 0 0     8\n",
    "1  0 0 1     9\n",
    "1  0 1 0     10\n",
    "1  0 1 1     11\n",
    "1  1 0 0     12\n",
    "1  1 0 1     13\n",
    "1  1 1 0     14\n",
    "1  1 1 1     15"
   ]
  },
  {
   "cell_type": "code",
   "execution_count": 3,
   "id": "ef1d48fc-d80a-4592-b64c-fabafb0a7600",
   "metadata": {},
   "outputs": [
    {
     "data": {
      "text/plain": [
       "29"
      ]
     },
     "execution_count": 3,
     "metadata": {},
     "output_type": "execute_result"
    }
   ],
   "source": [
    "0b11101"
   ]
  },
  {
   "cell_type": "code",
   "execution_count": 6,
   "id": "3cf912d3-42f2-42bb-97f5-fa543411018c",
   "metadata": {},
   "outputs": [
    {
     "data": {
      "text/plain": [
       "59"
      ]
     },
     "execution_count": 6,
     "metadata": {},
     "output_type": "execute_result"
    }
   ],
   "source": [
    "0b111011"
   ]
  },
  {
   "cell_type": "markdown",
   "id": "c15ac030-3880-4e77-a550-a381701695b5",
   "metadata": {},
   "source": [
    "**octal**\n",
    "  \n",
    "- Octa means 8\n",
    "\n",
    "- so it requires 8 digits\n",
    "\n",
    "- Generally we have 0 1 2 3 4 5 6 7 8 9\n",
    "\n",
    "- So it will represent with only 0 1 2 3 4 5 6 7\n",
    "\n",
    "- Correct representation is 0O012345, 0O141342, 0O78953\n",
    "\n",
    "- wrong representation is 0o108, 0o987"
   ]
  },
  {
   "cell_type": "code",
   "execution_count": 9,
   "id": "eb88945f-50c8-4984-8efd-51aabc44b24f",
   "metadata": {},
   "outputs": [
    {
     "data": {
      "text/plain": [
       "83"
      ]
     },
     "execution_count": 9,
     "metadata": {},
     "output_type": "execute_result"
    }
   ],
   "source": [
    "0o123"
   ]
  },
  {
   "cell_type": "code",
   "execution_count": 11,
   "id": "35555b9c-650b-4a47-976e-34aaccdc7e77",
   "metadata": {},
   "outputs": [
    {
     "ename": "SyntaxError",
     "evalue": "invalid digit '8' in octal literal (1832353824.py, line 1)",
     "output_type": "error",
     "traceback": [
      "\u001b[1;36m  Cell \u001b[1;32mIn[11], line 1\u001b[1;36m\u001b[0m\n\u001b[1;33m    0o108\u001b[0m\n\u001b[1;37m        ^\u001b[0m\n\u001b[1;31mSyntaxError\u001b[0m\u001b[1;31m:\u001b[0m invalid digit '8' in octal literal\n"
     ]
    }
   ],
   "source": [
    "0o108"
   ]
  },
  {
   "cell_type": "code",
   "execution_count": 13,
   "id": "ab2c32e9-2bab-43d5-9dd0-58edc68df842",
   "metadata": {},
   "outputs": [
    {
     "ename": "SyntaxError",
     "evalue": "invalid digit '9' in octal literal (3785628543.py, line 1)",
     "output_type": "error",
     "traceback": [
      "\u001b[1;36m  Cell \u001b[1;32mIn[13], line 1\u001b[1;36m\u001b[0m\n\u001b[1;33m    0o987\u001b[0m\n\u001b[1;37m      ^\u001b[0m\n\u001b[1;31mSyntaxError\u001b[0m\u001b[1;31m:\u001b[0m invalid digit '9' in octal literal\n"
     ]
    }
   ],
   "source": [
    "0o987"
   ]
  },
  {
   "cell_type": "code",
   "execution_count": 15,
   "id": "1a1c1d8a-5027-43a0-8fd0-3e2158fbad26",
   "metadata": {},
   "outputs": [
    {
     "data": {
      "text/plain": [
       "7"
      ]
     },
     "execution_count": 15,
     "metadata": {},
     "output_type": "execute_result"
    }
   ],
   "source": [
    "0o7"
   ]
  },
  {
   "cell_type": "code",
   "execution_count": 17,
   "id": "1e7ea060-5145-4b63-a826-2b69659d1341",
   "metadata": {},
   "outputs": [
    {
     "data": {
      "text/plain": [
       "668"
      ]
     },
     "execution_count": 17,
     "metadata": {},
     "output_type": "execute_result"
    }
   ],
   "source": [
    "0o1234"
   ]
  },
  {
   "cell_type": "markdown",
   "id": "b2899afd-a1a5-4d89-a93c-c8013f703095",
   "metadata": {},
   "source": [
    "**Hexa**\n",
    "\n",
    "Hex means 16\n",
    "\n",
    "so it requires 16 digits\n",
    "\n",
    "Generally we have 0 1 2 3 4 5 6 7 8 9 A(10) B(11) C(12) D(13) E(14) F(15)\n",
    "\n",
    "So it will represent with only 0-9  aA-F\n",
    "\n",
    "Correct representation is 0Xf9, 0x1123abc, 0xabc\n",
    "\n",
    "wrong representation is 0xGH, 0xABCDEFG"
   ]
  },
  {
   "cell_type": "code",
   "execution_count": 20,
   "id": "d76dc1f9-72e8-4fda-b630-6b0fc092c6ff",
   "metadata": {},
   "outputs": [
    {
     "data": {
      "text/plain": [
       "2748"
      ]
     },
     "execution_count": 20,
     "metadata": {},
     "output_type": "execute_result"
    }
   ],
   "source": [
    "0xabc"
   ]
  },
  {
   "cell_type": "code",
   "execution_count": 22,
   "id": "a49545eb-381a-477d-9b39-f1c6084d66bc",
   "metadata": {},
   "outputs": [
    {
     "data": {
      "text/plain": [
       "4671"
      ]
     },
     "execution_count": 22,
     "metadata": {},
     "output_type": "execute_result"
    }
   ],
   "source": [
    "0x123f"
   ]
  },
  {
   "cell_type": "code",
   "execution_count": null,
   "id": "e0a56d9f-ef89-48d3-a6e3-819588bb99ff",
   "metadata": {},
   "outputs": [],
   "source": [
    "1729 ramanujan number"
   ]
  },
  {
   "cell_type": "markdown",
   "id": "05b80e1a-5643-4ce2-b6da-dbeddf9972d3",
   "metadata": {},
   "source": [
    "**Float**\n"
   ]
  },
  {
   "cell_type": "code",
   "execution_count": 25,
   "id": "e1a88ea8-ab04-40ed-bc49-8efe2df5e81a",
   "metadata": {},
   "outputs": [
    {
     "data": {
      "text/plain": [
       "float"
      ]
     },
     "execution_count": 25,
     "metadata": {},
     "output_type": "execute_result"
    }
   ],
   "source": [
    "n1=1005.00\n",
    "type(n1)"
   ]
  },
  {
   "cell_type": "code",
   "execution_count": 27,
   "id": "a13df1fb-beff-4ec2-b469-17256f59ed07",
   "metadata": {},
   "outputs": [
    {
     "data": {
      "text/plain": [
       "int"
      ]
     },
     "execution_count": 27,
     "metadata": {},
     "output_type": "execute_result"
    }
   ],
   "source": [
    "n2=1005\n",
    "type(n2)"
   ]
  },
  {
   "cell_type": "code",
   "execution_count": 29,
   "id": "d0867f5a-02a0-4a83-b8fd-d3301ee8eb12",
   "metadata": {},
   "outputs": [
    {
     "data": {
      "text/plain": [
       "(10.0, 100.0, 1000.0, 10000.0)"
      ]
     },
     "execution_count": 29,
     "metadata": {},
     "output_type": "execute_result"
    }
   ],
   "source": [
    "1e1,1e2,1e3,1e4\n",
    "# KEP=K*10^P"
   ]
  },
  {
   "cell_type": "code",
   "execution_count": 34,
   "id": "0ebe732e-2df7-468a-9e23-9ce523f589e7",
   "metadata": {},
   "outputs": [
    {
     "data": {
      "text/plain": [
       "24000.0"
      ]
     },
     "execution_count": 34,
     "metadata": {},
     "output_type": "execute_result"
    }
   ],
   "source": [
    "24E3\n",
    "# 24*10^3"
   ]
  },
  {
   "cell_type": "code",
   "execution_count": 38,
   "id": "beb4a44c-8c32-4ab8-899a-f19f15428f3c",
   "metadata": {},
   "outputs": [
    {
     "data": {
      "text/plain": [
       "(10.0, 100.0, 1000.0)"
      ]
     },
     "execution_count": 38,
     "metadata": {},
     "output_type": "execute_result"
    }
   ],
   "source": [
    "1E+1,1e+2,1e+3"
   ]
  },
  {
   "cell_type": "code",
   "execution_count": 42,
   "id": "911dacb4-0671-455c-8e48-3b92104ffb80",
   "metadata": {},
   "outputs": [
    {
     "data": {
      "text/plain": [
       "(0.1, 0.01, 0.001)"
      ]
     },
     "execution_count": 42,
     "metadata": {},
     "output_type": "execute_result"
    }
   ],
   "source": [
    "1e-1,1e-2,1e-3"
   ]
  },
  {
   "cell_type": "code",
   "execution_count": 50,
   "id": "8e61cff6-8df5-45fe-a3bf-93df8acdacac",
   "metadata": {},
   "outputs": [
    {
     "data": {
      "text/plain": [
       "0.024"
      ]
     },
     "execution_count": 50,
     "metadata": {},
     "output_type": "execute_result"
    }
   ],
   "source": [
    "24e-3\n",
    "# 24/1000= 0.024"
   ]
  },
  {
   "cell_type": "markdown",
   "id": "e6e73ff8-47cd-4d17-8f38-3e3b8049b4ab",
   "metadata": {},
   "source": [
    "- (+) positive sign means multiply\n",
    "\n",
    "- (-) Negative mean divide"
   ]
  },
  {
   "cell_type": "markdown",
   "id": "26b2c6c8-7f80-4d46-a087-6eb7393147c5",
   "metadata": {},
   "source": [
    "# String"
   ]
  },
  {
   "cell_type": "markdown",
   "id": "45701a24-0c5c-4a60-807d-009330d974b0",
   "metadata": {},
   "source": [
    "- Strings are used to represent the english characters generally\n",
    "\n",
    "- Strings will represent in \n",
    "\n",
    "    - single quotes\n",
    "\n",
    "    - double quotes\n",
    "\n",
    "    - Triple quotes\n",
    "    "
   ]
  },
  {
   "cell_type": "code",
   "execution_count": 60,
   "id": "778dd1c9-56c2-4526-9593-1947804afd3e",
   "metadata": {},
   "outputs": [
    {
     "data": {
      "text/plain": [
       "str"
      ]
     },
     "execution_count": 60,
     "metadata": {},
     "output_type": "execute_result"
    }
   ],
   "source": [
    "name='python'\n",
    "type(name)"
   ]
  },
  {
   "cell_type": "code",
   "execution_count": 62,
   "id": "cd6df54f-8402-4fbe-ae8e-206c56282daa",
   "metadata": {},
   "outputs": [
    {
     "data": {
      "text/plain": [
       "str"
      ]
     },
     "execution_count": 62,
     "metadata": {},
     "output_type": "execute_result"
    }
   ],
   "source": [
    "name1=\"sharath\"\n",
    "type(name1)"
   ]
  },
  {
   "cell_type": "code",
   "execution_count": 64,
   "id": "d1ec4537-edc3-4eff-8672-a91ce45d4c3e",
   "metadata": {},
   "outputs": [
    {
     "data": {
      "text/plain": [
       "str"
      ]
     },
     "execution_count": 64,
     "metadata": {},
     "output_type": "execute_result"
    }
   ],
   "source": [
    "name2='2310'\n",
    "type(name2)"
   ]
  },
  {
   "cell_type": "code",
   "execution_count": 66,
   "id": "623befd9-35d1-4324-8b29-589f896a5648",
   "metadata": {},
   "outputs": [
    {
     "data": {
      "text/plain": [
       "str"
      ]
     },
     "execution_count": 66,
     "metadata": {},
     "output_type": "execute_result"
    }
   ],
   "source": [
    "email_id=\"sharathj2310gmail.com\"\n",
    "type(email_id)"
   ]
  },
  {
   "cell_type": "markdown",
   "id": "9b900628-216b-46dc-8198-7a10ebca390d",
   "metadata": {},
   "source": [
    "**RED COLOUR MEAN STRINGS**\n",
    "\n",
    "**GREEN COLOUR MEANS KEYWORDS**\n",
    "\n",
    "**BLACK COLOUR MEANS variables**\n",
    "\n",
    "   "
   ]
  },
  {
   "cell_type": "code",
   "execution_count": 71,
   "id": "bfa61b5e-8ee4-4ac9-8460-7e1b226afd0b",
   "metadata": {},
   "outputs": [],
   "source": [
    "name='python'\n",
    "name1=\"python\""
   ]
  },
  {
   "cell_type": "code",
   "execution_count": 73,
   "id": "d8b53eff-7c41-4adf-8923-13ad70720280",
   "metadata": {},
   "outputs": [
    {
     "data": {
      "text/plain": [
       "'python'"
      ]
     },
     "execution_count": 73,
     "metadata": {},
     "output_type": "execute_result"
    }
   ],
   "source": [
    "name\n"
   ]
  },
  {
   "cell_type": "code",
   "execution_count": 75,
   "id": "d74a08a1-8f45-4731-abb9-54b775bac8f0",
   "metadata": {},
   "outputs": [
    {
     "data": {
      "text/plain": [
       "'python'"
      ]
     },
     "execution_count": 75,
     "metadata": {},
     "output_type": "execute_result"
    }
   ],
   "source": [
    "name1"
   ]
  },
  {
   "cell_type": "markdown",
   "id": "1c500389-b1e3-4fe7-9866-19ff5a67ff81",
   "metadata": {},
   "source": [
    "- output always in single quotes"
   ]
  },
  {
   "cell_type": "code",
   "execution_count": 80,
   "id": "fd959874-0dc3-4460-b0b4-f57a3fe634d0",
   "metadata": {},
   "outputs": [
    {
     "name": "stdout",
     "output_type": "stream",
     "text": [
      "python\n"
     ]
    }
   ],
   "source": [
    "print(name)"
   ]
  },
  {
   "cell_type": "markdown",
   "id": "37f34c1c-ee0b-453f-8bc6-88eb3e4cce79",
   "metadata": {},
   "source": [
    "- whenever you print, quotes will not visible"
   ]
  },
  {
   "cell_type": "code",
   "execution_count": 88,
   "id": "b97938f1-f8bf-4971-924c-563f00cbc650",
   "metadata": {},
   "outputs": [
    {
     "name": "stdout",
     "output_type": "stream",
     "text": [
      "i like 'python'\n"
     ]
    }
   ],
   "source": [
    "name=\"i like 'python'\"\n",
    "print(name)"
   ]
  },
  {
   "cell_type": "code",
   "execution_count": 14,
   "id": "367eecb2-21c4-4e6d-b4ab-8ed06cf4ae46",
   "metadata": {},
   "outputs": [
    {
     "name": "stdout",
     "output_type": "stream",
     "text": [
      "i like \"python\"\n"
     ]
    }
   ],
   "source": [
    "str='i like \"python\"'\n",
    "print(str)\n"
   ]
  },
  {
   "cell_type": "markdown",
   "id": "6f1e4d75-6e88-4c79-b599-a1870b568e30",
   "metadata": {},
   "source": [
    "- Entire string on double quotes the highlighted word in single quote vice versa"
   ]
  },
  {
   "cell_type": "markdown",
   "id": "acd62f6b-6440-4e98-b7a1-259b122ca7a6",
   "metadata": {},
   "source": [
    "***Triple qutoes**\n",
    "\n",
    "- Triple quotes is not used for coding \n",
    " \n",
    "- Triple quotes is used to provide the information to the user\n",
    "\n",
    "- In order to provide the information in jupyter notebook we will Markdown\n",
    "\n",
    "- In VScode or pycharm there is no markdown option\n",
    "\n",
    "- thats why the world start used to write the information in triple quotes\n",
    "\n",
    "- This entire process is called 'Doc String'\n"
   ]
  },
  {
   "cell_type": "markdown",
   "id": "2703cb2b-e8eb-4678-a06e-344f84dbe8f5",
   "metadata": {},
   "source": [
    "# Boolean"
   ]
  },
  {
   "cell_type": "code",
   "execution_count": 100,
   "id": "82fe8def-9ecd-4136-aac2-855a01aac7ec",
   "metadata": {},
   "outputs": [
    {
     "data": {
      "text/plain": [
       "bool"
      ]
     },
     "execution_count": 100,
     "metadata": {},
     "output_type": "execute_result"
    }
   ],
   "source": [
    "value=True\n",
    "type(value)"
   ]
  },
  {
   "cell_type": "code",
   "execution_count": 102,
   "id": "031db9ca-5ae3-4d8b-a717-2402fbf49198",
   "metadata": {},
   "outputs": [
    {
     "data": {
      "text/plain": [
       "bool"
      ]
     },
     "execution_count": 102,
     "metadata": {},
     "output_type": "execute_result"
    }
   ],
   "source": [
    "value1=False\n",
    "type(value1)"
   ]
  },
  {
   "cell_type": "code",
   "execution_count": null,
   "id": "ac640d6f-ddf2-469f-9de5-add2efa9204e",
   "metadata": {},
   "outputs": [],
   "source": [
    "true=\"True\"\n",
    "false=False\n",
    "\n",
    "# true and false are variables\n",
    "# type True is string\n",
    "# type False is boolean"
   ]
  },
  {
   "cell_type": "code",
   "execution_count": 1,
   "id": "61b8f9ee-0133-4c14-ac0d-1fbe99e0e381",
   "metadata": {},
   "outputs": [],
   "source": [
    "import os\n"
   ]
  },
  {
   "cell_type": "code",
   "execution_count": 3,
   "id": "4cd918e2-1683-406a-9780-3b763b87be6b",
   "metadata": {},
   "outputs": [
    {
     "data": {
      "text/plain": [
       "'C:\\\\Users\\\\shara\\\\Documents\\\\Naresh IT Omkar\\\\Python'"
      ]
     },
     "execution_count": 3,
     "metadata": {},
     "output_type": "execute_result"
    }
   ],
   "source": [
    "os.getcwd()"
   ]
  },
  {
   "cell_type": "code",
   "execution_count": null,
   "id": "6f0cb922-22d6-47ac-8a93-4c69a3622bd4",
   "metadata": {},
   "outputs": [],
   "source": []
  }
 ],
 "metadata": {
  "kernelspec": {
   "display_name": "Python 3 (ipykernel)",
   "language": "python",
   "name": "python3"
  },
  "language_info": {
   "codemirror_mode": {
    "name": "ipython",
    "version": 3
   },
   "file_extension": ".py",
   "mimetype": "text/x-python",
   "name": "python",
   "nbconvert_exporter": "python",
   "pygments_lexer": "ipython3",
   "version": "3.11.7"
  }
 },
 "nbformat": 4,
 "nbformat_minor": 5
}
