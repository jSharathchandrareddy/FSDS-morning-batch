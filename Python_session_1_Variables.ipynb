{
 "cells": [
  {
   "cell_type": "markdown",
   "id": "608b5514-7bac-4fff-8c84-2b0f00048d9b",
   "metadata": {},
   "source": [
    "## Variables\n",
    "\n",
    "- Variables are used to store the value \n",
    "\n",
    "- and the values can be change"
   ]
  },
  {
   "cell_type": "code",
   "execution_count": 2,
   "id": "236109c9-e97b-46df-b983-834f36064f76",
   "metadata": {},
   "outputs": [
    {
     "data": {
      "text/plain": [
       "100"
      ]
     },
     "execution_count": 2,
     "metadata": {},
     "output_type": "execute_result"
    }
   ],
   "source": [
    "number=100  # value 100 store in a variable name called 'number'\n",
    "number"
   ]
  },
  {
   "cell_type": "code",
   "execution_count": 4,
   "id": "717c2ea6-f321-4c6b-9ff7-2fc6631bddcd",
   "metadata": {},
   "outputs": [
    {
     "data": {
      "text/plain": [
       "200"
      ]
     },
     "execution_count": 4,
     "metadata": {},
     "output_type": "execute_result"
    }
   ],
   "source": [
    "number=200 #value 100 store in a variable name called 'number'\n",
    "number"
   ]
  },
  {
   "cell_type": "markdown",
   "id": "20dda055-11ef-4f03-9706-e3b48373d606",
   "metadata": {},
   "source": [
    "**Note**\n",
    "\n",
    "-Python is step by step process\n",
    "\n",
    "-Python will take last output as the latest value \n",
    "\n",
    "-in above code we using same variable: number\n",
    "\n",
    "- but number value changed two times\n",
    "\n",
    "- first 100 \n",
    "\n",
    "- second 200\n",
    "\n",
    "- Latest value 200"
   ]
  },
  {
   "cell_type": "code",
   "execution_count": 7,
   "id": "e993b77d-7884-4d7f-82b3-4300b22a2675",
   "metadata": {},
   "outputs": [
    {
     "data": {
      "text/plain": [
       "200"
      ]
     },
     "execution_count": 7,
     "metadata": {},
     "output_type": "execute_result"
    }
   ],
   "source": [
    "NUMBER=200\n",
    "NUMBER"
   ]
  },
  {
   "cell_type": "code",
   "execution_count": 9,
   "id": "5a7abc67-6533-42fc-ad30-9c2f02126e1d",
   "metadata": {},
   "outputs": [
    {
     "data": {
      "text/plain": [
       "(200, 200)"
      ]
     },
     "execution_count": 9,
     "metadata": {},
     "output_type": "execute_result"
    }
   ],
   "source": [
    "number,NUMBER\n"
   ]
  },
  {
   "cell_type": "code",
   "execution_count": 11,
   "id": "babf1cb1-6600-459d-82dc-012ba0422ba7",
   "metadata": {},
   "outputs": [
    {
     "data": {
      "text/plain": [
       "300"
      ]
     },
     "execution_count": 11,
     "metadata": {},
     "output_type": "execute_result"
    }
   ],
   "source": [
    "NUMber= 300\n",
    "NUMber"
   ]
  },
  {
   "cell_type": "code",
   "execution_count": 13,
   "id": "29f67a05-391f-4636-aaa9-eab0f38f10b4",
   "metadata": {},
   "outputs": [
    {
     "data": {
      "text/plain": [
       "400"
      ]
     },
     "execution_count": 13,
     "metadata": {},
     "output_type": "execute_result"
    }
   ],
   "source": [
    "number123=400\n",
    "number123\n"
   ]
  },
  {
   "cell_type": "code",
   "execution_count": 15,
   "id": "b1c84a84-d021-474c-ac81-c7e0a466e9c2",
   "metadata": {},
   "outputs": [
    {
     "ename": "SyntaxError",
     "evalue": "invalid decimal literal (1181908654.py, line 1)",
     "output_type": "error",
     "traceback": [
      "\u001b[1;36m  Cell \u001b[1;32mIn[15], line 1\u001b[1;36m\u001b[0m\n\u001b[1;33m    123number=500\u001b[0m\n\u001b[1;37m      ^\u001b[0m\n\u001b[1;31mSyntaxError\u001b[0m\u001b[1;31m:\u001b[0m invalid decimal literal\n"
     ]
    }
   ],
   "source": [
    "123number=500\n",
    "123number"
   ]
  },
  {
   "cell_type": "code",
   "execution_count": 17,
   "id": "a6b8449c-e44a-4a17-abda-720fd676fe9c",
   "metadata": {},
   "outputs": [
    {
     "ename": "SyntaxError",
     "evalue": "cannot assign to expression here. Maybe you meant '==' instead of '='? (1823274275.py, line 1)",
     "output_type": "error",
     "traceback": [
      "\u001b[1;36m  Cell \u001b[1;32mIn[17], line 1\u001b[1;36m\u001b[0m\n\u001b[1;33m    numb%er=600\u001b[0m\n\u001b[1;37m    ^\u001b[0m\n\u001b[1;31mSyntaxError\u001b[0m\u001b[1;31m:\u001b[0m cannot assign to expression here. Maybe you meant '==' instead of '='?\n"
     ]
    }
   ],
   "source": [
    "numb%er=600\n",
    "numb%er"
   ]
  },
  {
   "cell_type": "code",
   "execution_count": 19,
   "id": "62669eeb-1115-4681-858e-94a45eb0caf1",
   "metadata": {},
   "outputs": [
    {
     "ename": "SyntaxError",
     "evalue": "invalid syntax (2656576567.py, line 1)",
     "output_type": "error",
     "traceback": [
      "\u001b[1;36m  Cell \u001b[1;32mIn[19], line 1\u001b[1;36m\u001b[0m\n\u001b[1;33m    number one=800\u001b[0m\n\u001b[1;37m           ^\u001b[0m\n\u001b[1;31mSyntaxError\u001b[0m\u001b[1;31m:\u001b[0m invalid syntax\n"
     ]
    }
   ],
   "source": [
    "number one=800\n",
    "number one"
   ]
  },
  {
   "cell_type": "code",
   "execution_count": 21,
   "id": "3371b508-36e0-414a-a6ca-5599501a3f21",
   "metadata": {},
   "outputs": [
    {
     "data": {
      "text/plain": [
       "100"
      ]
     },
     "execution_count": 21,
     "metadata": {},
     "output_type": "execute_result"
    }
   ],
   "source": [
    "number_one=100\n",
    "number_one"
   ]
  },
  {
   "cell_type": "code",
   "execution_count": 23,
   "id": "ef6d46d9-f50e-4930-a8e7-b15f9e600406",
   "metadata": {},
   "outputs": [
    {
     "data": {
      "text/plain": [
       "100"
      ]
     },
     "execution_count": 23,
     "metadata": {},
     "output_type": "execute_result"
    }
   ],
   "source": [
    "_=100\n",
    "_"
   ]
  },
  {
   "cell_type": "code",
   "execution_count": 25,
   "id": "3a888e22-a048-4c55-b01e-4491f8dabb19",
   "metadata": {},
   "outputs": [
    {
     "data": {
      "text/plain": [
       "(100, 200)"
      ]
     },
     "execution_count": 25,
     "metadata": {},
     "output_type": "execute_result"
    }
   ],
   "source": [
    "n1=100,200\n",
    "n1"
   ]
  },
  {
   "cell_type": "code",
   "execution_count": 27,
   "id": "4e618b87-95f8-4e14-951e-9805be58d5ff",
   "metadata": {},
   "outputs": [
    {
     "ename": "TypeError",
     "evalue": "cannot unpack non-iterable int object",
     "output_type": "error",
     "traceback": [
      "\u001b[1;31m---------------------------------------------------------------------------\u001b[0m",
      "\u001b[1;31mTypeError\u001b[0m                                 Traceback (most recent call last)",
      "Cell \u001b[1;32mIn[27], line 1\u001b[0m\n\u001b[1;32m----> 1\u001b[0m n2,n3\u001b[38;5;241m=\u001b[39m\u001b[38;5;241m200\u001b[39m\n\u001b[0;32m      2\u001b[0m n2,n3\n",
      "\u001b[1;31mTypeError\u001b[0m: cannot unpack non-iterable int object"
     ]
    }
   ],
   "source": [
    "n2,n3=200\n",
    "n2,n3"
   ]
  },
  {
   "cell_type": "code",
   "execution_count": 31,
   "id": "5d739aed-ee8b-41b1-a5eb-267790555508",
   "metadata": {},
   "outputs": [
    {
     "name": "stdout",
     "output_type": "stream",
     "text": [
      "100\n",
      "200\n"
     ]
    }
   ],
   "source": [
    "n4,n5=100,200\n",
    "print(n4)\n",
    "print(n5)"
   ]
  },
  {
   "cell_type": "code",
   "execution_count": null,
   "id": "06719a2c-1a84-4912-a86f-7e30a0dfdb1d",
   "metadata": {},
   "outputs": [],
   "source": [
    "number=200 # w\n",
    "NUMBER=300 # w\n",
    "NUMber=400 # w\n",
    "number123=500 # w\n",
    "123number=600 # F\n",
    "num%er=700 # F\n",
    "number one=800 # F\n",
    "number_one=900 # w\n",
    "_=1000 # w\n",
    "n1=100,200 # w\n",
    "n1,n2=100 # F\n",
    "n1,n2=100,200 # w"
   ]
  },
  {
   "cell_type": "code",
   "execution_count": null,
   "id": "fccac541-ddbc-420f-99b8-e88199fe2d6b",
   "metadata": {},
   "outputs": [],
   "source": [
    "n1,_=200,300"
   ]
  },
  {
   "cell_type": "code",
   "execution_count": null,
   "id": "7461801e-3b65-4e72-b59b-9234c38f7f75",
   "metadata": {},
   "outputs": [],
   "source": [
    "if\n",
    "while\n",
    "else\n",
    "elif\n",
    "for\n",
    "True\n",
    "False"
   ]
  },
  {
   "cell_type": "markdown",
   "id": "d5871000-7c48-4443-8f76-a8321606b183",
   "metadata": {},
   "source": [
    "- Python variables are case sensitive\n",
    "\n",
    "- Variables can be declare as capital letters\n",
    "\n",
    "- Variables can be declare as small letters\n",
    "\n",
    "- Varibales can start with numbers (prefix)\n",
    "\n",
    "- Numbers can be suffix of the variables\n",
    "\n",
    "- Variables can not have special characters except **underscore**\n",
    "\n",
    "- Variables does not have space between the names\n",
    "\n",
    "- only underscore is possibiles\n",
    "\n",
    "- Keywords or reserved words cannot use as variables \n",
    "\n",
    "- Two values can be assign to a single variable\n",
    "\n",
    "- One value can not assign to two variable"
   ]
  },
  {
   "cell_type": "code",
   "execution_count": null,
   "id": "cd30089d-b952-485f-b966-624b58ecfdfc",
   "metadata": {},
   "outputs": [],
   "source": []
  }
 ],
 "metadata": {
  "kernelspec": {
   "display_name": "Python 3 (ipykernel)",
   "language": "python",
   "name": "python3"
  },
  "language_info": {
   "codemirror_mode": {
    "name": "ipython",
    "version": 3
   },
   "file_extension": ".py",
   "mimetype": "text/x-python",
   "name": "python",
   "nbconvert_exporter": "python",
   "pygments_lexer": "ipython3",
   "version": "3.11.7"
  }
 },
 "nbformat": 4,
 "nbformat_minor": 5
}
