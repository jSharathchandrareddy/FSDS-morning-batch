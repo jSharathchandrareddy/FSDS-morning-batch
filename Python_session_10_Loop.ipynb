{
 "cells": [
  {
   "cell_type": "code",
   "execution_count": null,
   "id": "0670678c-4334-4a76-a8c8-00143c096917",
   "metadata": {},
   "outputs": [],
   "source": [
    "**LOOP**\n",
    "\n",
    "- Iterate a piece of code untill the condition satisfy\n",
    "\n",
    "- we can run a code normally\n",
    "\n",
    "- we can run a code by using function wrapper (functions)\n",
    "\n",
    "- we can run a code multiple times (Loops)\n",
    "\n",
    "- We can run a code by using condition(conditions)"
   ]
  },
  {
   "cell_type": "code",
   "execution_count": null,
   "id": "5c5ef123-910c-4dca-b236-6f144ad23f99",
   "metadata": {},
   "outputs": [],
   "source": [
    "salary=eval(input('Enter the salary:'))\n",
    "tax_per=eval(input('Enter the tax per:'))\n",
    "tax_amount=salary*tax_per/100\n",
    "print(tax_amount)\n",
    "\n",
    "salary=eval(input('Enter the salary:'))\n",
    "tax_per=eval(input('Enter the tax per:'))\n",
    "tax_amount=salary*tax_per/100\n",
    "print(tax_amount)\n",
    "\n",
    "#somemany times code will be types\n",
    "# we will use loop to reduce code line"
   ]
  },
  {
   "cell_type": "code",
   "execution_count": null,
   "id": "3a004b4d-3bd7-4ab8-b8a6-4047dde6af37",
   "metadata": {},
   "outputs": [],
   "source": [
    "def tax():\n",
    "    salary=eval(input('Enter the salary:'))\n",
    "    tax_per=eval(input('Enter the tax per:'))\n",
    "    tax_amount=salary*tax_per/100\n",
    "    print(tax_amount)\n",
    "tax()"
   ]
  },
  {
   "cell_type": "markdown",
   "id": "90986557-c579-4995-8890-4b77988daf4a",
   "metadata": {},
   "source": [
    "###### we have\n",
    "\n",
    "- for loop\n",
    "\n",
    "- while loop \n",
    "\n",
    "- any loop\n",
    "\n",
    "    - Intial point to start the loop\n",
    "\n",
    "    - increment or decrement\n",
    "\n",
    "    - condition to stop the loop"
   ]
  },
  {
   "cell_type": "markdown",
   "id": "34d9c214-f87e-4199-ab8c-981ae366432f",
   "metadata": {},
   "source": [
    "### For loop\n",
    "\n",
    "- Pattern-1\n",
    "\n",
    "- range(stop)"
   ]
  },
  {
   "cell_type": "code",
   "execution_count": null,
   "id": "5bc27468-e916-4b85-9a85-1e515e4d6460",
   "metadata": {},
   "outputs": [],
   "source": [
    "# syntax\n",
    "for i in range(<value>):\n",
    "    # start write your code"
   ]
  },
  {
   "cell_type": "markdown",
   "id": "92bc51d8-da81-40b7-945f-13372b794ccd",
   "metadata": {},
   "source": [
    "- whenever you see the word range belongs to math function\n",
    "\n",
    "- Inside range we need to provide one value ex: range(3)\n",
    "\n",
    "- If you provide only one value\n",
    "\n",
    "        - start value =0\n",
    "\n",
    "        - increment = +1\n",
    "\n",
    "        - last = stop-1\n",
    "- range(3)\n",
    "    - start value= 0\n",
    "\n",
    "    - increment=1\n",
    "\n",
    "    -last = 3-1 =2\n",
    "\n",
    "    -answers are : 0 1 2\n",
    "\n",
    "**NOTE:** In Python the index always start with zero"
   ]
  },
  {
   "cell_type": "code",
   "execution_count": 12,
   "id": "5019b8f0-fd4c-40d7-81b9-1114ba6adc85",
   "metadata": {},
   "outputs": [
    {
     "name": "stdout",
     "output_type": "stream",
     "text": [
      "0\n",
      "1\n",
      "2\n"
     ]
    }
   ],
   "source": [
    "for i in range(3):\n",
    "    print(i)"
   ]
  },
  {
   "cell_type": "code",
   "execution_count": 14,
   "id": "747fcb68-d250-4ff7-95e6-4af36888e6c0",
   "metadata": {},
   "outputs": [
    {
     "name": "stdout",
     "output_type": "stream",
     "text": [
      "hello\n",
      "hello\n",
      "hello\n",
      "hello\n",
      "hello\n"
     ]
    }
   ],
   "source": [
    "# i want to print hello 5 times\n",
    "for i in range(5):\n",
    "    print(\"hello\")"
   ]
  },
  {
   "cell_type": "code",
   "execution_count": null,
   "id": "49643b51-bbb3-49b8-8dbe-20cc4e0e98bf",
   "metadata": {},
   "outputs": [],
   "source": [
    "# example\n",
    "# print a random number between 1 to 100\n",
    "# print it is a even number and odd number\n",
    "# you need to generate 3 random number"
   ]
  },
  {
   "cell_type": "code",
   "execution_count": 19,
   "id": "f104e6bc-32f7-455f-b1eb-db97e824f90b",
   "metadata": {},
   "outputs": [
    {
     "name": "stdout",
     "output_type": "stream",
     "text": [
      "56 is even\n",
      "30 is even\n",
      "69 is odd\n"
     ]
    }
   ],
   "source": [
    "import random\n",
    "for i in range(3):\n",
    "    num=random.randint(1,100)\n",
    "    if num%2==0:\n",
    "        print(f\"{num} is even\")\n",
    "    else:\n",
    "        print(f\"{num} is odd\")"
   ]
  },
  {
   "cell_type": "code",
   "execution_count": 25,
   "id": "f257fe5b-9fa4-4578-b0ed-417838d375fa",
   "metadata": {},
   "outputs": [
    {
     "name": "stdout",
     "output_type": "stream",
     "text": [
      "0 1 2 3 4 5 6 7 8 9 "
     ]
    }
   ],
   "source": [
    "for i in range(10):\n",
    "    print(i,end=' ')"
   ]
  },
  {
   "cell_type": "code",
   "execution_count": null,
   "id": "8ef3f47a-9340-4e5d-b1c9-3329371adc52",
   "metadata": {},
   "outputs": [],
   "source": [
    "# sep : will seperate multiple values in same print statement\n",
    "# end : combine the multiple print statements"
   ]
  },
  {
   "cell_type": "markdown",
   "id": "6c0d5bdc-b95b-4696-8c7a-2118c0e89b0d",
   "metadata": {},
   "source": [
    "$Pattern-2$\n",
    "\n",
    "**range(start,stop)**\n",
    "\n",
    "- range(10,20)\n",
    "\n",
    "    - start value = 10\n",
    " \n",
    "    - increment = 1\n",
    " \n",
    "    - last = stop-1 20-1=19\n",
    " \n",
    "    - ans: 10 11 12 13 14 15 16 17 18 19 "
   ]
  },
  {
   "cell_type": "code",
   "execution_count": 29,
   "id": "c7168077-d8e1-4187-a9b0-4d9153d1ec44",
   "metadata": {},
   "outputs": [
    {
     "name": "stdout",
     "output_type": "stream",
     "text": [
      "10 11 12 13 14 15 16 17 18 19 "
     ]
    }
   ],
   "source": [
    "for i in range(10,20):\n",
    "    print(i,end=' ')"
   ]
  },
  {
   "cell_type": "code",
   "execution_count": null,
   "id": "4be70211-282a-4056-952a-905db79a335c",
   "metadata": {},
   "outputs": [],
   "source": [
    "# wap ask the user print the square of the number between\n",
    "# 20 to 25"
   ]
  },
  {
   "cell_type": "code",
   "execution_count": 46,
   "id": "1b03db8e-df35-4a85-9bdf-a5159c69480a",
   "metadata": {},
   "outputs": [
    {
     "name": "stdout",
     "output_type": "stream",
     "text": [
      "square the 22 is:484\n",
      "square the 21 is:441\n"
     ]
    }
   ],
   "source": [
    "for i in range(2):\n",
    "    num=random.randint(20,25)\n",
    "    square=num*num\n",
    "    print(f'square the {num} is:{square}')\n"
   ]
  },
  {
   "cell_type": "code",
   "execution_count": 63,
   "id": "18072263-a4be-4c2d-9b80-b3a30628f873",
   "metadata": {},
   "outputs": [
    {
     "name": "stdout",
     "output_type": "stream",
     "text": [
      "10 is even\n",
      "11 is odd\n",
      "12 is even\n",
      "13 is odd\n",
      "14 is even\n",
      "15 is odd\n",
      "16 is even\n",
      "17 is odd\n",
      "18 is even\n",
      "19 is odd\n",
      "20 is even\n"
     ]
    }
   ],
   "source": [
    "for i in range(10,21):\n",
    "    if i%2==0:\n",
    "        print(f\"{i} is even\")\n",
    "    else: print(f\"{i} is odd\")"
   ]
  },
  {
   "cell_type": "code",
   "execution_count": 59,
   "id": "f991bf0c-378e-48c2-abb5-ee54faaebe1b",
   "metadata": {},
   "outputs": [
    {
     "name": "stdout",
     "output_type": "stream",
     "text": [
      "the square of 20 is 400\n",
      "the square of 21 is 441\n",
      "the square of 22 is 484\n",
      "the square of 23 is 529\n",
      "the square of 24 is 576\n",
      "the square of 25 is 625\n"
     ]
    }
   ],
   "source": [
    "#### another method\n",
    "for i in range(20,26):\n",
    "    print(f\"the square of {i} is {i*i}\")"
   ]
  },
  {
   "cell_type": "code",
   "execution_count": 65,
   "id": "26e4bcdb-ddab-4dfe-a1a3-d1857b20527d",
   "metadata": {},
   "outputs": [
    {
     "name": "stdout",
     "output_type": "stream",
     "text": [
      "5 is odd\n",
      "98 is even\n"
     ]
    }
   ],
   "source": [
    "import random\n",
    "for i in range(10001,10003):\n",
    "    num=random.randint(1,100)\n",
    "    if num%2==0:\n",
    "        print(f\"{num} is even\")\n",
    "    else:\n",
    "        print(f\"{num} is odd\")"
   ]
  },
  {
   "cell_type": "markdown",
   "id": "e5bbc7a5-bb8f-4650-8a8d-0c6f90e78a38",
   "metadata": {},
   "source": [
    "$Pattern-2$\n",
    "\n",
    "**range(start,stop,step)**\n",
    "\n",
    "- start value = start values\n",
    "\n",
    "- step value\n",
    "\n",
    "    - positive step value\n",
    "\n",
    "        - if step value is positive : increment\n",
    "\n",
    "        - last = stop-1\n",
    "\n",
    "    - negative step value\n",
    "\n",
    "        - if step value is negative : decrement\n",
    "\n",
    "        - last = stop+1"
   ]
  },
  {
   "cell_type": "code",
   "execution_count": 75,
   "id": "e233a0ef-f89b-4552-91cb-e11fdb2ae1cd",
   "metadata": {},
   "outputs": [
    {
     "name": "stdout",
     "output_type": "stream",
     "text": [
      "2 4 6 8 10 12 14 16 18 "
     ]
    }
   ],
   "source": [
    "# case - 1:\n",
    "for i in range(2,20,2):  # range(start,stop,increment)\n",
    "    print(i,end=' ')\n",
    "\n",
    "# start =2\n",
    "# step = +ve  2\n",
    "# Last = stop -1 = 20 -1 =19\n",
    "# 2 4 6 8 10 12 14 16 18"
   ]
  },
  {
   "cell_type": "code",
   "execution_count": 93,
   "id": "2fba7bb3-0cbc-4390-abcf-fa1305887ea2",
   "metadata": {},
   "outputs": [],
   "source": [
    "# case - 2:\n",
    "for i in range(2,20,-2):  # range(start,stop,step)\n",
    "    print(i,end=' ')\n",
    "\n",
    "# on answer , no error there is no negative"
   ]
  },
  {
   "cell_type": "code",
   "execution_count": 103,
   "id": "78c0bcf7-aaac-4115-ac5e-dec8c00a01ac",
   "metadata": {},
   "outputs": [
    {
     "name": "stdout",
     "output_type": "stream",
     "text": [
      "20 18 16 14 12 10 8 6 4 "
     ]
    }
   ],
   "source": [
    "# case - 3:\n",
    "for i in range(20,2,-2):  # range(start,stop,increment)\n",
    "    print(i,end=' ')"
   ]
  },
  {
   "cell_type": "code",
   "execution_count": 105,
   "id": "a5b5bca5-6a20-472f-89e5-f9a7b7320ea8",
   "metadata": {},
   "outputs": [],
   "source": [
    "# case - 4:\n",
    "for i in range(-20,2,-2):  # range(start,stop,increment)\n",
    "    print(i,end=' ')\n",
    "\n",
    "# no answer"
   ]
  },
  {
   "cell_type": "code",
   "execution_count": 109,
   "id": "9c374d5f-b3e2-4306-8f0d-51a607f13ec1",
   "metadata": {},
   "outputs": [
    {
     "name": "stdout",
     "output_type": "stream",
     "text": [
      "3 5 7 9 11 13 15 17 19 "
     ]
    }
   ],
   "source": [
    "# case - 5:\n",
    "for i in range(3,20,2):  # range(start,stop,increment)\n",
    "    print(i,end=' ')"
   ]
  },
  {
   "cell_type": "code",
   "execution_count": 111,
   "id": "a231c987-a015-46c7-b86f-c6054fe4d5b2",
   "metadata": {},
   "outputs": [],
   "source": [
    "# case - 5:\n",
    "for i in range(3,20,-2): \n",
    "    print(i,end=' ') ## not possible"
   ]
  },
  {
   "cell_type": "code",
   "execution_count": 115,
   "id": "024138e0-aa7a-4aa7-86d6-4d36d770ac30",
   "metadata": {},
   "outputs": [],
   "source": [
    "# case - 6:\n",
    "for i in range(3,-20,2): \n",
    "    print(i,end=' ')  ## not possible"
   ]
  },
  {
   "cell_type": "code",
   "execution_count": 113,
   "id": "d6374824-d028-422a-bdd3-e7aabb498e35",
   "metadata": {},
   "outputs": [
    {
     "name": "stdout",
     "output_type": "stream",
     "text": [
      "3 1 -1 -3 -5 -7 -9 -11 -13 -15 -17 -19 "
     ]
    }
   ],
   "source": [
    "# case - 7:\n",
    "for i in range(3,-20,-2): \n",
    "    print(i,end=' ')"
   ]
  },
  {
   "cell_type": "code",
   "execution_count": 117,
   "id": "cec0888b-81f2-4c4e-a334-be2a407bcca9",
   "metadata": {},
   "outputs": [
    {
     "name": "stdout",
     "output_type": "stream",
     "text": [
      "20 18 16 14 12 10 8 6 4 2 0 -2 "
     ]
    }
   ],
   "source": [
    "for i in range(20,-3,-2): \n",
    "    print(i,end=' ')"
   ]
  },
  {
   "cell_type": "code",
   "execution_count": 1,
   "id": "33b24150-61c5-4632-90f8-cb5a93d1f6d4",
   "metadata": {},
   "outputs": [
    {
     "name": "stdin",
     "output_type": "stream",
     "text": [
      "Enter the number: 3\n"
     ]
    },
    {
     "name": "stdout",
     "output_type": "stream",
     "text": [
      "the square of 3 is 9\n"
     ]
    },
    {
     "name": "stdin",
     "output_type": "stream",
     "text": [
      "Enter the number: 4\n"
     ]
    },
    {
     "name": "stdout",
     "output_type": "stream",
     "text": [
      "the square of 4 is 16\n"
     ]
    },
    {
     "name": "stdin",
     "output_type": "stream",
     "text": [
      "Enter the number: 2\n"
     ]
    },
    {
     "name": "stdout",
     "output_type": "stream",
     "text": [
      "the square of 2 is 4\n"
     ]
    }
   ],
   "source": [
    "## wap ask the user enter number three times find the square of the number\n",
    "for i in range(3):\n",
    "    num=eval(input(\"Enter the number:\"))\n",
    "    print(f\"the square of {num} is {num*num}\")"
   ]
  },
  {
   "cell_type": "code",
   "execution_count": 17,
   "id": "04cedae7-f36c-4af4-b6c7-11c302c367ba",
   "metadata": {},
   "outputs": [
    {
     "name": "stdin",
     "output_type": "stream",
     "text": [
      "enter the table which you want to see 6\n"
     ]
    },
    {
     "name": "stdout",
     "output_type": "stream",
     "text": [
      "6 X 1 = 6 \n",
      "6 X 2 = 12 \n",
      "6 X 3 = 18 \n",
      "6 X 4 = 24 \n",
      "6 X 5 = 30 \n",
      "6 X 6 = 36 \n",
      "6 X 7 = 42 \n",
      "6 X 8 = 48 \n",
      "6 X 9 = 54 \n",
      "6 X 10 = 60 \n"
     ]
    }
   ],
   "source": [
    "num=eval(input(\"enter the table which you want to see\"))\n",
    "for i in range(1,11):\n",
    "    val=i*num\n",
    "    print(f\"{num} X {i} = {val} \")"
   ]
  },
  {
   "cell_type": "code",
   "execution_count": 23,
   "id": "64da8181-3378-4e46-8293-14747488db08",
   "metadata": {},
   "outputs": [
    {
     "name": "stdin",
     "output_type": "stream",
     "text": [
      "Enter the factor number: 10\n"
     ]
    },
    {
     "name": "stdout",
     "output_type": "stream",
     "text": [
      "1 is divisor of 10\n",
      "2 is divisor of 10\n",
      "5 is divisor of 10\n",
      "10 is divisor of 10\n"
     ]
    }
   ],
   "source": [
    "#6 Q) Find the factors of 75\n",
    "# S1: Iterate the loop = which numbers factors you want\n",
    "#S2 : apply the if condition\n",
    "#s3:     cond = divide the number with each i\n",
    "num=eval(input(\"Enter the factor number:\"))\n",
    "for i in range(1,num+1):\n",
    "    if num%i==0:\n",
    "        print(f\"{i} is divisor of {num}\")"
   ]
  },
  {
   "cell_type": "code",
   "execution_count": null,
   "id": "e159de9a-05cb-4c22-ac4a-79cf57a09022",
   "metadata": {},
   "outputs": [],
   "source": [
    "**Summation wrapper**\n",
    "\n",
    "- initially we need to keep summ=0\n",
    "\n",
    "- make sure that to do not provide **sum**\n",
    "\n",
    "- because sum is a keyword\n",
    "\n",
    "- inside for loop: summ=summ+1\n"
   ]
  },
  {
   "cell_type": "code",
   "execution_count": null,
   "id": "d44b5934-dbf0-4e74-a786-771b61421b86",
   "metadata": {},
   "outputs": [],
   "source": [
    "#summ=0\n",
    "#for loop:\n",
    "\n",
    "#   summ=summ + i"
   ]
  },
  {
   "cell_type": "code",
   "execution_count": 51,
   "id": "3f499c89-d59f-428d-be01-e3cf2b09aa91",
   "metadata": {},
   "outputs": [
    {
     "name": "stdout",
     "output_type": "stream",
     "text": [
      "1+1=1\n",
      "3+2=3\n",
      "6+3=6\n",
      "10+4=10\n",
      "15+5=15\n",
      "21+6=21\n",
      "28+7=28\n",
      "36+8=36\n",
      "45+9=45\n",
      "55+10=55\n"
     ]
    }
   ],
   "source": [
    "#7Q) Write sum of first 10 natural numbers\n",
    "# 1 to 10 sum\n",
    "summ=0\n",
    "for i in range(10):\n",
    "    summ=summ+i+1\n",
    "    print(f\"{summ}+{i+1}={summ}\")"
   ]
  },
  {
   "cell_type": "code",
   "execution_count": 53,
   "id": "e57f0190-8d33-44c2-953c-d5dffc8d01e1",
   "metadata": {},
   "outputs": [
    {
     "name": "stdout",
     "output_type": "stream",
     "text": [
      "1+1=1\n",
      "3+2=3\n",
      "6+3=6\n",
      "10+4=10\n",
      "15+5=15\n",
      "21+6=21\n",
      "28+7=28\n",
      "36+8=36\n",
      "45+9=45\n",
      "55+10=55\n"
     ]
    }
   ],
   "source": [
    "summ=0\n",
    "for i in range(1,11):\n",
    "    summ=summ+i\n",
    "    print(f\"{summ}+{i}={summ}\")"
   ]
  },
  {
   "cell_type": "code",
   "execution_count": 55,
   "id": "1ce76d7e-917e-437a-bfd1-bb823106be9a",
   "metadata": {},
   "outputs": [
    {
     "name": "stdout",
     "output_type": "stream",
     "text": [
      "55\n"
     ]
    }
   ],
   "source": [
    "summ=0\n",
    "for i in range(1,11):\n",
    "    summ=summ+i\n",
    "print(summ)"
   ]
  },
  {
   "cell_type": "markdown",
   "id": "d8ced896-0e61-49dd-8787-2b4554ea44f9",
   "metadata": {},
   "source": [
    "**Note**\n",
    "\n",
    "- If we print answer from out of for loop, last answer will print"
   ]
  },
  {
   "cell_type": "code",
   "execution_count": 60,
   "id": "b30dd02b-7681-4759-bb70-65c5f8d7d7c8",
   "metadata": {},
   "outputs": [
    {
     "name": "stdout",
     "output_type": "stream",
     "text": [
      "0\n",
      "1\n",
      "2\n"
     ]
    },
    {
     "data": {
      "text/plain": [
       "2"
      ]
     },
     "execution_count": 60,
     "metadata": {},
     "output_type": "execute_result"
    }
   ],
   "source": [
    "for i in range(3):\n",
    "    print(i)\n",
    "i"
   ]
  },
  {
   "cell_type": "code",
   "execution_count": 64,
   "id": "fe889f1f-9a93-4cb4-924b-cba567f2b422",
   "metadata": {},
   "outputs": [
    {
     "name": "stdin",
     "output_type": "stream",
     "text": [
      "Enter the number: 10\n"
     ]
    },
    {
     "name": "stdout",
     "output_type": "stream",
     "text": [
      "5.5\n"
     ]
    }
   ],
   "source": [
    "#8Q) Average first 1 to 10 numbers\n",
    "\n",
    "summ=0\n",
    "N=eval(input(\"Enter the number:\"))\n",
    "for i in range(1,N+1):\n",
    "    summ=summ+i\n",
    "print(summ/N)"
   ]
  },
  {
   "cell_type": "markdown",
   "id": "9a9286b2-c542-4491-b7e5-678ed92322dd",
   "metadata": {},
   "source": [
    "**Counter wrapper**\n",
    "\n",
    "  - Before for loop intilaise with count = 0\n",
    "\n",
    "  - Under for loop count=count+1\n",
    "\n",
    "  - Counter always increase by 1 only  "
   ]
  },
  {
   "cell_type": "code",
   "execution_count": 70,
   "id": "135cafa2-05f1-4562-9eec-1a9a3bc64eab",
   "metadata": {},
   "outputs": [
    {
     "name": "stdin",
     "output_type": "stream",
     "text": [
      "Enter the factor number: 75\n"
     ]
    },
    {
     "name": "stdout",
     "output_type": "stream",
     "text": [
      "The number of divisiors for 75 is 6\n"
     ]
    }
   ],
   "source": [
    "# 9Q) Find the number of divisors of 75\n",
    "# ans: 1,3,5,15,25,75\n",
    "# number =6\n",
    "count=0\n",
    "num=eval(input(\"Enter the factor number:\"))\n",
    "for i in range(1,num+1):\n",
    "    if num%i==0:\n",
    "        count=count+1\n",
    "\n",
    "print(f\"The number of divisiors for {num} is {count}\")"
   ]
  },
  {
   "cell_type": "code",
   "execution_count": null,
   "id": "23716426-4365-4672-9639-9769cee8ff2c",
   "metadata": {},
   "outputs": [],
   "source": [
    "summ=summ+i ====> summ+=i\n",
    "count=count+i ====> count+=i"
   ]
  },
  {
   "cell_type": "code",
   "execution_count": 80,
   "id": "253a4529-9132-4d13-8e64-58256c64263f",
   "metadata": {},
   "outputs": [
    {
     "name": "stdout",
     "output_type": "stream",
     "text": [
      "6\n"
     ]
    },
    {
     "name": "stdin",
     "output_type": "stream",
     "text": [
      "Enter the number 1 to 10 6\n"
     ]
    },
    {
     "name": "stdout",
     "output_type": "stream",
     "text": [
      "won\n",
      "5\n"
     ]
    },
    {
     "name": "stdin",
     "output_type": "stream",
     "text": [
      "Enter the number 1 to 10 5\n"
     ]
    },
    {
     "name": "stdout",
     "output_type": "stream",
     "text": [
      "won\n",
      "3\n"
     ]
    },
    {
     "name": "stdin",
     "output_type": "stream",
     "text": [
      "Enter the number 1 to 10 3\n"
     ]
    },
    {
     "name": "stdout",
     "output_type": "stream",
     "text": [
      "won\n"
     ]
    }
   ],
   "source": [
    "#10Q)\n",
    "# Get a random number between 1 to 10 : num1\n",
    "# ask the user enter a number : num2\n",
    "# if num1 == num2 then print won\n",
    "# else print fail\n",
    "\n",
    "# Give 3 chances\n",
    "import random\n",
    "for i in range(3):\n",
    "    num1=random.randint(1,10)\n",
    "    print(num1)\n",
    "    num2=eval(input(\"Enter the number 1 to 10\"))\n",
    "    if num1==num2:\n",
    "        print('won')\n",
    "    else : print(\"fail\")"
   ]
  },
  {
   "cell_type": "code",
   "execution_count": 82,
   "id": "06c1ee02-c5c3-4b31-b4f5-b83b0fde283f",
   "metadata": {},
   "outputs": [
    {
     "name": "stdout",
     "output_type": "stream",
     "text": [
      "1\n"
     ]
    },
    {
     "name": "stdin",
     "output_type": "stream",
     "text": [
      "Enter the number 1 to 10 1\n"
     ]
    },
    {
     "name": "stdout",
     "output_type": "stream",
     "text": [
      "won\n"
     ]
    }
   ],
   "source": [
    "# case -2: Whenever you won code should stop\n",
    "import random\n",
    "for i in range(3):\n",
    "    num1=random.randint(1,10)\n",
    "    print(num1)\n",
    "    num2=eval(input(\"Enter the number 1 to 10\"))\n",
    "    if num1==num2:\n",
    "        print('won')\n",
    "        break\n",
    "    else : print(\"fail\")"
   ]
  },
  {
   "cell_type": "code",
   "execution_count": null,
   "id": "36db4b31-2c9b-4675-85f5-9c99f0018f1f",
   "metadata": {},
   "outputs": [],
   "source": [
    "#case-3:\n",
    "# Suppose i want to give 4 chances\n",
    "# Every time you fail I want to display Number of chances left\n",
    "#       number of chances left\n",
    "# If all the chances you are used\n",
    "#   try again after 24 hours\n",
    "# If you are win"
   ]
  },
  {
   "cell_type": "code",
   "execution_count": null,
   "id": "8f4de9e6-f3a5-4abf-b674-95b198df14d3",
   "metadata": {},
   "outputs": [],
   "source": []
  },
  {
   "cell_type": "code",
   "execution_count": null,
   "id": "c06ea126-5961-48bb-89ce-b29e1032ca05",
   "metadata": {},
   "outputs": [],
   "source": [
    "What is the difference btw summation wrapper and counter wrapper"
   ]
  },
  {
   "cell_type": "code",
   "execution_count": 8,
   "id": "e085c2f6-92a4-4f1d-86c8-920fb74e7ac2",
   "metadata": {},
   "outputs": [
    {
     "name": "stdout",
     "output_type": "stream",
     "text": [
      "The total number of even numbers are: 4\n",
      "The total number of odd numbers are: 1\n"
     ]
    }
   ],
   "source": [
    "# Wap ask the user get random numbers\n",
    "#Get it is an even number or odd number\n",
    "# Also count how many even numbers are there \n",
    "# and count how many odd nummbers are there\n",
    "\n",
    "import random\n",
    "even_count,odd_count=0,0\n",
    "for i in range(5):\n",
    "    num=random.randint(1,100)\n",
    "    if num%2==0:\n",
    "        even_count=even_count+1\n",
    "    else:\n",
    "        odd_count=odd_count+1\n",
    "print(f\"The total number of even numbers are: {even_count}\")\n",
    "print(f\"The total number of odd numbers are: {odd_count}\")"
   ]
  },
  {
   "cell_type": "code",
   "execution_count": 20,
   "id": "e426cfb2-cdef-4470-aba1-0731781dd308",
   "metadata": {},
   "outputs": [
    {
     "name": "stdout",
     "output_type": "stream",
     "text": [
      "The total number of even numbers are: 3\n",
      "The total number of odd numbers are: 2\n",
      "The summation of even numbers are: 176\n",
      "The summation of odd numbers are: 62\n"
     ]
    }
   ],
   "source": [
    "#Update to summation\n",
    "import random\n",
    "even_count,odd_count=0,0\n",
    "even_sum,odd_sum=0,0\n",
    "for i in range(5):\n",
    "    num=random.randint(1,100)\n",
    "    if num%2==0:\n",
    "        even_count=even_count+1\n",
    "        even_sum=even_sum+num\n",
    "    else:\n",
    "        odd_count=odd_count+1\n",
    "        odd_sum=odd_sum+num\n",
    "print(f\"The total number of even numbers are: {even_count}\")\n",
    "print(f\"The total number of odd numbers are: {odd_count}\")\n",
    "print(f\"The summation of even numbers are: {even_sum}\")\n",
    "print(f\"The summation of odd numbers are: {odd_sum}\")"
   ]
  },
  {
   "cell_type": "code",
   "execution_count": 42,
   "id": "1dea0d7b-3649-4ff7-baf1-c62d422afec8",
   "metadata": {},
   "outputs": [],
   "source": [
    "#return value\n",
    "#print all 4\n",
    "\n",
    "import random\n",
    "def even_odd1():\n",
    "    even_count,odd_count=0,0\n",
    "    even_sum,odd_sum=0,0\n",
    "    for i in range(5):\n",
    "        num=random.randint(1,100)\n",
    "        if num%2==0:\n",
    "            even_count=even_count+1\n",
    "            even_sum=even_sum+num\n",
    "        else:\n",
    "            odd_count=odd_count+1\n",
    "            odd_sum=odd_sum+num\n",
    "    return(even_count,even_sum,odd_count,odd_sum)\n"
   ]
  },
  {
   "cell_type": "code",
   "execution_count": 46,
   "id": "14174c13-1d8f-4b43-97d5-1481ac29c1e2",
   "metadata": {},
   "outputs": [
    {
     "name": "stdout",
     "output_type": "stream",
     "text": [
      "The total number of even numbers are: 3\n",
      "The total number of odd numbers are: 2\n",
      "The summation of even numbers are: 204\n",
      "The summation of odd numbers are: 114\n"
     ]
    }
   ],
   "source": [
    "even_count,even_sum,odd_count,odd_sum=even_odd1()\n",
    "print(f\"The total number of even numbers are: {even_count}\")\n",
    "print(f\"The total number of odd numbers are: {odd_count}\")\n",
    "print(f\"The summation of even numbers are: {even_sum}\")\n",
    "print(f\"The summation of odd numbers are: {odd_sum}\")"
   ]
  },
  {
   "cell_type": "markdown",
   "id": "b244f86f-4a7c-4a68-9e09-e5153cfa78ce",
   "metadata": {},
   "source": [
    "**in operator**"
   ]
  },
  {
   "cell_type": "code",
   "execution_count": 63,
   "id": "397262b9-27fb-4d71-9420-64c8386a22ff",
   "metadata": {},
   "outputs": [
    {
     "data": {
      "text/plain": [
       "True"
      ]
     },
     "execution_count": 63,
     "metadata": {},
     "output_type": "execute_result"
    }
   ],
   "source": [
    "string1='python'\n",
    "'p' in string1\n",
    "'y' in string1\n",
    "'t' in string1\n",
    "i in string1"
   ]
  },
  {
   "cell_type": "code",
   "execution_count": 59,
   "id": "c876fe39-68b6-4f44-a3bf-97821b0a2cb5",
   "metadata": {},
   "outputs": [
    {
     "name": "stdout",
     "output_type": "stream",
     "text": [
      "p\n",
      "y\n",
      "t\n",
      "h\n",
      "o\n",
      "n\n"
     ]
    }
   ],
   "source": [
    "for i in string1:\n",
    "    print(i)"
   ]
  },
  {
   "cell_type": "code",
   "execution_count": 67,
   "id": "052fc2ee-d038-4603-aa00-433091df3632",
   "metadata": {},
   "outputs": [
    {
     "ename": "TypeError",
     "evalue": "'str' object cannot be interpreted as an integer",
     "output_type": "error",
     "traceback": [
      "\u001b[1;31m---------------------------------------------------------------------------\u001b[0m",
      "\u001b[1;31mTypeError\u001b[0m                                 Traceback (most recent call last)",
      "Cell \u001b[1;32mIn[67], line 1\u001b[0m\n\u001b[1;32m----> 1\u001b[0m \u001b[38;5;28;01mfor\u001b[39;00m i \u001b[38;5;129;01min\u001b[39;00m \u001b[38;5;28mrange\u001b[39m(string1):\n\u001b[0;32m      2\u001b[0m     \u001b[38;5;28mprint\u001b[39m(i)\n",
      "\u001b[1;31mTypeError\u001b[0m: 'str' object cannot be interpreted as an integer"
     ]
    }
   ],
   "source": [
    "for i in range(string1):\n",
    "    print(i)"
   ]
  },
  {
   "cell_type": "markdown",
   "id": "848f91c7-29a2-4679-8439-70f269347f91",
   "metadata": {},
   "source": [
    "**Difference btw in operator and range operator**\n",
    "\n",
    "- Range belongs to math family \n",
    "\n",
    "- Inside range we need to keep numbers only\n",
    "\n",
    "- Whenever if we want iterate through a english letters\n",
    "\n",
    "- We need to choose in operator\n",
    "\n",
    "- Range means numbers\n",
    "\n",
    "- in means strings"
   ]
  },
  {
   "cell_type": "code",
   "execution_count": 72,
   "id": "9274780a-fe50-4641-9f15-c848fead5f30",
   "metadata": {},
   "outputs": [
    {
     "data": {
      "text/plain": [
       "True"
      ]
     },
     "execution_count": 72,
     "metadata": {},
     "output_type": "execute_result"
    }
   ],
   "source": [
    "'p'>'P'"
   ]
  },
  {
   "cell_type": "markdown",
   "id": "d6c82de1-412e-4371-8ada-19aae409949b",
   "metadata": {},
   "source": [
    "- every english letter \n",
    "\n",
    "- every spl charcters how machine will understand\n",
    "\n",
    "- Machine Language always consider as numbers\n",
    "\n",
    "- Every non numeric assign a number\n",
    "\n",
    "- ASCII: American standard code for information Interchange\n",
    "\n",
    "- A=65,a=97"
   ]
  },
  {
   "cell_type": "markdown",
   "id": "97b60207-7b9c-4ab8-8140-7eb9be6f0846",
   "metadata": {},
   "source": [
    "**ord-chr**"
   ]
  },
  {
   "cell_type": "code",
   "execution_count": null,
   "id": "e86ef39d-8ce3-4e29-b771-aaf479a0affa",
   "metadata": {},
   "outputs": [],
   "source": [
    "A === 65 ==== 0b1000001"
   ]
  },
  {
   "cell_type": "code",
   "execution_count": 80,
   "id": "d21d35f7-9c6c-415d-afde-40f9841e95e4",
   "metadata": {},
   "outputs": [
    {
     "data": {
      "text/plain": [
       "(65, 97)"
      ]
     },
     "execution_count": 80,
     "metadata": {},
     "output_type": "execute_result"
    }
   ],
   "source": [
    "ord('A'),ord('a')"
   ]
  },
  {
   "cell_type": "code",
   "execution_count": 82,
   "id": "f69837e8-39ce-4e2b-9f2f-025c8bdcaf61",
   "metadata": {},
   "outputs": [
    {
     "data": {
      "text/plain": [
       "(80, 112)"
      ]
     },
     "execution_count": 82,
     "metadata": {},
     "output_type": "execute_result"
    }
   ],
   "source": [
    "ord(\"P\"),ord('p')"
   ]
  },
  {
   "cell_type": "code",
   "execution_count": 96,
   "id": "f9298d91-3bff-4ec7-9896-5bd09c7f45bc",
   "metadata": {},
   "outputs": [
    {
     "data": {
      "text/plain": [
       "('d', 'P', 'A')"
      ]
     },
     "execution_count": 96,
     "metadata": {},
     "output_type": "execute_result"
    }
   ],
   "source": [
    "chr(100),chr(80), chr(65)"
   ]
  },
  {
   "cell_type": "code",
   "execution_count": 100,
   "id": "89cba86d-5243-447e-bf2a-bdd2ad3ad9ef",
   "metadata": {},
   "outputs": [
    {
     "name": "stdout",
     "output_type": "stream",
     "text": [
      "The ASCII number for s is 115\n",
      "The ASCII number for h is 104\n",
      "The ASCII number for a is 97\n",
      "The ASCII number for r is 114\n",
      "The ASCII number for a is 97\n",
      "The ASCII number for t is 116\n",
      "The ASCII number for h is 104\n"
     ]
    }
   ],
   "source": [
    "# I want string1 : 'python'\n",
    "# print all ascii numbers for 'python'\n",
    "for i in 'sharath':\n",
    "    print(f'The ASCII number for {i} is {ord(i)}')"
   ]
  },
  {
   "cell_type": "code",
   "execution_count": 112,
   "id": "d075e54d-2e70-42cd-b7de-019b36de9c2d",
   "metadata": {},
   "outputs": [
    {
     "name": "stdout",
     "output_type": "stream",
     "text": [
      "The summation is 747\n"
     ]
    }
   ],
   "source": [
    "ascii_sum=0\n",
    "for i in 'sharath':\n",
    "    ascii_sum=ascii_sum+ord(i)\n",
    "print(f\"The summation is {ascii_sum}\")"
   ]
  },
  {
   "cell_type": "code",
   "execution_count": null,
   "id": "a112008f-7da8-4a02-9fdc-2c681a85a11c",
   "metadata": {},
   "outputs": [],
   "source": [
    "# I want to know all asci number from A to Z"
   ]
  },
  {
   "cell_type": "code",
   "execution_count": 158,
   "id": "ebd58a3a-d245-415a-a365-168dbdf9cece",
   "metadata": {},
   "outputs": [
    {
     "name": "stdout",
     "output_type": "stream",
     "text": [
      "The ASCII number A is 65\n",
      "The ASCII number B is 66\n",
      "The ASCII number C is 67\n",
      "The ASCII number D is 68\n",
      "The ASCII number E is 69\n",
      "The ASCII number F is 70\n",
      "The ASCII number G is 71\n",
      "The ASCII number H is 72\n",
      "The ASCII number I is 73\n",
      "The ASCII number J is 74\n",
      "The ASCII number K is 75\n",
      "The ASCII number L is 76\n",
      "The ASCII number M is 77\n",
      "The ASCII number N is 78\n",
      "The ASCII number O is 79\n",
      "The ASCII number P is 80\n",
      "The ASCII number Q is 81\n",
      "The ASCII number R is 82\n",
      "The ASCII number S is 83\n",
      "The ASCII number T is 84\n",
      "The ASCII number U is 85\n",
      "The ASCII number V is 86\n",
      "The ASCII number W is 87\n",
      "The ASCII number X is 88\n",
      "The ASCII number Y is 89\n",
      "The ASCII number Z is 90\n"
     ]
    }
   ],
   "source": [
    "import string\n",
    "letters=string.ascii_uppercase\n",
    "for i in letters:\n",
    "        print(f\"The ASCII number {i} is {ord(i)}\")\n"
   ]
  },
  {
   "cell_type": "code",
   "execution_count": 114,
   "id": "b32b3900-8d79-4df0-aa33-7e06749b3a7e",
   "metadata": {},
   "outputs": [],
   "source": [
    "import string"
   ]
  },
  {
   "cell_type": "code",
   "execution_count": 116,
   "id": "66a99a89-18e7-4057-bf8a-e68913be6912",
   "metadata": {},
   "outputs": [
    {
     "data": {
      "text/plain": [
       "['Formatter',\n",
       " 'Template',\n",
       " '_ChainMap',\n",
       " '__all__',\n",
       " '__builtins__',\n",
       " '__cached__',\n",
       " '__doc__',\n",
       " '__file__',\n",
       " '__loader__',\n",
       " '__name__',\n",
       " '__package__',\n",
       " '__spec__',\n",
       " '_re',\n",
       " '_sentinel_dict',\n",
       " '_string',\n",
       " 'ascii_letters',\n",
       " 'ascii_lowercase',\n",
       " 'ascii_uppercase',\n",
       " 'capwords',\n",
       " 'digits',\n",
       " 'hexdigits',\n",
       " 'octdigits',\n",
       " 'printable',\n",
       " 'punctuation',\n",
       " 'whitespace']"
      ]
     },
     "execution_count": 116,
     "metadata": {},
     "output_type": "execute_result"
    }
   ],
   "source": [
    "dir(string)"
   ]
  },
  {
   "cell_type": "code",
   "execution_count": 160,
   "id": "a6349f7e-f05b-41f9-96a5-092e04ee7e88",
   "metadata": {},
   "outputs": [
    {
     "name": "stdout",
     "output_type": "stream",
     "text": [
      "The ASCII number ! is 33\n",
      "The ASCII number \" is 34\n",
      "The ASCII number # is 35\n",
      "The ASCII number $ is 36\n",
      "The ASCII number % is 37\n",
      "The ASCII number & is 38\n",
      "The ASCII number ' is 39\n",
      "The ASCII number ( is 40\n",
      "The ASCII number ) is 41\n",
      "The ASCII number * is 42\n",
      "The ASCII number + is 43\n",
      "The ASCII number , is 44\n",
      "The ASCII number - is 45\n",
      "The ASCII number . is 46\n",
      "The ASCII number / is 47\n",
      "The ASCII number : is 58\n",
      "The ASCII number ; is 59\n",
      "The ASCII number < is 60\n",
      "The ASCII number = is 61\n",
      "The ASCII number > is 62\n",
      "The ASCII number ? is 63\n",
      "The ASCII number @ is 64\n",
      "The ASCII number [ is 91\n",
      "The ASCII number \\ is 92\n",
      "The ASCII number ] is 93\n",
      "The ASCII number ^ is 94\n",
      "The ASCII number _ is 95\n",
      "The ASCII number ` is 96\n",
      "The ASCII number { is 123\n",
      "The ASCII number | is 124\n",
      "The ASCII number } is 125\n",
      "The ASCII number ~ is 126\n"
     ]
    }
   ],
   "source": [
    "import string\n",
    "letters=string.punctuation\n",
    "for i in letters:\n",
    "        print(f\"The ASCII number {i} is {ord(i)}\")"
   ]
  },
  {
   "cell_type": "code",
   "execution_count": 162,
   "id": "3103e7fc-04fa-4843-8469-6fca1436c4cc",
   "metadata": {},
   "outputs": [
    {
     "name": "stdout",
     "output_type": "stream",
     "text": [
      "The ASCII number   is 32\n",
      "The ASCII number \t is 9\n",
      "The ASCII number \n",
      " is 10\n",
      " is 13CII number \n",
      "The ASCII number \u000b",
      " is 11\n",
      "The ASCII number \f",
      " is 12\n"
     ]
    }
   ],
   "source": [
    "import string\n",
    "letters=string.whitespace\n",
    "for i in letters:\n",
    "        print(f\"The ASCII number {i} is {ord(i)}\")"
   ]
  },
  {
   "cell_type": "code",
   "execution_count": 164,
   "id": "f34c3a30-9896-4f6b-bb20-7f48de4b6491",
   "metadata": {},
   "outputs": [
    {
     "name": "stdout",
     "output_type": "stream",
     "text": [
      "The ASCII number a is 97\n",
      "The ASCII number b is 98\n",
      "The ASCII number c is 99\n",
      "The ASCII number d is 100\n",
      "The ASCII number e is 101\n",
      "The ASCII number f is 102\n",
      "The ASCII number g is 103\n",
      "The ASCII number h is 104\n",
      "The ASCII number i is 105\n",
      "The ASCII number j is 106\n",
      "The ASCII number k is 107\n",
      "The ASCII number l is 108\n",
      "The ASCII number m is 109\n",
      "The ASCII number n is 110\n",
      "The ASCII number o is 111\n",
      "The ASCII number p is 112\n",
      "The ASCII number q is 113\n",
      "The ASCII number r is 114\n",
      "The ASCII number s is 115\n",
      "The ASCII number t is 116\n",
      "The ASCII number u is 117\n",
      "The ASCII number v is 118\n",
      "The ASCII number w is 119\n",
      "The ASCII number x is 120\n",
      "The ASCII number y is 121\n",
      "The ASCII number z is 122\n",
      "The ASCII number A is 65\n",
      "The ASCII number B is 66\n",
      "The ASCII number C is 67\n",
      "The ASCII number D is 68\n",
      "The ASCII number E is 69\n",
      "The ASCII number F is 70\n",
      "The ASCII number G is 71\n",
      "The ASCII number H is 72\n",
      "The ASCII number I is 73\n",
      "The ASCII number J is 74\n",
      "The ASCII number K is 75\n",
      "The ASCII number L is 76\n",
      "The ASCII number M is 77\n",
      "The ASCII number N is 78\n",
      "The ASCII number O is 79\n",
      "The ASCII number P is 80\n",
      "The ASCII number Q is 81\n",
      "The ASCII number R is 82\n",
      "The ASCII number S is 83\n",
      "The ASCII number T is 84\n",
      "The ASCII number U is 85\n",
      "The ASCII number V is 86\n",
      "The ASCII number W is 87\n",
      "The ASCII number X is 88\n",
      "The ASCII number Y is 89\n",
      "The ASCII number Z is 90\n"
     ]
    }
   ],
   "source": [
    "import string\n",
    "letters=string.ascii_letters\n",
    "for i in letters:\n",
    "        print(f\"The ASCII number {i} is {ord(i)}\")"
   ]
  },
  {
   "cell_type": "code",
   "execution_count": 168,
   "id": "a5250a60-3d00-4060-afe6-2bbdcc0d345c",
   "metadata": {},
   "outputs": [
    {
     "name": "stdout",
     "output_type": "stream",
     "text": [
      "20 \u0014==>21 \u0015==>22 \u0016==>23 \u0017==>24 \u0018==>25 \u0019==>26 \u001a==>27 \u001b==>28 \u001c",
      "==>29 \u001d",
      "==>30 \u001e",
      "==>31 \u001f==>32  ==>33 !==>34 \"==>35 #==>36 $==>37 %==>38 &==>39 '==>40 (==>41 )==>42 *==>43 +==>44 ,==>45 -==>46 .==>47 /==>48 0==>49 1==>50 2==>51 3==>52 4==>53 5==>54 6==>55 7==>56 8==>57 9==>58 :==>59 ;==>60 <==>61 ===>62 >==>63 ?==>64 @==>65 A==>66 B==>67 C==>68 D==>69 E==>70 F==>71 G==>72 H==>73 I==>74 J==>75 K==>76 L==>77 M==>78 N==>79 O==>80 P==>81 Q==>82 R==>83 S==>84 T==>85 U==>86 V==>87 W==>88 X==>89 Y==>90 Z==>91 [==>92 \\==>93 ]==>94 ^==>95 _==>96 `==>97 a==>98 b==>99 c==>100 d==>101 e==>102 f==>103 g==>104 h==>105 i==>106 j==>107 k==>108 l==>109 m==>110 n==>111 o==>112 p==>113 q==>114 r==>115 s==>116 t==>117 u==>118 v==>119 w==>120 x==>121 y==>122 z==>123 {==>124 |==>125 }==>"
     ]
    }
   ],
   "source": [
    "import string\n",
    "letters=string.ascii_uppercase\n",
    "for i in range(20,126):\n",
    "        print(i, chr(i),end= '==>')"
   ]
  },
  {
   "cell_type": "code",
   "execution_count": 176,
   "id": "dc50a379-6b4c-4c9c-9ea2-8df031d057ef",
   "metadata": {},
   "outputs": [
    {
     "name": "stdout",
     "output_type": "stream",
     "text": [
      "3070 ௾==>3071 ௿==>3072 ఀ==>3073 ఁ==>3074 ం==>3075 ః==>3076 ఄ==>3077 అ==>3078 ఆ==>3079 ఇ==>3080 ఈ==>3081 ఉ==>3082 ఊ==>3083 ఋ==>3084 ఌ==>3085 ఍==>3086 ఎ==>3087 ఏ==>3088 ఐ==>3089 ఑==>3090 ఒ==>3091 ఓ==>3092 ఔ==>3093 క==>3094 ఖ==>3095 గ==>3096 ఘ==>3097 ఙ==>3098 చ==>3099 ఛ==>3100 జ==>3101 ఝ==>3102 ఞ==>3103 ట==>3104 ఠ==>3105 డ==>3106 ఢ==>3107 ణ==>3108 త==>3109 థ==>3110 ద==>3111 ధ==>3112 న==>3113 ఩==>3114 ప==>3115 ఫ==>3116 బ==>3117 భ==>3118 మ==>3119 య==>3120 ర==>3121 ఱ==>3122 ల==>3123 ళ==>3124 ఴ==>3125 వ==>3126 శ==>3127 ష==>3128 స==>3129 హ==>3130 ఺==>3131 ఻==>3132 ఼==>3133 ఽ==>3134 ా==>3135 ి==>3136 ీ==>3137 ు==>3138 ూ==>3139 ృ==>3140 ౄ==>3141 ౅==>3142 ె==>3143 ే==>3144 ై==>3145 ౉==>3146 ొ==>3147 ో==>3148 ౌ==>3149 ్==>3150 ౎==>3151 ౏==>3152 ౐==>3153 ౑==>3154 ౒==>3155 ౓==>3156 ౔==>3157 ౕ==>3158 ౖ==>3159 ౗==>3160 ౘ==>3161 ౙ==>3162 ౚ==>3163 ౛==>3164 ౜==>3165 ౝ==>3166 ౞==>3167 ౟==>3168 ౠ==>3169 ౡ==>3170 ౢ==>3171 ౣ==>3172 ౤==>3173 ౥==>3174 ౦==>3175 ౧==>3176 ౨==>3177 ౩==>3178 ౪==>3179 ౫==>3180 ౬==>3181 ౭==>3182 ౮==>3183 ౯==>3184 ౰==>3185 ౱==>3186 ౲==>3187 ౳==>3188 ౴==>3189 ౵==>3190 ౶==>3191 ౷==>3192 ౸==>3193 ౹==>3194 ౺==>3195 ౻==>3196 ౼==>3197 ౽==>3198 ౾==>3199 ౿==>3200 ಀ==>3201 ಁ==>3202 ಂ==>3203 ಃ==>3204 ಄==>3205 ಅ==>3206 ಆ==>3207 ಇ==>3208 ಈ==>3209 ಉ==>3210 ಊ==>3211 ಋ==>3212 ಌ==>3213 ಍==>3214 ಎ==>3215 ಏ==>3216 ಐ==>3217 ಑==>3218 ಒ==>3219 ಓ==>3220 ಔ==>3221 ಕ==>3222 ಖ==>3223 ಗ==>3224 ಘ==>3225 ಙ==>3226 ಚ==>3227 ಛ==>3228 ಜ==>3229 ಝ==>3230 ಞ==>3231 ಟ==>3232 ಠ==>3233 ಡ==>3234 ಢ==>3235 ಣ==>3236 ತ==>3237 ಥ==>3238 ದ==>3239 ಧ==>3240 ನ==>3241 ಩==>3242 ಪ==>3243 ಫ==>3244 ಬ==>3245 ಭ==>3246 ಮ==>3247 ಯ==>3248 ರ==>3249 ಱ==>3250 ಲ==>3251 ಳ==>3252 ಴==>3253 ವ==>3254 ಶ==>3255 ಷ==>3256 ಸ==>3257 ಹ==>3258 ಺==>3259 ಻==>3260 ಼==>3261 ಽ==>3262 ಾ==>3263 ಿ==>3264 ೀ==>3265 ು==>3266 ೂ==>3267 ೃ==>3268 ೄ==>3269 ೅==>3270 ೆ==>3271 ೇ==>3272 ೈ==>3273 ೉==>3274 ೊ==>3275 ೋ==>3276 ೌ==>3277 ್==>3278 ೎==>3279 ೏==>3280 ೐==>3281 ೑==>3282 ೒==>3283 ೓==>3284 ೔==>3285 ೕ==>3286 ೖ==>3287 ೗==>3288 ೘==>3289 ೙==>3290 ೚==>3291 ೛==>3292 ೜==>3293 ೝ==>3294 ೞ==>3295 ೟==>3296 ೠ==>3297 ೡ==>3298 ೢ==>3299 ೣ==>3300 ೤==>3301 ೥==>3302 ೦==>3303 ೧==>3304 ೨==>3305 ೩==>3306 ೪==>3307 ೫==>3308 ೬==>3309 ೭==>3310 ೮==>3311 ೯==>3312 ೰==>3313 ೱ==>3314 ೲ==>3315 ೳ==>3316 ೴==>3317 ೵==>3318 ೶==>3319 ೷==>3320 ೸==>3321 ೹==>3322 ೺==>3323 ೻==>3324 ೼==>3325 ೽==>3326 ೾==>3327 ೿==>3328 ഀ==>3329 ഁ==>3330 ം==>3331 ഃ==>3332 ഄ==>3333 അ==>3334 ആ==>3335 ഇ==>3336 ഈ==>3337 ഉ==>3338 ഊ==>3339 ഋ==>3340 ഌ==>3341 ഍==>3342 എ==>3343 ഏ==>3344 ഐ==>3345 ഑==>3346 ഒ==>3347 ഓ==>3348 ഔ==>3349 ക==>3350 ഖ==>3351 ഗ==>3352 ഘ==>3353 ങ==>3354 ച==>3355 ഛ==>3356 ജ==>3357 ഝ==>3358 ഞ==>3359 ട==>3360 ഠ==>3361 ഡ==>3362 ഢ==>3363 ണ==>3364 ത==>3365 ഥ==>3366 ദ==>3367 ധ==>3368 ന==>3369 ഩ==>3370 പ==>3371 ഫ==>3372 ബ==>3373 ഭ==>3374 മ==>3375 യ==>3376 ര==>3377 റ==>3378 ല==>3379 ള==>3380 ഴ==>3381 വ==>3382 ശ==>3383 ഷ==>3384 സ==>3385 ഹ==>3386 ഺ==>3387 ഻==>3388 ഼==>3389 ഽ==>3390 ാ==>3391 ി==>3392 ീ==>3393 ു==>3394 ൂ==>3395 ൃ==>3396 ൄ==>3397 ൅==>3398 െ==>3399 േ==>3400 ൈ==>3401 ൉==>3402 ൊ==>3403 ോ==>3404 ൌ==>3405 ്==>3406 ൎ==>3407 ൏==>3408 ൐==>3409 ൑==>3410 ൒==>3411 ൓==>3412 ൔ==>3413 ൕ==>3414 ൖ==>3415 ൗ==>3416 ൘==>3417 ൙==>3418 ൚==>3419 ൛==>3420 ൜==>3421 ൝==>3422 ൞==>3423 ൟ==>3424 ൠ==>3425 ൡ==>3426 ൢ==>3427 ൣ==>3428 ൤==>3429 ൥==>3430 ൦==>3431 ൧==>3432 ൨==>3433 ൩==>3434 ൪==>3435 ൫==>3436 ൬==>3437 ൭==>3438 ൮==>3439 ൯==>3440 ൰==>3441 ൱==>3442 ൲==>3443 ൳==>3444 ൴==>3445 ൵==>3446 ൶==>3447 ൷==>3448 ൸==>3449 ൹==>3450 ൺ==>3451 ൻ==>3452 ർ==>3453 ൽ==>3454 ൾ==>3455 ൿ==>3456 ඀==>3457 ඁ==>3458 ං==>3459 ඃ==>3460 ඄==>3461 අ==>3462 ආ==>3463 ඇ==>3464 ඈ==>3465 ඉ==>3466 ඊ==>3467 උ==>3468 ඌ==>3469 ඍ==>3470 ඎ==>3471 ඏ==>3472 ඐ==>3473 එ==>3474 ඒ==>3475 ඓ==>3476 ඔ==>3477 ඕ==>3478 ඖ==>3479 ඗==>3480 ඘==>3481 ඙==>3482 ක==>3483 ඛ==>3484 ග==>3485 ඝ==>3486 ඞ==>3487 ඟ==>3488 ච==>3489 ඡ==>3490 ජ==>3491 ඣ==>3492 ඤ==>3493 ඥ==>3494 ඦ==>3495 ට==>3496 ඨ==>3497 ඩ==>3498 ඪ==>3499 ණ==>3500 ඬ==>3501 ත==>3502 ථ==>3503 ද==>3504 ධ==>3505 න==>3506 ඲==>3507 ඳ==>3508 ප==>3509 ඵ==>3510 බ==>3511 භ==>3512 ම==>3513 ඹ==>3514 ය==>3515 ර==>3516 ඼==>3517 ල==>3518 ඾==>3519 ඿==>3520 ව==>3521 ශ==>3522 ෂ==>3523 ස==>3524 හ==>3525 ළ==>3526 ෆ==>3527 ෇==>3528 ෈==>3529 ෉==>3530 ්==>3531 ෋==>3532 ෌==>3533 ෍==>3534 ෎==>3535 ා==>3536 ැ==>3537 ෑ==>3538 ි==>3539 ී==>3540 ු==>3541 ෕==>3542 ූ==>3543 ෗==>3544 ෘ==>3545 ෙ==>3546 ේ==>3547 ෛ==>3548 ො==>3549 ෝ==>3550 ෞ==>3551 ෟ==>3552 ෠==>3553 ෡==>3554 ෢==>3555 ෣==>3556 ෤==>3557 ෥==>3558 ෦==>3559 ෧==>3560 ෨==>3561 ෩==>3562 ෪==>3563 ෫==>3564 ෬==>3565 ෭==>3566 ෮==>3567 ෯==>3568 ෰==>3569 ෱==>3570 ෲ==>3571 ෳ==>3572 ෴==>3573 ෵==>3574 ෶==>3575 ෷==>3576 ෸==>3577 ෹==>3578 ෺==>3579 ෻==>3580 ෼==>3581 ෽==>3582 ෾==>3583 ෿==>3584 ฀==>3585 ก==>3586 ข==>3587 ฃ==>3588 ค==>3589 ฅ==>3590 ฆ==>3591 ง==>3592 จ==>3593 ฉ==>3594 ช==>3595 ซ==>3596 ฌ==>3597 ญ==>3598 ฎ==>3599 ฏ==>3600 ฐ==>3601 ฑ==>3602 ฒ==>3603 ณ==>3604 ด==>3605 ต==>3606 ถ==>3607 ท==>3608 ธ==>3609 น==>3610 บ==>3611 ป==>3612 ผ==>3613 ฝ==>3614 พ==>3615 ฟ==>3616 ภ==>3617 ม==>3618 ย==>3619 ร==>3620 ฤ==>3621 ล==>3622 ฦ==>3623 ว==>3624 ศ==>3625 ษ==>3626 ส==>3627 ห==>3628 ฬ==>3629 อ==>3630 ฮ==>3631 ฯ==>3632 ะ==>3633 ั==>3634 า==>3635 ำ==>3636 ิ==>3637 ี==>3638 ึ==>3639 ื==>3640 ุ==>3641 ู==>3642 ฺ==>3643 ฻==>3644 ฼==>3645 ฽==>3646 ฾==>3647 ฿==>3648 เ==>3649 แ==>3650 โ==>3651 ใ==>3652 ไ==>3653 ๅ==>3654 ๆ==>3655 ็==>3656 ่==>3657 ้==>3658 ๊==>3659 ๋==>3660 ์==>3661 ํ==>3662 ๎==>3663 ๏==>3664 ๐==>3665 ๑==>3666 ๒==>3667 ๓==>3668 ๔==>3669 ๕==>3670 ๖==>3671 ๗==>3672 ๘==>3673 ๙==>3674 ๚==>3675 ๛==>3676 ๜==>3677 ๝==>3678 ๞==>3679 ๟==>3680 ๠==>3681 ๡==>3682 ๢==>3683 ๣==>3684 ๤==>3685 ๥==>3686 ๦==>3687 ๧==>3688 ๨==>3689 ๩==>3690 ๪==>3691 ๫==>3692 ๬==>3693 ๭==>3694 ๮==>3695 ๯==>3696 ๰==>3697 ๱==>3698 ๲==>3699 ๳==>3700 ๴==>3701 ๵==>3702 ๶==>3703 ๷==>3704 ๸==>3705 ๹==>3706 ๺==>3707 ๻==>3708 ๼==>3709 ๽==>3710 ๾==>3711 ๿==>3712 ຀==>3713 ກ==>3714 ຂ==>3715 ຃==>3716 ຄ==>3717 ຅==>3718 ຆ==>3719 ງ==>3720 ຈ==>3721 ຉ==>3722 ຊ==>3723 ຋==>3724 ຌ==>3725 ຍ==>3726 ຎ==>3727 ຏ==>3728 ຐ==>3729 ຑ==>3730 ຒ==>3731 ຓ==>3732 ດ==>3733 ຕ==>3734 ຖ==>3735 ທ==>3736 ຘ==>3737 ນ==>3738 ບ==>3739 ປ==>3740 ຜ==>3741 ຝ==>3742 ພ==>3743 ຟ==>3744 ຠ==>3745 ມ==>3746 ຢ==>3747 ຣ==>3748 ຤==>3749 ລ==>3750 ຦==>3751 ວ==>3752 ຨ==>3753 ຩ==>3754 ສ==>3755 ຫ==>3756 ຬ==>3757 ອ==>3758 ຮ==>3759 ຯ==>3760 ະ==>3761 ັ==>3762 າ==>3763 ຳ==>3764 ິ==>3765 ີ==>3766 ຶ==>3767 ື==>3768 ຸ==>3769 ູ==>3770 ຺==>3771 ົ==>3772 ຼ==>3773 ຽ==>3774 ຾==>3775 ຿==>3776 ເ==>3777 ແ==>3778 ໂ==>3779 ໃ==>3780 ໄ==>3781 ໅==>3782 ໆ==>3783 ໇==>3784 ່==>3785 ້==>3786 ໊==>3787 ໋==>3788 ໌==>3789 ໍ==>3790 ໎==>3791 ໏==>3792 ໐==>3793 ໑==>3794 ໒==>3795 ໓==>3796 ໔==>3797 ໕==>3798 ໖==>3799 ໗==>3800 ໘==>3801 ໙==>3802 ໚==>3803 ໛==>3804 ໜ==>3805 ໝ==>3806 ໞ==>3807 ໟ==>3808 ໠==>3809 ໡==>3810 ໢==>3811 ໣==>3812 ໤==>3813 ໥==>3814 ໦==>3815 ໧==>3816 ໨==>3817 ໩==>3818 ໪==>3819 ໫==>3820 ໬==>3821 ໭==>3822 ໮==>3823 ໯==>3824 ໰==>3825 ໱==>3826 ໲==>3827 ໳==>3828 ໴==>3829 ໵==>3830 ໶==>3831 ໷==>3832 ໸==>3833 ໹==>3834 ໺==>3835 ໻==>3836 ໼==>3837 ໽==>3838 ໾==>3839 ໿==>3840 ༀ==>3841 ༁==>3842 ༂==>3843 ༃==>3844 ༄==>3845 ༅==>3846 ༆==>3847 ༇==>3848 ༈==>3849 ༉==>3850 ༊==>3851 ་==>3852 ༌==>3853 །==>3854 ༎==>3855 ༏==>3856 ༐==>3857 ༑==>3858 ༒==>3859 ༓==>3860 ༔==>3861 ༕==>3862 ༖==>3863 ༗==>3864 ༘==>3865 ༙==>3866 ༚==>3867 ༛==>3868 ༜==>3869 ༝==>3870 ༞==>3871 ༟==>3872 ༠==>3873 ༡==>3874 ༢==>3875 ༣==>3876 ༤==>3877 ༥==>3878 ༦==>3879 ༧==>3880 ༨==>3881 ༩==>3882 ༪==>3883 ༫==>3884 ༬==>3885 ༭==>3886 ༮==>3887 ༯==>3888 ༰==>3889 ༱==>3890 ༲==>3891 ༳==>3892 ༴==>3893 ༵==>3894 ༶==>3895 ༷==>3896 ༸==>3897 ༹==>3898 ༺==>3899 ༻==>3900 ༼==>3901 ༽==>3902 ༾==>3903 ༿==>3904 ཀ==>3905 ཁ==>3906 ག==>3907 གྷ==>3908 ང==>3909 ཅ==>3910 ཆ==>3911 ཇ==>3912 ཈==>3913 ཉ==>3914 ཊ==>3915 ཋ==>3916 ཌ==>3917 ཌྷ==>3918 ཎ==>3919 ཏ==>3920 ཐ==>3921 ད==>3922 དྷ==>3923 ན==>3924 པ==>3925 ཕ==>3926 བ==>3927 བྷ==>3928 མ==>3929 ཙ==>3930 ཚ==>3931 ཛ==>3932 ཛྷ==>3933 ཝ==>3934 ཞ==>3935 ཟ==>3936 འ==>3937 ཡ==>3938 ར==>3939 ལ==>3940 ཤ==>3941 ཥ==>3942 ས==>3943 ཧ==>3944 ཨ==>3945 ཀྵ==>3946 ཪ==>3947 ཫ==>3948 ཬ==>3949 ཭==>3950 ཮==>3951 ཯==>3952 ཰==>3953 ཱ==>3954 ི==>3955 ཱི==>3956 ུ==>3957 ཱུ==>3958 ྲྀ==>3959 ཷ==>3960 ླྀ==>3961 ཹ==>3962 ེ==>3963 ཻ==>3964 ོ==>3965 ཽ==>3966 ཾ==>3967 ཿ==>3968 ྀ==>3969 ཱྀ==>3970 ྂ==>3971 ྃ==>3972 ྄==>3973 ྅==>3974 ྆==>3975 ྇==>3976 ྈ==>3977 ྉ==>3978 ྊ==>3979 ྋ==>3980 ྌ==>3981 ྍ==>3982 ྎ==>3983 ྏ==>3984 ྐ==>3985 ྑ==>3986 ྒ==>3987 ྒྷ==>3988 ྔ==>3989 ྕ==>3990 ྖ==>3991 ྗ==>3992 ྘==>3993 ྙ==>3994 ྚ==>3995 ྛ==>3996 ྜ==>3997 ྜྷ==>3998 ྞ==>3999 ྟ==>4000 ྠ==>4001 ྡ==>4002 ྡྷ==>4003 ྣ==>4004 ྤ==>4005 ྥ==>4006 ྦ==>4007 ྦྷ==>4008 ྨ==>4009 ྩ==>4010 ྪ==>4011 ྫ==>4012 ྫྷ==>4013 ྭ==>4014 ྮ==>4015 ྯ==>4016 ྰ==>4017 ྱ==>4018 ྲ==>4019 ླ==>4020 ྴ==>4021 ྵ==>4022 ྶ==>4023 ྷ==>4024 ྸ==>4025 ྐྵ==>4026 ྺ==>4027 ྻ==>4028 ྼ==>4029 ྽==>4030 ྾==>4031 ྿==>4032 ࿀==>4033 ࿁==>4034 ࿂==>4035 ࿃==>4036 ࿄==>4037 ࿅==>4038 ࿆==>4039 ࿇==>4040 ࿈==>4041 ࿉==>4042 ࿊==>4043 ࿋==>4044 ࿌==>4045 ࿍==>4046 ࿎==>4047 ࿏==>4048 ࿐==>4049 ࿑==>4050 ࿒==>4051 ࿓==>4052 ࿔==>4053 ࿕==>4054 ࿖==>4055 ࿗==>4056 ࿘==>4057 ࿙==>4058 ࿚==>4059 ࿛==>4060 ࿜==>4061 ࿝==>4062 ࿞==>4063 ࿟==>4064 ࿠==>4065 ࿡==>4066 ࿢==>4067 ࿣==>4068 ࿤==>4069 ࿥==>4070 ࿦==>4071 ࿧==>4072 ࿨==>4073 ࿩==>4074 ࿪==>4075 ࿫==>4076 ࿬==>4077 ࿭==>4078 ࿮==>4079 ࿯==>4080 ࿰==>4081 ࿱==>4082 ࿲==>4083 ࿳==>4084 ࿴==>4085 ࿵==>4086 ࿶==>4087 ࿷==>4088 ࿸==>4089 ࿹==>4090 ࿺==>4091 ࿻==>4092 ࿼==>4093 ࿽==>4094 ࿾==>4095 ࿿==>4096 က==>4097 ခ==>4098 ဂ==>4099 ဃ==>4100 င==>4101 စ==>4102 ဆ==>4103 ဇ==>4104 ဈ==>4105 ဉ==>4106 ည==>4107 ဋ==>4108 ဌ==>4109 ဍ==>4110 ဎ==>4111 ဏ==>4112 တ==>4113 ထ==>4114 ဒ==>4115 ဓ==>4116 န==>4117 ပ==>4118 ဖ==>4119 ဗ==>4120 ဘ==>4121 မ==>4122 ယ==>4123 ရ==>4124 လ==>4125 ဝ==>4126 သ==>4127 ဟ==>4128 ဠ==>4129 အ==>4130 ဢ==>4131 ဣ==>4132 ဤ==>4133 ဥ==>4134 ဦ==>4135 ဧ==>4136 ဨ==>4137 ဩ==>4138 ဪ==>4139 ါ==>4140 ာ==>4141 ိ==>4142 ီ==>4143 ု==>4144 ူ==>4145 ေ==>4146 ဲ==>4147 ဳ==>4148 ဴ==>4149 ဵ==>4150 ံ==>4151 ့==>4152 း==>4153 ္==>4154 ်==>4155 ျ==>4156 ြ==>4157 ွ==>4158 ှ==>4159 ဿ==>4160 ၀==>4161 ၁==>4162 ၂==>4163 ၃==>4164 ၄==>4165 ၅==>4166 ၆==>4167 ၇==>4168 ၈==>4169 ၉==>4170 ၊==>4171 ။==>4172 ၌==>4173 ၍==>4174 ၎==>4175 ၏==>4176 ၐ==>4177 ၑ==>4178 ၒ==>4179 ၓ==>4180 ၔ==>4181 ၕ==>4182 ၖ==>4183 ၗ==>4184 ၘ==>4185 ၙ==>4186 ၚ==>4187 ၛ==>4188 ၜ==>4189 ၝ==>4190 ၞ==>4191 ၟ==>4192 ၠ==>4193 ၡ==>4194 ၢ==>4195 ၣ==>4196 ၤ==>4197 ၥ==>4198 ၦ==>4199 ၧ==>4200 ၨ==>4201 ၩ==>4202 ၪ==>4203 ၫ==>4204 ၬ==>4205 ၭ==>4206 ၮ==>4207 ၯ==>4208 ၰ==>4209 ၱ==>4210 ၲ==>4211 ၳ==>4212 ၴ==>4213 ၵ==>4214 ၶ==>4215 ၷ==>4216 ၸ==>4217 ၹ==>4218 ၺ==>4219 ၻ==>4220 ၼ==>4221 ၽ==>4222 ၾ==>4223 ၿ==>4224 ႀ==>4225 ႁ==>4226 ႂ==>4227 ႃ==>4228 ႄ==>4229 ႅ==>4230 ႆ==>4231 ႇ==>4232 ႈ==>4233 ႉ==>4234 ႊ==>4235 ႋ==>4236 ႌ==>4237 ႍ==>4238 ႎ==>4239 ႏ==>4240 ႐==>4241 ႑==>4242 ႒==>4243 ႓==>4244 ႔==>4245 ႕==>4246 ႖==>4247 ႗==>4248 ႘==>4249 ႙==>4250 ႚ==>4251 ႛ==>4252 ႜ==>4253 ႝ==>4254 ႞==>4255 ႟==>4256 Ⴀ==>4257 Ⴁ==>4258 Ⴂ==>4259 Ⴃ==>4260 Ⴄ==>4261 Ⴅ==>4262 Ⴆ==>4263 Ⴇ==>4264 Ⴈ==>4265 Ⴉ==>4266 Ⴊ==>4267 Ⴋ==>4268 Ⴌ==>4269 Ⴍ==>4270 Ⴎ==>4271 Ⴏ==>4272 Ⴐ==>4273 Ⴑ==>4274 Ⴒ==>4275 Ⴓ==>4276 Ⴔ==>4277 Ⴕ==>4278 Ⴖ==>4279 Ⴗ==>4280 Ⴘ==>4281 Ⴙ==>4282 Ⴚ==>4283 Ⴛ==>4284 Ⴜ==>4285 Ⴝ==>4286 Ⴞ==>4287 Ⴟ==>4288 Ⴠ==>4289 Ⴡ==>4290 Ⴢ==>4291 Ⴣ==>4292 Ⴤ==>4293 Ⴥ==>4294 ჆==>4295 Ⴧ==>4296 ჈==>4297 ჉==>4298 ჊==>4299 ჋==>4300 ჌==>4301 Ⴭ==>4302 ჎==>4303 ჏==>4304 ა==>4305 ბ==>4306 გ==>4307 დ==>4308 ე==>4309 ვ==>4310 ზ==>4311 თ==>4312 ი==>4313 კ==>4314 ლ==>4315 მ==>4316 ნ==>4317 ო==>4318 პ==>4319 ჟ==>4320 რ==>4321 ს==>4322 ტ==>4323 უ==>4324 ფ==>4325 ქ==>4326 ღ==>4327 ყ==>4328 შ==>4329 ჩ==>4330 ც==>4331 ძ==>4332 წ==>4333 ჭ==>4334 ხ==>4335 ჯ==>4336 ჰ==>4337 ჱ==>4338 ჲ==>4339 ჳ==>4340 ჴ==>4341 ჵ==>4342 ჶ==>4343 ჷ==>4344 ჸ==>4345 ჹ==>4346 ჺ==>4347 ჻==>4348 ჼ==>4349 ჽ==>4350 ჾ==>4351 ჿ==>4352 ᄀ==>4353 ᄁ==>4354 ᄂ==>4355 ᄃ==>4356 ᄄ==>4357 ᄅ==>4358 ᄆ==>4359 ᄇ==>4360 ᄈ==>4361 ᄉ==>4362 ᄊ==>4363 ᄋ==>4364 ᄌ==>4365 ᄍ==>4366 ᄎ==>4367 ᄏ==>4368 ᄐ==>4369 ᄑ==>4370 ᄒ==>4371 ᄓ==>4372 ᄔ==>4373 ᄕ==>4374 ᄖ==>4375 ᄗ==>4376 ᄘ==>4377 ᄙ==>4378 ᄚ==>4379 ᄛ==>4380 ᄜ==>4381 ᄝ==>4382 ᄞ==>4383 ᄟ==>4384 ᄠ==>4385 ᄡ==>4386 ᄢ==>4387 ᄣ==>4388 ᄤ==>4389 ᄥ==>4390 ᄦ==>4391 ᄧ==>4392 ᄨ==>4393 ᄩ==>4394 ᄪ==>4395 ᄫ==>4396 ᄬ==>4397 ᄭ==>4398 ᄮ==>4399 ᄯ==>4400 ᄰ==>4401 ᄱ==>4402 ᄲ==>4403 ᄳ==>4404 ᄴ==>4405 ᄵ==>4406 ᄶ==>4407 ᄷ==>4408 ᄸ==>4409 ᄹ==>4410 ᄺ==>4411 ᄻ==>4412 ᄼ==>4413 ᄽ==>4414 ᄾ==>4415 ᄿ==>4416 ᅀ==>4417 ᅁ==>4418 ᅂ==>4419 ᅃ==>4420 ᅄ==>4421 ᅅ==>4422 ᅆ==>4423 ᅇ==>4424 ᅈ==>4425 ᅉ==>4426 ᅊ==>4427 ᅋ==>4428 ᅌ==>4429 ᅍ==>4430 ᅎ==>4431 ᅏ==>4432 ᅐ==>4433 ᅑ==>4434 ᅒ==>4435 ᅓ==>4436 ᅔ==>4437 ᅕ==>4438 ᅖ==>4439 ᅗ==>4440 ᅘ==>4441 ᅙ==>4442 ᅚ==>4443 ᅛ==>4444 ᅜ==>4445 ᅝ==>4446 ᅞ==>4447 ᅟ==>4448 ᅠ==>4449 ᅡ==>4450 ᅢ==>4451 ᅣ==>4452 ᅤ==>4453 ᅥ==>4454 ᅦ==>4455 ᅧ==>4456 ᅨ==>4457 ᅩ==>4458 ᅪ==>4459 ᅫ==>4460 ᅬ==>4461 ᅭ==>4462 ᅮ==>4463 ᅯ==>4464 ᅰ==>4465 ᅱ==>4466 ᅲ==>4467 ᅳ==>4468 ᅴ==>4469 ᅵ==>4470 ᅶ==>4471 ᅷ==>4472 ᅸ==>4473 ᅹ==>4474 ᅺ==>4475 ᅻ==>4476 ᅼ==>4477 ᅽ==>4478 ᅾ==>4479 ᅿ==>4480 ᆀ==>4481 ᆁ==>4482 ᆂ==>4483 ᆃ==>4484 ᆄ==>4485 ᆅ==>4486 ᆆ==>4487 ᆇ==>4488 ᆈ==>4489 ᆉ==>4490 ᆊ==>4491 ᆋ==>4492 ᆌ==>4493 ᆍ==>4494 ᆎ==>4495 ᆏ==>4496 ᆐ==>4497 ᆑ==>4498 ᆒ==>4499 ᆓ==>4500 ᆔ==>4501 ᆕ==>4502 ᆖ==>4503 ᆗ==>4504 ᆘ==>4505 ᆙ==>4506 ᆚ==>4507 ᆛ==>4508 ᆜ==>4509 ᆝ==>4510 ᆞ==>4511 ᆟ==>4512 ᆠ==>4513 ᆡ==>4514 ᆢ==>4515 ᆣ==>4516 ᆤ==>4517 ᆥ==>4518 ᆦ==>4519 ᆧ==>4520 ᆨ==>4521 ᆩ==>4522 ᆪ==>4523 ᆫ==>4524 ᆬ==>4525 ᆭ==>4526 ᆮ==>4527 ᆯ==>4528 ᆰ==>4529 ᆱ==>4530 ᆲ==>4531 ᆳ==>4532 ᆴ==>4533 ᆵ==>4534 ᆶ==>4535 ᆷ==>4536 ᆸ==>4537 ᆹ==>4538 ᆺ==>4539 ᆻ==>4540 ᆼ==>4541 ᆽ==>4542 ᆾ==>4543 ᆿ==>4544 ᇀ==>4545 ᇁ==>4546 ᇂ==>4547 ᇃ==>4548 ᇄ==>4549 ᇅ==>4550 ᇆ==>4551 ᇇ==>4552 ᇈ==>4553 ᇉ==>4554 ᇊ==>4555 ᇋ==>4556 ᇌ==>4557 ᇍ==>4558 ᇎ==>4559 ᇏ==>4560 ᇐ==>4561 ᇑ==>4562 ᇒ==>4563 ᇓ==>4564 ᇔ==>4565 ᇕ==>4566 ᇖ==>4567 ᇗ==>4568 ᇘ==>4569 ᇙ==>4570 ᇚ==>4571 ᇛ==>4572 ᇜ==>4573 ᇝ==>4574 ᇞ==>4575 ᇟ==>4576 ᇠ==>4577 ᇡ==>4578 ᇢ==>4579 ᇣ==>4580 ᇤ==>4581 ᇥ==>4582 ᇦ==>4583 ᇧ==>4584 ᇨ==>4585 ᇩ==>4586 ᇪ==>4587 ᇫ==>4588 ᇬ==>4589 ᇭ==>4590 ᇮ==>4591 ᇯ==>4592 ᇰ==>4593 ᇱ==>4594 ᇲ==>4595 ᇳ==>4596 ᇴ==>4597 ᇵ==>4598 ᇶ==>4599 ᇷ==>4600 ᇸ==>4601 ᇹ==>4602 ᇺ==>4603 ᇻ==>4604 ᇼ==>4605 ᇽ==>4606 ᇾ==>4607 ᇿ==>4608 ሀ==>4609 ሁ==>4610 ሂ==>4611 ሃ==>4612 ሄ==>4613 ህ==>4614 ሆ==>4615 ሇ==>4616 ለ==>4617 ሉ==>4618 ሊ==>4619 ላ==>4620 ሌ==>4621 ል==>4622 ሎ==>4623 ሏ==>4624 ሐ==>4625 ሑ==>4626 ሒ==>4627 ሓ==>4628 ሔ==>4629 ሕ==>4630 ሖ==>4631 ሗ==>4632 መ==>4633 ሙ==>4634 ሚ==>4635 ማ==>4636 ሜ==>4637 ም==>4638 ሞ==>4639 ሟ==>4640 ሠ==>4641 ሡ==>4642 ሢ==>4643 ሣ==>4644 ሤ==>4645 ሥ==>4646 ሦ==>4647 ሧ==>4648 ረ==>4649 ሩ==>4650 ሪ==>4651 ራ==>4652 ሬ==>4653 ር==>4654 ሮ==>4655 ሯ==>4656 ሰ==>4657 ሱ==>4658 ሲ==>4659 ሳ==>4660 ሴ==>4661 ስ==>4662 ሶ==>4663 ሷ==>4664 ሸ==>4665 ሹ==>4666 ሺ==>4667 ሻ==>4668 ሼ==>4669 ሽ==>4670 ሾ==>4671 ሿ==>4672 ቀ==>4673 ቁ==>4674 ቂ==>4675 ቃ==>4676 ቄ==>4677 ቅ==>4678 ቆ==>4679 ቇ==>4680 ቈ==>4681 ቉==>4682 ቊ==>4683 ቋ==>4684 ቌ==>4685 ቍ==>4686 ቎==>4687 ቏==>4688 ቐ==>4689 ቑ==>4690 ቒ==>4691 ቓ==>4692 ቔ==>4693 ቕ==>4694 ቖ==>4695 ቗==>4696 ቘ==>4697 ቙==>4698 ቚ==>4699 ቛ==>4700 ቜ==>4701 ቝ==>4702 ቞==>4703 ቟==>4704 በ==>4705 ቡ==>4706 ቢ==>4707 ባ==>4708 ቤ==>4709 ብ==>4710 ቦ==>4711 ቧ==>4712 ቨ==>4713 ቩ==>4714 ቪ==>4715 ቫ==>4716 ቬ==>4717 ቭ==>4718 ቮ==>4719 ቯ==>4720 ተ==>4721 ቱ==>4722 ቲ==>4723 ታ==>4724 ቴ==>4725 ት==>4726 ቶ==>4727 ቷ==>4728 ቸ==>4729 ቹ==>4730 ቺ==>4731 ቻ==>4732 ቼ==>4733 ች==>4734 ቾ==>4735 ቿ==>4736 ኀ==>4737 ኁ==>4738 ኂ==>4739 ኃ==>4740 ኄ==>4741 ኅ==>4742 ኆ==>4743 ኇ==>4744 ኈ==>4745 ኉==>4746 ኊ==>4747 ኋ==>4748 ኌ==>4749 ኍ==>4750 ኎==>4751 ኏==>4752 ነ==>4753 ኑ==>4754 ኒ==>4755 ና==>4756 ኔ==>4757 ን==>4758 ኖ==>4759 ኗ==>4760 ኘ==>4761 ኙ==>4762 ኚ==>4763 ኛ==>4764 ኜ==>4765 ኝ==>4766 ኞ==>4767 ኟ==>4768 አ==>4769 ኡ==>4770 ኢ==>4771 ኣ==>4772 ኤ==>4773 እ==>4774 ኦ==>4775 ኧ==>4776 ከ==>4777 ኩ==>4778 ኪ==>4779 ካ==>4780 ኬ==>4781 ክ==>4782 ኮ==>4783 ኯ==>4784 ኰ==>4785 ኱==>4786 ኲ==>4787 ኳ==>4788 ኴ==>4789 ኵ==>4790 ኶==>4791 ኷==>4792 ኸ==>4793 ኹ==>4794 ኺ==>4795 ኻ==>4796 ኼ==>4797 ኽ==>4798 ኾ==>4799 ኿==>4800 ዀ==>4801 ዁==>4802 ዂ==>4803 ዃ==>4804 ዄ==>4805 ዅ==>4806 ዆==>4807 ዇==>4808 ወ==>4809 ዉ==>4810 ዊ==>4811 ዋ==>4812 ዌ==>4813 ው==>4814 ዎ==>4815 ዏ==>4816 ዐ==>4817 ዑ==>4818 ዒ==>4819 ዓ==>4820 ዔ==>4821 ዕ==>4822 ዖ==>4823 ዗==>4824 ዘ==>4825 ዙ==>4826 ዚ==>4827 ዛ==>4828 ዜ==>4829 ዝ==>4830 ዞ==>4831 ዟ==>4832 ዠ==>4833 ዡ==>4834 ዢ==>4835 ዣ==>4836 ዤ==>4837 ዥ==>4838 ዦ==>4839 ዧ==>4840 የ==>4841 ዩ==>4842 ዪ==>4843 ያ==>4844 ዬ==>4845 ይ==>4846 ዮ==>4847 ዯ==>4848 ደ==>4849 ዱ==>4850 ዲ==>4851 ዳ==>4852 ዴ==>4853 ድ==>4854 ዶ==>4855 ዷ==>4856 ዸ==>4857 ዹ==>4858 ዺ==>4859 ዻ==>4860 ዼ==>4861 ዽ==>4862 ዾ==>4863 ዿ==>4864 ጀ==>4865 ጁ==>4866 ጂ==>4867 ጃ==>4868 ጄ==>4869 ጅ==>4870 ጆ==>4871 ጇ==>4872 ገ==>4873 ጉ==>4874 ጊ==>4875 ጋ==>4876 ጌ==>4877 ግ==>4878 ጎ==>4879 ጏ==>4880 ጐ==>4881 ጑==>4882 ጒ==>4883 ጓ==>4884 ጔ==>4885 ጕ==>4886 ጖==>4887 ጗==>4888 ጘ==>4889 ጙ==>4890 ጚ==>4891 ጛ==>4892 ጜ==>4893 ጝ==>4894 ጞ==>4895 ጟ==>4896 ጠ==>4897 ጡ==>4898 ጢ==>4899 ጣ==>4900 ጤ==>4901 ጥ==>4902 ጦ==>4903 ጧ==>4904 ጨ==>4905 ጩ==>4906 ጪ==>4907 ጫ==>4908 ጬ==>4909 ጭ==>4910 ጮ==>4911 ጯ==>4912 ጰ==>4913 ጱ==>4914 ጲ==>4915 ጳ==>4916 ጴ==>4917 ጵ==>4918 ጶ==>4919 ጷ==>4920 ጸ==>4921 ጹ==>4922 ጺ==>4923 ጻ==>4924 ጼ==>4925 ጽ==>4926 ጾ==>4927 ጿ==>4928 ፀ==>4929 ፁ==>4930 ፂ==>4931 ፃ==>4932 ፄ==>4933 ፅ==>4934 ፆ==>4935 ፇ==>4936 ፈ==>4937 ፉ==>4938 ፊ==>4939 ፋ==>4940 ፌ==>4941 ፍ==>4942 ፎ==>4943 ፏ==>4944 ፐ==>4945 ፑ==>4946 ፒ==>4947 ፓ==>4948 ፔ==>4949 ፕ==>4950 ፖ==>4951 ፗ==>4952 ፘ==>4953 ፙ==>4954 ፚ==>4955 ፛==>4956 ፜==>4957 ፝==>4958 ፞==>4959 ፟==>4960 ፠==>4961 ፡==>4962 ።==>4963 ፣==>4964 ፤==>4965 ፥==>4966 ፦==>4967 ፧==>4968 ፨==>4969 ፩==>4970 ፪==>4971 ፫==>4972 ፬==>4973 ፭==>4974 ፮==>4975 ፯==>4976 ፰==>4977 ፱==>4978 ፲==>4979 ፳==>4980 ፴==>4981 ፵==>4982 ፶==>4983 ፷==>4984 ፸==>4985 ፹==>4986 ፺==>4987 ፻==>4988 ፼==>4989 ፽==>4990 ፾==>4991 ፿==>4992 ᎀ==>4993 ᎁ==>4994 ᎂ==>4995 ᎃ==>4996 ᎄ==>4997 ᎅ==>4998 ᎆ==>4999 ᎇ==>5000 ᎈ==>5001 ᎉ==>5002 ᎊ==>5003 ᎋ==>5004 ᎌ==>5005 ᎍ==>5006 ᎎ==>5007 ᎏ==>5008 ᎐==>5009 ᎑==>5010 ᎒==>5011 ᎓==>5012 ᎔==>5013 ᎕==>5014 ᎖==>5015 ᎗==>5016 ᎘==>5017 ᎙==>5018 ᎚==>5019 ᎛==>5020 ᎜==>5021 ᎝==>5022 ᎞==>5023 ᎟==>5024 Ꭰ==>5025 Ꭱ==>5026 Ꭲ==>5027 Ꭳ==>5028 Ꭴ==>5029 Ꭵ==>5030 Ꭶ==>5031 Ꭷ==>5032 Ꭸ==>5033 Ꭹ==>5034 Ꭺ==>5035 Ꭻ==>5036 Ꭼ==>5037 Ꭽ==>5038 Ꭾ==>5039 Ꭿ==>5040 Ꮀ==>5041 Ꮁ==>5042 Ꮂ==>5043 Ꮃ==>5044 Ꮄ==>5045 Ꮅ==>5046 Ꮆ==>5047 Ꮇ==>5048 Ꮈ==>5049 Ꮉ==>5050 Ꮊ==>5051 Ꮋ==>5052 Ꮌ==>5053 Ꮍ==>5054 Ꮎ==>5055 Ꮏ==>5056 Ꮐ==>5057 Ꮑ==>5058 Ꮒ==>5059 Ꮓ==>5060 Ꮔ==>5061 Ꮕ==>5062 Ꮖ==>5063 Ꮗ==>5064 Ꮘ==>5065 Ꮙ==>5066 Ꮚ==>5067 Ꮛ==>5068 Ꮜ==>5069 Ꮝ==>5070 Ꮞ==>5071 Ꮟ==>5072 Ꮠ==>5073 Ꮡ==>5074 Ꮢ==>5075 Ꮣ==>5076 Ꮤ==>5077 Ꮥ==>5078 Ꮦ==>5079 Ꮧ==>5080 Ꮨ==>5081 Ꮩ==>5082 Ꮪ==>5083 Ꮫ==>5084 Ꮬ==>5085 Ꮭ==>5086 Ꮮ==>5087 Ꮯ==>5088 Ꮰ==>5089 Ꮱ==>5090 Ꮲ==>5091 Ꮳ==>5092 Ꮴ==>5093 Ꮵ==>5094 Ꮶ==>5095 Ꮷ==>5096 Ꮸ==>5097 Ꮹ==>5098 Ꮺ==>5099 Ꮻ==>5100 Ꮼ==>5101 Ꮽ==>5102 Ꮾ==>5103 Ꮿ==>5104 Ᏸ==>5105 Ᏹ==>5106 Ᏺ==>5107 Ᏻ==>5108 Ᏼ==>5109 Ᏽ==>5110 ᏶==>5111 ᏷==>5112 ᏸ==>5113 ᏹ==>5114 ᏺ==>5115 ᏻ==>5116 ᏼ==>5117 ᏽ==>5118 ᏾==>5119 ᏿==>5120 ᐀==>5121 ᐁ==>5122 ᐂ==>5123 ᐃ==>5124 ᐄ==>5125 ᐅ==>5126 ᐆ==>5127 ᐇ==>5128 ᐈ==>5129 ᐉ==>5130 ᐊ==>5131 ᐋ==>5132 ᐌ==>5133 ᐍ==>5134 ᐎ==>5135 ᐏ==>5136 ᐐ==>5137 ᐑ==>5138 ᐒ==>5139 ᐓ==>5140 ᐔ==>5141 ᐕ==>5142 ᐖ==>5143 ᐗ==>5144 ᐘ==>5145 ᐙ==>5146 ᐚ==>5147 ᐛ==>5148 ᐜ==>5149 ᐝ==>5150 ᐞ==>5151 ᐟ==>5152 ᐠ==>5153 ᐡ==>5154 ᐢ==>5155 ᐣ==>5156 ᐤ==>5157 ᐥ==>5158 ᐦ==>5159 ᐧ==>5160 ᐨ==>5161 ᐩ==>5162 ᐪ==>5163 ᐫ==>5164 ᐬ==>5165 ᐭ==>5166 ᐮ==>5167 ᐯ==>5168 ᐰ==>5169 ᐱ==>5170 ᐲ==>5171 ᐳ==>5172 ᐴ==>5173 ᐵ==>5174 ᐶ==>5175 ᐷ==>5176 ᐸ==>5177 ᐹ==>5178 ᐺ==>5179 ᐻ==>5180 ᐼ==>5181 ᐽ==>5182 ᐾ==>5183 ᐿ==>5184 ᑀ==>5185 ᑁ==>5186 ᑂ==>5187 ᑃ==>5188 ᑄ==>5189 ᑅ==>5190 ᑆ==>5191 ᑇ==>5192 ᑈ==>5193 ᑉ==>5194 ᑊ==>5195 ᑋ==>5196 ᑌ==>5197 ᑍ==>5198 ᑎ==>5199 ᑏ==>5200 ᑐ==>5201 ᑑ==>5202 ᑒ==>5203 ᑓ==>5204 ᑔ==>5205 ᑕ==>5206 ᑖ==>5207 ᑗ==>5208 ᑘ==>5209 ᑙ==>5210 ᑚ==>5211 ᑛ==>5212 ᑜ==>5213 ᑝ==>5214 ᑞ==>5215 ᑟ==>5216 ᑠ==>5217 ᑡ==>5218 ᑢ==>5219 ᑣ==>5220 ᑤ==>5221 ᑥ==>5222 ᑦ==>5223 ᑧ==>5224 ᑨ==>5225 ᑩ==>5226 ᑪ==>5227 ᑫ==>5228 ᑬ==>5229 ᑭ==>5230 ᑮ==>5231 ᑯ==>5232 ᑰ==>5233 ᑱ==>5234 ᑲ==>5235 ᑳ==>5236 ᑴ==>5237 ᑵ==>5238 ᑶ==>5239 ᑷ==>5240 ᑸ==>5241 ᑹ==>5242 ᑺ==>5243 ᑻ==>5244 ᑼ==>5245 ᑽ==>5246 ᑾ==>5247 ᑿ==>5248 ᒀ==>5249 ᒁ==>5250 ᒂ==>5251 ᒃ==>5252 ᒄ==>5253 ᒅ==>5254 ᒆ==>5255 ᒇ==>5256 ᒈ==>5257 ᒉ==>5258 ᒊ==>5259 ᒋ==>5260 ᒌ==>5261 ᒍ==>5262 ᒎ==>5263 ᒏ==>5264 ᒐ==>5265 ᒑ==>5266 ᒒ==>5267 ᒓ==>5268 ᒔ==>5269 ᒕ==>5270 ᒖ==>5271 ᒗ==>5272 ᒘ==>5273 ᒙ==>5274 ᒚ==>5275 ᒛ==>5276 ᒜ==>5277 ᒝ==>5278 ᒞ==>5279 ᒟ==>5280 ᒠ==>5281 ᒡ==>5282 ᒢ==>5283 ᒣ==>5284 ᒤ==>5285 ᒥ==>5286 ᒦ==>5287 ᒧ==>5288 ᒨ==>5289 ᒩ==>5290 ᒪ==>5291 ᒫ==>5292 ᒬ==>5293 ᒭ==>5294 ᒮ==>5295 ᒯ==>5296 ᒰ==>5297 ᒱ==>5298 ᒲ==>5299 ᒳ==>5300 ᒴ==>5301 ᒵ==>5302 ᒶ==>5303 ᒷ==>5304 ᒸ==>5305 ᒹ==>5306 ᒺ==>5307 ᒻ==>5308 ᒼ==>5309 ᒽ==>5310 ᒾ==>5311 ᒿ==>5312 ᓀ==>5313 ᓁ==>5314 ᓂ==>5315 ᓃ==>5316 ᓄ==>5317 ᓅ==>5318 ᓆ==>5319 ᓇ==>5320 ᓈ==>5321 ᓉ==>5322 ᓊ==>5323 ᓋ==>5324 ᓌ==>5325 ᓍ==>5326 ᓎ==>5327 ᓏ==>5328 ᓐ==>5329 ᓑ==>5330 ᓒ==>5331 ᓓ==>5332 ᓔ==>5333 ᓕ==>5334 ᓖ==>5335 ᓗ==>5336 ᓘ==>5337 ᓙ==>5338 ᓚ==>5339 ᓛ==>5340 ᓜ==>5341 ᓝ==>5342 ᓞ==>5343 ᓟ==>5344 ᓠ==>5345 ᓡ==>5346 ᓢ==>5347 ᓣ==>5348 ᓤ==>5349 ᓥ==>5350 ᓦ==>5351 ᓧ==>5352 ᓨ==>5353 ᓩ==>5354 ᓪ==>5355 ᓫ==>5356 ᓬ==>5357 ᓭ==>5358 ᓮ==>5359 ᓯ==>5360 ᓰ==>5361 ᓱ==>5362 ᓲ==>5363 ᓳ==>5364 ᓴ==>5365 ᓵ==>5366 ᓶ==>5367 ᓷ==>5368 ᓸ==>5369 ᓹ==>5370 ᓺ==>5371 ᓻ==>5372 ᓼ==>5373 ᓽ==>5374 ᓾ==>5375 ᓿ==>5376 ᔀ==>5377 ᔁ==>5378 ᔂ==>5379 ᔃ==>5380 ᔄ==>5381 ᔅ==>5382 ᔆ==>5383 ᔇ==>5384 ᔈ==>5385 ᔉ==>5386 ᔊ==>5387 ᔋ==>5388 ᔌ==>5389 ᔍ==>5390 ᔎ==>5391 ᔏ==>5392 ᔐ==>5393 ᔑ==>5394 ᔒ==>5395 ᔓ==>5396 ᔔ==>5397 ᔕ==>5398 ᔖ==>5399 ᔗ==>5400 ᔘ==>5401 ᔙ==>5402 ᔚ==>5403 ᔛ==>5404 ᔜ==>5405 ᔝ==>5406 ᔞ==>5407 ᔟ==>5408 ᔠ==>5409 ᔡ==>5410 ᔢ==>5411 ᔣ==>5412 ᔤ==>5413 ᔥ==>5414 ᔦ==>5415 ᔧ==>5416 ᔨ==>5417 ᔩ==>5418 ᔪ==>5419 ᔫ==>5420 ᔬ==>5421 ᔭ==>5422 ᔮ==>5423 ᔯ==>5424 ᔰ==>5425 ᔱ==>5426 ᔲ==>5427 ᔳ==>5428 ᔴ==>5429 ᔵ==>5430 ᔶ==>5431 ᔷ==>5432 ᔸ==>5433 ᔹ==>5434 ᔺ==>5435 ᔻ==>5436 ᔼ==>5437 ᔽ==>5438 ᔾ==>5439 ᔿ==>5440 ᕀ==>5441 ᕁ==>5442 ᕂ==>5443 ᕃ==>5444 ᕄ==>5445 ᕅ==>5446 ᕆ==>5447 ᕇ==>5448 ᕈ==>5449 ᕉ==>5450 ᕊ==>5451 ᕋ==>5452 ᕌ==>5453 ᕍ==>5454 ᕎ==>5455 ᕏ==>5456 ᕐ==>5457 ᕑ==>5458 ᕒ==>5459 ᕓ==>5460 ᕔ==>5461 ᕕ==>5462 ᕖ==>5463 ᕗ==>5464 ᕘ==>5465 ᕙ==>5466 ᕚ==>5467 ᕛ==>5468 ᕜ==>5469 ᕝ==>5470 ᕞ==>5471 ᕟ==>5472 ᕠ==>5473 ᕡ==>5474 ᕢ==>5475 ᕣ==>5476 ᕤ==>5477 ᕥ==>5478 ᕦ==>5479 ᕧ==>5480 ᕨ==>5481 ᕩ==>5482 ᕪ==>5483 ᕫ==>5484 ᕬ==>5485 ᕭ==>5486 ᕮ==>5487 ᕯ==>5488 ᕰ==>5489 ᕱ==>5490 ᕲ==>5491 ᕳ==>5492 ᕴ==>5493 ᕵ==>5494 ᕶ==>5495 ᕷ==>5496 ᕸ==>5497 ᕹ==>5498 ᕺ==>5499 ᕻ==>"
     ]
    }
   ],
   "source": [
    "for i in range(3070,5500):\n",
    "        print(i, chr(i),end= '==>')"
   ]
  },
  {
   "cell_type": "code",
   "execution_count": null,
   "id": "86efefe0-0ea3-4d43-93b7-e5aed67ccadd",
   "metadata": {},
   "outputs": [],
   "source": []
  }
 ],
 "metadata": {
  "kernelspec": {
   "display_name": "Python 3 (ipykernel)",
   "language": "python",
   "name": "python3"
  },
  "language_info": {
   "codemirror_mode": {
    "name": "ipython",
    "version": 3
   },
   "file_extension": ".py",
   "mimetype": "text/x-python",
   "name": "python",
   "nbconvert_exporter": "python",
   "pygments_lexer": "ipython3",
   "version": "3.11.7"
  }
 },
 "nbformat": 4,
 "nbformat_minor": 5
}
