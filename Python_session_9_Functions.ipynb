{
 "cells": [
  {
   "cell_type": "markdown",
   "id": "6853cca0-8654-4f62-8278-401a201369c2",
   "metadata": {},
   "source": [
    "**Functions**"
   ]
  },
  {
   "cell_type": "markdown",
   "id": "9b5b4ac7-ca88-4bb6-b296-cd2ac4f71538",
   "metadata": {},
   "source": [
    "- A block of code which we can use many times"
   ]
  },
  {
   "cell_type": "code",
   "execution_count": 26,
   "id": "b2866e7d-47d7-4e6e-8023-b1a4c99e2b18",
   "metadata": {},
   "outputs": [
    {
     "name": "stdout",
     "output_type": "stream",
     "text": [
      "40\n"
     ]
    }
   ],
   "source": [
    "num1=20\n",
    "num2=20\n",
    "add=num1+num2\n",
    "print(add)"
   ]
  },
  {
   "cell_type": "code",
   "execution_count": 28,
   "id": "6b7dc700-134f-4ec1-a891-1fc54dbb28e1",
   "metadata": {},
   "outputs": [
    {
     "data": {
      "text/plain": [
       "<bound method Random.randint of <random.Random object at 0x0000022647ED92A0>>"
      ]
     },
     "execution_count": 28,
     "metadata": {},
     "output_type": "execute_result"
    }
   ],
   "source": [
    "import random\n",
    "random.randint"
   ]
  },
  {
   "cell_type": "code",
   "execution_count": null,
   "id": "b385143d-1a55-4726-9b29-dea54df01016",
   "metadata": {},
   "outputs": [],
   "source": [
    "###syntax\n",
    "def <function_name>():\n",
    "    codelines"
   ]
  },
  {
   "cell_type": "markdown",
   "id": "e544471c-538d-4d8e-9b25-53ab5ca2a190",
   "metadata": {},
   "source": [
    "**function without arguments**"
   ]
  },
  {
   "cell_type": "code",
   "execution_count": 30,
   "id": "ee4948f2-9986-4155-8fae-78124a7bc2fa",
   "metadata": {},
   "outputs": [],
   "source": [
    "def addition():\n",
    "    num1=10\n",
    "    num2=20\n",
    "    add=num1+num2\n",
    "    print(add)"
   ]
  },
  {
   "cell_type": "code",
   "execution_count": null,
   "id": "42ee60fd-362d-4780-8049-59ad9fa455e1",
   "metadata": {},
   "outputs": [],
   "source": [
    "## function name: addition\n",
    "## in order to execute code lines\n",
    "## we need to call the function"
   ]
  },
  {
   "cell_type": "code",
   "execution_count": 33,
   "id": "30b6520e-a7fe-4c40-81a4-16982b8bd4b1",
   "metadata": {},
   "outputs": [
    {
     "data": {
      "text/plain": [
       "<function __main__.addition()>"
      ]
     },
     "execution_count": 33,
     "metadata": {},
     "output_type": "execute_result"
    }
   ],
   "source": [
    "addition"
   ]
  },
  {
   "cell_type": "code",
   "execution_count": 35,
   "id": "ad3366b5-c9c3-4a83-8470-a25f3efa8e57",
   "metadata": {},
   "outputs": [
    {
     "name": "stdout",
     "output_type": "stream",
     "text": [
      "30\n"
     ]
    }
   ],
   "source": [
    "addition()"
   ]
  },
  {
   "cell_type": "code",
   "execution_count": 37,
   "id": "eb1a6f11-2422-4c0f-90c9-8d5a95653ed0",
   "metadata": {},
   "outputs": [
    {
     "name": "stdout",
     "output_type": "stream",
     "text": [
      "num1 is: 10\n",
      "num2 is: 20\n",
      "30\n"
     ]
    }
   ],
   "source": [
    "def addition():\n",
    "    num1=10\n",
    "    print(\"num1 is:\",num1)\n",
    "    num2=20\n",
    "    print(\"num2 is:\",num2)\n",
    "    add=num1+num2\n",
    "    print(add)\n",
    "addition()"
   ]
  },
  {
   "cell_type": "markdown",
   "id": "316aa0dc-ed39-4fda-bbed-cc2460f5ae38",
   "metadata": {},
   "source": [
    "** Note**\n",
    "\n",
    "- Function names can be anything\n",
    "\n",
    "- same rules applicable as variable rules\n",
    "\n",
    "- whenever you create the function make sure the indentation correctly\n",
    "\n",
    "- starting with keyword, ending with colon then codeline start with indentation\n",
    "\n",
    "- brackets means functions\n",
    "\n",
    "- Never missed the brackets whenever you call the function \n",
    "\n",
    "- If you want to execute the code we need to call the function\n",
    "\n",
    "- while you are calling the function if you see function or bound method \n",
    "\n",
    "- when means you missed the brackets"
   ]
  },
  {
   "cell_type": "code",
   "execution_count": null,
   "id": "68e2e6ce-4b6b-41b4-9247-c884a141162b",
   "metadata": {},
   "outputs": [],
   "source": [
    "def add one() ### wrong syntax"
   ]
  },
  {
   "cell_type": "code",
   "execution_count": 40,
   "id": "256ca364-44d1-4fb5-b089-3d8a7b393300",
   "metadata": {},
   "outputs": [
    {
     "name": "stdout",
     "output_type": "stream",
     "text": [
      "num1 is: 10\n",
      "num2 is: 20\n",
      " The addition of 10 and 20 is 30\n"
     ]
    }
   ],
   "source": [
    "def addition():\n",
    "    num1=10\n",
    "    print(\"num1 is:\",num1)\n",
    "    num2=20\n",
    "    print(\"num2 is:\",num2)\n",
    "    add=num1+num2\n",
    "    print(f\" The addition of {num1} and {num2} is {add}\")\n",
    "addition()"
   ]
  },
  {
   "cell_type": "code",
   "execution_count": 42,
   "id": "f319ad39-c4f4-4d58-b76c-3d0672350141",
   "metadata": {},
   "outputs": [
    {
     "ename": "NameError",
     "evalue": "name 'num111' is not defined",
     "output_type": "error",
     "traceback": [
      "\u001b[1;31m---------------------------------------------------------------------------\u001b[0m",
      "\u001b[1;31mNameError\u001b[0m                                 Traceback (most recent call last)",
      "Cell \u001b[1;32mIn[42], line 3\u001b[0m\n\u001b[0;32m      1\u001b[0m num1\u001b[38;5;241m=\u001b[39m\u001b[38;5;241m20\u001b[39m\n\u001b[0;32m      2\u001b[0m num2\u001b[38;5;241m=\u001b[39m\u001b[38;5;241m20\u001b[39m\n\u001b[1;32m----> 3\u001b[0m add\u001b[38;5;241m=\u001b[39mnum111\u001b[38;5;241m+\u001b[39mnum2\n\u001b[0;32m      4\u001b[0m \u001b[38;5;28mprint\u001b[39m(add)\n",
      "\u001b[1;31mNameError\u001b[0m: name 'num111' is not defined"
     ]
    }
   ],
   "source": [
    "num1=20\n",
    "num2=20\n",
    "add=num111+num2\n",
    "print(add)"
   ]
  },
  {
   "cell_type": "code",
   "execution_count": 44,
   "id": "15c40b62-9291-4ea2-ad0f-28a6038cf682",
   "metadata": {},
   "outputs": [],
   "source": [
    "def addition():\n",
    "    num1111=10\n",
    "    print(\"num1 is:\",num1)\n",
    "    num2=20\n",
    "    print(\"num2 is:\",num2)\n",
    "    add=num1+num2\n",
    "    print(f\" The addition of {num1} and {num2} is {add}\")\n"
   ]
  },
  {
   "cell_type": "code",
   "execution_count": null,
   "id": "09a44a1b-f691-48db-ad7a-659b870d2488",
   "metadata": {},
   "outputs": [],
   "source": [
    "## whenever we define the function It does not throw any error untill unless we call the function"
   ]
  },
  {
   "cell_type": "code",
   "execution_count": null,
   "id": "ffd2bbc0-68d9-4dc8-9bb2-433d978f42dc",
   "metadata": {},
   "outputs": [],
   "source": [
    "# wap to create the function for average"
   ]
  },
  {
   "cell_type": "code",
   "execution_count": 64,
   "id": "a83b7e07-40b7-4fa3-b35a-3584b3c431de",
   "metadata": {},
   "outputs": [
    {
     "name": "stdin",
     "output_type": "stream",
     "text": [
      "enter the num1: 20\n",
      "enter the num2: 30\n",
      "enter the num3: 30\n"
     ]
    },
    {
     "name": "stdout",
     "output_type": "stream",
     "text": [
      "the average of 20, 30 and 30 avg is 40.0\n"
     ]
    }
   ],
   "source": [
    "def average():\n",
    "    num1=eval(input(\"enter the num1:\"))\n",
    "    num2=eval(input(\"enter the num2:\"))\n",
    "    num3=eval(input(\"enter the num3:\"))\n",
    "    avg=(num1+num2+num3)/2\n",
    "    avg1=round(avg,2)\n",
    "    print(f\"the average of {num1}, {num2} and {num3} avg is {avg1}\")\n",
    "average()    "
   ]
  },
  {
   "cell_type": "code",
   "execution_count": null,
   "id": "a3242a0d-4af0-4d37-812a-d5a1ad140d84",
   "metadata": {},
   "outputs": [],
   "source": [
    "#wap ask user to enter the radius and pi to area the circle"
   ]
  },
  {
   "cell_type": "code",
   "execution_count": 74,
   "id": "a0a5c93f-ddb1-45ff-8ccb-b6bb751189d6",
   "metadata": {},
   "outputs": [
    {
     "name": "stdin",
     "output_type": "stream",
     "text": [
      "enter the radius: 30\n",
      "enter the pi: 3.4\n"
     ]
    },
    {
     "name": "stdout",
     "output_type": "stream",
     "text": [
      "The area of cricle is 51.0\n"
     ]
    }
   ],
   "source": [
    "def area_of_cricle():\n",
    "    radius=eval(input(\"enter the radius:\"))\n",
    "    pi=eval(input(\"enter the pi:\"))\n",
    "    area=0.5*radius*pi\n",
    "    print(f\"The area of cricle is {area}\")\n",
    "area_of_cricle()"
   ]
  },
  {
   "cell_type": "code",
   "execution_count": null,
   "id": "769b8d9b-dc21-40f2-84d6-9ba71d4c431e",
   "metadata": {},
   "outputs": [],
   "source": [
    "## wap ask the user to enter bill amount\n",
    "# ask the user how much tip you want pay in percentage\n",
    "# cal totalbill"
   ]
  },
  {
   "cell_type": "code",
   "execution_count": 70,
   "id": "5b2d1575-cdbe-401e-98d5-093294946db6",
   "metadata": {},
   "outputs": [
    {
     "name": "stdin",
     "output_type": "stream",
     "text": [
      "Enter the bill amount: 800\n",
      "Enter the tip percenr 10\n"
     ]
    },
    {
     "name": "stdout",
     "output_type": "stream",
     "text": [
      "The tip amount is: 80.0 rupees\n",
      "The total bill with tip is: 880.0 rupees\n"
     ]
    }
   ],
   "source": [
    "def bill():\n",
    "    meal_price=eval(input(\"Enter the bill amount:\"))\n",
    "    tip_percentage=eval(input(\"Enter the tip percenr\"))\n",
    "    tip_amount = meal_price * (tip_percent / 100)\n",
    "    total_bill = meal_price + tip_amount\n",
    "    print(f\"The tip amount is: {tip_amount:} rupees\")\n",
    "    print(f\"The total bill with tip is: {total_bill:} rupees\")\n",
    "bill()"
   ]
  },
  {
   "cell_type": "markdown",
   "id": "d680ac8e-c0b5-4600-ad43-9304fe559862",
   "metadata": {},
   "source": [
    "**Functions with arguments**\n",
    "\n",
    "- First look at how many arguments or variables are there\n",
    "\n",
    "- In that how many input variables are there\n",
    "\n",
    "- Input variables means user can defined\n",
    "\n",
    "- Output variables means python gives the output\n",
    "\n",
    "- we can use only input "
   ]
  },
  {
   "cell_type": "code",
   "execution_count": 88,
   "id": "e2881ca3-7232-4bb1-992e-34c896f3c810",
   "metadata": {},
   "outputs": [
    {
     "name": "stdout",
     "output_type": "stream",
     "text": [
      "num1 is: 40\n",
      "num2 is: 20\n",
      " The addition of 40 and 20 is 60\n"
     ]
    }
   ],
   "source": [
    "def addition2(num1,num2):\n",
    "    print(\"num1 is:\",num1)\n",
    "    print(\"num2 is:\",num2)\n",
    "    add=num1+num2\n",
    "    print(f\" The addition of {num1} and {num2} is {add}\")\n",
    "addition2(40,20)"
   ]
  },
  {
   "cell_type": "code",
   "execution_count": 90,
   "id": "93a0eb42-1a0c-4a2a-ab54-931b2a02caab",
   "metadata": {},
   "outputs": [
    {
     "name": "stdout",
     "output_type": "stream",
     "text": [
      "num1 is: 90\n",
      "num2 is: 80\n",
      " The addition of 90 and 80 is 170\n"
     ]
    }
   ],
   "source": [
    "addition2(90,80)"
   ]
  },
  {
   "cell_type": "code",
   "execution_count": 92,
   "id": "5bfd454f-c985-455d-bd5a-a45f836799f3",
   "metadata": {},
   "outputs": [
    {
     "name": "stdout",
     "output_type": "stream",
     "text": [
      "the average of 100,50 and 25 is 58.33\n"
     ]
    }
   ],
   "source": [
    "def average(num1,num2,num3):\n",
    "    avg=(num1+num2+num3)/3\n",
    "    avg1=round(avg,2)\n",
    "    print(f\"the average of {num1},{num2} and {num3} is {avg1}\")\n",
    "average(100,50,25)"
   ]
  },
  {
   "cell_type": "code",
   "execution_count": 96,
   "id": "937a427f-4b17-409b-9180-bbaac9a6af4f",
   "metadata": {},
   "outputs": [
    {
     "name": "stdout",
     "output_type": "stream",
     "text": [
      "The tip amount is: 80.0 rupees\n",
      "The total bill with tip is: 880.0 rupees\n"
     ]
    }
   ],
   "source": [
    "def bill2(meal_price,tip_percentage):\n",
    "    tip_amount = meal_price * (tip_percent / 100)\n",
    "    total_bill = meal_price + tip_amount\n",
    "    print(f\"The tip amount is: {tip_amount:} rupees\")\n",
    "    print(f\"The total bill with tip is: {total_bill:} rupees\")\n",
    "bill2(800,10)"
   ]
  },
  {
   "cell_type": "code",
   "execution_count": 98,
   "id": "94f97363-8627-40a5-b293-6045d4eb3326",
   "metadata": {},
   "outputs": [
    {
     "name": "stdout",
     "output_type": "stream",
     "text": [
      "The area of cricle is 68.0\n"
     ]
    }
   ],
   "source": [
    "def area_of_cricle1(radius,pi):\n",
    "    area=0.5*radius*pi\n",
    "    print(f\"The area of cricle is {area}\")\n",
    "area_of_cricle1(40,3.4)"
   ]
  },
  {
   "cell_type": "code",
   "execution_count": 104,
   "id": "7fc348a3-2264-4b91-ae48-f628988bab3c",
   "metadata": {},
   "outputs": [
    {
     "name": "stdout",
     "output_type": "stream",
     "text": [
      "the area of rectangle is:45\n"
     ]
    }
   ],
   "source": [
    "def area_rectangle(length,breadth):\n",
    "    area=length*breadth\n",
    "    print(f\"the area of rectangle is:{area}\")\n",
    "area_rectangle(5,9)"
   ]
  },
  {
   "cell_type": "markdown",
   "id": "9d9d5564-8cdb-4bd0-b440-bd2b22cf9bf8",
   "metadata": {},
   "source": [
    "### Default arguments"
   ]
  },
  {
   "cell_type": "code",
   "execution_count": 2,
   "id": "81d9c658-76d3-44b2-b410-c94e9537bf26",
   "metadata": {},
   "outputs": [
    {
     "name": "stdin",
     "output_type": "stream",
     "text": [
      "Enter the bill: 300\n",
      "Enter the tip percentage: 10\n"
     ]
    },
    {
     "name": "stdout",
     "output_type": "stream",
     "text": [
      "the total bill is: 330.0\n"
     ]
    }
   ],
   "source": [
    "# bill amount problem\n",
    "bill=eval(input(\"Enter the bill:\"))\n",
    "tip_per=eval(input(\"Enter the tip percentage:\"))\n",
    "tip_amount=bill*tip_per/100\n",
    "total_bill=bill+tip_amount\n",
    "print(\"the total bill is:\",total_bill)"
   ]
  },
  {
   "cell_type": "code",
   "execution_count": 4,
   "id": "5151f84d-f75c-4cbf-9160-08837edf10df",
   "metadata": {},
   "outputs": [
    {
     "name": "stdin",
     "output_type": "stream",
     "text": [
      "Enter the bill: 300\n",
      "Enter the tip percentage: 10\n"
     ]
    },
    {
     "name": "stdout",
     "output_type": "stream",
     "text": [
      "the total bill is: 330.0\n"
     ]
    }
   ],
   "source": [
    "def bill_pay():\n",
    "    bill=eval(input(\"Enter the bill:\"))\n",
    "    tip_per=eval(input(\"Enter the tip percentage:\"))\n",
    "    tip_amount=bill*tip_per/100\n",
    "    total_bill=bill+tip_amount\n",
    "    print(\"the total bill is:\",total_bill)\n",
    "\n",
    "bill_pay()\n"
   ]
  },
  {
   "cell_type": "code",
   "execution_count": 8,
   "id": "6a462951-3396-4f6d-8d26-d3747d5cb176",
   "metadata": {},
   "outputs": [
    {
     "name": "stdout",
     "output_type": "stream",
     "text": [
      "the total bill is: 2200.0\n"
     ]
    }
   ],
   "source": [
    "def bill_pay(bill,tip_per):\n",
    "    tip_amount=bill*tip_per/100\n",
    "    total_bill=bill+tip_amount\n",
    "    print(\"the total bill is:\",total_bill)\n",
    "\n",
    "bill_pay(2000,10)"
   ]
  },
  {
   "cell_type": "code",
   "execution_count": 14,
   "id": "aba3a96f-2dc1-4f11-9abe-23b6637b9886",
   "metadata": {},
   "outputs": [
    {
     "name": "stdout",
     "output_type": "stream",
     "text": [
      "Bill is: 2000\n",
      "Tip per is: 20\n",
      "the total bill is: 2400.0\n"
     ]
    }
   ],
   "source": [
    "def bill_pay(bill,tip_per=20):\n",
    "    print(\"Bill is:\",bill)\n",
    "    print(\"Tip per is:\",tip_per)\n",
    "    tip_amount=bill*tip_per/100\n",
    "    total_bill=bill+tip_amount\n",
    "    print(\"the total bill is:\",total_bill)\n",
    "\n",
    "bill_pay(2000)\n",
    "# Here the tip_per = default value\n",
    "# whenever we provide default value to a arguments\n",
    "# then it is called default arguments"
   ]
  },
  {
   "cell_type": "code",
   "execution_count": 18,
   "id": "a8214025-7cda-47cc-8e44-4c003ab85546",
   "metadata": {},
   "outputs": [
    {
     "name": "stdout",
     "output_type": "stream",
     "text": [
      "num1: 30\n",
      "num2: 40\n",
      "num2: 50\n",
      "the average of 30, 40 and 50 avg is 40.0\n"
     ]
    }
   ],
   "source": [
    "def average(num1,num2,num3=50):\n",
    "    print(\"num1:\",num1)\n",
    "    print(\"num2:\",num2)\n",
    "    print(\"num2:\",num3)\n",
    "    avg=(num1+num2+num3)/3\n",
    "    avg1=round(avg,2)\n",
    "    print(f\"the average of {num1}, {num2} and {num3} avg is {avg1}\")\n",
    "average(30,40) "
   ]
  },
  {
   "cell_type": "code",
   "execution_count": 26,
   "id": "60bd8b8b-b46d-45ed-9b15-cc5cd218a68e",
   "metadata": {},
   "outputs": [
    {
     "ename": "SyntaxError",
     "evalue": "non-default argument follows default argument (2392412605.py, line 1)",
     "output_type": "error",
     "traceback": [
      "\u001b[1;36m  Cell \u001b[1;32mIn[26], line 1\u001b[1;36m\u001b[0m\n\u001b[1;33m    def average(num1,num2=40,num3):\u001b[0m\n\u001b[1;37m                             ^\u001b[0m\n\u001b[1;31mSyntaxError\u001b[0m\u001b[1;31m:\u001b[0m non-default argument follows default argument\n"
     ]
    }
   ],
   "source": [
    "def average(num1,num2=40,num3):\n",
    "    print(\"num1:\",num1)\n",
    "    print(\"num2:\",num2)\n",
    "    print(\"num2:\",num3)\n",
    "    avg=(num1+num2+num3)/3\n",
    "    avg1=round(avg,2)\n",
    "    print(f\"the average of {num1}, {num2} and {num3} avg is {avg1}\")\n",
    "average(30,50) "
   ]
  },
  {
   "cell_type": "code",
   "execution_count": 30,
   "id": "3ebf6a99-8cc1-4067-9c3a-7bdb17586ad6",
   "metadata": {},
   "outputs": [
    {
     "name": "stdout",
     "output_type": "stream",
     "text": [
      "num1: 30\n",
      "num2: 40\n",
      "num2: 50\n",
      "the average of 30, 40 and 50 avg is 40.0\n"
     ]
    }
   ],
   "source": [
    "def average(num1,num3,num2=40):\n",
    "    print(\"num1:\",num1)\n",
    "    print(\"num2:\",num2)\n",
    "    print(\"num2:\",num3)\n",
    "    avg=(num1+num2+num3)/3\n",
    "    avg1=round(avg,2)\n",
    "    print(f\"the average of {num1}, {num2} and {num3} avg is {avg1}\")\n",
    "average(30,50)"
   ]
  },
  {
   "cell_type": "markdown",
   "id": "982ca2c0-236b-4c0b-8644-28da8f0d5dfc",
   "metadata": {},
   "source": [
    "**Note**\n",
    "\n",
    "- default argument should provide always last"
   ]
  },
  {
   "cell_type": "markdown",
   "id": "5020b2de-8406-409c-9053-1b977c3849ed",
   "metadata": {},
   "source": [
    "average(num1,num2,num3=40): #w\n",
    "average(num1,num2=40,num3): #f\n",
    "average(num1=40,num2,num3):  #f\n",
    "average(num1=40,num2,num3=40):  #f\n",
    "average(num1=400,num2=40,num3):  #w\n",
    "average(num1=40,num2=40,num3=40): #w"
   ]
  },
  {
   "cell_type": "code",
   "execution_count": 35,
   "id": "7a5a97d6-a51c-4d91-b6a6-30aea4ae4d10",
   "metadata": {},
   "outputs": [
    {
     "name": "stdout",
     "output_type": "stream",
     "text": [
      "num1: 40\n",
      "num2: 40\n",
      "num2: 40\n",
      "the average of 40, 40 and 40 avg is 40.0\n"
     ]
    }
   ],
   "source": [
    "def average(num1=40,num2=40,num3=40):\n",
    "    print(\"num1:\",num1)\n",
    "    print(\"num2:\",num2)\n",
    "    print(\"num2:\",num3)\n",
    "    avg=(num1+num2+num3)/3\n",
    "    avg1=round(avg,2)\n",
    "    print(f\"the average of {num1}, {num2} and {num3} avg is {avg1}\")\n",
    "average()"
   ]
  },
  {
   "cell_type": "code",
   "execution_count": 43,
   "id": "7e81a1c3-d73a-451c-9d0d-4adc2ef1ea36",
   "metadata": {},
   "outputs": [
    {
     "name": "stdout",
     "output_type": "stream",
     "text": [
      "600\n"
     ]
    }
   ],
   "source": [
    "## case1\n",
    "def addition(n1,n2=600):\n",
    "    add=n1+n2\n",
    "    print(add)\n",
    "\n",
    "addition(500)"
   ]
  },
  {
   "cell_type": "code",
   "execution_count": 45,
   "id": "70f119a4-f0a0-4b54-aa9c-929c91721f70",
   "metadata": {},
   "outputs": [
    {
     "name": "stdout",
     "output_type": "stream",
     "text": [
      "1500\n"
     ]
    }
   ],
   "source": [
    "## case2\n",
    "def addition(n1,n2=600):\n",
    "    add=n1+n2\n",
    "    print(add)\n",
    "\n",
    "addition(500,1000)\n",
    "\n",
    "#first we are defining function\n",
    "# While define the function we given n2=600\n",
    "# now we are calling the function,\n",
    "#while we are calling n2=1000\n",
    "#So, values will be overwrite\n",
    "# python will always takes the latest value"
   ]
  },
  {
   "cell_type": "code",
   "execution_count": 47,
   "id": "8992273b-5730-46d6-a9d6-b2c3a1d2c835",
   "metadata": {},
   "outputs": [
    {
     "name": "stdout",
     "output_type": "stream",
     "text": [
      "2500\n"
     ]
    }
   ],
   "source": [
    "## case3\n",
    "def addition(n1,n2=600):\n",
    "    n2=2000\n",
    "    add=n1+n2\n",
    "    print(add)\n",
    "\n",
    "addition(500,1000)"
   ]
  },
  {
   "cell_type": "code",
   "execution_count": 51,
   "id": "2e3f3696-52ab-4e79-8f94-25b40a4be978",
   "metadata": {},
   "outputs": [
    {
     "name": "stdout",
     "output_type": "stream",
     "text": [
      "2500\n"
     ]
    }
   ],
   "source": [
    "## case4\n",
    "def addition(n1,n2=600):\n",
    "    n2=2000\n",
    "    add=n1+n2\n",
    "    print(add)\n",
    "    n2=3000\n",
    "addition(500,1000)"
   ]
  },
  {
   "cell_type": "markdown",
   "id": "8e56a34f-7aec-4824-b81a-cd76526c79b2",
   "metadata": {},
   "source": [
    "### Local variables and Global variable"
   ]
  },
  {
   "cell_type": "markdown",
   "id": "32010b0f-8701-43e2-ad0d-d6ec6093b23c",
   "metadata": {},
   "source": [
    "- Local variables means : the variables inside the function call \n",
    "\n",
    "- Global variable means : The variables outside the function call\n",
    "\n",
    "- Once you define the variables outside means, you can use those variables anywhere\n",
    "\n",
    "- You can use global variables inside function also\n",
    "\n",
    "- But you can not use local variables outside the function"
   ]
  },
  {
   "cell_type": "code",
   "execution_count": 55,
   "id": "277f27ba-5e58-44b1-a90d-33f70b3ebc8a",
   "metadata": {},
   "outputs": [
    {
     "name": "stdout",
     "output_type": "stream",
     "text": [
      "200\n"
     ]
    }
   ],
   "source": [
    "def multiplication():\n",
    "    a=10\n",
    "    b=20\n",
    "    mul=a*b\n",
    "    print(mul)\n",
    "multiplication()\n",
    "\n",
    "#a,b,mul are local variables\n",
    "# These values we can no use outside the function"
   ]
  },
  {
   "cell_type": "code",
   "execution_count": 61,
   "id": "bf5d356b-b01f-4d18-8450-06acb1957ec4",
   "metadata": {},
   "outputs": [
    {
     "ename": "NameError",
     "evalue": "name 'b' is not defined",
     "output_type": "error",
     "traceback": [
      "\u001b[1;31m---------------------------------------------------------------------------\u001b[0m",
      "\u001b[1;31mNameError\u001b[0m                                 Traceback (most recent call last)",
      "Cell \u001b[1;32mIn[61], line 1\u001b[0m\n\u001b[1;32m----> 1\u001b[0m b\n",
      "\u001b[1;31mNameError\u001b[0m: name 'b' is not defined"
     ]
    }
   ],
   "source": [
    "b"
   ]
  },
  {
   "cell_type": "code",
   "execution_count": 67,
   "id": "89243009-3d57-4f3c-bb13-f15dc24b1f1e",
   "metadata": {},
   "outputs": [
    {
     "name": "stdout",
     "output_type": "stream",
     "text": [
      "20000\n"
     ]
    }
   ],
   "source": [
    "a1=100\n",
    "b1=200\n",
    "def multiplication():\n",
    "    mul1=a1*b1\n",
    "    print(mul1)\n",
    "multiplication()"
   ]
  },
  {
   "cell_type": "code",
   "execution_count": 69,
   "id": "97c1506e-06be-4a06-a5e9-2ea6544aa71e",
   "metadata": {},
   "outputs": [
    {
     "data": {
      "text/plain": [
       "100"
      ]
     },
     "execution_count": 69,
     "metadata": {},
     "output_type": "execute_result"
    }
   ],
   "source": [
    "a1"
   ]
  },
  {
   "cell_type": "code",
   "execution_count": 73,
   "id": "85c08607-7251-4002-821e-f7eaebc17ed9",
   "metadata": {},
   "outputs": [
    {
     "ename": "NameError",
     "evalue": "name 'mul1' is not defined",
     "output_type": "error",
     "traceback": [
      "\u001b[1;31m---------------------------------------------------------------------------\u001b[0m",
      "\u001b[1;31mNameError\u001b[0m                                 Traceback (most recent call last)",
      "Cell \u001b[1;32mIn[73], line 1\u001b[0m\n\u001b[1;32m----> 1\u001b[0m mul1\n",
      "\u001b[1;31mNameError\u001b[0m: name 'mul1' is not defined"
     ]
    }
   ],
   "source": [
    "mul1"
   ]
  },
  {
   "cell_type": "code",
   "execution_count": 77,
   "id": "45e0e36c-3256-4e87-b008-e1d1482fd602",
   "metadata": {},
   "outputs": [
    {
     "name": "stdout",
     "output_type": "stream",
     "text": [
      "1200\n"
     ]
    }
   ],
   "source": [
    "a1=100\n",
    "b1=200\n",
    "def add11(a1=1000):\n",
    "    add1=a1+b1\n",
    "    print(add1)\n",
    "add11()"
   ]
  },
  {
   "cell_type": "code",
   "execution_count": 79,
   "id": "abe0625e-96f1-4128-948a-3d127db21263",
   "metadata": {},
   "outputs": [
    {
     "ename": "TypeError",
     "evalue": "add11() got an unexpected keyword argument 'b1'",
     "output_type": "error",
     "traceback": [
      "\u001b[1;31m---------------------------------------------------------------------------\u001b[0m",
      "\u001b[1;31mTypeError\u001b[0m                                 Traceback (most recent call last)",
      "Cell \u001b[1;32mIn[79], line 6\u001b[0m\n\u001b[0;32m      4\u001b[0m     add1\u001b[38;5;241m=\u001b[39ma1\u001b[38;5;241m+\u001b[39mb1\n\u001b[0;32m      5\u001b[0m     \u001b[38;5;28mprint\u001b[39m(add1)\n\u001b[1;32m----> 6\u001b[0m add11(a1\u001b[38;5;241m=\u001b[39m\u001b[38;5;241m2000\u001b[39m,b1\u001b[38;5;241m=\u001b[39m\u001b[38;5;241m1000\u001b[39m)\n",
      "\u001b[1;31mTypeError\u001b[0m: add11() got an unexpected keyword argument 'b1'"
     ]
    }
   ],
   "source": [
    "a1=100\n",
    "b1=200\n",
    "def add11(a1=1000):\n",
    "    add1=a1+b1\n",
    "    print(add1)\n",
    "add11(a1=2000,b1=1000)"
   ]
  },
  {
   "cell_type": "code",
   "execution_count": 81,
   "id": "0570830f-94c9-4486-b687-323095208cdd",
   "metadata": {},
   "outputs": [
    {
     "name": "stdout",
     "output_type": "stream",
     "text": [
      "2200\n"
     ]
    }
   ],
   "source": [
    "a1=100\n",
    "b1=200\n",
    "def add11(a1=1000):\n",
    "    add1=a1+b1\n",
    "    print(add1)\n",
    "add11(a1=2000)"
   ]
  },
  {
   "cell_type": "code",
   "execution_count": 93,
   "id": "9814a77c-e8eb-4297-be4f-272ee84ade89",
   "metadata": {},
   "outputs": [
    {
     "name": "stdout",
     "output_type": "stream",
     "text": [
      "5200\n"
     ]
    }
   ],
   "source": [
    "a1=100\n",
    "b1=200\n",
    "def add11(a1=1000):\n",
    "    a1=5000\n",
    "    add1=a1+b1\n",
    "    print(add1)\n",
    "a1=6000\n",
    "add11(a1=2000)"
   ]
  },
  {
   "cell_type": "code",
   "execution_count": 95,
   "id": "3026ac00-f99e-4491-9388-ee960e210984",
   "metadata": {},
   "outputs": [
    {
     "data": {
      "text/plain": [
       "6000"
      ]
     },
     "execution_count": 95,
     "metadata": {},
     "output_type": "execute_result"
    }
   ],
   "source": [
    "a1"
   ]
  },
  {
   "cell_type": "code",
   "execution_count": 1,
   "id": "808fd2f3-133b-4264-9ea0-f3bed106122c",
   "metadata": {},
   "outputs": [
    {
     "ename": "UnboundLocalError",
     "evalue": "cannot access local variable 's' where it is not associated with a value",
     "output_type": "error",
     "traceback": [
      "\u001b[1;31m---------------------------------------------------------------------------\u001b[0m",
      "\u001b[1;31mUnboundLocalError\u001b[0m                         Traceback (most recent call last)",
      "Cell \u001b[1;32mIn[1], line 5\u001b[0m\n\u001b[0;32m      3\u001b[0m     s\u001b[38;5;241m=\u001b[39ms\u001b[38;5;241m+\u001b[39m\u001b[38;5;241m10\u001b[39m\n\u001b[0;32m      4\u001b[0m     \u001b[38;5;28mprint\u001b[39m(s)\n\u001b[1;32m----> 5\u001b[0m add()\n",
      "Cell \u001b[1;32mIn[1], line 3\u001b[0m, in \u001b[0;36madd\u001b[1;34m()\u001b[0m\n\u001b[0;32m      2\u001b[0m \u001b[38;5;28;01mdef\u001b[39;00m \u001b[38;5;21madd\u001b[39m():\n\u001b[1;32m----> 3\u001b[0m     s\u001b[38;5;241m=\u001b[39ms\u001b[38;5;241m+\u001b[39m\u001b[38;5;241m10\u001b[39m\n\u001b[0;32m      4\u001b[0m     \u001b[38;5;28mprint\u001b[39m(s)\n",
      "\u001b[1;31mUnboundLocalError\u001b[0m: cannot access local variable 's' where it is not associated with a value"
     ]
    }
   ],
   "source": [
    "s=0\n",
    "def add():\n",
    "    s=s+10\n",
    "    print(s)\n",
    "add()"
   ]
  },
  {
   "cell_type": "code",
   "execution_count": 3,
   "id": "0650fb2d-e5b7-4032-b950-8f25bfbae523",
   "metadata": {},
   "outputs": [
    {
     "name": "stdout",
     "output_type": "stream",
     "text": [
      "10\n"
     ]
    }
   ],
   "source": [
    "s=0\n",
    "def add():\n",
    "    a=s+10\n",
    "    print(a)\n",
    "add()"
   ]
  },
  {
   "cell_type": "code",
   "execution_count": null,
   "id": "352bca96-2be2-4653-aabd-662f7455a5e9",
   "metadata": {},
   "outputs": [],
   "source": [
    "s=0"
   ]
  },
  {
   "cell_type": "code",
   "execution_count": 7,
   "id": "c565b224-95a3-42b9-a563-895894a1022a",
   "metadata": {},
   "outputs": [
    {
     "name": "stdout",
     "output_type": "stream",
     "text": [
      "100 200 300\n"
     ]
    }
   ],
   "source": [
    "n1=10\n",
    "def addition():\n",
    "    n1=100\n",
    "    n2=200\n",
    "    n3=n1+n2\n",
    "    print(n1,n2,n3)\n",
    "\n",
    "addition()"
   ]
  },
  {
   "cell_type": "code",
   "execution_count": null,
   "id": "ba19bc84-a14a-4d43-8960-01a4c39188bd",
   "metadata": {},
   "outputs": [],
   "source": [
    "**Note**\n",
    "\n",
    "- If you give same variable as global and local \n",
    "\n",
    "- Make sure that varibale should not use as value inside the function"
   ]
  },
  {
   "cell_type": "code",
   "execution_count": 9,
   "id": "6c04a5bb-c636-4448-aa8a-3bc94cd183ac",
   "metadata": {},
   "outputs": [
    {
     "name": "stdout",
     "output_type": "stream",
     "text": [
      "10 210 220\n"
     ]
    }
   ],
   "source": [
    "n1=10\n",
    "def addition():\n",
    "    n2=200+n1\n",
    "    n3=n1+n2\n",
    "    print(n1,n2,n3)\n",
    "\n",
    "addition()"
   ]
  },
  {
   "cell_type": "code",
   "execution_count": null,
   "id": "f73df0b8-0f8f-45bc-b07d-e2bdb164381b",
   "metadata": {},
   "outputs": [],
   "source": [
    "**Global**\n",
    "\n",
    "- global keyword is used to take the local variable value outside"
   ]
  },
  {
   "cell_type": "code",
   "execution_count": 15,
   "id": "dc71eda0-069d-4d39-a77c-0cce5e921f36",
   "metadata": {},
   "outputs": [
    {
     "name": "stdout",
     "output_type": "stream",
     "text": [
      "hello\n",
      "value: 200\n"
     ]
    }
   ],
   "source": [
    "value=100\n",
    "def greet():\n",
    "    global value\n",
    "    value=200\n",
    "    print('hello')\n",
    "greet()\n",
    "print('value:',value)"
   ]
  },
  {
   "cell_type": "code",
   "execution_count": 21,
   "id": "69250466-f3ff-4763-9063-04c4cd3abb26",
   "metadata": {},
   "outputs": [
    {
     "name": "stdout",
     "output_type": "stream",
     "text": [
      "10 210 220\n"
     ]
    }
   ],
   "source": [
    "n11=10\n",
    "def addition():\n",
    "    global n33\n",
    "    n22=200+n11\n",
    "    n33=n11+n22\n",
    "    print(n11,n22,n33)\n",
    "\n",
    "addition()"
   ]
  },
  {
   "cell_type": "code",
   "execution_count": 23,
   "id": "154c093e-39a5-45b9-9a60-97b1b8784d03",
   "metadata": {},
   "outputs": [
    {
     "data": {
      "text/plain": [
       "220"
      ]
     },
     "execution_count": 23,
     "metadata": {},
     "output_type": "execute_result"
    }
   ],
   "source": [
    "n33"
   ]
  },
  {
   "cell_type": "code",
   "execution_count": null,
   "id": "50b8630f-14a0-4464-9631-bbb7e9bb1161",
   "metadata": {},
   "outputs": [],
   "source": [
    "- Outside the fuction is global variables\n",
    "\n",
    "- Inside the function\n",
    "\n",
    "- if you want to use outside the function use global keyword"
   ]
  },
  {
   "cell_type": "code",
   "execution_count": 31,
   "id": "cd1ecf77-36b3-478a-9cfb-a8ecde93743a",
   "metadata": {},
   "outputs": [
    {
     "name": "stdin",
     "output_type": "stream",
     "text": [
      " 20\n",
      " 30\n"
     ]
    },
    {
     "name": "stdout",
     "output_type": "stream",
     "text": [
      "600\n"
     ]
    }
   ],
   "source": [
    "def mul(a,b):\n",
    "    print(a*b)\n",
    "mul(eval(input()),eval(input()))"
   ]
  },
  {
   "cell_type": "markdown",
   "id": "589e26ca-fc9b-480d-88e9-6497d6c02b55",
   "metadata": {},
   "source": [
    "## Return"
   ]
  },
  {
   "cell_type": "markdown",
   "id": "22ceddbe-a84c-47cf-aa8e-bf858e09f755",
   "metadata": {},
   "source": [
    "- we can use the local variable or function outputs outside the function\n",
    "\n",
    "- print is different it used to print the values you can't you use\n",
    "\n",
    "- return is different, it will be use these outside(it is also possible by using global)"
   ]
  },
  {
   "cell_type": "code",
   "execution_count": 38,
   "id": "20d67d94-8928-471b-af33-c74ba979725a",
   "metadata": {},
   "outputs": [
    {
     "name": "stdout",
     "output_type": "stream",
     "text": [
      "30.0\n"
     ]
    }
   ],
   "source": [
    "def average():\n",
    "    n1=20\n",
    "    n2=30\n",
    "    n3=40\n",
    "    avg=(n1+n2+n3)/3\n",
    "    print(avg)\n",
    "average()\n",
    "# function is ready to return values to me \n",
    "# So i need to store"
   ]
  },
  {
   "cell_type": "code",
   "execution_count": 40,
   "id": "ee49fc43-af18-45eb-abed-a9f81d0732e8",
   "metadata": {},
   "outputs": [],
   "source": [
    "def average():\n",
    "    n1=20\n",
    "    n2=30\n",
    "    n3=40\n",
    "    avg=(n1+n2+n3)/3\n",
    "    return(avg)\n",
    "avg=average()"
   ]
  },
  {
   "cell_type": "code",
   "execution_count": 42,
   "id": "b3e352e0-ecf7-4ff3-988b-c7b3b70463bd",
   "metadata": {},
   "outputs": [
    {
     "data": {
      "text/plain": [
       "30.0"
      ]
     },
     "execution_count": 42,
     "metadata": {},
     "output_type": "execute_result"
    }
   ],
   "source": [
    "avg"
   ]
  },
  {
   "cell_type": "code",
   "execution_count": 48,
   "id": "f841f04d-5efe-4e73-890c-a27fdec38ac0",
   "metadata": {},
   "outputs": [],
   "source": [
    "def average():\n",
    "    n1=20\n",
    "    n2=30\n",
    "    n3=40\n",
    "    avg=(n1+n2+n3)/3\n",
    "    return(avg,n3)\n",
    "avg,n3=average()\n",
    "#How many values we are returning \n",
    "# we will store each return values in different variable\n",
    "#because two values are different\n",
    "# If you use only variables"
   ]
  },
  {
   "cell_type": "code",
   "execution_count": 50,
   "id": "9b6db780-affb-4489-9d3e-42127f331f7b",
   "metadata": {},
   "outputs": [
    {
     "data": {
      "text/plain": [
       "40"
      ]
     },
     "execution_count": 50,
     "metadata": {},
     "output_type": "execute_result"
    }
   ],
   "source": [
    "n3"
   ]
  },
  {
   "cell_type": "code",
   "execution_count": null,
   "id": "7d68445f-662a-42fa-8339-7b71e036d80c",
   "metadata": {},
   "outputs": [],
   "source": [
    "def sub():\n",
    "    a=10\n",
    "    b=20\n",
    "    c=a"
   ]
  },
  {
   "cell_type": "markdown",
   "id": "c5586cba-b0ad-4d3f-b748-bd8dffbefc32",
   "metadata": {},
   "source": [
    "**Unbound local error**"
   ]
  },
  {
   "cell_type": "code",
   "execution_count": 6,
   "id": "e5e2bb68-ba51-4400-9f2b-e652733f5dd2",
   "metadata": {},
   "outputs": [
    {
     "name": "stdout",
     "output_type": "stream",
     "text": [
      "100\n"
     ]
    }
   ],
   "source": [
    "num1=10\n",
    "def fun1():\n",
    "    num1=100\n",
    "    print(num1)\n",
    "fun1()"
   ]
  },
  {
   "cell_type": "code",
   "execution_count": 8,
   "id": "f14c5b94-4258-4a13-bcce-62c0716d7779",
   "metadata": {},
   "outputs": [
    {
     "ename": "UnboundLocalError",
     "evalue": "cannot access local variable 'num2' where it is not associated with a value",
     "output_type": "error",
     "traceback": [
      "\u001b[1;31m---------------------------------------------------------------------------\u001b[0m",
      "\u001b[1;31mUnboundLocalError\u001b[0m                         Traceback (most recent call last)",
      "Cell \u001b[1;32mIn[8], line 5\u001b[0m\n\u001b[0;32m      3\u001b[0m     \u001b[38;5;28mprint\u001b[39m(num2)\n\u001b[0;32m      4\u001b[0m     num2\u001b[38;5;241m=\u001b[39m\u001b[38;5;241m10\u001b[39m\n\u001b[1;32m----> 5\u001b[0m fun2()\n",
      "Cell \u001b[1;32mIn[8], line 3\u001b[0m, in \u001b[0;36mfun2\u001b[1;34m()\u001b[0m\n\u001b[0;32m      2\u001b[0m \u001b[38;5;28;01mdef\u001b[39;00m \u001b[38;5;21mfun2\u001b[39m():\n\u001b[1;32m----> 3\u001b[0m     \u001b[38;5;28mprint\u001b[39m(num2)\n\u001b[0;32m      4\u001b[0m     num2\u001b[38;5;241m=\u001b[39m\u001b[38;5;241m10\u001b[39m\n",
      "\u001b[1;31mUnboundLocalError\u001b[0m: cannot access local variable 'num2' where it is not associated with a value"
     ]
    }
   ],
   "source": [
    "num2=10\n",
    "def fun2():\n",
    "    print(num2)\n",
    "    num2=10\n",
    "fun2()    "
   ]
  },
  {
   "cell_type": "code",
   "execution_count": null,
   "id": "2be0da19-b195-495a-b8d4-5568a0a263c6",
   "metadata": {},
   "outputs": [],
   "source": [
    "# Local variable and global variable both names are same\n",
    "# You are try to access local variable before assign"
   ]
  },
  {
   "cell_type": "code",
   "execution_count": null,
   "id": "e6a9ba8b-5de8-48aa-a99a-577493d807e9",
   "metadata": {},
   "outputs": [],
   "source": [
    "num2=10\n",
    "def fun2():\n",
    "    "
   ]
  },
  {
   "cell_type": "code",
   "execution_count": 10,
   "id": "26bb8f7b-008d-4641-bf83-887de73e48ab",
   "metadata": {},
   "outputs": [
    {
     "name": "stdout",
     "output_type": "stream",
     "text": [
      "300\n"
     ]
    }
   ],
   "source": [
    "# No Local variable\n",
    "a1=100\n",
    "b1=200\n",
    "def add11():\n",
    "    add1=a1+b1\n",
    "    print(add1)\n",
    "add11()\n",
    "# we are not intialising local variables\n",
    "# with same name as global variable"
   ]
  },
  {
   "cell_type": "code",
   "execution_count": 14,
   "id": "cc7c9123-3f45-4e5d-88c4-65747e752897",
   "metadata": {},
   "outputs": [
    {
     "name": "stdout",
     "output_type": "stream",
     "text": [
      "1500\n"
     ]
    }
   ],
   "source": [
    "# we are initalisng LV names as gv\n",
    "# we using after lv initialization\n",
    "a1=100\n",
    "b1=200\n",
    "def add12():\n",
    "    a1=700\n",
    "    b1=800\n",
    "    add1=a1+b1\n",
    "    print(add1)\n",
    "add12()"
   ]
  },
  {
   "cell_type": "code",
   "execution_count": 16,
   "id": "0ba2a3ba-fc39-414a-99b5-3a16722ad685",
   "metadata": {},
   "outputs": [
    {
     "ename": "UnboundLocalError",
     "evalue": "cannot access local variable 'a1' where it is not associated with a value",
     "output_type": "error",
     "traceback": [
      "\u001b[1;31m---------------------------------------------------------------------------\u001b[0m",
      "\u001b[1;31mUnboundLocalError\u001b[0m                         Traceback (most recent call last)",
      "Cell \u001b[1;32mIn[16], line 8\u001b[0m\n\u001b[0;32m      6\u001b[0m     b1\u001b[38;5;241m=\u001b[39m\u001b[38;5;241m800\u001b[39m\n\u001b[0;32m      7\u001b[0m     \u001b[38;5;28mprint\u001b[39m(add1)\n\u001b[1;32m----> 8\u001b[0m add12()\n",
      "Cell \u001b[1;32mIn[16], line 4\u001b[0m, in \u001b[0;36madd12\u001b[1;34m()\u001b[0m\n\u001b[0;32m      3\u001b[0m \u001b[38;5;28;01mdef\u001b[39;00m \u001b[38;5;21madd12\u001b[39m():\n\u001b[1;32m----> 4\u001b[0m     add1\u001b[38;5;241m=\u001b[39ma1\u001b[38;5;241m+\u001b[39mb1\n\u001b[0;32m      5\u001b[0m     a1\u001b[38;5;241m=\u001b[39m\u001b[38;5;241m700\u001b[39m\n\u001b[0;32m      6\u001b[0m     b1\u001b[38;5;241m=\u001b[39m\u001b[38;5;241m800\u001b[39m\n",
      "\u001b[1;31mUnboundLocalError\u001b[0m: cannot access local variable 'a1' where it is not associated with a value"
     ]
    }
   ],
   "source": [
    "# we are intialising LV names as gv\n",
    "# we are lv before intialization\n",
    "a1=100\n",
    "b1=200\n",
    "def add12():\n",
    "    add1=a1+b1\n",
    "    a1=700\n",
    "    b1=800\n",
    "    print(add1)\n",
    "add12()"
   ]
  },
  {
   "cell_type": "code",
   "execution_count": 18,
   "id": "3b3d54d2-aea5-49d2-b1c3-cff6e502f63c",
   "metadata": {},
   "outputs": [
    {
     "ename": "NameError",
     "evalue": "name 'a21' is not defined",
     "output_type": "error",
     "traceback": [
      "\u001b[1;31m---------------------------------------------------------------------------\u001b[0m",
      "\u001b[1;31mNameError\u001b[0m                                 Traceback (most recent call last)",
      "Cell \u001b[1;32mIn[18], line 5\u001b[0m\n\u001b[0;32m      3\u001b[0m     add\u001b[38;5;241m=\u001b[39ma21\u001b[38;5;241m+\u001b[39mb21\n\u001b[0;32m      4\u001b[0m     \u001b[38;5;28mprint\u001b[39m(add)\n\u001b[1;32m----> 5\u001b[0m add21()\n",
      "Cell \u001b[1;32mIn[18], line 3\u001b[0m, in \u001b[0;36madd21\u001b[1;34m()\u001b[0m\n\u001b[0;32m      2\u001b[0m \u001b[38;5;28;01mdef\u001b[39;00m \u001b[38;5;21madd21\u001b[39m():\n\u001b[1;32m----> 3\u001b[0m     add\u001b[38;5;241m=\u001b[39ma21\u001b[38;5;241m+\u001b[39mb21\n\u001b[0;32m      4\u001b[0m     \u001b[38;5;28mprint\u001b[39m(add)\n",
      "\u001b[1;31mNameError\u001b[0m: name 'a21' is not defined"
     ]
    }
   ],
   "source": [
    "b21=200\n",
    "def add21():\n",
    "    add=a21+b21\n",
    "    print(add)\n",
    "add21()"
   ]
  },
  {
   "cell_type": "code",
   "execution_count": 20,
   "id": "14c6e9b1-76ad-4bcb-87dd-99abb58809c5",
   "metadata": {},
   "outputs": [
    {
     "ename": "NameError",
     "evalue": "name 'a21' is not defined",
     "output_type": "error",
     "traceback": [
      "\u001b[1;31m---------------------------------------------------------------------------\u001b[0m",
      "\u001b[1;31mNameError\u001b[0m                                 Traceback (most recent call last)",
      "Cell \u001b[1;32mIn[20], line 5\u001b[0m\n\u001b[0;32m      3\u001b[0m     add\u001b[38;5;241m=\u001b[39ma21\u001b[38;5;241m+\u001b[39mb21\n\u001b[0;32m      4\u001b[0m     \u001b[38;5;28mprint\u001b[39m(add)\n\u001b[1;32m----> 5\u001b[0m add21()\n\u001b[0;32m      6\u001b[0m a21\u001b[38;5;241m=\u001b[39m\u001b[38;5;241m100\u001b[39m\n",
      "Cell \u001b[1;32mIn[20], line 3\u001b[0m, in \u001b[0;36madd21\u001b[1;34m()\u001b[0m\n\u001b[0;32m      2\u001b[0m \u001b[38;5;28;01mdef\u001b[39;00m \u001b[38;5;21madd21\u001b[39m():\n\u001b[1;32m----> 3\u001b[0m     add\u001b[38;5;241m=\u001b[39ma21\u001b[38;5;241m+\u001b[39mb21\n\u001b[0;32m      4\u001b[0m     \u001b[38;5;28mprint\u001b[39m(add)\n",
      "\u001b[1;31mNameError\u001b[0m: name 'a21' is not defined"
     ]
    }
   ],
   "source": [
    "b21=200\n",
    "def add21():\n",
    "    add=a21+b21\n",
    "    print(add)\n",
    "add21()\n",
    "a21=100"
   ]
  },
  {
   "cell_type": "code",
   "execution_count": 22,
   "id": "46ab0159-895b-4ffc-b087-394ebfdf9caf",
   "metadata": {},
   "outputs": [
    {
     "name": "stdout",
     "output_type": "stream",
     "text": [
      "300\n"
     ]
    }
   ],
   "source": [
    "b21=200\n",
    "def add21():\n",
    "    a21=100\n",
    "    add=a21+b21\n",
    "    print(add)\n",
    "add21()\n",
    "a21=100"
   ]
  },
  {
   "cell_type": "code",
   "execution_count": 24,
   "id": "b4ff18ad-d8eb-42de-90a1-3a63918c6b69",
   "metadata": {},
   "outputs": [
    {
     "ename": "UnboundLocalError",
     "evalue": "cannot access local variable 'b21' where it is not associated with a value",
     "output_type": "error",
     "traceback": [
      "\u001b[1;31m---------------------------------------------------------------------------\u001b[0m",
      "\u001b[1;31mUnboundLocalError\u001b[0m                         Traceback (most recent call last)",
      "Cell \u001b[1;32mIn[24], line 7\u001b[0m\n\u001b[0;32m      5\u001b[0m     b21\u001b[38;5;241m=\u001b[39m\u001b[38;5;241m2000\u001b[39m\n\u001b[0;32m      6\u001b[0m     \u001b[38;5;28mprint\u001b[39m(add)\n\u001b[1;32m----> 7\u001b[0m add21()\n\u001b[0;32m      8\u001b[0m a21\u001b[38;5;241m=\u001b[39m\u001b[38;5;241m100\u001b[39m\n",
      "Cell \u001b[1;32mIn[24], line 4\u001b[0m, in \u001b[0;36madd21\u001b[1;34m()\u001b[0m\n\u001b[0;32m      2\u001b[0m \u001b[38;5;28;01mdef\u001b[39;00m \u001b[38;5;21madd21\u001b[39m():\n\u001b[0;32m      3\u001b[0m     a21\u001b[38;5;241m=\u001b[39m\u001b[38;5;241m100\u001b[39m\n\u001b[1;32m----> 4\u001b[0m     add\u001b[38;5;241m=\u001b[39ma21\u001b[38;5;241m+\u001b[39mb21\n\u001b[0;32m      5\u001b[0m     b21\u001b[38;5;241m=\u001b[39m\u001b[38;5;241m2000\u001b[39m\n\u001b[0;32m      6\u001b[0m     \u001b[38;5;28mprint\u001b[39m(add)\n",
      "\u001b[1;31mUnboundLocalError\u001b[0m: cannot access local variable 'b21' where it is not associated with a value"
     ]
    }
   ],
   "source": [
    "b21=200\n",
    "def add21():\n",
    "    a21=100\n",
    "    add=a21+b21\n",
    "    b21=2000\n",
    "    print(add)\n",
    "add21()\n",
    "a21=100"
   ]
  },
  {
   "cell_type": "markdown",
   "id": "c10157cc-aef2-4622-9809-746edfd59cc9",
   "metadata": {},
   "source": [
    "- Global variable\n",
    "\n",
    "- define the function\n",
    "\n",
    "- call the function\n",
    "\n",
    "- run the function"
   ]
  },
  {
   "cell_type": "markdown",
   "id": "33ae5e84-a2a3-4d18-a22a-486145cd7044",
   "metadata": {},
   "source": [
    "**Functions in Functions**"
   ]
  },
  {
   "cell_type": "code",
   "execution_count": 30,
   "id": "c5a51a3e-2b34-43c6-86e1-fb506d1319a0",
   "metadata": {},
   "outputs": [
    {
     "name": "stdout",
     "output_type": "stream",
     "text": [
      "Hello good morning\n",
      "Good night!\n"
     ]
    }
   ],
   "source": [
    "def greet1():\n",
    "    print('Hello good morning')\n",
    "\n",
    "def greet2():\n",
    "    print('Good night!')\n",
    "\n",
    "greet1()\n",
    "greet2()"
   ]
  },
  {
   "cell_type": "code",
   "execution_count": 36,
   "id": "8eeb74da-7054-406b-ad6e-2c5fdcc89704",
   "metadata": {},
   "outputs": [
    {
     "name": "stdout",
     "output_type": "stream",
     "text": [
      "Hello good morning\n",
      "Good night!\n"
     ]
    }
   ],
   "source": [
    "import time\n",
    "def greet1():\n",
    "    print('Hello good morning')\n",
    "\n",
    "def greet2():\n",
    "    print('Good night!')\n",
    "\n",
    "greet1()\n",
    "time.sleep(2)\n",
    "greet2()"
   ]
  },
  {
   "cell_type": "code",
   "execution_count": null,
   "id": "04bbb1df-749b-43de-8b82-352e69196e57",
   "metadata": {},
   "outputs": [],
   "source": [
    "def greet2():\n",
    "    print('Good night!')\n",
    "    greet1()\n",
    "def greet1():\n",
    "    print('Hello good morning')\n",
    "    greet2()\n",
    "\n",
    "greet1()\n",
    "# Python is step by step process\n",
    "# It is loop answer (infinite)"
   ]
  },
  {
   "cell_type": "code",
   "execution_count": null,
   "id": "779e757a-e96c-49e5-b078-50fa8077ee08",
   "metadata": {},
   "outputs": [],
   "source": [
    "- Functions with out arguments\n",
    "\n",
    "- Functions with arguments\n",
    "\n",
    "- Function default arguments\n",
    "\n",
    "- Global keyword\n",
    "\n",
    "- Return statement\n",
    "\n",
    "- Function in functions"
   ]
  },
  {
   "cell_type": "code",
   "execution_count": 57,
   "id": "55dc5747-ae58-4306-9082-e430cf49bd4f",
   "metadata": {},
   "outputs": [
    {
     "name": "stdout",
     "output_type": "stream",
     "text": [
      "enter the distance in km: 30\n",
      "enter the cutoff distance in km: 9\n",
      "Kudos to you the chargeable distance is: 21\n",
      "enter the charge in rupees: 9\n",
      "Total cost of the ride is: 189\n"
     ]
    }
   ],
   "source": [
    "def charge(num,cutoff_distance,charge):\n",
    "    print(\"enter the distance in km:\",num)\n",
    "    print(\"enter the cutoff distance in km:\",cutoff_distance)\n",
    "    if num>cutoff_distance:   \n",
    "        chargeable_distance=num-cutoff_distance\n",
    "        print(\"Kudos to you the chargeable distance is:\",chargeable_distance)\n",
    "        print(\"enter the charge in rupees:\",charge)\n",
    "        totalcost= chargeable_distance*charge\n",
    "        print(\"Total cost of the ride is:\",totalcost)\n",
    "    else:\n",
    "        print(\"enjoy free ride\")\n",
    "charge(30,9,9)"
   ]
  },
  {
   "cell_type": "code",
   "execution_count": 61,
   "id": "dfc3b9e3-8cbe-47b3-bc37-db3b6b9efa91",
   "metadata": {},
   "outputs": [
    {
     "name": "stdout",
     "output_type": "stream",
     "text": [
      "enter the distance in km: 100\n",
      "enter the cutoff distance in km: 25\n",
      "Kudos to you the chargeable distance is: 75\n",
      "enter the charge in rupees: 5\n",
      "Total cost of the ride is: 375\n"
     ]
    }
   ],
   "source": [
    "def charge(num,cutoff_distance=25,charge=5):\n",
    "    print(\"enter the distance in km:\",num)\n",
    "    print(\"enter the cutoff distance in km:\",cutoff_distance)\n",
    "    if num>cutoff_distance:   \n",
    "        chargeable_distance=num-cutoff_distance\n",
    "        print(\"Kudos to you the chargeable distance is:\",chargeable_distance)\n",
    "        print(\"enter the charge in rupees:\",charge)\n",
    "        totalcost= chargeable_distance*charge\n",
    "        print(\"Total cost of the ride is:\",totalcost)\n",
    "    else:\n",
    "        print(\"enjoy free ride\")\n",
    "charge(100)"
   ]
  },
  {
   "cell_type": "code",
   "execution_count": 63,
   "id": "bbab4514-c882-42d9-803c-c2106cac76b0",
   "metadata": {},
   "outputs": [
    {
     "name": "stdin",
     "output_type": "stream",
     "text": [
      "enter the distance in km: 100\n",
      "enter the cutoff distance in km: 50\n"
     ]
    },
    {
     "name": "stdout",
     "output_type": "stream",
     "text": [
      "Kudos to you the chargeable distance is: 50\n"
     ]
    },
    {
     "name": "stdin",
     "output_type": "stream",
     "text": [
      "enter the charge in rupees: 5\n"
     ]
    },
    {
     "name": "stdout",
     "output_type": "stream",
     "text": [
      "Total cost of the ride is: 500\n"
     ]
    }
   ],
   "source": [
    "num=eval(input(\"enter the distance in km:\"))\n",
    "cutoff_distance=eval(input(\"enter the cutoff distance in km:\"))\n",
    "def total_fare1():\n",
    "    if num>cutoff_distance:   \n",
    "        chargeable_distance=num-cutoff_distance\n",
    "        print(\"Kudos to you the chargeable distance is:\",chargeable_distance)\n",
    "        charge=eval(input(\"enter the charge in rupees:\"))\n",
    "        totalcost= chargeable_distance*charge\n",
    "        print(\"Total cost of the ride is:\",totalcost)\n",
    "    else:\n",
    "        print(\"enjoy free ride\")    \n",
    "total_fare1()"
   ]
  },
  {
   "cell_type": "code",
   "execution_count": 67,
   "id": "84781d9a-9eec-4366-bd5f-f66c6c3ed9d1",
   "metadata": {},
   "outputs": [
    {
     "name": "stdin",
     "output_type": "stream",
     "text": [
      "enter the distance in km: 100\n",
      "enter the cutoff distance in km: 10\n"
     ]
    },
    {
     "name": "stdout",
     "output_type": "stream",
     "text": [
      "Kudos to you the chargeable distance is: 90\n"
     ]
    },
    {
     "name": "stdin",
     "output_type": "stream",
     "text": [
      "enter the charge in rupees: 10\n"
     ]
    },
    {
     "name": "stdout",
     "output_type": "stream",
     "text": [
      "Total cost of the ride is: 900\n"
     ]
    },
    {
     "ename": "NameError",
     "evalue": "name 'cost' is not defined",
     "output_type": "error",
     "traceback": [
      "\u001b[1;31m---------------------------------------------------------------------------\u001b[0m",
      "\u001b[1;31mNameError\u001b[0m                                 Traceback (most recent call last)",
      "Cell \u001b[1;32mIn[67], line 15\u001b[0m\n\u001b[0;32m     12\u001b[0m         \u001b[38;5;28mprint\u001b[39m(\u001b[38;5;124m\"\u001b[39m\u001b[38;5;124menjoy free ride\u001b[39m\u001b[38;5;124m\"\u001b[39m)    \n\u001b[0;32m     13\u001b[0m total_fare4()\n\u001b[1;32m---> 15\u001b[0m \u001b[38;5;28mprint\u001b[39m(\u001b[38;5;124m\"\u001b[39m\u001b[38;5;124moutside function cost is:\u001b[39m\u001b[38;5;124m\"\u001b[39m,cost)\n",
      "\u001b[1;31mNameError\u001b[0m: name 'cost' is not defined"
     ]
    }
   ],
   "source": [
    "num=eval(input(\"enter the distance in km:\"))\n",
    "cutoff_distance=eval(input(\"enter the cutoff distance in km:\"))\n",
    "def total_fare2():\n",
    "    global cost\n",
    "    if num>cutoff_distance:   \n",
    "        chargeable_distance=num-cutoff_distance\n",
    "        print(\"Kudos to you the chargeable distance is:\",chargeable_distance)\n",
    "        charge=eval(input(\"enter the charge in rupees:\"))\n",
    "        totalcost= chargeable_distance*charge\n",
    "        print(\"Total cost of the ride is:\",totalcost)\n",
    "    else:\n",
    "        print(\"enjoy free ride\")    \n",
    "total_fare2()\n",
    "\n",
    "print(\"outside function cost is:\",cost)"
   ]
  },
  {
   "cell_type": "code",
   "execution_count": 69,
   "id": "ac6fefd3-4011-4e64-b73f-317408db9c27",
   "metadata": {},
   "outputs": [
    {
     "ename": "NameError",
     "evalue": "name 'cost' is not defined",
     "output_type": "error",
     "traceback": [
      "\u001b[1;31m---------------------------------------------------------------------------\u001b[0m",
      "\u001b[1;31mNameError\u001b[0m                                 Traceback (most recent call last)",
      "Cell \u001b[1;32mIn[69], line 1\u001b[0m\n\u001b[1;32m----> 1\u001b[0m cost\n",
      "\u001b[1;31mNameError\u001b[0m: name 'cost' is not defined"
     ]
    }
   ],
   "source": [
    "cost"
   ]
  },
  {
   "cell_type": "code",
   "execution_count": 80,
   "id": "ad97fe24-deab-410a-8546-c99669b826ea",
   "metadata": {},
   "outputs": [
    {
     "name": "stdin",
     "output_type": "stream",
     "text": [
      "enter the distance in km: 100\n",
      "enter the cutoff distance in km: 25\n"
     ]
    },
    {
     "name": "stdout",
     "output_type": "stream",
     "text": [
      "Kudos to you the chargeable distance is: 75\n"
     ]
    },
    {
     "name": "stdin",
     "output_type": "stream",
     "text": [
      "enter the charge in rupees: 10\n"
     ]
    },
    {
     "name": "stdout",
     "output_type": "stream",
     "text": [
      "Total cost of the ride is: 750\n",
      "outside function cost is: None\n"
     ]
    }
   ],
   "source": [
    "num=eval(input(\"enter the distance in km:\"))\n",
    "cutoff_distance=eval(input(\"enter the cutoff distance in km:\"))\n",
    "def total_fare3():\n",
    "    if num>cutoff_distance:   \n",
    "        chargeable_distance=num-cutoff_distance\n",
    "        print(\"Kudos to you the chargeable distance is:\",chargeable_distance)\n",
    "        charge=eval(input(\"enter the charge in rupees:\"))\n",
    "        totalcost= chargeable_distance*charge\n",
    "        print(\"Total cost of the ride is:\",totalcost)\n",
    "    else:\n",
    "        cost=100  \n",
    "        return(cost)\n",
    "cost=total_fare3()\n",
    "\n",
    "print(\"outside function cost is:\",cost)"
   ]
  },
  {
   "cell_type": "code",
   "execution_count": null,
   "id": "ad9d012f-d244-4bdd-9279-d7c4613e6925",
   "metadata": {},
   "outputs": [],
   "source": [
    "# first create 4 induvudual function\n",
    "# fun1: add\n",
    "# fun2: sub\n",
    "# fun3: mul\n",
    "# fun4: div\n",
    "\n",
    "\n",
    "\n",
    "# Create a main function name: calculator\n",
    "# Inside main function\n",
    "# Print some statements\n",
    "# option1: addition\n",
    "# option2: sub, otp3:3mul   otp4: div\n",
    "# option=eval(input(\"1-4\"))\n",
    "# a value\n",
    "# b value\n",
    "# if option==1:\n",
    "#    add func\n",
    "#elif option==2:\n",
    "#    sub func\n",
    "#elif option==3:\n",
    "#    mul fun\n",
    "#elif option==4:\n",
    "#    divi func\n",
    "#else: enter the valid func"
   ]
  },
  {
   "cell_type": "code",
   "execution_count": null,
   "id": "70598e37-cc23-4980-83dd-7868ca925036",
   "metadata": {},
   "outputs": [],
   "source": [
    "def add(a,b):\n",
    "    print(a+b)\n",
    "\n",
    "def add(a,b):\n",
    "    print(a-b)\n",
    "\n",
    "def add(a,b):\n",
    "    print(a*b)\n",
    "\n",
    "def add(a,b):\n",
    "    print(a/b)\n",
    "\n",
    "def calculator():\n",
    "    print('option 1: addition')\n",
    "    \n",
    "    \n",
    "    "
   ]
  },
  {
   "cell_type": "code",
   "execution_count": null,
   "id": "15007bc1-424b-45f4-8473-47f1d523b670",
   "metadata": {},
   "outputs": [],
   "source": []
  }
 ],
 "metadata": {
  "kernelspec": {
   "display_name": "Python 3 (ipykernel)",
   "language": "python",
   "name": "python3"
  },
  "language_info": {
   "codemirror_mode": {
    "name": "ipython",
    "version": 3
   },
   "file_extension": ".py",
   "mimetype": "text/x-python",
   "name": "python",
   "nbconvert_exporter": "python",
   "pygments_lexer": "ipython3",
   "version": "3.11.7"
  }
 },
 "nbformat": 4,
 "nbformat_minor": 5
}
