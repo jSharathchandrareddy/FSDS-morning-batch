{
 "cells": [
  {
   "cell_type": "markdown",
   "id": "8d15a84c-a1f7-497a-b4bd-bc10d7661787",
   "metadata": {},
   "source": [
    "# Type Casting"
   ]
  },
  {
   "cell_type": "code",
   "execution_count": null,
   "id": "27abcad7-fe61-4238-8a68-25993339ae90",
   "metadata": {},
   "outputs": [],
   "source": [
    "- integer data type int\n",
    "\n",
    "- float data type float\n",
    "\n",
    "- string data type str\n",
    "\n",
    "- Boolean data type bool"
   ]
  },
  {
   "cell_type": "code",
   "execution_count": null,
   "id": "9effa3e9-91f2-4394-9f32-a59b8915319a",
   "metadata": {},
   "outputs": [],
   "source": [
    "**type casting **\n",
    "\n",
    "- convert one data tyoe to another datatype is called as type casting\n",
    "\n",
    "- Which means we want to convert\n",
    "\n",
    "- integer type to all other(float,str,bool) datatype"
   ]
  },
  {
   "cell_type": "markdown",
   "id": "0b19ad6c-36a5-4e82-a79f-2acb070a1d9e",
   "metadata": {},
   "source": [
    "# int - float #"
   ]
  },
  {
   "cell_type": "code",
   "execution_count": 4,
   "id": "05d2b670-3eef-4710-a902-acea62b21845",
   "metadata": {},
   "outputs": [
    {
     "data": {
      "text/plain": [
       "int"
      ]
     },
     "execution_count": 4,
     "metadata": {},
     "output_type": "execute_result"
    }
   ],
   "source": [
    "num=100\n",
    "type(num)"
   ]
  },
  {
   "cell_type": "code",
   "execution_count": 6,
   "id": "950113de-8167-499e-a9ab-e6eea9c33465",
   "metadata": {},
   "outputs": [
    {
     "data": {
      "text/plain": [
       "float"
      ]
     },
     "execution_count": 6,
     "metadata": {},
     "output_type": "execute_result"
    }
   ],
   "source": [
    "float_num=float(num)\n",
    "type(float_num)"
   ]
  },
  {
   "cell_type": "code",
   "execution_count": 8,
   "id": "709cccb4-c028-414d-8567-dfd9979ffade",
   "metadata": {},
   "outputs": [
    {
     "data": {
      "text/plain": [
       "'100'"
      ]
     },
     "execution_count": 8,
     "metadata": {},
     "output_type": "execute_result"
    }
   ],
   "source": [
    "str_num=str(num)\n",
    "str_num"
   ]
  },
  {
   "cell_type": "code",
   "execution_count": 10,
   "id": "acfbe3a3-7457-4ddc-89e1-cb0344b0603b",
   "metadata": {},
   "outputs": [
    {
     "data": {
      "text/plain": [
       "str"
      ]
     },
     "execution_count": 10,
     "metadata": {},
     "output_type": "execute_result"
    }
   ],
   "source": [
    "type(str_num)"
   ]
  },
  {
   "cell_type": "code",
   "execution_count": 12,
   "id": "8cc1a208-fab5-4268-b7c3-57a80b7294c3",
   "metadata": {},
   "outputs": [
    {
     "data": {
      "text/plain": [
       "True"
      ]
     },
     "execution_count": 12,
     "metadata": {},
     "output_type": "execute_result"
    }
   ],
   "source": [
    "bool(num)"
   ]
  },
  {
   "cell_type": "code",
   "execution_count": 18,
   "id": "1a002d2f-f840-4512-a5b1-efa2b275c1c7",
   "metadata": {},
   "outputs": [
    {
     "data": {
      "text/plain": [
       "(200.0, '200', True)"
      ]
     },
     "execution_count": 18,
     "metadata": {},
     "output_type": "execute_result"
    }
   ],
   "source": [
    "float(200),str(200),bool(200)"
   ]
  },
  {
   "cell_type": "code",
   "execution_count": 24,
   "id": "1886d724-8d88-4781-a674-281cb7724eec",
   "metadata": {},
   "outputs": [
    {
     "data": {
      "text/plain": [
       "(-200.0, '-200', True)"
      ]
     },
     "execution_count": 24,
     "metadata": {},
     "output_type": "execute_result"
    }
   ],
   "source": [
    "float(-200),str(-200),bool(200)"
   ]
  },
  {
   "cell_type": "code",
   "execution_count": 26,
   "id": "049c5933-85ee-4aaf-8888-989021b5a97b",
   "metadata": {},
   "outputs": [
    {
     "data": {
      "text/plain": [
       "False"
      ]
     },
     "execution_count": 26,
     "metadata": {},
     "output_type": "execute_result"
    }
   ],
   "source": [
    "# when integer of boolean converation become False\n",
    "bool(0)"
   ]
  },
  {
   "cell_type": "markdown",
   "id": "5199a224-e4b1-459b-8d60-b0ac1a34b49f",
   "metadata": {},
   "source": [
    "**NOTE**\n",
    "\n",
    "- Integer = 0 then only boolena conversion becomes False \n",
    "\n",
    "- Otherwise for any positive number or negative number it becomes True"
   ]
  },
  {
   "cell_type": "markdown",
   "id": "650bb310-4627-446d-a74f-4838dc5cbd47",
   "metadata": {},
   "source": [
    "## Float to another data type"
   ]
  },
  {
   "cell_type": "code",
   "execution_count": 40,
   "id": "ce71b54f-5bce-4a14-b534-4cd4b5c1d3c1",
   "metadata": {},
   "outputs": [
    {
     "data": {
      "text/plain": [
       "(200, '200.5', True)"
      ]
     },
     "execution_count": 40,
     "metadata": {},
     "output_type": "execute_result"
    }
   ],
   "source": [
    "float(200),str(200),bool(200)"
   ]
  },
  {
   "cell_type": "code",
   "execution_count": 44,
   "id": "5beb8081-573c-491a-9306-3de6fe1e31d1",
   "metadata": {},
   "outputs": [
    {
     "data": {
      "text/plain": [
       "(200, '200.5', False)"
      ]
     },
     "execution_count": 44,
     "metadata": {},
     "output_type": "execute_result"
    }
   ],
   "source": [
    "int(200.5),str(200.5),bool(0.0)"
   ]
  },
  {
   "cell_type": "markdown",
   "id": "03f40922-f1e7-49ce-ac95-71a7fbf872eb",
   "metadata": {},
   "source": [
    "## String to another data types"
   ]
  },
  {
   "cell_type": "code",
   "execution_count": 9,
   "id": "c0cb8f24-0a0c-46ad-9337-bf190ccc6af5",
   "metadata": {},
   "outputs": [
    {
     "ename": "NameError",
     "evalue": "name 'apple' is not defined",
     "output_type": "error",
     "traceback": [
      "\u001b[1;31m---------------------------------------------------------------------------\u001b[0m",
      "\u001b[1;31mNameError\u001b[0m                                 Traceback (most recent call last)",
      "Cell \u001b[1;32mIn[9], line 1\u001b[0m\n\u001b[1;32m----> 1\u001b[0m \u001b[38;5;28mint\u001b[39m(apple)\n",
      "\u001b[1;31mNameError\u001b[0m: name 'apple' is not defined"
     ]
    }
   ],
   "source": [
    "int(apple)"
   ]
  },
  {
   "cell_type": "code",
   "execution_count": 11,
   "id": "379c1a2c-afd8-4795-9cd3-8fb430afdc51",
   "metadata": {},
   "outputs": [
    {
     "ename": "NameError",
     "evalue": "name 'apple' is not defined",
     "output_type": "error",
     "traceback": [
      "\u001b[1;31m---------------------------------------------------------------------------\u001b[0m",
      "\u001b[1;31mNameError\u001b[0m                                 Traceback (most recent call last)",
      "Cell \u001b[1;32mIn[11], line 1\u001b[0m\n\u001b[1;32m----> 1\u001b[0m \u001b[38;5;28mfloat\u001b[39m(apple)\n",
      "\u001b[1;31mNameError\u001b[0m: name 'apple' is not defined"
     ]
    }
   ],
   "source": [
    "float(apple)"
   ]
  },
  {
   "cell_type": "code",
   "execution_count": 13,
   "id": "36849ea9-d5af-4574-819f-3223e9154bae",
   "metadata": {},
   "outputs": [
    {
     "ename": "NameError",
     "evalue": "name 'apple' is not defined",
     "output_type": "error",
     "traceback": [
      "\u001b[1;31m---------------------------------------------------------------------------\u001b[0m",
      "\u001b[1;31mNameError\u001b[0m                                 Traceback (most recent call last)",
      "Cell \u001b[1;32mIn[13], line 1\u001b[0m\n\u001b[1;32m----> 1\u001b[0m \u001b[38;5;28mbool\u001b[39m(apple)\n",
      "\u001b[1;31mNameError\u001b[0m: name 'apple' is not defined"
     ]
    }
   ],
   "source": [
    "bool(apple)"
   ]
  },
  {
   "cell_type": "code",
   "execution_count": 15,
   "id": "6a3e6710-74dc-44a6-a061-8844313c8b79",
   "metadata": {},
   "outputs": [
    {
     "data": {
      "text/plain": [
       "True"
      ]
     },
     "execution_count": 15,
     "metadata": {},
     "output_type": "execute_result"
    }
   ],
   "source": [
    "bool('0')"
   ]
  },
  {
   "cell_type": "markdown",
   "id": "d752b348-e512-4120-ad26-222a09b3a30b",
   "metadata": {},
   "source": [
    "- Float is the boss\n",
    "\n",
    "- Float of any value either it is integer in strings format\n",
    "\n",
    "- Or float in strings format will work\n",
    "\n",
    "- But integer will works only for integer in strings format\n",
    "\n",
    "- Integer type casting will fail for float in strings format"
   ]
  },
  {
   "cell_type": "code",
   "execution_count": 22,
   "id": "1c8f3ad0-a100-4ac8-9d8c-d400b8e0184b",
   "metadata": {},
   "outputs": [
    {
     "data": {
      "text/plain": [
       "False"
      ]
     },
     "execution_count": 22,
     "metadata": {},
     "output_type": "execute_result"
    }
   ],
   "source": [
    "bool()"
   ]
  },
  {
   "cell_type": "markdown",
   "id": "0c233f05-d797-41c3-b25c-0d087f7d6a2d",
   "metadata": {},
   "source": [
    "- Empty string of boolean give flase\n",
    "\n",
    "- False means nothing either 0 or empty string"
   ]
  },
  {
   "cell_type": "code",
   "execution_count": 88,
   "id": "e44641c5-87a4-451e-95e8-bad6bfc35dc4",
   "metadata": {},
   "outputs": [],
   "source": [
    "## Boolean to other data types"
   ]
  },
  {
   "cell_type": "code",
   "execution_count": 100,
   "id": "8bc99106-dcce-4507-9c5d-d2c832e61cd7",
   "metadata": {},
   "outputs": [
    {
     "data": {
      "text/plain": [
       "True"
      ]
     },
     "execution_count": 100,
     "metadata": {},
     "output_type": "execute_result"
    }
   ],
   "source": [
    "bool(1000.5)"
   ]
  },
  {
   "cell_type": "code",
   "execution_count": 104,
   "id": "92653caf-d6a7-47ab-ba21-b521483f15e8",
   "metadata": {},
   "outputs": [
    {
     "data": {
      "text/plain": [
       "1"
      ]
     },
     "execution_count": 104,
     "metadata": {},
     "output_type": "execute_result"
    }
   ],
   "source": [
    "int(True)"
   ]
  },
  {
   "cell_type": "code",
   "execution_count": 106,
   "id": "29d9ef37-9b32-408c-a079-e7c28f086a52",
   "metadata": {},
   "outputs": [
    {
     "data": {
      "text/plain": [
       "1.0"
      ]
     },
     "execution_count": 106,
     "metadata": {},
     "output_type": "execute_result"
    }
   ],
   "source": [
    "float(True)"
   ]
  },
  {
   "cell_type": "code",
   "execution_count": 1,
   "id": "aae9ada7-97c1-44f2-99fb-bdcf6f1b06f8",
   "metadata": {},
   "outputs": [
    {
     "data": {
      "text/plain": [
       "'True'"
      ]
     },
     "execution_count": 1,
     "metadata": {},
     "output_type": "execute_result"
    }
   ],
   "source": [
    "str(True)"
   ]
  },
  {
   "cell_type": "code",
   "execution_count": 3,
   "id": "e85c760d-a7a1-4b0a-98b7-9445c43a908e",
   "metadata": {},
   "outputs": [
    {
     "data": {
      "text/plain": [
       "(0, 0.0, 'False')"
      ]
     },
     "execution_count": 3,
     "metadata": {},
     "output_type": "execute_result"
    }
   ],
   "source": [
    "int(False), float(False), str(False)"
   ]
  },
  {
   "cell_type": "code",
   "execution_count": 18,
   "id": "99fbb046-2b0e-450e-b896-beb4324d582d",
   "metadata": {},
   "outputs": [
    {
     "data": {
      "text/plain": [
       "(100.0, '100', True)"
      ]
     },
     "execution_count": 18,
     "metadata": {},
     "output_type": "execute_result"
    }
   ],
   "source": [
    "float(100),str(100),bool(100)  #int to other  "
   ]
  },
  {
   "cell_type": "code",
   "execution_count": 20,
   "id": "85a2deaa-332f-43c0-90bf-91c996a6823b",
   "metadata": {},
   "outputs": [
    {
     "data": {
      "text/plain": [
       "(100, '100.5', True)"
      ]
     },
     "execution_count": 20,
     "metadata": {},
     "output_type": "execute_result"
    }
   ],
   "source": [
    "int(100.5),str(100.5),bool(100.5)  #float to other"
   ]
  },
  {
   "cell_type": "code",
   "execution_count": 26,
   "id": "50f5a6ed-5227-44e2-89f3-7229da4f5903",
   "metadata": {},
   "outputs": [
    {
     "ename": "NameError",
     "evalue": "name 'apple' is not defined",
     "output_type": "error",
     "traceback": [
      "\u001b[1;31m---------------------------------------------------------------------------\u001b[0m",
      "\u001b[1;31mNameError\u001b[0m                                 Traceback (most recent call last)",
      "Cell \u001b[1;32mIn[26], line 1\u001b[0m\n\u001b[1;32m----> 1\u001b[0m \u001b[38;5;28mint\u001b[39m(apple), \u001b[38;5;28mfloat\u001b[39m(apple), \u001b[38;5;28mbool\u001b[39m(apple)\n",
      "\u001b[1;31mNameError\u001b[0m: name 'apple' is not defined"
     ]
    }
   ],
   "source": [
    "int(apple), float(apple), bool(apple) #string to other"
   ]
  },
  {
   "cell_type": "code",
   "execution_count": 30,
   "id": "c1a18816-5e01-453a-a187-d11eb4c6dc6c",
   "metadata": {},
   "outputs": [
    {
     "data": {
      "text/plain": [
       "(1, 0.0, 'False')"
      ]
     },
     "execution_count": 30,
     "metadata": {},
     "output_type": "execute_result"
    }
   ],
   "source": [
    "int(True), float(False), str(False) ## bool to other"
   ]
  },
  {
   "cell_type": "code",
   "execution_count": null,
   "id": "751c4946-b701-41a3-a2c9-5457fc40339d",
   "metadata": {},
   "outputs": [],
   "source": []
  }
 ],
 "metadata": {
  "kernelspec": {
   "display_name": "Python 3 (ipykernel)",
   "language": "python",
   "name": "python3"
  },
  "language_info": {
   "codemirror_mode": {
    "name": "ipython",
    "version": 3
   },
   "file_extension": ".py",
   "mimetype": "text/x-python",
   "name": "python",
   "nbconvert_exporter": "python",
   "pygments_lexer": "ipython3",
   "version": "3.11.7"
  }
 },
 "nbformat": 4,
 "nbformat_minor": 5
}
