{
 "cells": [
  {
   "cell_type": "markdown",
   "id": "d61e8df9-d63f-4566-b564-d263737de9b2",
   "metadata": {},
   "source": [
    "### Strings"
   ]
  },
  {
   "cell_type": "code",
   "execution_count": null,
   "id": "985dbb13-f70b-4f39-9b57-1b97bbc59a26",
   "metadata": {},
   "outputs": [],
   "source": [
    "#========PART-1================\n",
    "- Intialization\n",
    "\n",
    "- Type\n",
    "\n",
    "-len\n",
    "\n",
    "-max\n",
    "\n",
    "- min\n",
    "\n",
    "- sorted\n",
    "\n",
    "- reveresed\n",
    "\n",
    "- in\n",
    "\n",
    "-for loop using index\n",
    "\n",
    "- mutable\n",
    "\n",
    "- concatenation\n",
    "\n",
    "#================PART-2=============\n",
    "- Method"
   ]
  },
  {
   "cell_type": "markdown",
   "id": "8bc35a6f-8d6a-4fb4-9c60-31873ada3dca",
   "metadata": {},
   "source": [
    "**Intialization**"
   ]
  },
  {
   "cell_type": "code",
   "execution_count": 7,
   "id": "ef4d6dfa-33be-4ac8-aef4-6c77bbf7f409",
   "metadata": {},
   "outputs": [
    {
     "data": {
      "text/plain": [
       "'python'"
      ]
     },
     "execution_count": 7,
     "metadata": {},
     "output_type": "execute_result"
    }
   ],
   "source": [
    "str1='python'\n",
    "str1"
   ]
  },
  {
   "cell_type": "code",
   "execution_count": 9,
   "id": "8396ae18-88fc-45a8-a052-3054bf23a66c",
   "metadata": {},
   "outputs": [
    {
     "data": {
      "text/plain": [
       "'python'"
      ]
     },
     "execution_count": 9,
     "metadata": {},
     "output_type": "execute_result"
    }
   ],
   "source": [
    "str2=\"python\"\n",
    "str2"
   ]
  },
  {
   "cell_type": "code",
   "execution_count": 11,
   "id": "1a8e97b8-accf-4498-b6b9-912dc693ed6b",
   "metadata": {},
   "outputs": [
    {
     "name": "stdout",
     "output_type": "stream",
     "text": [
      "python\n"
     ]
    }
   ],
   "source": [
    "print(str1) # Do not confuse im not seeing the quotes"
   ]
  },
  {
   "cell_type": "markdown",
   "id": "91f6898e-549e-4818-8c04-9978cc6766c2",
   "metadata": {},
   "source": [
    "**Note**\n",
    "\n",
    "- If we mentioned single quotes or double quotes by default python provides in single quotes only\n",
    "\n",
    "- If we print the strings, we will answer without quotes"
   ]
  },
  {
   "cell_type": "markdown",
   "id": "80b4e91a-acb0-4e37-9076-c790ecc89606",
   "metadata": {},
   "source": [
    "**Triple quotes**"
   ]
  },
  {
   "cell_type": "code",
   "execution_count": 18,
   "id": "182294ed-9ef4-4e58-a481-a09d9e5ba85b",
   "metadata": {},
   "outputs": [
    {
     "data": {
      "text/plain": [
       "'hi how are you\\n        i am good'"
      ]
     },
     "execution_count": 18,
     "metadata": {},
     "output_type": "execute_result"
    }
   ],
   "source": [
    "str3=\"\"\"hi how are you\n",
    "    i am good\"\"\"\n",
    "str3"
   ]
  },
  {
   "cell_type": "code",
   "execution_count": 24,
   "id": "328a51df-3107-43bd-88b7-21455ce870dd",
   "metadata": {},
   "outputs": [
    {
     "name": "stdout",
     "output_type": "stream",
     "text": [
      "hi how are you\n",
      "        i am good\n"
     ]
    }
   ],
   "source": [
    "print(str3)"
   ]
  },
  {
   "cell_type": "markdown",
   "id": "fe999017-aac9-4048-bd0f-c0f3c7f3d1de",
   "metadata": {},
   "source": [
    "**Note**\n",
    "- Triple quotes are using doc string\n",
    "\n",
    "- In order to convey the information about coding part will use doc string"
   ]
  },
  {
   "cell_type": "markdown",
   "id": "8ac57a41-35de-43a6-9177-6c3751224783",
   "metadata": {},
   "source": [
    "**Type**"
   ]
  },
  {
   "cell_type": "code",
   "execution_count": 28,
   "id": "fdddf6d3-baf9-4e47-a223-2da97db37913",
   "metadata": {},
   "outputs": [
    {
     "data": {
      "text/plain": [
       "str"
      ]
     },
     "execution_count": 28,
     "metadata": {},
     "output_type": "execute_result"
    }
   ],
   "source": [
    "type(str1) #type is string time"
   ]
  },
  {
   "cell_type": "code",
   "execution_count": 32,
   "id": "3a8f3f9f-fc22-41e5-bc08-e7acbb69c5b1",
   "metadata": {},
   "outputs": [
    {
     "data": {
      "text/plain": [
       "'10'"
      ]
     },
     "execution_count": 32,
     "metadata": {},
     "output_type": "execute_result"
    }
   ],
   "source": [
    "str4='10'\n",
    "str4"
   ]
  },
  {
   "cell_type": "code",
   "execution_count": null,
   "id": "1a7cda3b-6398-408a-b7b4-7b08ffc6995f",
   "metadata": {},
   "outputs": [],
   "source": [
    "str5='10.5'\n",
    "str6='123abc'"
   ]
  },
  {
   "cell_type": "markdown",
   "id": "67547427-be83-4912-9ab9-ed58abf4ccb2",
   "metadata": {},
   "source": [
    "**Note**\n",
    "- Anything inside single and double quotes in red colour is string"
   ]
  },
  {
   "cell_type": "markdown",
   "id": "3fe3e9d4-6bcb-445f-8472-3ff4bc21fffb",
   "metadata": {},
   "source": [
    "**len(length**)"
   ]
  },
  {
   "cell_type": "code",
   "execution_count": 38,
   "id": "cf4be2ef-bd69-4a1a-8ea6-42702ae3e78d",
   "metadata": {},
   "outputs": [
    {
     "data": {
      "text/plain": [
       "6"
      ]
     },
     "execution_count": 38,
     "metadata": {},
     "output_type": "execute_result"
    }
   ],
   "source": [
    "len(str1)"
   ]
  },
  {
   "cell_type": "code",
   "execution_count": 40,
   "id": "59b8b3b6-c59e-45e7-bc34-443634c2a1bd",
   "metadata": {},
   "outputs": [
    {
     "data": {
      "text/plain": [
       "12"
      ]
     },
     "execution_count": 40,
     "metadata": {},
     "output_type": "execute_result"
    }
   ],
   "source": [
    "str1='sharathreddy'\n",
    "len(str1)"
   ]
  },
  {
   "cell_type": "markdown",
   "id": "5bc8b44d-2fb5-49b3-b7d1-fab4cc9c0318",
   "metadata": {},
   "source": [
    "**Max and Min**"
   ]
  },
  {
   "cell_type": "code",
   "execution_count": 45,
   "id": "ac009b4d-424b-44fb-a16f-a0721b312d33",
   "metadata": {},
   "outputs": [
    {
     "data": {
      "text/plain": [
       "'y'"
      ]
     },
     "execution_count": 45,
     "metadata": {},
     "output_type": "execute_result"
    }
   ],
   "source": [
    "max(str1)"
   ]
  },
  {
   "cell_type": "code",
   "execution_count": 47,
   "id": "492af80d-e75d-4337-983a-c4ed06584f91",
   "metadata": {},
   "outputs": [
    {
     "data": {
      "text/plain": [
       "'a'"
      ]
     },
     "execution_count": 47,
     "metadata": {},
     "output_type": "execute_result"
    }
   ],
   "source": [
    "min(str1)"
   ]
  },
  {
   "cell_type": "code",
   "execution_count": 54,
   "id": "f777d63b-7bce-4bbc-9c7a-833440777115",
   "metadata": {},
   "outputs": [
    {
     "data": {
      "text/plain": [
       "(115, 104, 97, 114, 97, 116, 104, 121)"
      ]
     },
     "execution_count": 54,
     "metadata": {},
     "output_type": "execute_result"
    }
   ],
   "source": [
    "ord('s'),ord('h'),ord('a'),ord('r'),ord('a'),ord('t'),ord('h'),ord('y')"
   ]
  },
  {
   "cell_type": "markdown",
   "id": "c63a5120-21ae-45a6-b5c3-b94a90dc84b0",
   "metadata": {},
   "source": [
    "**Keywords vs methods**"
   ]
  },
  {
   "cell_type": "code",
   "execution_count": null,
   "id": "0e82724f-0c16-4f98-9afe-67459092d133",
   "metadata": {},
   "outputs": [],
   "source": [
    "type(<>)\n",
    "print(<>)\n",
    "len(<>)\n",
    "max(<>)\n",
    "min(<>)\n",
    "eval(<>)\n",
    "input(<>)"
   ]
  },
  {
   "cell_type": "code",
   "execution_count": null,
   "id": "6da9b4e3-e3df-452e-a616-61f243817d7c",
   "metadata": {},
   "outputs": [],
   "source": [
    "- in order to use methods we need to call package\n",
    "\n",
    "import random\n",
    "random.randint()"
   ]
  },
  {
   "cell_type": "markdown",
   "id": "67e86b81-8998-46f2-8f5f-29cec00a54b3",
   "metadata": {},
   "source": [
    "**sum**"
   ]
  },
  {
   "cell_type": "code",
   "execution_count": 58,
   "id": "aea5b296-0cfe-4442-beb1-eff0b4934390",
   "metadata": {},
   "outputs": [
    {
     "ename": "TypeError",
     "evalue": "unsupported operand type(s) for +: 'int' and 'str'",
     "output_type": "error",
     "traceback": [
      "\u001b[1;31m---------------------------------------------------------------------------\u001b[0m",
      "\u001b[1;31mTypeError\u001b[0m                                 Traceback (most recent call last)",
      "Cell \u001b[1;32mIn[58], line 2\u001b[0m\n\u001b[0;32m      1\u001b[0m str1\u001b[38;5;241m=\u001b[39m\u001b[38;5;124m'\u001b[39m\u001b[38;5;124mpython\u001b[39m\u001b[38;5;124m'\u001b[39m\n\u001b[1;32m----> 2\u001b[0m \u001b[38;5;28msum\u001b[39m(str1)\n",
      "\u001b[1;31mTypeError\u001b[0m: unsupported operand type(s) for +: 'int' and 'str'"
     ]
    }
   ],
   "source": [
    "str1='python'\n",
    "sum(str1)"
   ]
  },
  {
   "cell_type": "markdown",
   "id": "e22d412f-07c2-4169-be35-4b14707f0f3e",
   "metadata": {},
   "source": [
    "**sorted**"
   ]
  },
  {
   "cell_type": "code",
   "execution_count": 61,
   "id": "6e076bca-610a-42b0-8551-e68fb31b4eba",
   "metadata": {},
   "outputs": [
    {
     "data": {
      "text/plain": [
       "6"
      ]
     },
     "execution_count": 61,
     "metadata": {},
     "output_type": "execute_result"
    }
   ],
   "source": [
    "len('python')"
   ]
  },
  {
   "cell_type": "code",
   "execution_count": 63,
   "id": "565f43bf-e4bc-41af-8193-d54aad32de62",
   "metadata": {},
   "outputs": [
    {
     "data": {
      "text/plain": [
       "['h', 'n', 'o', 'p', 't', 'y']"
      ]
     },
     "execution_count": 63,
     "metadata": {},
     "output_type": "execute_result"
    }
   ],
   "source": [
    "sorted('python')"
   ]
  },
  {
   "cell_type": "markdown",
   "id": "ddef21a0-5099-47e2-9cf8-5e9f1cee4f72",
   "metadata": {},
   "source": [
    "- sorted give ascending order based on ASCII numbers\n",
    "\n",
    "- sorted is kind of a function\n",
    "\n",
    "- Every function we have arguments\n",
    "\n",
    "- In that one default argument is **reverse=false**\n",
    "\n",
    "- By default sorted output gives **ascending order**\n",
    "\n",
    "- we can change the order, by providing **reverse=True**\n",
    "\n",
    "- if we do not mention, it will give the default answer"
   ]
  },
  {
   "cell_type": "code",
   "execution_count": 68,
   "id": "f42e703e-52a1-474e-b4ac-262fac5009d9",
   "metadata": {},
   "outputs": [
    {
     "data": {
      "text/plain": [
       "['y', 't', 'p', 'o', 'n', 'h']"
      ]
     },
     "execution_count": 68,
     "metadata": {},
     "output_type": "execute_result"
    }
   ],
   "source": [
    "sorted('python', reverse=True)"
   ]
  },
  {
   "cell_type": "code",
   "execution_count": 70,
   "id": "0a5188a0-5e77-47cc-9518-408db894daeb",
   "metadata": {},
   "outputs": [
    {
     "data": {
      "text/plain": [
       "(10+20j)"
      ]
     },
     "execution_count": 70,
     "metadata": {},
     "output_type": "execute_result"
    }
   ],
   "source": [
    "complex(10,20)"
   ]
  },
  {
   "cell_type": "code",
   "execution_count": 74,
   "id": "9a016dfa-40e2-49b2-af7c-db2c577abfc1",
   "metadata": {},
   "outputs": [
    {
     "data": {
      "text/plain": [
       "0j"
      ]
     },
     "execution_count": 74,
     "metadata": {},
     "output_type": "execute_result"
    }
   ],
   "source": [
    "complex()  #"
   ]
  },
  {
   "cell_type": "code",
   "execution_count": 76,
   "id": "2bc16ad4-7265-4f40-848a-cbbf83773273",
   "metadata": {},
   "outputs": [
    {
     "data": {
      "text/plain": [
       "(10+30j)"
      ]
     },
     "execution_count": 76,
     "metadata": {},
     "output_type": "execute_result"
    }
   ],
   "source": [
    "complex(real=10,imag=30)"
   ]
  },
  {
   "cell_type": "code",
   "execution_count": 93,
   "id": "a05bd3db-a320-4b6a-8119-451104f68427",
   "metadata": {},
   "outputs": [
    {
     "ename": "TypeError",
     "evalue": "Random.randint() missing 2 required positional arguments: 'a' and 'b'",
     "output_type": "error",
     "traceback": [
      "\u001b[1;31m---------------------------------------------------------------------------\u001b[0m",
      "\u001b[1;31mTypeError\u001b[0m                                 Traceback (most recent call last)",
      "Cell \u001b[1;32mIn[93], line 2\u001b[0m\n\u001b[0;32m      1\u001b[0m \u001b[38;5;28;01mimport\u001b[39;00m \u001b[38;5;21;01mrandom\u001b[39;00m\n\u001b[1;32m----> 2\u001b[0m random\u001b[38;5;241m.\u001b[39mrandint()\n",
      "\u001b[1;31mTypeError\u001b[0m: Random.randint() missing 2 required positional arguments: 'a' and 'b'"
     ]
    }
   ],
   "source": [
    "import random\n",
    "random.randint()"
   ]
  },
  {
   "cell_type": "code",
   "execution_count": 91,
   "id": "46749b8c-4345-4b09-a1b4-c4ca6d3df3b1",
   "metadata": {},
   "outputs": [
    {
     "ename": "NameError",
     "evalue": "name 'function' is not defined",
     "output_type": "error",
     "traceback": [
      "\u001b[1;31m---------------------------------------------------------------------------\u001b[0m",
      "\u001b[1;31mNameError\u001b[0m                                 Traceback (most recent call last)",
      "Cell \u001b[1;32mIn[91], line 1\u001b[0m\n\u001b[1;32m----> 1\u001b[0m function()\n\u001b[0;32m      2\u001b[0m \u001b[38;5;28mprint\u001b[39m(function)\n",
      "\u001b[1;31mNameError\u001b[0m: name 'function' is not defined"
     ]
    }
   ],
   "source": [
    "function()\n",
    "print(function)"
   ]
  },
  {
   "cell_type": "code",
   "execution_count": 87,
   "id": "60d7f098-2e30-4a48-ae1e-994cba4c7c64",
   "metadata": {},
   "outputs": [
    {
     "ename": "NameError",
     "evalue": "name 'function' is not defined",
     "output_type": "error",
     "traceback": [
      "\u001b[1;31m---------------------------------------------------------------------------\u001b[0m",
      "\u001b[1;31mNameError\u001b[0m                                 Traceback (most recent call last)",
      "Cell \u001b[1;32mIn[87], line 1\u001b[0m\n\u001b[1;32m----> 1\u001b[0m function(a,b)\n",
      "\u001b[1;31mNameError\u001b[0m: name 'function' is not defined"
     ]
    }
   ],
   "source": [
    "function(a,b)"
   ]
  },
  {
   "cell_type": "code",
   "execution_count": 89,
   "id": "02adee11-5b3b-4bf5-b0ab-4df153962455",
   "metadata": {},
   "outputs": [
    {
     "ename": "NameError",
     "evalue": "name 'function' is not defined",
     "output_type": "error",
     "traceback": [
      "\u001b[1;31m---------------------------------------------------------------------------\u001b[0m",
      "\u001b[1;31mNameError\u001b[0m                                 Traceback (most recent call last)",
      "Cell \u001b[1;32mIn[89], line 1\u001b[0m\n\u001b[1;32m----> 1\u001b[0m function(a\u001b[38;5;241m=\u001b[39m\u001b[38;5;241m10\u001b[39m,b\u001b[38;5;241m=\u001b[39m\u001b[38;5;241m10\u001b[39m)\n",
      "\u001b[1;31mNameError\u001b[0m: name 'function' is not defined"
     ]
    }
   ],
   "source": [
    "function(a=10,b=10)"
   ]
  },
  {
   "cell_type": "code",
   "execution_count": 97,
   "id": "95b8ff40-027b-419e-a004-65a6aef9c0ba",
   "metadata": {},
   "outputs": [
    {
     "data": {
      "text/plain": [
       "0.1782047370769344"
      ]
     },
     "execution_count": 97,
     "metadata": {},
     "output_type": "execute_result"
    }
   ],
   "source": [
    "import random\n",
    "random.random() #we will get answer but answer is not ur hand "
   ]
  },
  {
   "cell_type": "code",
   "execution_count": 99,
   "id": "82b3c092-2ac9-487b-8a87-962a79293c97",
   "metadata": {},
   "outputs": [
    {
     "data": {
      "text/plain": [
       "14"
      ]
     },
     "execution_count": 99,
     "metadata": {},
     "output_type": "execute_result"
    }
   ],
   "source": [
    "import random\n",
    "random.randint(10,20)"
   ]
  },
  {
   "cell_type": "code",
   "execution_count": 102,
   "id": "5d8162cd-9dbd-4bd6-97b9-f30aa9c1b778",
   "metadata": {},
   "outputs": [
    {
     "data": {
      "text/plain": [
       "0j"
      ]
     },
     "execution_count": 102,
     "metadata": {},
     "output_type": "execute_result"
    }
   ],
   "source": [
    "complex() #by default ans is 0,0"
   ]
  },
  {
   "cell_type": "code",
   "execution_count": 104,
   "id": "06b47373-1f92-4a17-9312-4b3de672b54b",
   "metadata": {},
   "outputs": [
    {
     "data": {
      "text/plain": [
       "(10+20j)"
      ]
     },
     "execution_count": 104,
     "metadata": {},
     "output_type": "execute_result"
    }
   ],
   "source": [
    "complex(10,20)"
   ]
  },
  {
   "cell_type": "code",
   "execution_count": 106,
   "id": "f7274393-86b1-4ea3-a393-6b81af05ee16",
   "metadata": {},
   "outputs": [
    {
     "ename": "TypeError",
     "evalue": "sorted expected 1 argument, got 0",
     "output_type": "error",
     "traceback": [
      "\u001b[1;31m---------------------------------------------------------------------------\u001b[0m",
      "\u001b[1;31mTypeError\u001b[0m                                 Traceback (most recent call last)",
      "Cell \u001b[1;32mIn[106], line 1\u001b[0m\n\u001b[1;32m----> 1\u001b[0m \u001b[38;5;28msorted\u001b[39m(iterable\u001b[38;5;241m=\u001b[39m\u001b[38;5;124m'\u001b[39m\u001b[38;5;124mpython\u001b[39m\u001b[38;5;124m'\u001b[39m)\n",
      "\u001b[1;31mTypeError\u001b[0m: sorted expected 1 argument, got 0"
     ]
    }
   ],
   "source": [
    "sorted(iterable='python')\n"
   ]
  },
  {
   "cell_type": "code",
   "execution_count": 108,
   "id": "b4d65db9-1adf-4f96-8bbe-58e970c3f423",
   "metadata": {},
   "outputs": [
    {
     "ename": "TypeError",
     "evalue": "sorted expected 1 argument, got 0",
     "output_type": "error",
     "traceback": [
      "\u001b[1;31m---------------------------------------------------------------------------\u001b[0m",
      "\u001b[1;31mTypeError\u001b[0m                                 Traceback (most recent call last)",
      "Cell \u001b[1;32mIn[108], line 1\u001b[0m\n\u001b[1;32m----> 1\u001b[0m \u001b[38;5;28msorted\u001b[39m(iterable\u001b[38;5;241m=\u001b[39m\u001b[38;5;124m'\u001b[39m\u001b[38;5;124mpython\u001b[39m\u001b[38;5;124m'\u001b[39m)\n\u001b[0;32m      2\u001b[0m random\u001b[38;5;241m.\u001b[39mrandint(a\u001b[38;5;241m=\u001b[39m\u001b[38;5;241m10\u001b[39m,b\u001b[38;5;241m=\u001b[39m\u001b[38;5;241m30\u001b[39m)\n",
      "\u001b[1;31mTypeError\u001b[0m: sorted expected 1 argument, got 0"
     ]
    }
   ],
   "source": [
    "sorted(iterable='python')\n",
    "random.randint(a=10,b=30)"
   ]
  },
  {
   "cell_type": "code",
   "execution_count": 110,
   "id": "b79be781-de42-486f-b4ac-a949e00bf303",
   "metadata": {},
   "outputs": [
    {
     "data": {
      "text/plain": [
       "26"
      ]
     },
     "execution_count": 110,
     "metadata": {},
     "output_type": "execute_result"
    }
   ],
   "source": [
    "random.randint(a=10,b=30)"
   ]
  },
  {
   "cell_type": "code",
   "execution_count": null,
   "id": "fb91eab1-c19b-4247-bfd9-4721aef9e6cc",
   "metadata": {},
   "outputs": [],
   "source": [
    "**Note**\n",
    "\n",
    "- we have arguments before / and after slash\n",
    "\n",
    "- we can use the argument names after / only\n",
    "\n",
    "- For example sorted has two arguments one is iterable and another ane is reverse\n",
    "\n",
    "- iterable is meentioned before / symbol\n",
    "\n",
    "- reverse is mentioned after / symbol\n",
    "\n",
    "- so we can use only reverse argumnet name while we are doing the work\n",
    "\n",
    "- We cannot use iterable arguments name\n",
    "\n",
    "- Instead of using iterable name, we can provide direct value at that position"
   ]
  },
  {
   "cell_type": "markdown",
   "id": "ca48e0a0-7461-48bc-90f3-ed46e1a50125",
   "metadata": {},
   "source": [
    "**Reversed**"
   ]
  },
  {
   "cell_type": "code",
   "execution_count": null,
   "id": "6d389f54-724b-4d59-9127-a3829a0fcc8c",
   "metadata": {},
   "outputs": [],
   "source": [
    "type()\n",
    "len()\n",
    "max()\n",
    "min()\n",
    "print()\n",
    "sorted()"
   ]
  },
  {
   "cell_type": "code",
   "execution_count": 115,
   "id": "a5a50672-7240-4a8f-b647-5c99a6558e5f",
   "metadata": {},
   "outputs": [
    {
     "data": {
      "text/plain": [
       "<reversed at 0x1b1f5b8d2d0>"
      ]
     },
     "execution_count": 115,
     "metadata": {},
     "output_type": "execute_result"
    }
   ],
   "source": [
    "reversed('sharath')"
   ]
  },
  {
   "cell_type": "markdown",
   "id": "69add06c-54e5-4347-b478-c83adae2cb03",
   "metadata": {},
   "source": [
    "- I already done my work\n",
    "\n",
    "- Your output is stored in that memory location\n",
    "\n",
    "- Whenever you see this kind of answer less than and greater than symbol or memory\n",
    "\n",
    "- use for loop to see the answer"
   ]
  },
  {
   "cell_type": "code",
   "execution_count": 118,
   "id": "d056dddf-823f-492d-9768-27613d6007b1",
   "metadata": {},
   "outputs": [
    {
     "name": "stdout",
     "output_type": "stream",
     "text": [
      "n\n",
      "o\n",
      "h\n",
      "t\n",
      "y\n",
      "p\n"
     ]
    }
   ],
   "source": [
    "str1='python'\n",
    "output=reversed(str1)\n",
    "for i in output:\n",
    "    print(i)"
   ]
  },
  {
   "cell_type": "code",
   "execution_count": 2,
   "id": "81460b48-14dc-44c1-9080-3d6afd381f4f",
   "metadata": {},
   "outputs": [
    {
     "ename": "TypeError",
     "evalue": "sorted expected 1 argument, got 2",
     "output_type": "error",
     "traceback": [
      "\u001b[1;31m---------------------------------------------------------------------------\u001b[0m",
      "\u001b[1;31mTypeError\u001b[0m                                 Traceback (most recent call last)",
      "Cell \u001b[1;32mIn[2], line 1\u001b[0m\n\u001b[1;32m----> 1\u001b[0m \u001b[38;5;28msorted\u001b[39m(\u001b[38;5;124m'\u001b[39m\u001b[38;5;124msharath\u001b[39m\u001b[38;5;124m'\u001b[39m,\u001b[38;5;28;01mTrue\u001b[39;00m)\n",
      "\u001b[1;31mTypeError\u001b[0m: sorted expected 1 argument, got 2"
     ]
    }
   ],
   "source": [
    "sorted('sharath',True)"
   ]
  },
  {
   "cell_type": "code",
   "execution_count": 10,
   "id": "28e3b0c7-9ef3-415f-a1de-859dfc0e9295",
   "metadata": {},
   "outputs": [
    {
     "name": "stdout",
     "output_type": "stream",
     "text": [
      "30.0\n"
     ]
    }
   ],
   "source": [
    "def avg(a,b,c):  \n",
    "    print((a+b+c)/3) \n",
    "avg(20,30,40)"
   ]
  },
  {
   "cell_type": "code",
   "execution_count": 8,
   "id": "1f091cd1-b140-41dd-b58e-f8c8e101d3fa",
   "metadata": {},
   "outputs": [
    {
     "data": {
      "text/plain": [
       "['t', 's', 'r', 'h', 'h', 'a', 'a']"
      ]
     },
     "execution_count": 8,
     "metadata": {},
     "output_type": "execute_result"
    }
   ],
   "source": [
    "sorted('sharath',reverse=True)"
   ]
  },
  {
   "cell_type": "code",
   "execution_count": 12,
   "id": "c21becc3-f812-4d46-95f7-a3ab0ad128b0",
   "metadata": {},
   "outputs": [
    {
     "data": {
      "text/plain": [
       "<reversed at 0x1d79bc73dc0>"
      ]
     },
     "execution_count": 12,
     "metadata": {},
     "output_type": "execute_result"
    }
   ],
   "source": [
    "reversed('naresh')"
   ]
  },
  {
   "cell_type": "code",
   "execution_count": 18,
   "id": "2a95a8b6-763d-4370-a408-ae054506b5f5",
   "metadata": {},
   "outputs": [
    {
     "name": "stdout",
     "output_type": "stream",
     "text": [
      "h\n",
      "s\n",
      "e\n",
      "r\n",
      "a\n",
      "n\n"
     ]
    }
   ],
   "source": [
    "for i in reversed('naresh'):\n",
    "    print(i)"
   ]
  },
  {
   "cell_type": "code",
   "execution_count": 22,
   "id": "400e9e63-f91f-4469-8ddb-f7f66604469f",
   "metadata": {},
   "outputs": [
    {
     "data": {
      "text/plain": [
       "[1, 21, 23, 44, 64]"
      ]
     },
     "execution_count": 22,
     "metadata": {},
     "output_type": "execute_result"
    }
   ],
   "source": [
    "sorted([1,44,64,23,21])"
   ]
  },
  {
   "cell_type": "markdown",
   "id": "447bf960-de18-40b7-a58d-9ad2605611aa",
   "metadata": {},
   "source": [
    "**in**"
   ]
  },
  {
   "cell_type": "code",
   "execution_count": 24,
   "id": "b9e9f531-ba13-48b0-9f0e-17c4340e392c",
   "metadata": {},
   "outputs": [],
   "source": [
    "str1=\"naresh\""
   ]
  },
  {
   "cell_type": "code",
   "execution_count": 27,
   "id": "6bf55820-4108-4695-8545-cb0be2ef9910",
   "metadata": {},
   "outputs": [
    {
     "name": "stdout",
     "output_type": "stream",
     "text": [
      "n\n",
      "a\n",
      "r\n",
      "e\n",
      "s\n",
      "h\n"
     ]
    }
   ],
   "source": [
    "for i in str1:\n",
    "    print(i)"
   ]
  },
  {
   "cell_type": "code",
   "execution_count": null,
   "id": "edbba7ba-e020-479e-a00c-3429927fef64",
   "metadata": {},
   "outputs": [],
   "source": [
    "### Note : In operator directly access the letters"
   ]
  },
  {
   "cell_type": "code",
   "execution_count": null,
   "id": "be31d306-6e2c-4df2-9566-404322e7ce11",
   "metadata": {},
   "outputs": [],
   "source": [
    "# Q1) WAP ask the user count how many 'a' are present in a string\n",
    "# str1='Hai sharath how are you'"
   ]
  },
  {
   "cell_type": "code",
   "execution_count": 33,
   "id": "f1c543b2-62d7-46c7-a70a-9707bc9bda39",
   "metadata": {},
   "outputs": [
    {
     "name": "stdout",
     "output_type": "stream",
     "text": [
      "4\n"
     ]
    }
   ],
   "source": [
    "str1='Hai sharath, How are you'\n",
    "count=0\n",
    "for i in str1:\n",
    "    if i=='a':\n",
    "        count=count+1 \n",
    "print(count)"
   ]
  },
  {
   "cell_type": "code",
   "execution_count": null,
   "id": "87841b7f-4a42-4439-a47b-09a472573e55",
   "metadata": {},
   "outputs": [],
   "source": [
    "# Q2) WAP ask the user count how many vowels are present in a string\n",
    "# str1='Hai sharath how are you'"
   ]
  },
  {
   "cell_type": "code",
   "execution_count": 52,
   "id": "46bdbde6-6ca4-47e1-bf20-a4349f5cb819",
   "metadata": {},
   "outputs": [
    {
     "name": "stdout",
     "output_type": "stream",
     "text": [
      "9\n"
     ]
    }
   ],
   "source": [
    "str2='Hai sharath, How are you'\n",
    "count=0\n",
    "for i in str2:\n",
    "    if i in 'aeiou':\n",
    "        count=count+1 \n",
    "print(count)"
   ]
  },
  {
   "cell_type": "code",
   "execution_count": 60,
   "id": "81f423dc-bce2-4188-93ef-ac567bae22a4",
   "metadata": {},
   "outputs": [
    {
     "name": "stdout",
     "output_type": "stream",
     "text": [
      "9\n"
     ]
    }
   ],
   "source": [
    "str2='Hai sharath, How are you'\n",
    "count=0\n",
    "for i in str2:\n",
    "    if i in 'aeiou':\n",
    "        count=count+1 \n",
    "print(count)"
   ]
  },
  {
   "cell_type": "code",
   "execution_count": null,
   "id": "98b2d6c2-4194-49ea-a5cd-e6e6815bb255",
   "metadata": {},
   "outputs": [],
   "source": [
    "# Q3) Home work qn\n",
    "# str1= 'Hai sharath, How are you'\n",
    "# Repeated vowels are there\n",
    "# We dont want repeated vowels\n",
    "# Count the vowels avoid the repeatition: Unique vowels\n",
    "\n",
    "#Step1: Count=0\n",
    "#step2: Take one more empty string: ex=s2=''\n",
    "s2=''\n",
    "#step3: using for loop in operator iterate through given string\n",
    "#step4:condition-1: that letter should not available in s2\n",
    "# step5         condition-2 vowels check condition\n",
    "# step6                count=count+1"
   ]
  },
  {
   "cell_type": "markdown",
   "id": "4e9f4f7a-99aa-4dcf-b710-c88565a4f63b",
   "metadata": {},
   "source": [
    "### How to update the empty strings"
   ]
  },
  {
   "cell_type": "code",
   "execution_count": 64,
   "id": "e1aa4718-699b-4792-bdae-445651930036",
   "metadata": {},
   "outputs": [
    {
     "data": {
      "text/plain": [
       "'python'"
      ]
     },
     "execution_count": 64,
     "metadata": {},
     "output_type": "execute_result"
    }
   ],
   "source": [
    "s1='python'\n",
    "s2=''\n",
    "for i in s1:\n",
    "    s2=s2+i       #concatenation\n",
    "s2"
   ]
  },
  {
   "cell_type": "markdown",
   "id": "6427813f-c9e1-45d8-a736-0285ff8a1259",
   "metadata": {},
   "source": [
    "**Concatenation**"
   ]
  },
  {
   "cell_type": "code",
   "execution_count": 71,
   "id": "8a6c5254-7e2e-41f2-9b14-f0af8f95e441",
   "metadata": {},
   "outputs": [
    {
     "data": {
      "text/plain": [
       "'hellobye'"
      ]
     },
     "execution_count": 71,
     "metadata": {},
     "output_type": "execute_result"
    }
   ],
   "source": [
    "s1='hello'\n",
    "s2='bye'\n",
    "s1+s2"
   ]
  },
  {
   "cell_type": "code",
   "execution_count": 73,
   "id": "cf580a51-0982-4632-b65e-1c4a003986a0",
   "metadata": {},
   "outputs": [
    {
     "data": {
      "text/plain": [
       "'hello bye'"
      ]
     },
     "execution_count": 73,
     "metadata": {},
     "output_type": "execute_result"
    }
   ],
   "source": [
    "s1='hello '\n",
    "s2='bye'\n",
    "s1+s2"
   ]
  },
  {
   "cell_type": "code",
   "execution_count": 77,
   "id": "b7884b24-b919-478d-b5f8-b575a1703010",
   "metadata": {},
   "outputs": [
    {
     "data": {
      "text/plain": [
       "'hello bye'"
      ]
     },
     "execution_count": 77,
     "metadata": {},
     "output_type": "execute_result"
    }
   ],
   "source": [
    "s1='hello'\n",
    "s2=' '\n",
    "s3='bye'\n",
    "s1+s2+s3"
   ]
  },
  {
   "cell_type": "code",
   "execution_count": 81,
   "id": "e25d1847-c8c1-472a-8cbd-f5d7956293fc",
   "metadata": {},
   "outputs": [
    {
     "ename": "TypeError",
     "evalue": "can't multiply sequence by non-int of type 'str'",
     "output_type": "error",
     "traceback": [
      "\u001b[1;31m---------------------------------------------------------------------------\u001b[0m",
      "\u001b[1;31mTypeError\u001b[0m                                 Traceback (most recent call last)",
      "Cell \u001b[1;32mIn[81], line 3\u001b[0m\n\u001b[0;32m      1\u001b[0m s1\u001b[38;5;241m=\u001b[39m\u001b[38;5;124m'\u001b[39m\u001b[38;5;124mhello\u001b[39m\u001b[38;5;124m'\u001b[39m\n\u001b[0;32m      2\u001b[0m s2\u001b[38;5;241m=\u001b[39m\u001b[38;5;124m'\u001b[39m\u001b[38;5;124mbye\u001b[39m\u001b[38;5;124m'\u001b[39m\n\u001b[1;32m----> 3\u001b[0m s1\u001b[38;5;241m*\u001b[39ms2\n\u001b[0;32m      4\u001b[0m s1\u001b[38;5;241m/\u001b[39ms2\n\u001b[0;32m      5\u001b[0m s1\u001b[38;5;241m-\u001b[39ms2\n",
      "\u001b[1;31mTypeError\u001b[0m: can't multiply sequence by non-int of type 'str'"
     ]
    }
   ],
   "source": [
    "s1='hello'\n",
    "s2='bye'\n",
    "s1*s2\n",
    "s1/s2\n",
    "s1-s2"
   ]
  },
  {
   "cell_type": "code",
   "execution_count": 85,
   "id": "eea384d7-5a66-4659-a7a6-c77e36f0ab2a",
   "metadata": {},
   "outputs": [
    {
     "data": {
      "text/plain": [
       "'hellohello'"
      ]
     },
     "execution_count": 85,
     "metadata": {},
     "output_type": "execute_result"
    }
   ],
   "source": [
    "s1='hello'\n",
    "s2=2\n",
    "s1*s2"
   ]
  },
  {
   "cell_type": "code",
   "execution_count": 88,
   "id": "9e306518-56d3-43ec-a89f-92c71f419095",
   "metadata": {},
   "outputs": [
    {
     "ename": "SyntaxError",
     "evalue": "invalid syntax (862339572.py, line 1)",
     "output_type": "error",
     "traceback": [
      "\u001b[1;36m  Cell \u001b[1;32mIn[88], line 1\u001b[1;36m\u001b[0m\n\u001b[1;33m    s1+s1====>s1*2\u001b[0m\n\u001b[1;37m           ^\u001b[0m\n\u001b[1;31mSyntaxError\u001b[0m\u001b[1;31m:\u001b[0m invalid syntax\n"
     ]
    }
   ],
   "source": [
    "s1+s1====>s1*2"
   ]
  },
  {
   "cell_type": "markdown",
   "id": "8f9149ef-bbab-46da-957b-c51b0789a083",
   "metadata": {},
   "source": [
    "**Index**\n",
    "\n",
    "- Index meaning a number attached to a letter\n",
    "\n",
    "- In python index starts with zero\n",
    "\n",
    "- We have two directions\n",
    "\n",
    "    - Poistive direction\n",
    "        \n",
    "        - Positive numbers Starts with zero\n",
    "     \n",
    "    - Negative direction\n",
    " \n",
    "        - Negative numbers starts with -1, applicable to last letter "
   ]
  },
  {
   "cell_type": "code",
   "execution_count": 99,
   "id": "52cadb16-9121-4719-881f-61556a113ce4",
   "metadata": {},
   "outputs": [
    {
     "data": {
      "text/plain": [
       "('p', 'y', 't')"
      ]
     },
     "execution_count": 99,
     "metadata": {},
     "output_type": "execute_result"
    }
   ],
   "source": [
    "s1='python'\n",
    "s1[0],s1[1],s1[2]"
   ]
  },
  {
   "cell_type": "markdown",
   "id": "ceee4794-0fd3-45fd-88d3-1a8c69d430b7",
   "metadata": {},
   "source": [
    "**Mutable-immutable**\n",
    "\n",
    "- mutable: can change\n",
    "    \n",
    "    - we can change using indexing\n",
    "\n",
    "- immutable: can not change\n",
    "\n",
    "  - we can not change using indexing"
   ]
  },
  {
   "cell_type": "code",
   "execution_count": 2,
   "id": "d9ab3694-5647-4c6e-8dc4-42d8c129716d",
   "metadata": {},
   "outputs": [
    {
     "ename": "TypeError",
     "evalue": "'str' object does not support item assignment",
     "output_type": "error",
     "traceback": [
      "\u001b[1;31m---------------------------------------------------------------------------\u001b[0m",
      "\u001b[1;31mTypeError\u001b[0m                                 Traceback (most recent call last)",
      "Cell \u001b[1;32mIn[2], line 5\u001b[0m\n\u001b[0;32m      1\u001b[0m s\u001b[38;5;241m=\u001b[39m\u001b[38;5;124m'\u001b[39m\u001b[38;5;124mwelcome\u001b[39m\u001b[38;5;124m'\u001b[39m\n\u001b[0;32m      2\u001b[0m \u001b[38;5;66;03m# I want to replace 'l' with 'L'\u001b[39;00m\n\u001b[0;32m      3\u001b[0m \u001b[38;5;66;03m# Possible \u001b[39;00m\n\u001b[0;32m      4\u001b[0m \u001b[38;5;66;03m# Not possible\u001b[39;00m\n\u001b[1;32m----> 5\u001b[0m s[\u001b[38;5;241m2\u001b[39m]\u001b[38;5;241m=\u001b[39m\u001b[38;5;124m'\u001b[39m\u001b[38;5;124mL\u001b[39m\u001b[38;5;124m'\u001b[39m\n",
      "\u001b[1;31mTypeError\u001b[0m: 'str' object does not support item assignment"
     ]
    }
   ],
   "source": [
    "s='welcome'\n",
    "# I want to replace 'l' with 'L'\n",
    "# Possible \n",
    "# Not possible\n",
    "s[2]='L'"
   ]
  },
  {
   "cell_type": "markdown",
   "id": "f732d680-6597-4071-862f-ec65763f4b6c",
   "metadata": {},
   "source": [
    "## Strings are Immutable"
   ]
  },
  {
   "cell_type": "code",
   "execution_count": 8,
   "id": "94b2210b-ecca-4b26-ae3e-ebfe50fe94df",
   "metadata": {},
   "outputs": [
    {
     "data": {
      "text/plain": [
       "[1, 200, 3, 4]"
      ]
     },
     "execution_count": 8,
     "metadata": {},
     "output_type": "execute_result"
    }
   ],
   "source": [
    "l=[1,2,3,4]   #2=200\n",
    "l[1]=200\n",
    "l"
   ]
  },
  {
   "cell_type": "markdown",
   "id": "060b5be1-c7e4-481d-b7f0-2ace7fd98fdc",
   "metadata": {},
   "source": [
    "- range belaong to math family\n",
    "\n",
    "- inside range bracket what we need to provide number\n",
    "\n",
    "- how many numbers we need to provide\n",
    "\n",
    "    - number of letter : len(string)\n",
    "\n",
    "- How to access the letter using number\n",
    "\n",
    "    - by using index"
   ]
  },
  {
   "cell_type": "code",
   "execution_count": 30,
   "id": "e2361c06-54c5-4ac7-a850-87b479232b62",
   "metadata": {},
   "outputs": [
    {
     "name": "stdout",
     "output_type": "stream",
     "text": [
      "w\n",
      "e\n",
      "l\n",
      "c\n",
      "o\n",
      "m\n",
      "e\n"
     ]
    }
   ],
   "source": [
    "#Q4) print each letter using for range\n",
    "s='welcome'\n",
    "for i in range(7):\n",
    "    print(s[i])"
   ]
  },
  {
   "cell_type": "markdown",
   "id": "6d41439f-e449-4935-a770-c73d0785f9ef",
   "metadata": {},
   "source": [
    "- **for-in** directly access the letter\n",
    "\n",
    "- **for-range** will access using index"
   ]
  },
  {
   "cell_type": "code",
   "execution_count": null,
   "id": "25b487e0-cb5a-4cf0-8995-c26a253ebcd6",
   "metadata": {},
   "outputs": [],
   "source": [
    "#Q5) wap ask the user iterate using a string\n",
    "# string ='welcome'\n",
    "#print the positive index of w is 0\n",
    "#      the positve index of e is 1\n",
    "#      the postive index of l is 1\n",
    "\n",
    "#Q6) wap ask the user iterate using a string\n",
    "# string ='welcome'\n",
    "#print the negative index of w is -7\n",
    "#      the negative index of e is -6\n",
    "#      the negative index of l is -5"
   ]
  },
  {
   "cell_type": "code",
   "execution_count": 39,
   "id": "71c5c931-b8e0-4161-84f2-7cb6cf5225cd",
   "metadata": {},
   "outputs": [
    {
     "name": "stdout",
     "output_type": "stream",
     "text": [
      "0 w\n",
      "The positive index of w is 0\n",
      "1 e\n",
      "The positive index of e is 1\n",
      "2 l\n",
      "The positive index of l is 2\n",
      "3 c\n",
      "The positive index of c is 3\n",
      "4 o\n",
      "The positive index of o is 4\n",
      "5 m\n",
      "The positive index of m is 5\n",
      "6 e\n",
      "The positive index of e is 6\n"
     ]
    }
   ],
   "source": [
    "#Q5\n",
    "s='welcome'\n",
    "for i in range(len(s)):\n",
    "    print(i,s[i])\n",
    "    print(f\"The positive index of {s[i]} is {i}\")"
   ]
  },
  {
   "cell_type": "code",
   "execution_count": 45,
   "id": "2da7ddbb-0449-4d2e-8313-435122cde3ae",
   "metadata": {},
   "outputs": [
    {
     "name": "stdout",
     "output_type": "stream",
     "text": [
      "0 -7\n",
      "The negative index of w is -7\n",
      "1 -6\n",
      "The negative index of e is -6\n",
      "2 -5\n",
      "The negative index of l is -5\n",
      "3 -4\n",
      "The negative index of c is -4\n",
      "4 -3\n",
      "The negative index of o is -3\n",
      "5 -2\n",
      "The negative index of m is -2\n",
      "6 -1\n",
      "The negative index of e is -1\n"
     ]
    }
   ],
   "source": [
    "#Q6)\n",
    "s='welcome'\n",
    "for i in range(len(s)):\n",
    "    print(i,i-len(s))\n",
    "    print(f\"The negative index of {s[i]} is {i-len(s)}\")"
   ]
  },
  {
   "cell_type": "code",
   "execution_count": null,
   "id": "8ee73d4a-5ebb-43b0-a735-13a1308076fc",
   "metadata": {},
   "outputs": [],
   "source": [
    "# the postive index is 0 and the negative index -7 for w"
   ]
  },
  {
   "cell_type": "code",
   "execution_count": 53,
   "id": "2bb0392c-4f1d-4bd1-9135-86a6e56133ea",
   "metadata": {},
   "outputs": [
    {
     "name": "stdout",
     "output_type": "stream",
     "text": [
      "0 -7 w\n",
      "The positive index is 0 The negative index of -7 is w\n",
      "1 -6 e\n",
      "The positive index is 1 The negative index of -6 is e\n",
      "2 -5 l\n",
      "The positive index is 2 The negative index of -5 is l\n",
      "3 -4 c\n",
      "The positive index is 3 The negative index of -4 is c\n",
      "4 -3 o\n",
      "The positive index is 4 The negative index of -3 is o\n",
      "5 -2 m\n",
      "The positive index is 5 The negative index of -2 is m\n",
      "6 -1 e\n",
      "The positive index is 6 The negative index of -1 is e\n"
     ]
    }
   ],
   "source": [
    "#Q7)\n",
    "s='welcome'\n",
    "for i in range(len(s)):\n",
    "    print(i,i-len(s),s[i],)\n",
    "    print(f\"The positive index is {i} The negative index of {i-len(s)} is {s[i]}\")"
   ]
  },
  {
   "cell_type": "code",
   "execution_count": null,
   "id": "4d76d4c7-915a-4c47-9588-1a0f1367f714",
   "metadata": {},
   "outputs": [],
   "source": [
    "#Q8) wap ask the user get the index of each 'a' in a given string\n",
    "# s='hai how are you i am good'\n",
    "\n",
    "#Q9) wap ask the user to get count of number of 'a' in a given string\n",
    "# using for-range\n",
    "\n",
    "#Q10) wap ask the user get the sum of all index numbers of 'a'\n",
    "# 2+8+18=28\n",
    "\n",
    "#Q11) wap ask the user get the vowels from a given string using for-range"
   ]
  },
  {
   "cell_type": "code",
   "execution_count": 55,
   "id": "a96cd0e2-267c-4dbd-baa7-6057eb1e7993",
   "metadata": {},
   "outputs": [
    {
     "name": "stdout",
     "output_type": "stream",
     "text": [
      "1\n",
      "8\n",
      "18\n"
     ]
    }
   ],
   "source": [
    "#Q8)\n",
    "s='Hai how are you i am good'\n",
    "for i in range(len(s)):\n",
    "    if s[i]=='a':\n",
    "        print(i)"
   ]
  },
  {
   "cell_type": "code",
   "execution_count": 57,
   "id": "a46ad0db-4038-4461-a2de-a435e067055c",
   "metadata": {},
   "outputs": [
    {
     "name": "stdout",
     "output_type": "stream",
     "text": [
      "a\n",
      "a\n",
      "a\n"
     ]
    }
   ],
   "source": [
    "s='Hai how are you i am good'\n",
    "for i in s:\n",
    "    if i=='a':\n",
    "        print(i)"
   ]
  },
  {
   "cell_type": "code",
   "execution_count": 61,
   "id": "c861a1b7-66c3-44a5-9eea-94f1d6c512c6",
   "metadata": {},
   "outputs": [
    {
     "data": {
      "text/plain": [
       "3"
      ]
     },
     "execution_count": 61,
     "metadata": {},
     "output_type": "execute_result"
    }
   ],
   "source": [
    "#Q9)\n",
    "s='Hai how are you i am good'\n",
    "count=0\n",
    "for i in range(len(s)):\n",
    "    if s[i]=='a':\n",
    "        count=count+1\n",
    "\n",
    "count"
   ]
  },
  {
   "cell_type": "code",
   "execution_count": 65,
   "id": "e91c8d03-eb21-4648-9527-d643a129f565",
   "metadata": {},
   "outputs": [
    {
     "data": {
      "text/plain": [
       "27"
      ]
     },
     "execution_count": 65,
     "metadata": {},
     "output_type": "execute_result"
    }
   ],
   "source": [
    "#Q10)\n",
    "s='Hai how are you i am good'\n",
    "count=0\n",
    "summ=0\n",
    "for i in range(len(s)):\n",
    "    if s[i]=='a':\n",
    "       summ=summ+i\n",
    "\n",
    "summ"
   ]
  },
  {
   "cell_type": "code",
   "execution_count": 67,
   "id": "afa55482-9dbb-40e4-9450-9afaf803981f",
   "metadata": {},
   "outputs": [
    {
     "name": "stdout",
     "output_type": "stream",
     "text": [
      "a\n",
      "i\n",
      "o\n",
      "a\n",
      "e\n",
      "o\n",
      "u\n",
      "i\n",
      "a\n",
      "o\n",
      "o\n",
      "The number vowels are: 11\n"
     ]
    }
   ],
   "source": [
    "#Q11)\n",
    "s='hai how are you i am good'\n",
    "count=0\n",
    "for i in range(len(s)):\n",
    "    if s[i] in 'aeiou':\n",
    "        print(s[i])\n",
    "        count=count+1\n",
    "print(\"The number vowels are:\",count)"
   ]
  },
  {
   "cell_type": "code",
   "execution_count": 77,
   "id": "b9cd0b1e-d886-4292-bf82-73e95b34c75e",
   "metadata": {},
   "outputs": [
    {
     "name": "stdout",
     "output_type": "stream",
     "text": [
      "i\n",
      "o\n",
      "e\n",
      "u\n",
      "The number of vowels are: 4\n"
     ]
    }
   ],
   "source": [
    "#Q12)\n",
    "s='hi how re you i m good'\n",
    "s1=''\n",
    "count=0\n",
    "for i in range(len(s)):\n",
    "    if s[i] not in s1:\n",
    "        if s[i] in 'aeiou':\n",
    "            print(s[i])\n",
    "            s1=s1+s[i]\n",
    "            count=count+1\n",
    "print(\"The number of vowels are:\",count)"
   ]
  },
  {
   "cell_type": "code",
   "execution_count": 83,
   "id": "bb32b362-dd9a-41c8-950e-ad2f27a3a1f0",
   "metadata": {},
   "outputs": [
    {
     "name": "stdout",
     "output_type": "stream",
     "text": [
      "a\n",
      "i\n",
      "o\n",
      "e\n",
      "u\n",
      "The number of vowels are: 5\n"
     ]
    }
   ],
   "source": [
    "#Q12 updated)\n",
    "s='hai how are you i am good'\n",
    "s1=''\n",
    "count=0\n",
    "for i in range(len(s)):\n",
    "    if s[i] not in s1 and s[i] in 'aeiou':\n",
    "            print(s[i])\n",
    "            s1=s1+s[i]\n",
    "            count=count+1\n",
    "print(\"The number of vowels are:\",count)"
   ]
  },
  {
   "cell_type": "code",
   "execution_count": null,
   "id": "09b16de9-5929-416f-b77f-9f0a255034ff",
   "metadata": {},
   "outputs": [],
   "source": [
    "# Q14) string1='ola ola ola'\n",
    "# Number of ola = 3\n",
    "\n",
    "#Q15) string 1='hello hello hello how how how how are you'\n",
    "# what is the most repeated word : how\n",
    "\n",
    "# Q16) string1='hellooo how are u'\n",
    "# what is the maximum length of word: hello\n",
    "# what is the minimum length of word: u"
   ]
  },
  {
   "cell_type": "code",
   "execution_count": 85,
   "id": "ba8d1c4a-f7d7-48b5-99b5-bfbb52224d37",
   "metadata": {},
   "outputs": [
    {
     "data": {
      "text/plain": [
       "['e', 'h', 'l', 'l', 'o']"
      ]
     },
     "execution_count": 85,
     "metadata": {},
     "output_type": "execute_result"
    }
   ],
   "source": [
    "sorted('hello')"
   ]
  },
  {
   "cell_type": "markdown",
   "id": "995f3648-622f-41b9-b3a5-c3c402d7885d",
   "metadata": {},
   "source": [
    "**Slice**\n",
    "\n",
    "- We can cut into pieces\n",
    "\n",
    "- Similar to range concept\n",
    "\n",
    "- start, stop, step here also"
   ]
  },
  {
   "cell_type": "code",
   "execution_count": 2,
   "id": "622afd71-dc60-4811-9350-0311abd8fbc9",
   "metadata": {},
   "outputs": [
    {
     "data": {
      "text/plain": [
       "'hai how are you'"
      ]
     },
     "execution_count": 2,
     "metadata": {},
     "output_type": "execute_result"
    }
   ],
   "source": [
    "str1='hai how are you'\n"
   ]
  },
  {
   "cell_type": "markdown",
   "id": "42a7912d-fdf7-4fdd-85bc-87e8ae05cc21",
   "metadata": {},
   "source": [
    "-15  -14  -13  -12  -11  -10  -9  -8  -7  -6  -5  -4  -3  -2  -1\n",
    " h    a    i         h    o    w       a   r   e       y   o   u\n",
    " 0    1    2     3   4    5    6   7   8   9   10  11  12  13  14"
   ]
  },
  {
   "cell_type": "code",
   "execution_count": null,
   "id": "ee769068-ded2-4140-8a56-ae8a221fbb84",
   "metadata": {},
   "outputs": [],
   "source": [
    "str1[start:stop:step]"
   ]
  },
  {
   "cell_type": "markdown",
   "id": "a784e461-c4e8-4b7f-92df-f006243ff881",
   "metadata": {},
   "source": [
    "$Pattern-1$\n",
    "\n",
    "**str1[start:]**\n",
    "\n",
    "- By default start value = start only\n",
    "\n",
    "- Last value nothing mentioned automatically it will go till = last only\n",
    "\n",
    "- Step nothing mentioned means , It is a positive direction and increment by 1"
   ]
  },
  {
   "cell_type": "code",
   "execution_count": 6,
   "id": "0773bd23-c029-4aee-ae9e-331b77676270",
   "metadata": {},
   "outputs": [
    {
     "data": {
      "text/plain": [
       "'e you'"
      ]
     },
     "execution_count": 6,
     "metadata": {},
     "output_type": "execute_result"
    }
   ],
   "source": [
    "str1='hai how are you'\n",
    "str1[10:]"
   ]
  },
  {
   "cell_type": "code",
   "execution_count": 8,
   "id": "d14d4fbb-75b7-4a8e-8f00-ed0bf5e22659",
   "metadata": {},
   "outputs": [
    {
     "data": {
      "text/plain": [
       "'e you'"
      ]
     },
     "execution_count": 8,
     "metadata": {},
     "output_type": "execute_result"
    }
   ],
   "source": [
    "str1[-5:]"
   ]
  },
  {
   "cell_type": "code",
   "execution_count": 10,
   "id": "e0d11850-ded8-4a93-95e4-0aefa3bc29a2",
   "metadata": {},
   "outputs": [
    {
     "data": {
      "text/plain": [
       "'ai how are you'"
      ]
     },
     "execution_count": 10,
     "metadata": {},
     "output_type": "execute_result"
    }
   ],
   "source": [
    "str1[-14:]"
   ]
  },
  {
   "cell_type": "code",
   "execution_count": 12,
   "id": "664e05b4-4756-4220-8c08-a71c62008773",
   "metadata": {},
   "outputs": [
    {
     "data": {
      "text/plain": [
       "'hai how are you'"
      ]
     },
     "execution_count": 12,
     "metadata": {},
     "output_type": "execute_result"
    }
   ],
   "source": [
    "str1[:]"
   ]
  },
  {
   "cell_type": "code",
   "execution_count": 18,
   "id": "731774d7-5d0a-4f08-aae9-5fcdaaa1b32a",
   "metadata": {},
   "outputs": [
    {
     "data": {
      "text/plain": [
       "('ow are you', 'ow are you')"
      ]
     },
     "execution_count": 18,
     "metadata": {},
     "output_type": "execute_result"
    }
   ],
   "source": [
    "str1[5:], str1[-10:] #Both will give same answer"
   ]
  },
  {
   "cell_type": "code",
   "execution_count": null,
   "id": "62f4c0c3-35bc-4031-90da-371375aadd31",
   "metadata": {},
   "outputs": [],
   "source": [
    "$Pattern-2$\n",
    "\n",
    "**str1[start:stop]**\n",
    "\n",
    "- start value means by default start only\n",
    "\n",
    "- step is not mentioned positive direction\n",
    "\n",
    "- last = stop-1"
   ]
  },
  {
   "cell_type": "code",
   "execution_count": 22,
   "id": "2a6601e6-76ee-4e1f-b2fe-4a5905c40685",
   "metadata": {},
   "outputs": [
    {
     "data": {
      "text/plain": [
       "'ow are yo'"
      ]
     },
     "execution_count": 22,
     "metadata": {},
     "output_type": "execute_result"
    }
   ],
   "source": [
    "#-15  -14  -13  -12  -11  -10  -9  -8  -7  -6  -5  -4  -3  -2  -1\n",
    "# h    a    i         h    o    w       a   r   e       y   o   u\n",
    "# 0    1    2     3   4    5    6   7   8   9   10  11  12  13  14\n",
    "str1='hai how are you'\n",
    "str1[5:14]"
   ]
  },
  {
   "cell_type": "code",
   "execution_count": 24,
   "id": "3e262b9e-a815-48b8-8359-ceb265bad66a",
   "metadata": {},
   "outputs": [
    {
     "data": {
      "text/plain": [
       "'e yo'"
      ]
     },
     "execution_count": 24,
     "metadata": {},
     "output_type": "execute_result"
    }
   ],
   "source": [
    "str1[-5:14]"
   ]
  },
  {
   "cell_type": "code",
   "execution_count": 28,
   "id": "e32f2b08-6f8b-42f6-b57b-4e92e781543f",
   "metadata": {},
   "outputs": [
    {
     "data": {
      "text/plain": [
       "''"
      ]
     },
     "execution_count": 28,
     "metadata": {},
     "output_type": "execute_result"
    }
   ],
   "source": [
    "str1[-5:-14]  #positive it cant go back"
   ]
  },
  {
   "cell_type": "code",
   "execution_count": 30,
   "id": "24612e58-6a57-45fe-894c-e36d4b02ce77",
   "metadata": {},
   "outputs": [
    {
     "data": {
      "text/plain": [
       "''"
      ]
     },
     "execution_count": 30,
     "metadata": {},
     "output_type": "execute_result"
    }
   ],
   "source": [
    "str1[5:-14]"
   ]
  },
  {
   "cell_type": "markdown",
   "id": "cd84ff57-5828-46ec-94c1-686672b7962e",
   "metadata": {},
   "source": [
    "**Trucation behaviour**\n",
    "\n",
    "  - when ever string range is limited, but we provided unlimited number\n",
    "\n",
    "  - string will consider till the range we have\n",
    "\n",
    "  - In the above example our range only 15 letters\n",
    "\n",
    "  - we provided 500, then 500 will truncate to till 15 letters only"
   ]
  },
  {
   "cell_type": "code",
   "execution_count": 33,
   "id": "75ed3575-cf3e-452c-bc72-01b21c37ec14",
   "metadata": {},
   "outputs": [
    {
     "data": {
      "text/plain": [
       "'ow are you'"
      ]
     },
     "execution_count": 33,
     "metadata": {},
     "output_type": "execute_result"
    }
   ],
   "source": [
    "str1[5:500]"
   ]
  },
  {
   "cell_type": "code",
   "execution_count": 35,
   "id": "2bb954e9-b5b1-478b-95a3-5efc216d5bbb",
   "metadata": {},
   "outputs": [
    {
     "data": {
      "text/plain": [
       "'hai how are you'"
      ]
     },
     "execution_count": 35,
     "metadata": {},
     "output_type": "execute_result"
    }
   ],
   "source": [
    "str1[-500:500]"
   ]
  },
  {
   "cell_type": "code",
   "execution_count": 37,
   "id": "bb89f847-d638-4660-8a92-3a1b92c0a53b",
   "metadata": {},
   "outputs": [
    {
     "data": {
      "text/plain": [
       "'u'"
      ]
     },
     "execution_count": 37,
     "metadata": {},
     "output_type": "execute_result"
    }
   ],
   "source": [
    "str1[-1:500]"
   ]
  },
  {
   "cell_type": "code",
   "execution_count": 71,
   "id": "c55f3e4d-45cc-4a6a-be86-d8a453c41c4d",
   "metadata": {},
   "outputs": [
    {
     "data": {
      "text/plain": [
       "''"
      ]
     },
     "execution_count": 71,
     "metadata": {},
     "output_type": "execute_result"
    }
   ],
   "source": [
    "str1[500:]"
   ]
  },
  {
   "cell_type": "code",
   "execution_count": 41,
   "id": "0de0c5e3-0e3c-4386-8419-610bd98f77b2",
   "metadata": {},
   "outputs": [
    {
     "data": {
      "text/plain": [
       "''"
      ]
     },
     "execution_count": 41,
     "metadata": {},
     "output_type": "execute_result"
    }
   ],
   "source": [
    "str1[50:500]"
   ]
  },
  {
   "cell_type": "code",
   "execution_count": null,
   "id": "1ad34a03-1fcf-4581-9b36-8c30b3b14162",
   "metadata": {},
   "outputs": [],
   "source": [
    "$Pattern-3$\n",
    "\n",
    "- start value means start only"
   ]
  },
  {
   "cell_type": "code",
   "execution_count": 45,
   "id": "a52e6de9-e064-4ca7-b416-60b5e0146073",
   "metadata": {},
   "outputs": [
    {
     "data": {
      "text/plain": [
       "'ihwaey'"
      ]
     },
     "execution_count": 45,
     "metadata": {},
     "output_type": "execute_result"
    }
   ],
   "source": [
    "str1[2:13:2]"
   ]
  },
  {
   "cell_type": "code",
   "execution_count": 47,
   "id": "ebfdbd42-03ef-494f-b656-c97ff68eaeb2",
   "metadata": {},
   "outputs": [
    {
     "data": {
      "text/plain": [
       "''"
      ]
     },
     "execution_count": 47,
     "metadata": {},
     "output_type": "execute_result"
    }
   ],
   "source": [
    "str1[2:13:-2]"
   ]
  },
  {
   "cell_type": "code",
   "execution_count": 51,
   "id": "e947e404-462f-47fa-b0b8-1eb7c1850fa4",
   "metadata": {},
   "outputs": [
    {
     "data": {
      "text/plain": [
       "''"
      ]
     },
     "execution_count": 51,
     "metadata": {},
     "output_type": "execute_result"
    }
   ],
   "source": [
    "str1[2:-13:2]"
   ]
  },
  {
   "cell_type": "code",
   "execution_count": 53,
   "id": "a1c0ac82-41be-4d6d-8010-a884efce0627",
   "metadata": {},
   "outputs": [
    {
     "data": {
      "text/plain": [
       "''"
      ]
     },
     "execution_count": 53,
     "metadata": {},
     "output_type": "execute_result"
    }
   ],
   "source": [
    "str1[2:-13:-2]"
   ]
  },
  {
   "cell_type": "code",
   "execution_count": 55,
   "id": "f95aae2f-5a78-428c-850d-e4f274226542",
   "metadata": {},
   "outputs": [
    {
     "data": {
      "text/plain": [
       "''"
      ]
     },
     "execution_count": 55,
     "metadata": {},
     "output_type": "execute_result"
    }
   ],
   "source": [
    "str1[-2:13:2]"
   ]
  },
  {
   "cell_type": "code",
   "execution_count": 57,
   "id": "aaeafa80-f036-45df-8196-a6c9bce4793c",
   "metadata": {},
   "outputs": [
    {
     "data": {
      "text/plain": [
       "''"
      ]
     },
     "execution_count": 57,
     "metadata": {},
     "output_type": "execute_result"
    }
   ],
   "source": [
    "str1[-2:-13:2]"
   ]
  },
  {
   "cell_type": "code",
   "execution_count": 59,
   "id": "09ae9b54-6de9-47f5-a44c-86b43f95c7d1",
   "metadata": {},
   "outputs": [
    {
     "data": {
      "text/plain": [
       "'o r o '"
      ]
     },
     "execution_count": 59,
     "metadata": {},
     "output_type": "execute_result"
    }
   ],
   "source": [
    "str1[-2:-13:-2]"
   ]
  },
  {
   "cell_type": "code",
   "execution_count": 61,
   "id": "4a583fd3-18d9-4d81-974e-29a4d130ea19",
   "metadata": {},
   "outputs": [
    {
     "data": {
      "text/plain": [
       "''"
      ]
     },
     "execution_count": 61,
     "metadata": {},
     "output_type": "execute_result"
    }
   ],
   "source": [
    "str1[13:2:2]"
   ]
  },
  {
   "cell_type": "code",
   "execution_count": 63,
   "id": "a13cfa2a-880d-4ffc-bac7-6a155b7ce4f6",
   "metadata": {},
   "outputs": [
    {
     "data": {
      "text/plain": [
       "'ihwaey'"
      ]
     },
     "execution_count": 63,
     "metadata": {},
     "output_type": "execute_result"
    }
   ],
   "source": [
    "str1[-13:-2:2]"
   ]
  },
  {
   "cell_type": "code",
   "execution_count": 65,
   "id": "a9801828-15a7-4cbf-a0fa-192de8f392f0",
   "metadata": {},
   "outputs": [
    {
     "data": {
      "text/plain": [
       "''"
      ]
     },
     "execution_count": 65,
     "metadata": {},
     "output_type": "execute_result"
    }
   ],
   "source": [
    "str1[-13:-2:-2]"
   ]
  },
  {
   "cell_type": "code",
   "execution_count": 69,
   "id": "c0decc97-b19a-4c3a-80ef-0d39a6d7739a",
   "metadata": {},
   "outputs": [
    {
     "data": {
      "text/plain": [
       "''"
      ]
     },
     "execution_count": 69,
     "metadata": {},
     "output_type": "execute_result"
    }
   ],
   "source": [
    "str1[-13:2:-2]"
   ]
  },
  {
   "cell_type": "code",
   "execution_count": 73,
   "id": "45434a6f-c5ec-497e-8488-75d5cb4b8c43",
   "metadata": {},
   "outputs": [
    {
     "data": {
      "text/plain": [
       "'uyeaw'"
      ]
     },
     "execution_count": 73,
     "metadata": {},
     "output_type": "execute_result"
    }
   ],
   "source": [
    "#-15  -14  -13  -12  -11  -10  -9  -8  -7  -6  -5  -4  -3  -2  -1\n",
    "# h    a    i         h    o    w       a   r   e       y   o   u\n",
    "# 0    1    2     3   4    5    6   7   8   9   10  11  12  13  14\n",
    "\n",
    "str1[:5:-2]"
   ]
  },
  {
   "cell_type": "code",
   "execution_count": 75,
   "id": "178252ee-041a-4724-adfb-bd0d36c38575",
   "metadata": {},
   "outputs": [
    {
     "data": {
      "text/plain": [
       "'hai how are you'"
      ]
     },
     "execution_count": 75,
     "metadata": {},
     "output_type": "execute_result"
    }
   ],
   "source": [
    "str1[:]"
   ]
  },
  {
   "cell_type": "code",
   "execution_count": 77,
   "id": "3de5d49f-a564-4e0d-b0d4-92206b6de1dc",
   "metadata": {},
   "outputs": [
    {
     "data": {
      "text/plain": [
       "'hai how are you'"
      ]
     },
     "execution_count": 77,
     "metadata": {},
     "output_type": "execute_result"
    }
   ],
   "source": [
    "str1[::]"
   ]
  },
  {
   "cell_type": "code",
   "execution_count": 79,
   "id": "abf82489-dc72-4173-b527-d048b5dbca9e",
   "metadata": {},
   "outputs": [
    {
     "data": {
      "text/plain": [
       "'uoy era woh iah'"
      ]
     },
     "execution_count": 79,
     "metadata": {},
     "output_type": "execute_result"
    }
   ],
   "source": [
    "str1[::-1]"
   ]
  },
  {
   "cell_type": "code",
   "execution_count": 81,
   "id": "637c749b-b4d9-41ab-9034-ffad0e0ad8b4",
   "metadata": {},
   "outputs": [
    {
     "data": {
      "text/plain": [
       "'uyeaw'"
      ]
     },
     "execution_count": 81,
     "metadata": {},
     "output_type": "execute_result"
    }
   ],
   "source": [
    "str1[:5:-2]"
   ]
  },
  {
   "cell_type": "markdown",
   "id": "f751b34b-6f7d-4efc-baad-47a8ba322ec7",
   "metadata": {},
   "source": [
    "**Methods**\n",
    "\n",
    "- Strings lists tuple dictionary every data type has its own methods\n",
    "\n",
    "- We already seen that packages has different method\n",
    "\n",
    "- For example random package: randint method\n",
    "\n",
    "- Math package : sqrt\n",
    "\n",
    "- In the same way strings also have methods\n",
    "\n",
    "- In order to see methods for the packages\n",
    "\n",
    "    - we are importing the package\n",
    " \n",
    "    - we are applying dir\n",
    "\n",
    "- In the similar wy in order to see the methods of string, we need to apply dir only"
   ]
  },
  {
   "cell_type": "code",
   "execution_count": 89,
   "id": "134cd71f-63d8-40ae-8d2d-4d5cc560b8da",
   "metadata": {},
   "outputs": [
    {
     "data": {
      "text/plain": [
       "['__add__',\n",
       " '__class__',\n",
       " '__contains__',\n",
       " '__delattr__',\n",
       " '__dir__',\n",
       " '__doc__',\n",
       " '__eq__',\n",
       " '__format__',\n",
       " '__ge__',\n",
       " '__getattribute__',\n",
       " '__getitem__',\n",
       " '__getnewargs__',\n",
       " '__getstate__',\n",
       " '__gt__',\n",
       " '__hash__',\n",
       " '__init__',\n",
       " '__init_subclass__',\n",
       " '__iter__',\n",
       " '__le__',\n",
       " '__len__',\n",
       " '__lt__',\n",
       " '__mod__',\n",
       " '__mul__',\n",
       " '__ne__',\n",
       " '__new__',\n",
       " '__reduce__',\n",
       " '__reduce_ex__',\n",
       " '__repr__',\n",
       " '__rmod__',\n",
       " '__rmul__',\n",
       " '__setattr__',\n",
       " '__sizeof__',\n",
       " '__str__',\n",
       " '__subclasshook__',\n",
       " 'capitalize',\n",
       " 'casefold',\n",
       " 'center',\n",
       " 'count',\n",
       " 'encode',\n",
       " 'endswith',\n",
       " 'expandtabs',\n",
       " 'find',\n",
       " 'format',\n",
       " 'format_map',\n",
       " 'index',\n",
       " 'isalnum',\n",
       " 'isalpha',\n",
       " 'isascii',\n",
       " 'isdecimal',\n",
       " 'isdigit',\n",
       " 'isidentifier',\n",
       " 'islower',\n",
       " 'isnumeric',\n",
       " 'isprintable',\n",
       " 'isspace',\n",
       " 'istitle',\n",
       " 'isupper',\n",
       " 'join',\n",
       " 'ljust',\n",
       " 'lower',\n",
       " 'lstrip',\n",
       " 'maketrans',\n",
       " 'partition',\n",
       " 'removeprefix',\n",
       " 'removesuffix',\n",
       " 'replace',\n",
       " 'rfind',\n",
       " 'rindex',\n",
       " 'rjust',\n",
       " 'rpartition',\n",
       " 'rsplit',\n",
       " 'rstrip',\n",
       " 'split',\n",
       " 'splitlines',\n",
       " 'startswith',\n",
       " 'strip',\n",
       " 'swapcase',\n",
       " 'title',\n",
       " 'translate',\n",
       " 'upper',\n",
       " 'zfill']"
      ]
     },
     "execution_count": 89,
     "metadata": {},
     "output_type": "execute_result"
    }
   ],
   "source": [
    "dir('time')"
   ]
  },
  {
   "cell_type": "code",
   "execution_count": 93,
   "id": "dda5a991-71ce-49c7-870b-c63558934a89",
   "metadata": {},
   "outputs": [
    {
     "data": {
      "text/plain": [
       "['_STRUCT_TM_ITEMS',\n",
       " '__doc__',\n",
       " '__loader__',\n",
       " '__name__',\n",
       " '__package__',\n",
       " '__spec__',\n",
       " 'altzone',\n",
       " 'asctime',\n",
       " 'ctime',\n",
       " 'daylight',\n",
       " 'get_clock_info',\n",
       " 'gmtime',\n",
       " 'localtime',\n",
       " 'mktime',\n",
       " 'monotonic',\n",
       " 'monotonic_ns',\n",
       " 'perf_counter',\n",
       " 'perf_counter_ns',\n",
       " 'process_time',\n",
       " 'process_time_ns',\n",
       " 'sleep',\n",
       " 'strftime',\n",
       " 'strptime',\n",
       " 'struct_time',\n",
       " 'thread_time',\n",
       " 'thread_time_ns',\n",
       " 'time',\n",
       " 'time_ns',\n",
       " 'timezone',\n",
       " 'tzname']"
      ]
     },
     "execution_count": 93,
     "metadata": {},
     "output_type": "execute_result"
    }
   ],
   "source": [
    "import time\n",
    "dir(time)"
   ]
  },
  {
   "cell_type": "code",
   "execution_count": 95,
   "id": "987a65be-2d6c-400e-94b1-05c300fd69c5",
   "metadata": {},
   "outputs": [
    {
     "data": {
      "text/plain": [
       "['BPF',\n",
       " 'LOG4',\n",
       " 'NV_MAGICCONST',\n",
       " 'RECIP_BPF',\n",
       " 'Random',\n",
       " 'SG_MAGICCONST',\n",
       " 'SystemRandom',\n",
       " 'TWOPI',\n",
       " '_ONE',\n",
       " '_Sequence',\n",
       " '_Set',\n",
       " '__all__',\n",
       " '__builtins__',\n",
       " '__cached__',\n",
       " '__doc__',\n",
       " '__file__',\n",
       " '__loader__',\n",
       " '__name__',\n",
       " '__package__',\n",
       " '__spec__',\n",
       " '_accumulate',\n",
       " '_acos',\n",
       " '_bisect',\n",
       " '_ceil',\n",
       " '_cos',\n",
       " '_e',\n",
       " '_exp',\n",
       " '_floor',\n",
       " '_index',\n",
       " '_inst',\n",
       " '_isfinite',\n",
       " '_log',\n",
       " '_os',\n",
       " '_pi',\n",
       " '_random',\n",
       " '_repeat',\n",
       " '_sha512',\n",
       " '_sin',\n",
       " '_sqrt',\n",
       " '_test',\n",
       " '_test_generator',\n",
       " '_urandom',\n",
       " '_warn',\n",
       " 'betavariate',\n",
       " 'choice',\n",
       " 'choices',\n",
       " 'expovariate',\n",
       " 'gammavariate',\n",
       " 'gauss',\n",
       " 'getrandbits',\n",
       " 'getstate',\n",
       " 'lognormvariate',\n",
       " 'normalvariate',\n",
       " 'paretovariate',\n",
       " 'randbytes',\n",
       " 'randint',\n",
       " 'random',\n",
       " 'randrange',\n",
       " 'sample',\n",
       " 'seed',\n",
       " 'setstate',\n",
       " 'shuffle',\n",
       " 'triangular',\n",
       " 'uniform',\n",
       " 'vonmisesvariate',\n",
       " 'weibullvariate']"
      ]
     },
     "execution_count": 95,
     "metadata": {},
     "output_type": "execute_result"
    }
   ],
   "source": [
    "import random\n",
    "dir(random)"
   ]
  },
  {
   "cell_type": "code",
   "execution_count": 97,
   "id": "6b393c18-bb69-403c-a650-37926023ace0",
   "metadata": {},
   "outputs": [
    {
     "data": {
      "text/plain": [
       "['__add__',\n",
       " '__class__',\n",
       " '__contains__',\n",
       " '__delattr__',\n",
       " '__dir__',\n",
       " '__doc__',\n",
       " '__eq__',\n",
       " '__format__',\n",
       " '__ge__',\n",
       " '__getattribute__',\n",
       " '__getitem__',\n",
       " '__getnewargs__',\n",
       " '__getstate__',\n",
       " '__gt__',\n",
       " '__hash__',\n",
       " '__init__',\n",
       " '__init_subclass__',\n",
       " '__iter__',\n",
       " '__le__',\n",
       " '__len__',\n",
       " '__lt__',\n",
       " '__mod__',\n",
       " '__mul__',\n",
       " '__ne__',\n",
       " '__new__',\n",
       " '__reduce__',\n",
       " '__reduce_ex__',\n",
       " '__repr__',\n",
       " '__rmod__',\n",
       " '__rmul__',\n",
       " '__setattr__',\n",
       " '__sizeof__',\n",
       " '__str__',\n",
       " '__subclasshook__',\n",
       " 'capitalize',\n",
       " 'casefold',\n",
       " 'center',\n",
       " 'count',\n",
       " 'encode',\n",
       " 'endswith',\n",
       " 'expandtabs',\n",
       " 'find',\n",
       " 'format',\n",
       " 'format_map',\n",
       " 'index',\n",
       " 'isalnum',\n",
       " 'isalpha',\n",
       " 'isascii',\n",
       " 'isdecimal',\n",
       " 'isdigit',\n",
       " 'isidentifier',\n",
       " 'islower',\n",
       " 'isnumeric',\n",
       " 'isprintable',\n",
       " 'isspace',\n",
       " 'istitle',\n",
       " 'isupper',\n",
       " 'join',\n",
       " 'ljust',\n",
       " 'lower',\n",
       " 'lstrip',\n",
       " 'maketrans',\n",
       " 'partition',\n",
       " 'removeprefix',\n",
       " 'removesuffix',\n",
       " 'replace',\n",
       " 'rfind',\n",
       " 'rindex',\n",
       " 'rjust',\n",
       " 'rpartition',\n",
       " 'rsplit',\n",
       " 'rstrip',\n",
       " 'split',\n",
       " 'splitlines',\n",
       " 'startswith',\n",
       " 'strip',\n",
       " 'swapcase',\n",
       " 'title',\n",
       " 'translate',\n",
       " 'upper',\n",
       " 'zfill']"
      ]
     },
     "execution_count": 97,
     "metadata": {},
     "output_type": "execute_result"
    }
   ],
   "source": [
    "str1='apple'\n",
    "dir(str1)"
   ]
  },
  {
   "cell_type": "markdown",
   "id": "85dc2590-182f-4a7a-b4b6-f488ccd0d52f",
   "metadata": {},
   "source": [
    "- lower\n",
    "\n",
    "- upper\n",
    "\n",
    "- capitalize\n",
    "\n",
    "- Title\n",
    "\n",
    "- casefold\n",
    "\n",
    "- Center"
   ]
  },
  {
   "cell_type": "markdown",
   "id": "c758a055-8482-47f2-9a9a-b555ef780792",
   "metadata": {},
   "source": [
    "**upper**"
   ]
  },
  {
   "cell_type": "code",
   "execution_count": 101,
   "id": "b610af84-4a0a-435e-a413-888472567fc5",
   "metadata": {},
   "outputs": [],
   "source": [
    "str1='hai how are you'"
   ]
  },
  {
   "cell_type": "code",
   "execution_count": 103,
   "id": "d7b80bd7-24e1-47ed-87fe-7b293bed64b2",
   "metadata": {},
   "outputs": [
    {
     "name": "stdout",
     "output_type": "stream",
     "text": [
      "Help on built-in function upper:\n",
      "\n",
      "upper() method of builtins.str instance\n",
      "    Return a copy of the string converted to uppercase.\n",
      "\n"
     ]
    }
   ],
   "source": [
    "help(str1.upper)"
   ]
  },
  {
   "cell_type": "code",
   "execution_count": 105,
   "id": "3c3a751f-681e-4765-b4dc-98b11666a4fb",
   "metadata": {},
   "outputs": [
    {
     "data": {
      "text/plain": [
       "'HAI HOW ARE YOU'"
      ]
     },
     "execution_count": 105,
     "metadata": {},
     "output_type": "execute_result"
    }
   ],
   "source": [
    "str1.upper()"
   ]
  },
  {
   "cell_type": "code",
   "execution_count": 107,
   "id": "f6d36f2f-05a1-4180-beb7-fa1203f70141",
   "metadata": {},
   "outputs": [
    {
     "data": {
      "text/plain": [
       "<function str.upper()>"
      ]
     },
     "execution_count": 107,
     "metadata": {},
     "output_type": "execute_result"
    }
   ],
   "source": [
    "str1.upper"
   ]
  },
  {
   "cell_type": "code",
   "execution_count": 109,
   "id": "910fdbe9-48e0-4627-86c2-34912d0ccbb7",
   "metadata": {},
   "outputs": [],
   "source": [
    "str1='SHARATH'"
   ]
  },
  {
   "cell_type": "code",
   "execution_count": 113,
   "id": "53668a02-ff49-4c0b-b8f7-63dc6ac8561f",
   "metadata": {},
   "outputs": [
    {
     "data": {
      "text/plain": [
       "'sharath'"
      ]
     },
     "execution_count": 113,
     "metadata": {},
     "output_type": "execute_result"
    }
   ],
   "source": [
    "str1.lower()"
   ]
  },
  {
   "cell_type": "code",
   "execution_count": 115,
   "id": "9161b517-40f5-4755-9c3f-6e3606733da6",
   "metadata": {},
   "outputs": [
    {
     "data": {
      "text/plain": [
       "'SHARATH'"
      ]
     },
     "execution_count": 115,
     "metadata": {},
     "output_type": "execute_result"
    }
   ],
   "source": [
    "str1='SHArath'\n",
    "str1.upper()"
   ]
  },
  {
   "cell_type": "code",
   "execution_count": 117,
   "id": "5579abd9-f93a-475c-ada4-7b02ee06366b",
   "metadata": {},
   "outputs": [
    {
     "data": {
      "text/plain": [
       "'sharath'"
      ]
     },
     "execution_count": 117,
     "metadata": {},
     "output_type": "execute_result"
    }
   ],
   "source": [
    "str1.lower()"
   ]
  },
  {
   "cell_type": "code",
   "execution_count": 119,
   "id": "21a1b820-a96c-4faf-907e-aadf8fadb01a",
   "metadata": {},
   "outputs": [
    {
     "data": {
      "text/plain": [
       "'Sharath'"
      ]
     },
     "execution_count": 119,
     "metadata": {},
     "output_type": "execute_result"
    }
   ],
   "source": [
    "str1.capitalize()"
   ]
  },
  {
   "cell_type": "code",
   "execution_count": 121,
   "id": "62b8b5c8-a0a5-41c5-86fe-31ea4ecd6b16",
   "metadata": {},
   "outputs": [
    {
     "data": {
      "text/plain": [
       "'sharath'"
      ]
     },
     "execution_count": 121,
     "metadata": {},
     "output_type": "execute_result"
    }
   ],
   "source": [
    "str1.casefold()"
   ]
  },
  {
   "cell_type": "code",
   "execution_count": 139,
   "id": "ad7a4317-032a-49c8-b3f4-1c54745cc862",
   "metadata": {},
   "outputs": [
    {
     "data": {
      "text/plain": [
       "'sharath chandra'"
      ]
     },
     "execution_count": 139,
     "metadata": {},
     "output_type": "execute_result"
    }
   ],
   "source": [
    "str1.center(10)"
   ]
  },
  {
   "cell_type": "code",
   "execution_count": 131,
   "id": "1de9b486-3ff2-47f6-9a67-e7aac41a3ce0",
   "metadata": {},
   "outputs": [
    {
     "data": {
      "text/plain": [
       "'Sharath'"
      ]
     },
     "execution_count": 131,
     "metadata": {},
     "output_type": "execute_result"
    }
   ],
   "source": [
    "str1.title()"
   ]
  },
  {
   "cell_type": "code",
   "execution_count": 135,
   "id": "9ce14645-5380-4dc2-95cc-4f0306f81735",
   "metadata": {},
   "outputs": [
    {
     "data": {
      "text/plain": [
       "'Sharath chandra'"
      ]
     },
     "execution_count": 135,
     "metadata": {},
     "output_type": "execute_result"
    }
   ],
   "source": [
    "str1='sharath chandra'\n",
    "str1.capitalize()"
   ]
  },
  {
   "cell_type": "code",
   "execution_count": null,
   "id": "1c4887fe-ff77-471c-ac7e-d4b4bd4bc544",
   "metadata": {},
   "outputs": [],
   "source": [
    "# o/p = 'Sharath Chandra'\n",
    "# with out using any method\n",
    "# one more level : iterate each letter apply capital\n",
    "# scratch : ord char"
   ]
  },
  {
   "cell_type": "code",
   "execution_count": 141,
   "id": "d581e122-45ad-4873-a534-aad374480bc3",
   "metadata": {},
   "outputs": [
    {
     "data": {
      "text/plain": [
       "'       sharath chandra        '"
      ]
     },
     "execution_count": 141,
     "metadata": {},
     "output_type": "execute_result"
    }
   ],
   "source": [
    "str1.center(30)"
   ]
  },
  {
   "cell_type": "code",
   "execution_count": null,
   "id": "74f48557-e09e-4451-b264-89861f54428e",
   "metadata": {},
   "outputs": [],
   "source": [
    "- center has two arguments\n",
    "\n",
    "    - width\n",
    "\n",
    "    - fill char\n",
    "        \n",
    "- original string already : 15 letters\n",
    "\n",
    "- we want to create a new string with 20 letters\n",
    "\n",
    "- remaining 5 letters by default empty\n",
    "\n",
    "- We can fill with characters also"
   ]
  },
  {
   "cell_type": "code",
   "execution_count": 143,
   "id": "a15d64db-73c1-4a08-ad22-743c21451716",
   "metadata": {},
   "outputs": [
    {
     "data": {
      "text/plain": [
       "'%%sharath chandra%%%'"
      ]
     },
     "execution_count": 143,
     "metadata": {},
     "output_type": "execute_result"
    }
   ],
   "source": [
    "str1.center(20,'%')"
   ]
  },
  {
   "cell_type": "markdown",
   "id": "1228d58a-68f3-4c1a-bf64-d48102f9fa72",
   "metadata": {},
   "source": [
    "**Count**"
   ]
  },
  {
   "cell_type": "code",
   "execution_count": null,
   "id": "f204e117-dcc3-4f87-94de-48bff28160c5",
   "metadata": {},
   "outputs": [],
   "source": [
    "str1='hai how are you'\n",
    "# How many 'a's are there"
   ]
  },
  {
   "cell_type": "code",
   "execution_count": null,
   "id": "cd22aea5-58d0-4cf4-bde6-0520d28bf972",
   "metadata": {},
   "outputs": [],
   "source": [
    "#normal\n",
    "count=0\n",
    "for i in str1:\n",
    "    if i=='a':\n",
    "        count=count+1\n",
    "count=0"
   ]
  },
  {
   "cell_type": "code",
   "execution_count": 8,
   "id": "821fc11e-f1ab-4640-91ee-f7f226e92776",
   "metadata": {},
   "outputs": [
    {
     "data": {
      "text/plain": [
       "2"
      ]
     },
     "execution_count": 8,
     "metadata": {},
     "output_type": "execute_result"
    }
   ],
   "source": [
    "str1='hai how are you'\n",
    "str1.count('a')"
   ]
  },
  {
   "cell_type": "markdown",
   "id": "be289f9e-41d2-4ee1-8003-d21ad3b5e3c3",
   "metadata": {},
   "source": [
    "- we want number of a from a specific index\n",
    "\n",
    "- we want number of s between two indexes"
   ]
  },
  {
   "cell_type": "code",
   "execution_count": 31,
   "id": "fbca877e-c9da-4f06-a568-42bffdd31f58",
   "metadata": {},
   "outputs": [
    {
     "data": {
      "text/plain": [
       "2"
      ]
     },
     "execution_count": 31,
     "metadata": {},
     "output_type": "execute_result"
    }
   ],
   "source": [
    "str1='hai hai hai'\n",
    "str1.count('a',5)"
   ]
  },
  {
   "cell_type": "code",
   "execution_count": 33,
   "id": "9c13035b-174e-401e-8a08-09d2c765727c",
   "metadata": {},
   "outputs": [
    {
     "data": {
      "text/plain": [
       "1"
      ]
     },
     "execution_count": 33,
     "metadata": {},
     "output_type": "execute_result"
    }
   ],
   "source": [
    "str1.count('a',4,8)"
   ]
  },
  {
   "cell_type": "code",
   "execution_count": 35,
   "id": "c7093254-e4f3-496e-8813-957b86b472f5",
   "metadata": {},
   "outputs": [
    {
     "data": {
      "text/plain": [
       "3"
      ]
     },
     "execution_count": 35,
     "metadata": {},
     "output_type": "execute_result"
    }
   ],
   "source": [
    "#s h a r a t h s h a  r  a  t  h  s  h  a  r  a  t  h\n",
    "#0 1 2 3 4 5 6 7 8 9 10 11 12 13 14 15 16 17 18 19 20\n",
    "str1='sharathsharathsharath'\n",
    "str1.count('a',10,20)"
   ]
  },
  {
   "cell_type": "code",
   "execution_count": 37,
   "id": "5b4fab3b-2abd-4e11-918e-3974d5bc9f40",
   "metadata": {},
   "outputs": [
    {
     "data": {
      "text/plain": [
       "3"
      ]
     },
     "execution_count": 37,
     "metadata": {},
     "output_type": "execute_result"
    }
   ],
   "source": [
    "str1='ola ola ola'\n",
    "str1.count('ola')"
   ]
  },
  {
   "cell_type": "code",
   "execution_count": null,
   "id": "5138fcdb-70d6-46a3-bd6c-ac26777e236b",
   "metadata": {},
   "outputs": [],
   "source": [
    "**Window method**"
   ]
  },
  {
   "cell_type": "code",
   "execution_count": null,
   "id": "41cfb7c5-f59d-4efe-921f-d111f35fc759",
   "metadata": {},
   "outputs": [],
   "source": [
    "str1[i:i+3]\n",
    "i=0   str1[0:3] ===> ola\n",
    "i=1   str1[0:3] ====> la\n",
    "i=2"
   ]
  },
  {
   "cell_type": "code",
   "execution_count": 41,
   "id": "d320fedf-2a0a-466e-9c49-9e12aa02a774",
   "metadata": {},
   "outputs": [
    {
     "ename": "TypeError",
     "evalue": "'int' object is not callable",
     "output_type": "error",
     "traceback": [
      "\u001b[1;31m---------------------------------------------------------------------------\u001b[0m",
      "\u001b[1;31mTypeError\u001b[0m                                 Traceback (most recent call last)",
      "Cell \u001b[1;32mIn[41], line 6\u001b[0m\n\u001b[0;32m      4\u001b[0m     \u001b[38;5;28;01mif\u001b[39;00m str1[i:i\u001b[38;5;241m+\u001b[39m\u001b[38;5;241m3\u001b[39m]\u001b[38;5;241m==\u001b[39m\u001b[38;5;124m'\u001b[39m\u001b[38;5;124mola\u001b[39m\u001b[38;5;124m'\u001b[39m:\n\u001b[0;32m      5\u001b[0m         count\u001b[38;5;241m=\u001b[39mcount\u001b[38;5;241m+\u001b[39m\u001b[38;5;241m1\u001b[39m\n\u001b[1;32m----> 6\u001b[0m count()\n",
      "\u001b[1;31mTypeError\u001b[0m: 'int' object is not callable"
     ]
    }
   ],
   "source": [
    "str1='ola ola ola'\n",
    "count=0\n",
    "for i in range(len(str1)):\n",
    "    if str1[i:i+3]=='ola':\n",
    "        count=count+1\n",
    "count()"
   ]
  },
  {
   "cell_type": "code",
   "execution_count": 55,
   "id": "ea13ca93-4c66-4995-a945-3fdec5ef653d",
   "metadata": {},
   "outputs": [
    {
     "data": {
      "text/plain": [
       "3"
      ]
     },
     "execution_count": 55,
     "metadata": {},
     "output_type": "execute_result"
    }
   ],
   "source": [
    "str1='ola ola ola'\n",
    "str1.count('ola')"
   ]
  },
  {
   "cell_type": "code",
   "execution_count": 61,
   "id": "d5a2dc4c-e8ad-4629-b697-8ccf63962759",
   "metadata": {},
   "outputs": [
    {
     "data": {
      "text/plain": [
       "1"
      ]
     },
     "execution_count": 61,
     "metadata": {},
     "output_type": "execute_result"
    }
   ],
   "source": [
    "str1='ola ola ola'\n",
    "str1.count(str1)"
   ]
  },
  {
   "cell_type": "code",
   "execution_count": 63,
   "id": "6fd74261-8960-4009-b0b3-f0ccabc1586a",
   "metadata": {},
   "outputs": [
    {
     "data": {
      "text/plain": [
       "0"
      ]
     },
     "execution_count": 63,
     "metadata": {},
     "output_type": "execute_result"
    }
   ],
   "source": [
    "str1.count('z')"
   ]
  },
  {
   "cell_type": "markdown",
   "id": "1cc104a6-94f4-4dbf-8ee4-4a9996798b27",
   "metadata": {},
   "source": [
    "**Replace**"
   ]
  },
  {
   "cell_type": "code",
   "execution_count": 78,
   "id": "e1d0cff7-2f58-4a06-b1bb-f5df536299a3",
   "metadata": {},
   "outputs": [
    {
     "data": {
      "text/plain": [
       "'WeLcome'"
      ]
     },
     "execution_count": 78,
     "metadata": {},
     "output_type": "execute_result"
    }
   ],
   "source": [
    "str1='We'\n",
    "str2='come'\n",
    "str1+'L'+str2"
   ]
  },
  {
   "cell_type": "code",
   "execution_count": 82,
   "id": "96c1e80c-c3e4-4bf7-b385-8c63323b6abe",
   "metadata": {},
   "outputs": [
    {
     "data": {
      "text/plain": [
       "'welcome'"
      ]
     },
     "execution_count": 82,
     "metadata": {},
     "output_type": "execute_result"
    }
   ],
   "source": [
    "str1='welcome'\n",
    "chr(ord('l')-32)\n",
    "str1"
   ]
  },
  {
   "cell_type": "code",
   "execution_count": 84,
   "id": "052d6ee5-1819-4553-bbce-67d2808cdf4c",
   "metadata": {},
   "outputs": [
    {
     "data": {
      "text/plain": [
       "'weLcome'"
      ]
     },
     "execution_count": 84,
     "metadata": {},
     "output_type": "execute_result"
    }
   ],
   "source": [
    "str1='welcome'\n",
    "str1.replace('l','L')"
   ]
  },
  {
   "cell_type": "code",
   "execution_count": 86,
   "id": "9a1691b8-a37a-4f6e-9e70-4fe91f01749f",
   "metadata": {},
   "outputs": [
    {
     "data": {
      "text/plain": [
       "'weLLcome'"
      ]
     },
     "execution_count": 86,
     "metadata": {},
     "output_type": "execute_result"
    }
   ],
   "source": [
    "str1='wellcome'\n",
    "str1.replace('l','L')"
   ]
  },
  {
   "cell_type": "markdown",
   "id": "8080f957-0103-49c1-9711-3ef9f1396e88",
   "metadata": {},
   "source": [
    "- By default replace will change all the occurence\n",
    "\n",
    "- count = -1 is responsible for that \n",
    "\n",
    "- which means we can provide some count also, which how many i want to change\n",
    "\n",
    "- Give wellcome and change count=1 and count=2 explore it"
   ]
  },
  {
   "cell_type": "code",
   "execution_count": 95,
   "id": "317516a2-7c0e-4020-8f0b-4f1743012ead",
   "metadata": {},
   "outputs": [
    {
     "data": {
      "text/plain": [
       "'weLllcome'"
      ]
     },
     "execution_count": 95,
     "metadata": {},
     "output_type": "execute_result"
    }
   ],
   "source": [
    "str1='welllcome'\n",
    "str1.replace('l','L',1)   #old='l', new='L', count=1"
   ]
  },
  {
   "cell_type": "code",
   "execution_count": 97,
   "id": "3e1d9c91-d0a6-47be-9ab2-03e74a2d7284",
   "metadata": {},
   "outputs": [
    {
     "data": {
      "text/plain": [
       "'weLLlcome'"
      ]
     },
     "execution_count": 97,
     "metadata": {},
     "output_type": "execute_result"
    }
   ],
   "source": [
    "str1='welllcome'\n",
    "str1.replace('l','L',2) "
   ]
  },
  {
   "cell_type": "code",
   "execution_count": 103,
   "id": "664fcece-0489-4714-bb07-c93d04ff0ba2",
   "metadata": {},
   "outputs": [
    {
     "data": {
      "text/plain": [
       "'$esta$t'"
      ]
     },
     "execution_count": 103,
     "metadata": {},
     "output_type": "execute_result"
    }
   ],
   "source": [
    "#str1='restart'\n",
    "# i/p='resta$t'\n",
    "str1='restart'\n",
    "str1.replace('r','$',4)"
   ]
  },
  {
   "cell_type": "code",
   "execution_count": 125,
   "id": "b9739283-eb6e-4ec2-9b7c-cf13d15b9006",
   "metadata": {},
   "outputs": [
    {
     "data": {
      "text/plain": [
       "'resta$t'"
      ]
     },
     "execution_count": 125,
     "metadata": {},
     "output_type": "execute_result"
    }
   ],
   "source": [
    "str1='re'\n",
    "str2='start'\n",
    "str3=str2.replace('r','$')\n",
    "str1+str3"
   ]
  },
  {
   "cell_type": "code",
   "execution_count": 123,
   "id": "6bff9152-aac7-4bdc-b870-4de211d6a89c",
   "metadata": {},
   "outputs": [
    {
     "data": {
      "text/plain": [
       "'resta$t'"
      ]
     },
     "execution_count": 123,
     "metadata": {},
     "output_type": "execute_result"
    }
   ],
   "source": [
    "str1='restart'\n",
    "s1=str1[:1]\n",
    "s2=str1[1:]\n",
    "s3=s2.replace('r','$')\n",
    "s1+s3"
   ]
  },
  {
   "cell_type": "code",
   "execution_count": 127,
   "id": "0bc5287a-0aa2-4680-83ca-8c85c26b58db",
   "metadata": {},
   "outputs": [
    {
     "data": {
      "text/plain": [
       "'resta$t'"
      ]
     },
     "execution_count": 127,
     "metadata": {},
     "output_type": "execute_result"
    }
   ],
   "source": [
    "str1='restart'\n",
    "str1[::-1].replace('r','$',1)[::-1]"
   ]
  },
  {
   "cell_type": "markdown",
   "id": "895ba3e9-3614-4646-9e9a-ca44259e0447",
   "metadata": {},
   "source": [
    "**index-find**"
   ]
  },
  {
   "cell_type": "markdown",
   "id": "cc9f7a35-7431-42c5-afc4-118196e9c336",
   "metadata": {},
   "source": [
    "- upper\n",
    "\n",
    "- lower\n",
    "\n",
    "- case fold\n",
    "\n",
    "- title\n",
    "\n",
    "- captalize\n",
    "\n",
    "- count\n",
    "\n",
    "- replace\n",
    "\n",
    "- index- find\n",
    "\n",
    "- split\n",
    "\n",
    "- strip\n",
    "\n",
    "- startswith"
   ]
  },
  {
   "cell_type": "code",
   "execution_count": 130,
   "id": "613856d4-c7e8-4c76-ae91-9853d9a76259",
   "metadata": {},
   "outputs": [
    {
     "data": {
      "text/plain": [
       "['__add__',\n",
       " '__class__',\n",
       " '__contains__',\n",
       " '__delattr__',\n",
       " '__dir__',\n",
       " '__doc__',\n",
       " '__eq__',\n",
       " '__format__',\n",
       " '__ge__',\n",
       " '__getattribute__',\n",
       " '__getitem__',\n",
       " '__getnewargs__',\n",
       " '__getstate__',\n",
       " '__gt__',\n",
       " '__hash__',\n",
       " '__init__',\n",
       " '__init_subclass__',\n",
       " '__iter__',\n",
       " '__le__',\n",
       " '__len__',\n",
       " '__lt__',\n",
       " '__mod__',\n",
       " '__mul__',\n",
       " '__ne__',\n",
       " '__new__',\n",
       " '__reduce__',\n",
       " '__reduce_ex__',\n",
       " '__repr__',\n",
       " '__rmod__',\n",
       " '__rmul__',\n",
       " '__setattr__',\n",
       " '__sizeof__',\n",
       " '__str__',\n",
       " '__subclasshook__',\n",
       " 'capitalize',\n",
       " 'casefold',\n",
       " 'center',\n",
       " 'count',\n",
       " 'encode',\n",
       " 'endswith',\n",
       " 'expandtabs',\n",
       " 'find',\n",
       " 'format',\n",
       " 'format_map',\n",
       " 'index',\n",
       " 'isalnum',\n",
       " 'isalpha',\n",
       " 'isascii',\n",
       " 'isdecimal',\n",
       " 'isdigit',\n",
       " 'isidentifier',\n",
       " 'islower',\n",
       " 'isnumeric',\n",
       " 'isprintable',\n",
       " 'isspace',\n",
       " 'istitle',\n",
       " 'isupper',\n",
       " 'join',\n",
       " 'ljust',\n",
       " 'lower',\n",
       " 'lstrip',\n",
       " 'maketrans',\n",
       " 'partition',\n",
       " 'removeprefix',\n",
       " 'removesuffix',\n",
       " 'replace',\n",
       " 'rfind',\n",
       " 'rindex',\n",
       " 'rjust',\n",
       " 'rpartition',\n",
       " 'rsplit',\n",
       " 'rstrip',\n",
       " 'split',\n",
       " 'splitlines',\n",
       " 'startswith',\n",
       " 'strip',\n",
       " 'swapcase',\n",
       " 'title',\n",
       " 'translate',\n",
       " 'upper',\n",
       " 'zfill']"
      ]
     },
     "execution_count": 130,
     "metadata": {},
     "output_type": "execute_result"
    }
   ],
   "source": [
    "dir('')"
   ]
  },
  {
   "cell_type": "code",
   "execution_count": null,
   "id": "cc8764b3-b046-42d6-9ae8-effb15913ba5",
   "metadata": {},
   "outputs": [],
   "source": [
    "'isalnum',\n",
    " 'isalpha',\n",
    " 'isascii',\n",
    " 'isdecimal',\n",
    " 'isdigit',\n",
    " 'isidentifier',\n",
    " 'islower',\n",
    " 'isnumeric',\n",
    " 'isprintable',\n",
    " 'isspace',\n",
    " 'istitle',\n",
    " 'isupper',"
   ]
  },
  {
   "cell_type": "code",
   "execution_count": 149,
   "id": "5947a4bd-f909-47a5-ae78-ad3d69729820",
   "metadata": {},
   "outputs": [
    {
     "data": {
      "text/plain": [
       "False"
      ]
     },
     "execution_count": 149,
     "metadata": {},
     "output_type": "execute_result"
    }
   ],
   "source": [
    "str1='1223'\n",
    "str1.isalpha()"
   ]
  },
  {
   "cell_type": "code",
   "execution_count": 17,
   "id": "c2302abf-c34d-41f1-ab9d-641f07898fc8",
   "metadata": {},
   "outputs": [
    {
     "data": {
      "text/plain": [
       "False"
      ]
     },
     "execution_count": 17,
     "metadata": {},
     "output_type": "execute_result"
    }
   ],
   "source": [
    "str1='sharath'\n",
    "str1.isdigit()"
   ]
  },
  {
   "cell_type": "code",
   "execution_count": null,
   "id": "9587de7f-12a5-40be-9685-136b69318ae1",
   "metadata": {},
   "outputs": [],
   "source": [
    "**Index**\n",
    "\n",
    "- index says that it will give the index of any letter in a given string\n",
    "\n",
    "- we already seen about count: Count will give how many letters are there in a string\n",
    "\n",
    "    - at what index you want to count\n",
    "\n",
    "    - \n",
    "\n",
    "- index meaning it will provide \n",
    "\n",
    "- imagine that there same letters repeated\n",
    "\n",
    "- How can we find the next index"
   ]
  },
  {
   "cell_type": "code",
   "execution_count": 25,
   "id": "1649f787-2f9e-43f2-b3c7-d55c41a2d17c",
   "metadata": {},
   "outputs": [
    {
     "data": {
      "text/plain": [
       "1"
      ]
     },
     "execution_count": 25,
     "metadata": {},
     "output_type": "execute_result"
    }
   ],
   "source": [
    "#-11 -10 -9 -8 -7  -6  -5  -4  -3 -2 -1\n",
    "#h    a   i     h  a   i       h  a  i \n",
    "#0    1   2  3  4  5   6  7    8  9 10\n",
    "\n",
    "str1='hai hai hai'\n",
    "str1.index('a')"
   ]
  },
  {
   "cell_type": "code",
   "execution_count": 27,
   "id": "34c928ec-ec03-4583-b1af-a9397dd2f6ef",
   "metadata": {},
   "outputs": [
    {
     "data": {
      "text/plain": [
       "5"
      ]
     },
     "execution_count": 27,
     "metadata": {},
     "output_type": "execute_result"
    }
   ],
   "source": [
    "str1='hai hai hai'\n",
    "str1.index('a',3)"
   ]
  },
  {
   "cell_type": "code",
   "execution_count": 29,
   "id": "4526721e-6fe5-4b39-be7e-20ef16ad1a0c",
   "metadata": {},
   "outputs": [
    {
     "data": {
      "text/plain": [
       "5"
      ]
     },
     "execution_count": 29,
     "metadata": {},
     "output_type": "execute_result"
    }
   ],
   "source": [
    "str1='hai hai hai'\n",
    "str1.index('a',3,7)"
   ]
  },
  {
   "cell_type": "code",
   "execution_count": 33,
   "id": "2d0fc2ba-03aa-4283-82cb-d3223000f8d9",
   "metadata": {},
   "outputs": [
    {
     "data": {
      "text/plain": [
       "4"
      ]
     },
     "execution_count": 33,
     "metadata": {},
     "output_type": "execute_result"
    }
   ],
   "source": [
    "str1='hai hai hai'\n",
    "str1.index('h',3)"
   ]
  },
  {
   "cell_type": "code",
   "execution_count": 39,
   "id": "cfc71503-34f0-4a1c-8bcf-92adf9b79000",
   "metadata": {},
   "outputs": [
    {
     "data": {
      "text/plain": [
       "9"
      ]
     },
     "execution_count": 39,
     "metadata": {},
     "output_type": "execute_result"
    }
   ],
   "source": [
    "str1='hai hai hai'\n",
    "str1.index('a',-4,-1)"
   ]
  },
  {
   "cell_type": "code",
   "execution_count": 45,
   "id": "c40b9ac1-ba1d-48f1-89f9-bcdc627306c5",
   "metadata": {},
   "outputs": [
    {
     "name": "stdout",
     "output_type": "stream",
     "text": [
      "1\n",
      "5\n",
      "9\n",
      "13\n"
     ]
    }
   ],
   "source": [
    "str1='hai hai hai hai'\n",
    "i1=str1.index('a')\n",
    "print(i1)\n",
    "i2=str1.index('a',i1+1)\n",
    "print(i2)\n",
    "i3=str1.index('a',i2+1)\n",
    "print(i3)\n",
    "i4=str1.index('a',i3+1)\n",
    "print(i4)"
   ]
  },
  {
   "cell_type": "code",
   "execution_count": 49,
   "id": "9ed0e07c-b620-4d0a-a21f-371430a3b3c6",
   "metadata": {},
   "outputs": [
    {
     "name": "stdout",
     "output_type": "stream",
     "text": [
      "1\n",
      "5\n",
      "9\n",
      "13\n"
     ]
    }
   ],
   "source": [
    "str1='hai hai hai hai'\n",
    "i1=str1.find('a')\n",
    "print(i1)\n",
    "i2=str1.find('a',i1+1)\n",
    "print(i2)\n",
    "i3=str1.find('a',i2+1)\n",
    "print(i3)\n",
    "i4=str1.find('a',i3+1)\n",
    "print(i4)"
   ]
  },
  {
   "cell_type": "code",
   "execution_count": null,
   "id": "520ed63f-4b3f-4204-bab1-201dc7c9b03a",
   "metadata": {},
   "outputs": [],
   "source": [
    "str1='sharath.reddy@cognizant.com'\n",
    "i1=str1.index('.')\n",
    "i2=str1.index('@')\n",
    "i3=str1.index('.',i1+1)\n",
    "first_name=str1[:i1]\n",
    "second_name=str1[i1+1]"
   ]
  }
 ],
 "metadata": {
  "kernelspec": {
   "display_name": "Python 3 (ipykernel)",
   "language": "python",
   "name": "python3"
  },
  "language_info": {
   "codemirror_mode": {
    "name": "ipython",
    "version": 3
   },
   "file_extension": ".py",
   "mimetype": "text/x-python",
   "name": "python",
   "nbconvert_exporter": "python",
   "pygments_lexer": "ipython3",
   "version": "3.11.7"
  }
 },
 "nbformat": 4,
 "nbformat_minor": 5
}
