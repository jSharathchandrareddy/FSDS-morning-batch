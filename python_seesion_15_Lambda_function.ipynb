{
 "cells": [
  {
   "cell_type": "markdown",
   "id": "99754ccd-c943-49a4-8120-477724f9b045",
   "metadata": {},
   "source": [
    "**Lambda Functions**\n",
    "\n",
    "- Lambda functions respresents function concept\n",
    "\n",
    "- But we can write in a single line\n",
    "\n",
    "- Like list comprehension, lambda functions similar only\n",
    "\n",
    "- It will decrease the time complexity\n",
    "\n",
    "- Always remember if we use many for loops or many conditions using multiple line, the time complexity will increase"
   ]
  },
  {
   "cell_type": "code",
   "execution_count": null,
   "id": "4ec1615f-c3b7-444a-b650-332b63ef0748",
   "metadata": {},
   "outputs": [],
   "source": [
    "#syntax\n",
    "\n",
    "**It will use a keyword lambda**\n",
    "    \n",
    "#lambda <arguments>: <expression>"
   ]
  },
  {
   "cell_type": "code",
   "execution_count": 2,
   "id": "1a5bffc5-5cd5-4470-875d-c0b735fa4896",
   "metadata": {},
   "outputs": [
    {
     "data": {
      "text/plain": [
       "30"
      ]
     },
     "execution_count": 2,
     "metadata": {},
     "output_type": "execute_result"
    }
   ],
   "source": [
    "def summ(n):\n",
    "    return(n+10)\n",
    "summ(20)"
   ]
  },
  {
   "cell_type": "markdown",
   "id": "6581983b-c7ed-41e6-9fa9-c31cb1176cae",
   "metadata": {},
   "source": [
    "$Patten-1$\n",
    "\n",
    "**Function with only one argument**\n",
    "\n",
    "- Function name\n",
    "\n",
    "- argument name \n",
    "\n",
    "- return output    "
   ]
  },
  {
   "cell_type": "code",
   "execution_count": 5,
   "id": "c0969752-a70b-4f24-b0fa-4d7fbfd9ad88",
   "metadata": {},
   "outputs": [
    {
     "data": {
      "text/plain": [
       "30"
      ]
     },
     "execution_count": 5,
     "metadata": {},
     "output_type": "execute_result"
    }
   ],
   "source": [
    "# syntax: <function name>= lambda <argument name>: <return output>\n",
    "def summ(n):        # summ is function name\n",
    "    return(n+10)    # n is argument name & n+10 is return output\n",
    "summ(20)"
   ]
  },
  {
   "cell_type": "code",
   "execution_count": 7,
   "id": "cc18c85f-5090-4484-8eb8-f72a8372f67f",
   "metadata": {},
   "outputs": [
    {
     "data": {
      "text/plain": [
       "1000"
      ]
     },
     "execution_count": 7,
     "metadata": {},
     "output_type": "execute_result"
    }
   ],
   "source": [
    "def cude(n):\n",
    "    return(n**3)\n",
    "cude(10)"
   ]
  },
  {
   "cell_type": "code",
   "execution_count": 11,
   "id": "09941249-c98c-4e90-84e8-70e24ce2d675",
   "metadata": {},
   "outputs": [
    {
     "data": {
      "text/plain": [
       "110"
      ]
     },
     "execution_count": 11,
     "metadata": {},
     "output_type": "execute_result"
    }
   ],
   "source": [
    "summ=lambda n:n+10\n",
    "summ(100)"
   ]
  },
  {
   "cell_type": "code",
   "execution_count": 13,
   "id": "ebc3a441-761f-4754-8411-69ff70733ada",
   "metadata": {},
   "outputs": [
    {
     "data": {
      "text/plain": [
       "1000"
      ]
     },
     "execution_count": 13,
     "metadata": {},
     "output_type": "execute_result"
    }
   ],
   "source": [
    "cude=lambda n:n**3\n",
    "cude(10)"
   ]
  },
  {
   "cell_type": "markdown",
   "id": "1068b98f-ff35-47ca-8f12-5dcd2673cf4d",
   "metadata": {},
   "source": [
    "$Pattern-2$\n",
    "\n",
    "**Two arguments**"
   ]
  },
  {
   "cell_type": "code",
   "execution_count": 18,
   "id": "61cb4c6b-8a0f-4d8e-8448-422f6845efca",
   "metadata": {},
   "outputs": [
    {
     "data": {
      "text/plain": [
       "50"
      ]
     },
     "execution_count": 18,
     "metadata": {},
     "output_type": "execute_result"
    }
   ],
   "source": [
    "#syntax: <function name> = lambda <arg1>,<return output>\n",
    "def add(a,b):\n",
    "    return(a+b)\n",
    "add(20,30)\n",
    "\n",
    "#Function name: add\n",
    "# arg1=a\n",
    "# arg1=b\n",
    "# return= a+b"
   ]
  },
  {
   "cell_type": "code",
   "execution_count": 20,
   "id": "79e9a195-7351-410a-988d-0aae9a0822d6",
   "metadata": {},
   "outputs": [
    {
     "data": {
      "text/plain": [
       "70"
      ]
     },
     "execution_count": 20,
     "metadata": {},
     "output_type": "execute_result"
    }
   ],
   "source": [
    "add=lambda n1,n2: n1+n2\n",
    "add(30,40)"
   ]
  },
  {
   "cell_type": "code",
   "execution_count": 30,
   "id": "542f3902-0eaa-4532-a27f-20ca646714d2",
   "metadata": {},
   "outputs": [
    {
     "data": {
      "text/plain": [
       "121.67"
      ]
     },
     "execution_count": 30,
     "metadata": {},
     "output_type": "execute_result"
    }
   ],
   "source": [
    "avg=lambda a,b,c: round((a+b+c)/3,2)\n",
    "avg(20,305,40)"
   ]
  },
  {
   "cell_type": "markdown",
   "id": "0badee7c-241a-41fd-8bfe-0c6eeddcea1f",
   "metadata": {},
   "source": [
    "**Pattern-3**\n",
    "\n",
    "**Default arguments**"
   ]
  },
  {
   "cell_type": "code",
   "execution_count": 2,
   "id": "0319d2ff-38b9-4843-999c-7d7411e09a38",
   "metadata": {},
   "outputs": [
    {
     "data": {
      "text/plain": [
       "275.0"
      ]
     },
     "execution_count": 2,
     "metadata": {},
     "output_type": "execute_result"
    }
   ],
   "source": [
    "avg=lambda a,b,c=500: round((a+b+c)/3,2)\n",
    "avg(20,305)"
   ]
  },
  {
   "cell_type": "markdown",
   "id": "446cafe8-4f8b-486c-aafb-fc909aabd48b",
   "metadata": {},
   "source": [
    "$Pattern-4$\n",
    "\n",
    "**if-else**"
   ]
  },
  {
   "cell_type": "code",
   "execution_count": 5,
   "id": "d9f2c6f8-c26c-4c11-a881-52043f45521a",
   "metadata": {},
   "outputs": [
    {
     "data": {
      "text/plain": [
       "20"
      ]
     },
     "execution_count": 5,
     "metadata": {},
     "output_type": "execute_result"
    }
   ],
   "source": [
    "def max(a,b):\n",
    "    if a>b:\n",
    "        return(a)\n",
    "    else:\n",
    "        return(b)\n",
    "max(10,20)"
   ]
  },
  {
   "cell_type": "code",
   "execution_count": 12,
   "id": "4c9edc21-91a7-427b-a85f-99c50a29e413",
   "metadata": {},
   "outputs": [
    {
     "data": {
      "text/plain": [
       "20"
      ]
     },
     "execution_count": 12,
     "metadata": {},
     "output_type": "execute_result"
    }
   ],
   "source": [
    "# syntax : function name = lambda <arg1>,<arg2>: <list comprehension>\n",
    "# syntax : function name = lambda <arg1>,<arg2>: <if_out><if_con><else><esle_out>\n",
    "maxx=lambda a,b: a if a>b else b\n",
    "maxx(10,20)"
   ]
  },
  {
   "cell_type": "markdown",
   "id": "10b3d909-dd78-4f63-8e03-7dbf961144d0",
   "metadata": {},
   "source": [
    "**Pattern-5**\n",
    "\n",
    "**using list**"
   ]
  },
  {
   "cell_type": "code",
   "execution_count": 15,
   "id": "244dc204-33b0-4644-bfc8-427f10cb7f98",
   "metadata": {},
   "outputs": [
    {
     "data": {
      "text/plain": [
       "['Hyd', 'Chennai', 'Mumbai']"
      ]
     },
     "execution_count": 15,
     "metadata": {},
     "output_type": "execute_result"
    }
   ],
   "source": [
    "l=['hyd','chennai','mumbai']\n",
    "op=[]\n",
    "for i in l:\n",
    "    op.append(i.capitalize())\n",
    "op"
   ]
  },
  {
   "cell_type": "code",
   "execution_count": null,
   "id": "615de08c-6c76-461a-a93f-74251e3824ff",
   "metadata": {},
   "outputs": [],
   "source": [
    "lambda <variable>:<op>\n",
    "# variable:i\n",
    "#op:i.capitalize()\n",
    "lambda <variable>:<op>,<iterator>\n",
    "#<iterator>: list"
   ]
  },
  {
   "cell_type": "markdown",
   "id": "e99cf067-6af8-4964-9cc0-3698b385207a",
   "metadata": {},
   "source": [
    "**map**\n",
    "\n",
    "- The function and iterator are available now\n",
    "\n",
    "- we need to map both"
   ]
  },
  {
   "cell_type": "code",
   "execution_count": 21,
   "id": "4a7ef773-f3ef-4f7d-a878-b88429bf51ce",
   "metadata": {},
   "outputs": [
    {
     "data": {
      "text/plain": [
       "(<function __main__.<lambda>(i)>, ['hyd', 'chennai', 'mumbai'])"
      ]
     },
     "execution_count": 21,
     "metadata": {},
     "output_type": "execute_result"
    }
   ],
   "source": [
    "l=['hyd','chennai','mumbai']\n",
    "lambda i: i.capitalize(),l"
   ]
  },
  {
   "cell_type": "code",
   "execution_count": 24,
   "id": "7cc6eaef-567e-459c-b274-422044000b00",
   "metadata": {},
   "outputs": [
    {
     "data": {
      "text/plain": [
       "<map at 0x271ffddc9a0>"
      ]
     },
     "execution_count": 24,
     "metadata": {},
     "output_type": "execute_result"
    }
   ],
   "source": [
    "l=['hyd','chennai','mumbai']\n",
    "map(lambda i: i.capitalize(),l)"
   ]
  },
  {
   "cell_type": "code",
   "execution_count": 26,
   "id": "4abbb7e6-a5cc-48ad-ade5-b26293214d55",
   "metadata": {},
   "outputs": [
    {
     "ename": "SyntaxError",
     "evalue": "invalid syntax (30866302.py, line 1)",
     "output_type": "error",
     "traceback": [
      "\u001b[1;36m  Cell \u001b[1;32mIn[26], line 1\u001b[1;36m\u001b[0m\n\u001b[1;33m    list[]\u001b[0m\n\u001b[1;37m         ^\u001b[0m\n\u001b[1;31mSyntaxError\u001b[0m\u001b[1;31m:\u001b[0m invalid syntax\n"
     ]
    }
   ],
   "source": [
    "list[]"
   ]
  },
  {
   "cell_type": "code",
   "execution_count": 3,
   "id": "a9c6f5e7-f1cb-4391-a216-48f09428522a",
   "metadata": {},
   "outputs": [
    {
     "data": {
      "text/plain": [
       "('Hyd', 'Chennai', 'Mumbai')"
      ]
     },
     "execution_count": 3,
     "metadata": {},
     "output_type": "execute_result"
    }
   ],
   "source": [
    "l=['hyd','chennai','mumbai']\n",
    "tuple(map(lambda i: i.capitalize(),l))"
   ]
  },
  {
   "cell_type": "code",
   "execution_count": null,
   "id": "3e05405f-4346-4c8d-a3b2-a3a39d3d9041",
   "metadata": {},
   "outputs": [],
   "source": [
    "- case-1: Function call with one argument\n",
    "\n",
    "    - lambda argument : expression\n",
    "\n",
    "    - lambda variables : return output\n",
    "\n",
    "- case-2: Function call with two arguments\n",
    "\n",
    "    - lambda arg1, arg2 : Expression\n",
    "\n",
    "    - lambda var1,var2 : return output\n",
    "\n",
    "- case-3: Function call with two arguments\n",
    "\n",
    "    - lambda arg1,arg2=500 : Expression\n",
    "\n",
    "    - lambda var1,var2=500 : return output\n",
    "\n",
    "- case-4: Function call with two arguments and if else statement\n",
    "\n",
    "    -lambda arg1,arg2 : Expression\n",
    "\n",
    "    -lambda var1,var2 : if_output if_con else els_op forloop\n",
    "\n",
    "- Case-5: Lambda operations using list\n",
    "\n",
    "    -lambda arg : Expression,iterator\n",
    "\n",
    "    - map(lambda var: operation,list)\n",
    "\n",
    "    - list(map(lambda var: operation,list))"
   ]
  },
  {
   "cell_type": "code",
   "execution_count": 15,
   "id": "7ee5778f-79dd-48c4-b2fc-0967e4e32b55",
   "metadata": {},
   "outputs": [
    {
     "data": {
      "text/plain": [
       "['HYD', 'CHENNAI', 'MUMBAI']"
      ]
     },
     "execution_count": 15,
     "metadata": {},
     "output_type": "execute_result"
    }
   ],
   "source": [
    "l=['hyd','chennai','mumbai']\n",
    "#for i in l:\n",
    "   # print(i.upper())\n",
    "\n",
    "list(map(lambda i:i.upper(),l))"
   ]
  },
  {
   "cell_type": "markdown",
   "id": "ffd4d9aa-0ced-48a9-9c8f-cda46eb22ec8",
   "metadata": {},
   "source": [
    "**Filter**\n",
    "\n",
    "- Whenever if condition there use filter"
   ]
  },
  {
   "cell_type": "code",
   "execution_count": 21,
   "id": "6f2c1e6a-b3fb-491a-9ffb-6e043239ec1e",
   "metadata": {},
   "outputs": [
    {
     "name": "stdout",
     "output_type": "stream",
     "text": [
      "che#nnai\n",
      "mum#bai\n"
     ]
    },
    {
     "data": {
      "text/plain": [
       "[False, True, True, False]"
      ]
     },
     "execution_count": 21,
     "metadata": {},
     "output_type": "execute_result"
    }
   ],
   "source": [
    "l=['hyd','che#nnai','mum#bai','blr']\n",
    "for i in l:\n",
    "    if '#' in i:\n",
    "        print(i)\n",
    "list(map(lambda i : \"#\" in i,l))  # mistake 1\n",
    "                                    # do not write if\n",
    "    "
   ]
  },
  {
   "cell_type": "code",
   "execution_count": 27,
   "id": "fc5f9035-b917-40cc-b501-b6ff657b02d8",
   "metadata": {},
   "outputs": [
    {
     "data": {
      "text/plain": [
       "('che#nnai', 'mum#bai')"
      ]
     },
     "execution_count": 27,
     "metadata": {},
     "output_type": "execute_result"
    }
   ],
   "source": [
    "tuple(filter(lambda i : \"#\" in i,l))"
   ]
  },
  {
   "cell_type": "code",
   "execution_count": null,
   "id": "6218bde5-e8cf-49f2-a7f3-f3fd667b6b54",
   "metadata": {},
   "outputs": [],
   "source": [
    "# some number=[1,3,2,7,6]\n",
    "# op=[2,6]"
   ]
  },
  {
   "cell_type": "code",
   "execution_count": 29,
   "id": "69865c76-e94e-41d4-9349-e21fd7edd9f7",
   "metadata": {},
   "outputs": [
    {
     "data": {
      "text/plain": [
       "(2, 6)"
      ]
     },
     "execution_count": 29,
     "metadata": {},
     "output_type": "execute_result"
    }
   ],
   "source": [
    "l=[1,3,2,7,6]\n",
    "tuple(filter(lambda i : i%2==0 ,l))"
   ]
  },
  {
   "cell_type": "code",
   "execution_count": 35,
   "id": "0c769208-3d38-4d09-9d6d-a083cc8f6ece",
   "metadata": {},
   "outputs": [
    {
     "name": "stdout",
     "output_type": "stream",
     "text": [
      "15\n"
     ]
    }
   ],
   "source": [
    "l1=[1,2,3,4,5]\n",
    "\n",
    "#sum(l1)  #method-1\n",
    "#method-2\n",
    "summ=0\n",
    "for i in l1:\n",
    "    summ=summ+i\n",
    "print(summ)"
   ]
  },
  {
   "cell_type": "code",
   "execution_count": 45,
   "id": "bfb90cf4-9ddd-488b-b42b-3deb072dc5ec",
   "metadata": {},
   "outputs": [
    {
     "data": {
      "text/plain": [
       "<filter at 0x21afefee980>"
      ]
     },
     "execution_count": 45,
     "metadata": {},
     "output_type": "execute_result"
    }
   ],
   "source": [
    "l1=[1,2,3,4,5]\n",
    "\n",
    "filter(lambda summ,i:summ+i,l1)"
   ]
  },
  {
   "cell_type": "code",
   "execution_count": null,
   "id": "db793dfb-e9db-4919-9c8d-99071a33d765",
   "metadata": {},
   "outputs": [],
   "source": [
    "**Reduce**\n",
    "  \n",
    "- All inbulit functions can achieve by Reduce\n",
    "\n",
    "- Reduce is available from functools package\n",
    "\n",
    "- Level-1: Reduce(lambda summ,i:summ+i,l1)\n",
    "\n",
    "- Level-2: reduce(lambda summ,i:summ+i,l1,intial_value)\n",
    "\n",
    "- For example we want intialize summ=o"
   ]
  },
  {
   "cell_type": "code",
   "execution_count": 49,
   "id": "3e568871-e9a5-4a17-af46-8fb2aa9055fc",
   "metadata": {},
   "outputs": [],
   "source": [
    "import functools\n"
   ]
  },
  {
   "cell_type": "code",
   "execution_count": 51,
   "id": "53299f53-3306-4eed-842b-22c344c3e903",
   "metadata": {},
   "outputs": [
    {
     "data": {
      "text/plain": [
       "['GenericAlias',\n",
       " 'RLock',\n",
       " 'WRAPPER_ASSIGNMENTS',\n",
       " 'WRAPPER_UPDATES',\n",
       " '_CacheInfo',\n",
       " '_HashedSeq',\n",
       " '_NOT_FOUND',\n",
       " '__all__',\n",
       " '__builtins__',\n",
       " '__cached__',\n",
       " '__doc__',\n",
       " '__file__',\n",
       " '__loader__',\n",
       " '__name__',\n",
       " '__package__',\n",
       " '__spec__',\n",
       " '_c3_merge',\n",
       " '_c3_mro',\n",
       " '_compose_mro',\n",
       " '_convert',\n",
       " '_find_impl',\n",
       " '_ge_from_gt',\n",
       " '_ge_from_le',\n",
       " '_ge_from_lt',\n",
       " '_gt_from_ge',\n",
       " '_gt_from_le',\n",
       " '_gt_from_lt',\n",
       " '_initial_missing',\n",
       " '_le_from_ge',\n",
       " '_le_from_gt',\n",
       " '_le_from_lt',\n",
       " '_lru_cache_wrapper',\n",
       " '_lt_from_ge',\n",
       " '_lt_from_gt',\n",
       " '_lt_from_le',\n",
       " '_make_key',\n",
       " '_unwrap_partial',\n",
       " 'cache',\n",
       " 'cached_property',\n",
       " 'cmp_to_key',\n",
       " 'get_cache_token',\n",
       " 'lru_cache',\n",
       " 'namedtuple',\n",
       " 'partial',\n",
       " 'partialmethod',\n",
       " 'recursive_repr',\n",
       " 'reduce',\n",
       " 'singledispatch',\n",
       " 'singledispatchmethod',\n",
       " 'total_ordering',\n",
       " 'update_wrapper',\n",
       " 'wraps']"
      ]
     },
     "execution_count": 51,
     "metadata": {},
     "output_type": "execute_result"
    }
   ],
   "source": [
    "dir(functools)"
   ]
  },
  {
   "cell_type": "code",
   "execution_count": 53,
   "id": "5f593122-ff7b-4917-b132-69529b49de53",
   "metadata": {},
   "outputs": [
    {
     "data": {
      "text/plain": [
       "15"
      ]
     },
     "execution_count": 53,
     "metadata": {},
     "output_type": "execute_result"
    }
   ],
   "source": [
    "l1=[1,2,3,4,5]\n",
    "functools.reduce(lambda summ,i:summ+i,l1)"
   ]
  },
  {
   "cell_type": "code",
   "execution_count": 55,
   "id": "21e43d6c-5ce5-4094-8e41-224c18c1995d",
   "metadata": {},
   "outputs": [
    {
     "data": {
      "text/plain": [
       "5.0"
      ]
     },
     "execution_count": 55,
     "metadata": {},
     "output_type": "execute_result"
    }
   ],
   "source": [
    "import math\n",
    "math.sqrt(25)"
   ]
  },
  {
   "cell_type": "code",
   "execution_count": 57,
   "id": "8444d644-3548-4682-ad86-8a54dd9ea187",
   "metadata": {},
   "outputs": [
    {
     "data": {
      "text/plain": [
       "3.0"
      ]
     },
     "execution_count": 57,
     "metadata": {},
     "output_type": "execute_result"
    }
   ],
   "source": [
    "import numpy\n",
    "numpy.mean([1,2,3,4,5])"
   ]
  },
  {
   "cell_type": "code",
   "execution_count": null,
   "id": "3a2e0ed0-8028-4205-bd35-e810fb237efe",
   "metadata": {},
   "outputs": [],
   "source": []
  }
 ],
 "metadata": {
  "kernelspec": {
   "display_name": "Python 3 (ipykernel)",
   "language": "python",
   "name": "python3"
  },
  "language_info": {
   "codemirror_mode": {
    "name": "ipython",
    "version": 3
   },
   "file_extension": ".py",
   "mimetype": "text/x-python",
   "name": "python",
   "nbconvert_exporter": "python",
   "pygments_lexer": "ipython3",
   "version": "3.11.7"
  }
 },
 "nbformat": 4,
 "nbformat_minor": 5
}
