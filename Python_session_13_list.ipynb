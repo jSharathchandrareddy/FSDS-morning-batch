{
 "cells": [
  {
   "cell_type": "code",
   "execution_count": null,
   "id": "01b01db7-c07d-4f0d-a5e0-9d778e78216d",
   "metadata": {},
   "outputs": [],
   "source": []
  },
  {
   "cell_type": "markdown",
   "id": "270e56ff-eb3a-48b1-b2fe-177e8a69a1b5",
   "metadata": {},
   "source": [
    "**Representation**"
   ]
  },
  {
   "cell_type": "markdown",
   "id": "9392099a-f677-4012-9b94-754de460b931",
   "metadata": {},
   "source": [
    "- String representation with quotes\n",
    "\n",
    "- List represent with square brackets[]"
   ]
  },
  {
   "cell_type": "code",
   "execution_count": 3,
   "id": "205db229-4c6c-4308-91d3-32365a03b994",
   "metadata": {},
   "outputs": [
    {
     "data": {
      "text/plain": [
       "[1, 2, 3, 4]"
      ]
     },
     "execution_count": 3,
     "metadata": {},
     "output_type": "execute_result"
    }
   ],
   "source": [
    "l1=[1,2,3,4]\n",
    "l1"
   ]
  },
  {
   "cell_type": "code",
   "execution_count": 5,
   "id": "0925ffcc-6a59-407f-91d5-2f278258fccf",
   "metadata": {},
   "outputs": [
    {
     "data": {
      "text/plain": [
       "list"
      ]
     },
     "execution_count": 5,
     "metadata": {},
     "output_type": "execute_result"
    }
   ],
   "source": [
    "type(l1)"
   ]
  },
  {
   "cell_type": "code",
   "execution_count": 7,
   "id": "3f9f4884-814e-4632-9ee5-33759da4f5be",
   "metadata": {},
   "outputs": [
    {
     "data": {
      "text/plain": [
       "['A', 'B', 'C', 'D']"
      ]
     },
     "execution_count": 7,
     "metadata": {},
     "output_type": "execute_result"
    }
   ],
   "source": [
    "l2=['A','B','C','D']\n",
    "l2"
   ]
  },
  {
   "cell_type": "code",
   "execution_count": 9,
   "id": "5812792d-ef03-44d0-a2ac-1d2201967bf4",
   "metadata": {},
   "outputs": [
    {
     "data": {
      "text/plain": [
       "[1, 2, 3, 4, 'A', 'B', 'C', 'D']"
      ]
     },
     "execution_count": 9,
     "metadata": {},
     "output_type": "execute_result"
    }
   ],
   "source": [
    "l3=[1,2,3,4,'A','B','C','D']\n",
    "l3"
   ]
  },
  {
   "cell_type": "code",
   "execution_count": 11,
   "id": "52ad27aa-9e54-4d24-a807-da06da9027e5",
   "metadata": {},
   "outputs": [
    {
     "data": {
      "text/plain": [
       "[1, 2, 3, 'Apple', 'Ball', True, False]"
      ]
     },
     "execution_count": 11,
     "metadata": {},
     "output_type": "execute_result"
    }
   ],
   "source": [
    "l4=[1,2,3,'Apple','Ball',True,False]\n",
    "l4"
   ]
  },
  {
   "cell_type": "code",
   "execution_count": 13,
   "id": "ef8bb697-136d-4773-ad1b-cd0dfdc57953",
   "metadata": {},
   "outputs": [
    {
     "data": {
      "text/plain": [
       "['naresh it']"
      ]
     },
     "execution_count": 13,
     "metadata": {},
     "output_type": "execute_result"
    }
   ],
   "source": [
    "name='naresh it'\n",
    "l5=[name]\n",
    "l5"
   ]
  },
  {
   "cell_type": "code",
   "execution_count": 15,
   "id": "63fb34fa-72e4-44bd-bf5c-38d14c41491b",
   "metadata": {},
   "outputs": [
    {
     "data": {
      "text/plain": [
       "[100, 100, 100]"
      ]
     },
     "execution_count": 15,
     "metadata": {},
     "output_type": "execute_result"
    }
   ],
   "source": [
    "l6=[100,100,100]\n",
    "l6"
   ]
  },
  {
   "cell_type": "code",
   "execution_count": null,
   "id": "c51f1510-52c2-4d8d-b124-f9de0c32b89d",
   "metadata": {},
   "outputs": [],
   "source": [
    "- lists are array of elements\n",
    "\n",
    "- list elements are heterogeneous all the data types we can represent in a list\n",
    "\n",
    "- list elements are allowed duplicates\n",
    "\n",
    "- list in list is possible\n",
    "\n",
    "- variable assignment also possible in the list"
   ]
  },
  {
   "cell_type": "code",
   "execution_count": 29,
   "id": "8460a8b3-d256-49e4-adf6-7b9574d90152",
   "metadata": {},
   "outputs": [
    {
     "name": "stdout",
     "output_type": "stream",
     "text": [
      "4\n",
      "4\n",
      "1\n",
      "[1, 2, 3, 4]\n",
      "<list_reverseiterator object at 0x0000012D22F83640>\n"
     ]
    }
   ],
   "source": [
    "l1=[1,2,3,4]\n",
    "print(len(l1))\n",
    "print(max(l1))\n",
    "print(min(l1))\n",
    "print(sorted(l1))\n",
    "print(reversed(l1))"
   ]
  },
  {
   "cell_type": "code",
   "execution_count": 31,
   "id": "f0a25922-ba02-4af6-b620-ff5bf07512f3",
   "metadata": {},
   "outputs": [
    {
     "name": "stdout",
     "output_type": "stream",
     "text": [
      "4\n",
      "D\n",
      "A\n",
      "['A', 'B', 'C', 'D']\n",
      "<list_reverseiterator object at 0x0000012D25782EC0>\n"
     ]
    }
   ],
   "source": [
    "l1=['A','B','C','D']\n",
    "print(len(l1))\n",
    "print(max(l1))\n",
    "print(min(l1))\n",
    "print(sorted(l1))\n",
    "print(reversed(l1))"
   ]
  },
  {
   "cell_type": "code",
   "execution_count": 45,
   "id": "ec92ee5c-4385-433e-b61a-f58e23d0ef07",
   "metadata": {},
   "outputs": [
    {
     "name": "stdout",
     "output_type": "stream",
     "text": [
      "7\n"
     ]
    },
    {
     "ename": "TypeError",
     "evalue": "'<' not supported between instances of 'str' and 'int'",
     "output_type": "error",
     "traceback": [
      "\u001b[1;31m---------------------------------------------------------------------------\u001b[0m",
      "\u001b[1;31mTypeError\u001b[0m                                 Traceback (most recent call last)",
      "Cell \u001b[1;32mIn[45], line 5\u001b[0m\n\u001b[0;32m      2\u001b[0m \u001b[38;5;28mprint\u001b[39m(\u001b[38;5;28mlen\u001b[39m(l1))\n\u001b[0;32m      3\u001b[0m \u001b[38;5;66;03m#print(max(l1))\u001b[39;00m\n\u001b[0;32m      4\u001b[0m \u001b[38;5;66;03m#print(min(l1))\u001b[39;00m\n\u001b[1;32m----> 5\u001b[0m \u001b[38;5;28mprint\u001b[39m(\u001b[38;5;28msorted\u001b[39m(l1))\n\u001b[0;32m      6\u001b[0m \u001b[38;5;28mprint\u001b[39m(\u001b[38;5;28mreversed\u001b[39m(l1))\n",
      "\u001b[1;31mTypeError\u001b[0m: '<' not supported between instances of 'str' and 'int'"
     ]
    }
   ],
   "source": [
    "l1=[1,2,3,'Apple','Ball',True,False]\n",
    "print(len(l1))\n",
    "print(max(l1))\n",
    "print(min(l1))\n",
    "print(sorted(l1))\n",
    "print(reversed(l1))"
   ]
  },
  {
   "cell_type": "code",
   "execution_count": 51,
   "id": "54a33b67-acfd-461c-bf22-def1c31c3258",
   "metadata": {},
   "outputs": [
    {
     "name": "stdout",
     "output_type": "stream",
     "text": [
      "7\n",
      "t\n",
      "S\n",
      "['S', 'a', 'a', 'h', 'h', 'r', 't']\n",
      "<reversed object at 0x0000012D257B4430>\n"
     ]
    }
   ],
   "source": [
    "name='Sharath'\n",
    "l1=name\n",
    "print(len(l1))\n",
    "print(max(l1))\n",
    "print(min(l1))\n",
    "print(sorted(l1))\n",
    "print(reversed(l1))"
   ]
  },
  {
   "cell_type": "code",
   "execution_count": 53,
   "id": "a1bd0400-f946-457e-9db0-fce96e36c5c8",
   "metadata": {},
   "outputs": [
    {
     "name": "stdout",
     "output_type": "stream",
     "text": [
      "5\n"
     ]
    },
    {
     "ename": "TypeError",
     "evalue": "'>' not supported between instances of 'str' and 'int'",
     "output_type": "error",
     "traceback": [
      "\u001b[1;31m---------------------------------------------------------------------------\u001b[0m",
      "\u001b[1;31mTypeError\u001b[0m                                 Traceback (most recent call last)",
      "Cell \u001b[1;32mIn[53], line 3\u001b[0m\n\u001b[0;32m      1\u001b[0m l1\u001b[38;5;241m=\u001b[39m[\u001b[38;5;241m1\u001b[39m,\u001b[38;5;241m2\u001b[39m,\u001b[38;5;241m3\u001b[39m,\u001b[38;5;124m'\u001b[39m\u001b[38;5;124mApple\u001b[39m\u001b[38;5;124m'\u001b[39m,\u001b[38;5;124m'\u001b[39m\u001b[38;5;124mBall\u001b[39m\u001b[38;5;124m'\u001b[39m]\n\u001b[0;32m      2\u001b[0m \u001b[38;5;28mprint\u001b[39m(\u001b[38;5;28mlen\u001b[39m(l1))\n\u001b[1;32m----> 3\u001b[0m \u001b[38;5;28mprint\u001b[39m(\u001b[38;5;28mmax\u001b[39m(l1))\n\u001b[0;32m      4\u001b[0m \u001b[38;5;28mprint\u001b[39m(\u001b[38;5;28mmin\u001b[39m(l1))\n\u001b[0;32m      5\u001b[0m \u001b[38;5;28mprint\u001b[39m(\u001b[38;5;28msorted\u001b[39m(l1))\n",
      "\u001b[1;31mTypeError\u001b[0m: '>' not supported between instances of 'str' and 'int'"
     ]
    }
   ],
   "source": [
    "l1=[1,2,3,'Apple','Ball']\n",
    "print(len(l1))\n",
    "print(max(l1))\n",
    "print(min(l1))\n",
    "print(sorted(l1))\n",
    "print(reversed(l1))"
   ]
  },
  {
   "cell_type": "code",
   "execution_count": 55,
   "id": "18b87df3-f6bd-41be-9101-047e8e38c953",
   "metadata": {},
   "outputs": [
    {
     "name": "stdout",
     "output_type": "stream",
     "text": [
      "3\n"
     ]
    },
    {
     "ename": "TypeError",
     "evalue": "'>' not supported between instances of 'str' and 'int'",
     "output_type": "error",
     "traceback": [
      "\u001b[1;31m---------------------------------------------------------------------------\u001b[0m",
      "\u001b[1;31mTypeError\u001b[0m                                 Traceback (most recent call last)",
      "Cell \u001b[1;32mIn[55], line 3\u001b[0m\n\u001b[0;32m      1\u001b[0m l1\u001b[38;5;241m=\u001b[39m[\u001b[38;5;241m100\u001b[39m,\u001b[38;5;124m'\u001b[39m\u001b[38;5;124mApple\u001b[39m\u001b[38;5;124m'\u001b[39m,[\u001b[38;5;124m'\u001b[39m\u001b[38;5;124mA\u001b[39m\u001b[38;5;124m'\u001b[39m,\u001b[38;5;241m2\u001b[39m]]\n\u001b[0;32m      2\u001b[0m \u001b[38;5;28mprint\u001b[39m(\u001b[38;5;28mlen\u001b[39m(l1))\n\u001b[1;32m----> 3\u001b[0m \u001b[38;5;28mprint\u001b[39m(\u001b[38;5;28mmax\u001b[39m(l1))\n\u001b[0;32m      4\u001b[0m \u001b[38;5;28mprint\u001b[39m(\u001b[38;5;28mmin\u001b[39m(l1))\n\u001b[0;32m      5\u001b[0m \u001b[38;5;28mprint\u001b[39m(\u001b[38;5;28msorted\u001b[39m(l1))\n",
      "\u001b[1;31mTypeError\u001b[0m: '>' not supported between instances of 'str' and 'int'"
     ]
    }
   ],
   "source": [
    "l1=[100,'Apple',['A',2]]\n",
    "print(len(l1))\n",
    "print(max(l1))\n",
    "print(min(l1))\n",
    "print(sorted(l1))\n",
    "print(reversed(l1))"
   ]
  },
  {
   "cell_type": "code",
   "execution_count": 57,
   "id": "c5979e60-d341-48ad-b0bd-8deb608692bc",
   "metadata": {},
   "outputs": [
    {
     "data": {
      "text/plain": [
       "<list_reverseiterator at 0x12d25779ed0>"
      ]
     },
     "execution_count": 57,
     "metadata": {},
     "output_type": "execute_result"
    }
   ],
   "source": [
    "l1=[1,2,3,'Apple','Ball',True,False]\n",
    "reversed(l1)"
   ]
  },
  {
   "cell_type": "code",
   "execution_count": 59,
   "id": "504b32d8-81d4-4b8c-b7de-9e4e089b9234",
   "metadata": {},
   "outputs": [
    {
     "name": "stdout",
     "output_type": "stream",
     "text": [
      "False\n",
      "True\n",
      "Ball\n",
      "Apple\n",
      "3\n",
      "2\n",
      "1\n"
     ]
    }
   ],
   "source": [
    "for i in reversed(l1):\n",
    "    print(i)"
   ]
  },
  {
   "cell_type": "code",
   "execution_count": 61,
   "id": "7ace7953-3f4e-4d6b-a11d-6289124d9229",
   "metadata": {},
   "outputs": [
    {
     "data": {
      "text/plain": [
       "[False, True, 'Ball', 'Apple', 3, 2, 1]"
      ]
     },
     "execution_count": 61,
     "metadata": {},
     "output_type": "execute_result"
    }
   ],
   "source": [
    "l1=[1,2,3,'Apple','Ball',True,False]\n",
    "list(reversed(l1))"
   ]
  },
  {
   "cell_type": "code",
   "execution_count": 69,
   "id": "02873b77-0b55-471f-a92d-07c7500c8f92",
   "metadata": {},
   "outputs": [
    {
     "data": {
      "text/plain": [
       "'banu'"
      ]
     },
     "execution_count": 69,
     "metadata": {},
     "output_type": "execute_result"
    }
   ],
   "source": [
    "name=['aditya','aaditya','banu']\n",
    "max(name)\n",
    "# First compare all first letters \n",
    "# If all first letters ascii values same\n",
    "# Then compare with second letters\n",
    "# Continue the process"
   ]
  },
  {
   "cell_type": "code",
   "execution_count": 71,
   "id": "3c2e784c-28dc-4437-aeb6-5ddfa36deb9b",
   "metadata": {},
   "outputs": [
    {
     "data": {
      "text/plain": [
       "3"
      ]
     },
     "execution_count": 71,
     "metadata": {},
     "output_type": "execute_result"
    }
   ],
   "source": [
    "list1=['Apple',1,['Cherry','Banana']]\n",
    "len(list1)"
   ]
  },
  {
   "cell_type": "code",
   "execution_count": 73,
   "id": "aa1f3dca-4b00-411b-b448-d527ff497c3f",
   "metadata": {},
   "outputs": [
    {
     "ename": "TypeError",
     "evalue": "'>' not supported between instances of 'str' and 'int'",
     "output_type": "error",
     "traceback": [
      "\u001b[1;31m---------------------------------------------------------------------------\u001b[0m",
      "\u001b[1;31mTypeError\u001b[0m                                 Traceback (most recent call last)",
      "Cell \u001b[1;32mIn[73], line 2\u001b[0m\n\u001b[0;32m      1\u001b[0m list1\u001b[38;5;241m=\u001b[39m[\u001b[38;5;241m65\u001b[39m,\u001b[38;5;124m'\u001b[39m\u001b[38;5;124mA\u001b[39m\u001b[38;5;124m'\u001b[39m]\n\u001b[1;32m----> 2\u001b[0m \u001b[38;5;28mmax\u001b[39m(list1)\n",
      "\u001b[1;31mTypeError\u001b[0m: '>' not supported between instances of 'str' and 'int'"
     ]
    }
   ],
   "source": [
    "list1=[65,'A']\n",
    "max(list1)\n",
    "# same data type only comparable"
   ]
  },
  {
   "cell_type": "markdown",
   "id": "87dfde6d-31af-4674-a638-436f2a55d88a",
   "metadata": {},
   "source": [
    "**Index**"
   ]
  },
  {
   "cell_type": "code",
   "execution_count": null,
   "id": "f7ef03db-4f76-481c-8c40-a5bf803e2d5a",
   "metadata": {},
   "outputs": [],
   "source": [
    "l1=[1,2,3,'Apple','Ball',True,False]\n",
    "\n",
    "# -8 -7 -6   -5     -4     -3    -2    -1\n",
    "# 1,  2, 3,'Apple','Ball','cat',True,False\n",
    "# 0   1  2    3      4      5     6   7"
   ]
  },
  {
   "cell_type": "code",
   "execution_count": 76,
   "id": "561fea0e-a928-4c5a-80cf-63d5cbf4d3c3",
   "metadata": {},
   "outputs": [
    {
     "data": {
      "text/plain": [
       "'Apple'"
      ]
     },
     "execution_count": 76,
     "metadata": {},
     "output_type": "execute_result"
    }
   ],
   "source": [
    "l1[3]"
   ]
  },
  {
   "cell_type": "code",
   "execution_count": 86,
   "id": "e7e87091-5605-4a1c-be05-7b186ca94da5",
   "metadata": {},
   "outputs": [
    {
     "data": {
      "text/plain": [
       "'Ball'"
      ]
     },
     "execution_count": 86,
     "metadata": {},
     "output_type": "execute_result"
    }
   ],
   "source": [
    "l1[-3]"
   ]
  },
  {
   "cell_type": "code",
   "execution_count": 88,
   "id": "65b4eb4f-c954-4f0f-b2b6-1ae605120188",
   "metadata": {},
   "outputs": [
    {
     "data": {
      "text/plain": [
       "[1, [2]]"
      ]
     },
     "execution_count": 88,
     "metadata": {},
     "output_type": "execute_result"
    }
   ],
   "source": [
    "l1=[1,[2]]\n",
    "l1"
   ]
  },
  {
   "cell_type": "code",
   "execution_count": 94,
   "id": "a5d3b039-1c56-4c3c-84a1-5eda59e744ab",
   "metadata": {},
   "outputs": [
    {
     "data": {
      "text/plain": [
       "2"
      ]
     },
     "execution_count": 94,
     "metadata": {},
     "output_type": "execute_result"
    }
   ],
   "source": [
    "new=l1[1]\n",
    "new[0]"
   ]
  },
  {
   "cell_type": "code",
   "execution_count": 96,
   "id": "ca86e2c2-efb7-4e0b-b45d-5c112ee81407",
   "metadata": {},
   "outputs": [
    {
     "data": {
      "text/plain": [
       "2"
      ]
     },
     "execution_count": 96,
     "metadata": {},
     "output_type": "execute_result"
    }
   ],
   "source": [
    "l1[1][0]"
   ]
  },
  {
   "cell_type": "code",
   "execution_count": 100,
   "id": "5389bc43-8a89-427a-a59b-7f396a3678e6",
   "metadata": {},
   "outputs": [
    {
     "data": {
      "text/plain": [
       "'A'"
      ]
     },
     "execution_count": 100,
     "metadata": {},
     "output_type": "execute_result"
    }
   ],
   "source": [
    "l1=[1,[2,'A']]\n",
    "l1[1][1]\n",
    "\n",
    "# 'A' is presented at index 1\n",
    "# so we given l1[1] : [2,'A'] it is aslo a list\n",
    "# The lists has two elements\n",
    "# 'A' at 1st index\n",
    "# l1[1][1]"
   ]
  },
  {
   "cell_type": "code",
   "execution_count": 130,
   "id": "782aaeeb-482a-44d0-b54f-3c426a99e5ad",
   "metadata": {},
   "outputs": [
    {
     "data": {
      "text/plain": [
       "'A'"
      ]
     },
     "execution_count": 130,
     "metadata": {},
     "output_type": "execute_result"
    }
   ],
   "source": [
    "l2=[1,2,3,[2,'A']]\n",
    "l2[3][1]"
   ]
  },
  {
   "cell_type": "code",
   "execution_count": 158,
   "id": "ef21c0db-3967-41c1-aada-293c1c9247d0",
   "metadata": {},
   "outputs": [
    {
     "data": {
      "text/plain": [
       "'B'"
      ]
     },
     "execution_count": 158,
     "metadata": {},
     "output_type": "execute_result"
    }
   ],
   "source": [
    "l1=[1,[2,['A','B']]]\n",
    "l1[1][1][1]\n",
    "#len(l1)"
   ]
  },
  {
   "cell_type": "code",
   "execution_count": 176,
   "id": "8091479c-5d5e-46ac-b813-cb3782502a37",
   "metadata": {},
   "outputs": [
    {
     "data": {
      "text/plain": [
       "'Apple'"
      ]
     },
     "execution_count": 176,
     "metadata": {},
     "output_type": "execute_result"
    }
   ],
   "source": [
    "l1=[1,2,[3,[4,[5,['Apple']]]]]\n",
    "l1[2][1][1][1][0]"
   ]
  },
  {
   "cell_type": "code",
   "execution_count": 178,
   "id": "afd670c3-fb6c-4aff-9c67-2a024f0cec55",
   "metadata": {},
   "outputs": [
    {
     "data": {
      "text/plain": [
       "[3, [4, [5, ['Apple']]]]"
      ]
     },
     "execution_count": 178,
     "metadata": {},
     "output_type": "execute_result"
    }
   ],
   "source": [
    "l1[2]"
   ]
  },
  {
   "cell_type": "code",
   "execution_count": 186,
   "id": "d986515a-3428-4aa3-93c6-9af1caa4036f",
   "metadata": {},
   "outputs": [
    {
     "data": {
      "text/plain": [
       "'Banana'"
      ]
     },
     "execution_count": 186,
     "metadata": {},
     "output_type": "execute_result"
    }
   ],
   "source": [
    "list1=['Apple',1,'Solapur',['cherry','papaya',70,[123,'Banana'],'tomato'],'pythom']\n",
    "list1[3][3][1]"
   ]
  },
  {
   "cell_type": "code",
   "execution_count": 202,
   "id": "5d7c37eb-5e0c-4cf7-8196-95c17b4577f3",
   "metadata": {},
   "outputs": [
    {
     "data": {
      "text/plain": [
       "'Cherry'"
      ]
     },
     "execution_count": 202,
     "metadata": {},
     "output_type": "execute_result"
    }
   ],
   "source": [
    "list1=[[[[[[[1,'Cherry']]]]]]]\n",
    "list1[0][0][0][0][0][0][1]"
   ]
  },
  {
   "cell_type": "code",
   "execution_count": 222,
   "id": "4a3a13f8-1d15-4f6c-a3e1-bedda6b601e3",
   "metadata": {},
   "outputs": [
    {
     "data": {
      "text/plain": [
       "'shmbaji'"
      ]
     },
     "execution_count": 222,
     "metadata": {},
     "output_type": "execute_result"
    }
   ],
   "source": [
    "list1=['MH',['Nagpur',['Orange',['Likes',['King'],['Shivaji',['son',['shmbaji']]]]]]]\n",
    "list1[1][1][1][2][1][1][0]"
   ]
  },
  {
   "cell_type": "code",
   "execution_count": 6,
   "id": "d3092ae8-a844-4d91-b914-7599d106a092",
   "metadata": {},
   "outputs": [
    {
     "name": "stdout",
     "output_type": "stream",
     "text": [
      "The positive index of 1 is 0\n",
      "The positive index of 2 is 1\n",
      "The positive index of 3 is 2\n",
      "The positive index of Apple is 3\n",
      "The positive index of Ball is 4\n",
      "The positive index of True is 5\n",
      "The positive index of False is 6\n"
     ]
    }
   ],
   "source": [
    "l1=[1,2,3,'Apple','Ball',True,False]\n",
    "for i in range(len(l1)):\n",
    "    print(f\"The positive index of {l1[i]} is {i}\")\n"
   ]
  },
  {
   "cell_type": "markdown",
   "id": "2ea54e02-bcd8-4610-9e8b-aa896a6841c1",
   "metadata": {},
   "source": [
    "**List Methods**"
   ]
  },
  {
   "cell_type": "code",
   "execution_count": 17,
   "id": "77d6be32-769a-45f6-9f39-b3b1cb665ff2",
   "metadata": {},
   "outputs": [
    {
     "data": {
      "text/plain": [
       "['__add__',\n",
       " '__class__',\n",
       " '__class_getitem__',\n",
       " '__contains__',\n",
       " '__delattr__',\n",
       " '__delitem__',\n",
       " '__dir__',\n",
       " '__doc__',\n",
       " '__eq__',\n",
       " '__format__',\n",
       " '__ge__',\n",
       " '__getattribute__',\n",
       " '__getitem__',\n",
       " '__getstate__',\n",
       " '__gt__',\n",
       " '__hash__',\n",
       " '__iadd__',\n",
       " '__imul__',\n",
       " '__init__',\n",
       " '__init_subclass__',\n",
       " '__iter__',\n",
       " '__le__',\n",
       " '__len__',\n",
       " '__lt__',\n",
       " '__mul__',\n",
       " '__ne__',\n",
       " '__new__',\n",
       " '__reduce__',\n",
       " '__reduce_ex__',\n",
       " '__repr__',\n",
       " '__reversed__',\n",
       " '__rmul__',\n",
       " '__setattr__',\n",
       " '__setitem__',\n",
       " '__sizeof__',\n",
       " '__str__',\n",
       " '__subclasshook__',\n",
       " 'append',\n",
       " 'clear',\n",
       " 'copy',\n",
       " 'count',\n",
       " 'extend',\n",
       " 'index',\n",
       " 'insert',\n",
       " 'pop',\n",
       " 'remove',\n",
       " 'reverse',\n",
       " 'sort']"
      ]
     },
     "execution_count": 17,
     "metadata": {},
     "output_type": "execute_result"
    }
   ],
   "source": [
    "dir(list)"
   ]
  },
  {
   "cell_type": "code",
   "execution_count": null,
   "id": "aba2b8a9-5464-4856-8646-18762f105a47",
   "metadata": {},
   "outputs": [],
   "source": [
    "'append',\n",
    "'clear',\n",
    "'copy',\n",
    "'count',\n",
    "'extend',\n",
    "'index',\n",
    "'insert',\n",
    "'pop',\n",
    "'remove',\n",
    "'reverse',\n",
    "'sort']"
   ]
  },
  {
   "cell_type": "markdown",
   "id": "e13df2af-89ce-425f-aac0-41b30536a5af",
   "metadata": {},
   "source": [
    "**Append**\n",
    "\n",
    "- adding elements in alist at last index\n",
    "\n",
    "- append method is very important\n",
    "\n",
    "- most of the time we will use append in the real time\n",
    "\n",
    "- When you add the value the original list will be overwrite"
   ]
  },
  {
   "cell_type": "code",
   "execution_count": 19,
   "id": "c266ddd7-6958-43bf-b2c8-48a0cf461424",
   "metadata": {},
   "outputs": [
    {
     "data": {
      "text/plain": [
       "['Apple', 'Ball', 'Cat']"
      ]
     },
     "execution_count": 19,
     "metadata": {},
     "output_type": "execute_result"
    }
   ],
   "source": [
    "l=['Apple','Ball','Cat']\n",
    "l"
   ]
  },
  {
   "cell_type": "code",
   "execution_count": null,
   "id": "ed7484bf-14c9-41be-b145-6d62c38f3860",
   "metadata": {},
   "outputs": [],
   "source": [
    "# You want to add Doll in a given list\n",
    "\n",
    "# Keywords vs methods\n",
    "len()\n",
    "max()\n",
    "min()\n",
    "reversed()\n",
    "sorted()\n",
    "\n",
    "#methods\n",
    "<package>.<method>()"
   ]
  },
  {
   "cell_type": "code",
   "execution_count": 27,
   "id": "c032b3ae-8110-4404-80b3-51cf180ae198",
   "metadata": {},
   "outputs": [],
   "source": [
    "l.append('Doll')"
   ]
  },
  {
   "cell_type": "code",
   "execution_count": 29,
   "id": "e24624d8-96fc-42ac-8223-ef2c6fd0dc37",
   "metadata": {},
   "outputs": [
    {
     "data": {
      "text/plain": [
       "['Apple', 'Ball', 'Cat', 1, 'Doll', 'Doll', 'Doll']"
      ]
     },
     "execution_count": 29,
     "metadata": {},
     "output_type": "execute_result"
    }
   ],
   "source": [
    "l"
   ]
  },
  {
   "cell_type": "code",
   "execution_count": 31,
   "id": "b37d6f17-5e71-4b7e-97da-c6e4578e3ea9",
   "metadata": {},
   "outputs": [
    {
     "data": {
      "text/plain": [
       "['Apple', 'Ball', 'Cat']"
      ]
     },
     "execution_count": 31,
     "metadata": {},
     "output_type": "execute_result"
    }
   ],
   "source": [
    "l=['Apple','Ball','Cat']\n",
    "l"
   ]
  },
  {
   "cell_type": "code",
   "execution_count": 33,
   "id": "aef4ecae-5c5b-4a70-ae5a-3996e38d01b9",
   "metadata": {},
   "outputs": [
    {
     "data": {
      "text/plain": [
       "['Apple', 'Ball', 'Cat', 'Doll']"
      ]
     },
     "execution_count": 33,
     "metadata": {},
     "output_type": "execute_result"
    }
   ],
   "source": [
    "l.append('Doll')\n",
    "l"
   ]
  },
  {
   "cell_type": "code",
   "execution_count": 35,
   "id": "44145725-2d46-4fd4-9e72-6166e777aef9",
   "metadata": {},
   "outputs": [
    {
     "data": {
      "text/plain": [
       "[1, 2, 3, 4, 100]"
      ]
     },
     "execution_count": 35,
     "metadata": {},
     "output_type": "execute_result"
    }
   ],
   "source": [
    "l1=[1,2,3,4]\n",
    "l1.append(100)\n",
    "l1"
   ]
  },
  {
   "cell_type": "code",
   "execution_count": 41,
   "id": "af332ec5-72a5-4e6a-a032-f7deceb19607",
   "metadata": {},
   "outputs": [
    {
     "data": {
      "text/plain": [
       "[10, 200, 'Apple', ['A', 1], True]"
      ]
     },
     "execution_count": 41,
     "metadata": {},
     "output_type": "execute_result"
    }
   ],
   "source": [
    "l2=[]\n",
    "l2.append(10)\n",
    "l2.append(200)\n",
    "l2.append('Apple')\n",
    "l2.append(['A',1])\n",
    "l2.append(True)\n",
    "l2"
   ]
  },
  {
   "cell_type": "code",
   "execution_count": 43,
   "id": "8e41567f-3064-4d6a-b7c3-f0232a83458d",
   "metadata": {},
   "outputs": [
    {
     "ename": "TypeError",
     "evalue": "'list' object is not callable",
     "output_type": "error",
     "traceback": [
      "\u001b[1;31m---------------------------------------------------------------------------\u001b[0m",
      "\u001b[1;31mTypeError\u001b[0m                                 Traceback (most recent call last)",
      "Cell \u001b[1;32mIn[43], line 1\u001b[0m\n\u001b[1;32m----> 1\u001b[0m l2(\u001b[38;5;241m100\u001b[39m,\u001b[38;5;241m200\u001b[39m,\u001b[38;5;241m3000\u001b[39m)\n",
      "\u001b[1;31mTypeError\u001b[0m: 'list' object is not callable"
     ]
    }
   ],
   "source": [
    "l2(100,200,3000)"
   ]
  },
  {
   "cell_type": "code",
   "execution_count": 49,
   "id": "c3dbef00-3365-4f52-86cd-34d90fd24569",
   "metadata": {},
   "outputs": [
    {
     "ename": "TypeError",
     "evalue": "'list' object is not callable",
     "output_type": "error",
     "traceback": [
      "\u001b[1;31m---------------------------------------------------------------------------\u001b[0m",
      "\u001b[1;31mTypeError\u001b[0m                                 Traceback (most recent call last)",
      "Cell \u001b[1;32mIn[49], line 1\u001b[0m\n\u001b[1;32m----> 1\u001b[0m l2([\u001b[38;5;241m100\u001b[39m,\u001b[38;5;241m200\u001b[39m,\u001b[38;5;241m3000\u001b[39m])\n\u001b[0;32m      2\u001b[0m l2\n",
      "\u001b[1;31mTypeError\u001b[0m: 'list' object is not callable"
     ]
    }
   ],
   "source": [
    "l2([100,200,3000])\n",
    "l2"
   ]
  },
  {
   "cell_type": "code",
   "execution_count": 51,
   "id": "f88f3eac-5921-4bc2-bc8a-f27a7543c4f8",
   "metadata": {},
   "outputs": [
    {
     "data": {
      "text/plain": [
       "[10, 200, 'Apple', ['A', 1], True]"
      ]
     },
     "execution_count": 51,
     "metadata": {},
     "output_type": "execute_result"
    }
   ],
   "source": [
    "l2=[]\n",
    "l2.append(10)\n",
    "l2.append(200)\n",
    "l2.append('Apple')\n",
    "l2.append(['A',1])\n",
    "l2.append(True)\n",
    "l2"
   ]
  },
  {
   "cell_type": "code",
   "execution_count": 55,
   "id": "08a02ab3-4f89-4725-8682-a7e756020f51",
   "metadata": {},
   "outputs": [
    {
     "data": {
      "text/plain": [
       "[10, 200, 'Apple', ['A', 1], True, [100, 200, 3000]]"
      ]
     },
     "execution_count": 55,
     "metadata": {},
     "output_type": "execute_result"
    }
   ],
   "source": [
    "l2.append([100,200,3000])\n",
    "l2"
   ]
  },
  {
   "cell_type": "markdown",
   "id": "205bc61e-261b-431b-b5c6-cdd37a36fef3",
   "metadata": {},
   "source": [
    "**Append method used to save the output in a list**"
   ]
  },
  {
   "cell_type": "code",
   "execution_count": 58,
   "id": "b9ffe290-c11f-4a6c-acea-9ccf9fdcb9a6",
   "metadata": {},
   "outputs": [
    {
     "name": "stdout",
     "output_type": "stream",
     "text": [
      "1\n",
      "4\n",
      "9\n",
      "16\n",
      "25\n"
     ]
    }
   ],
   "source": [
    "for i in range(1,6):\n",
    "    print(i*i)"
   ]
  },
  {
   "cell_type": "code",
   "execution_count": 64,
   "id": "fa88d9da-4c6a-4fd1-ab8a-08971fe53f15",
   "metadata": {},
   "outputs": [
    {
     "data": {
      "text/plain": [
       "[1, 4, 9, 16, 25]"
      ]
     },
     "execution_count": 64,
     "metadata": {},
     "output_type": "execute_result"
    }
   ],
   "source": [
    "square_list=[]\n",
    "for i in range(1,6):\n",
    "    square_list.append(i*i)\n",
    "square_list"
   ]
  },
  {
   "cell_type": "code",
   "execution_count": 66,
   "id": "b6273916-8997-4eb6-b596-90197bd6db7f",
   "metadata": {},
   "outputs": [],
   "source": [
    "s=''\n",
    "for i in 'python':\n",
    "    s=s+i"
   ]
  },
  {
   "cell_type": "code",
   "execution_count": 76,
   "id": "c8ebfd15-e5cd-4a53-b925-449d5c6ed8cf",
   "metadata": {},
   "outputs": [
    {
     "data": {
      "text/plain": [
       "[2, 6, 10]"
      ]
     },
     "execution_count": 76,
     "metadata": {},
     "output_type": "execute_result"
    }
   ],
   "source": [
    "str1='hai hai hai'\n",
    "id_list=[]\n",
    "for i in range(len(str1)):\n",
    "    if str1[i]=='i':\n",
    "        id_list.append(i)\n",
    "id_list        "
   ]
  },
  {
   "cell_type": "code",
   "execution_count": 11,
   "id": "7ec10755-3120-4e26-9583-8c7308a3a98a",
   "metadata": {},
   "outputs": [
    {
     "data": {
      "text/plain": [
       "['Mumbai', 'Chennai']"
      ]
     },
     "execution_count": 11,
     "metadata": {},
     "output_type": "execute_result"
    }
   ],
   "source": [
    "str2=['Hyd','Mumbai','Chennai','Blr']\n",
    "id_list=[]\n",
    "for i in str2:\n",
    "    if len(i)>4:\n",
    "        id_list.append(i)\n",
    "id_list"
   ]
  },
  {
   "cell_type": "code",
   "execution_count": 23,
   "id": "e49f2ca9-f7cd-4323-a196-26dfa107937e",
   "metadata": {},
   "outputs": [
    {
     "data": {
      "text/plain": [
       "['Mum#bai', 'Chen#nai']"
      ]
     },
     "execution_count": 23,
     "metadata": {},
     "output_type": "execute_result"
    }
   ],
   "source": [
    "# Q3)l1=['Hyd','Mum#bai','Chen#nai','blr']\n",
    "#  ans=['Mum#bai'',Chen#nai']  \n",
    "#  we want lements which are having '#'\n",
    "l1=['Hyd','Mum#bai','Chen#nai','blr']\n",
    "ans=[]\n",
    "for i in l1:\n",
    "    if '#' in i:\n",
    "        ans.append(i)\n",
    "ans"
   ]
  },
  {
   "cell_type": "code",
   "execution_count": 25,
   "id": "fd4e911a-0d45-4b61-8e76-90b1b73e2823",
   "metadata": {},
   "outputs": [
    {
     "data": {
      "text/plain": [
       "True"
      ]
     },
     "execution_count": 25,
     "metadata": {},
     "output_type": "execute_result"
    }
   ],
   "source": [
    "'nadeem' in '#' # 'nadeem' is available in '#'\n",
    "'#' in 'nadeem' # is '#' availabl in 'nadeem'\n",
    "'nad##m' in '#' # is 'nad##m' available in 'nadeem'\n",
    "'#' in 'nad##m' # is '#' available in 'nad##m'"
   ]
  },
  {
   "cell_type": "code",
   "execution_count": 27,
   "id": "b3f693cc-25ab-420f-9811-b778c00d040e",
   "metadata": {},
   "outputs": [
    {
     "data": {
      "text/plain": [
       "['Hyd', 'Mumbai', 'Chennai', 'Blr']"
      ]
     },
     "execution_count": 27,
     "metadata": {},
     "output_type": "execute_result"
    }
   ],
   "source": [
    "# Q5)l1=['Hyd','Mumbai','chennai','blr']\n",
    "#  ans= ['Hyd','Mumbai']\n",
    "#  we want lements which are having first letter capital\n",
    "l1=['Hyd','Mumbai','chennai','blr']\n",
    "ans=[]\n",
    "for i in l1:\n",
    "    ans.append(i.title())\n",
    "ans"
   ]
  },
  {
   "cell_type": "markdown",
   "id": "a246d46e-2262-45cb-95c7-17b91ffe3434",
   "metadata": {},
   "source": [
    "**split-join**"
   ]
  },
  {
   "cell_type": "markdown",
   "id": "513c3872-fee7-4609-8295-35c0066f98e3",
   "metadata": {},
   "source": [
    "- split will apply for strings , to divide the words or characters\n",
    "\n",
    "- when we split the elements will be stored in alist format\n",
    "\n",
    "- join is used to combine the elements of a list in a string format\n",
    "\n",
    "- **split-join**\n",
    "\n",
    "- **join-list**"
   ]
  },
  {
   "cell_type": "code",
   "execution_count": 34,
   "id": "7c25a3a4-fb78-4af0-85d1-d38346b72a0e",
   "metadata": {},
   "outputs": [
    {
     "data": {
      "text/plain": [
       "'Hello Im Learning Python'"
      ]
     },
     "execution_count": 34,
     "metadata": {},
     "output_type": "execute_result"
    }
   ],
   "source": [
    "str1='hello im learning python '\n",
    "words=str1.split()\n",
    "new_words=[]\n",
    "for i in words:\n",
    "    new_words.append(i.capitalize())\n",
    "' '.join(new_words)"
   ]
  },
  {
   "cell_type": "code",
   "execution_count": 36,
   "id": "5e203b39-c820-4c7f-84ce-2918b4013dc0",
   "metadata": {},
   "outputs": [
    {
     "name": "stdout",
     "output_type": "stream",
     "text": [
      "Distance between points a and b: 4.242640687119285\n"
     ]
    }
   ],
   "source": [
    "import math\n",
    "\n",
    "def calculate_distance(point1, point2):\n",
    "    \"\"\"Calculates the Euclidean distance between two points.\"\"\"\n",
    "    x1, y1 = point1\n",
    "    x2, y2 = point2\n",
    "    distance = math.sqrt((x2 - x1)**2 + (y2 - y1)**2)\n",
    "    return distance\n",
    "\n",
    "a = [1, 2]\n",
    "b = [4, 5]\n",
    "\n",
    "distance = calculate_distance(a, b)\n",
    "print(\"Distance between points a and b:\", distance)\n"
   ]
  },
  {
   "cell_type": "code",
   "execution_count": null,
   "id": "05f80908-3308-4353-af6b-fe5b6202f759",
   "metadata": {},
   "outputs": [],
   "source": [
    "#calculate the distance between the points a=[1,2] b=[4,5] python"
   ]
  },
  {
   "cell_type": "code",
   "execution_count": 42,
   "id": "c024aa34-4406-4491-8daf-30a250bba7cb",
   "metadata": {},
   "outputs": [
    {
     "name": "stdout",
     "output_type": "stream",
     "text": [
      "4.242640687119285\n"
     ]
    }
   ],
   "source": [
    "a=[1,2]\n",
    "b=[4,5]\n",
    "print(math.sqrt(math.pow((b[0]-a[0]),2)+math.pow((b[1]-a[1]),2)))"
   ]
  },
  {
   "cell_type": "code",
   "execution_count": 44,
   "id": "8c363aaf-1c4f-4175-a8e5-ab812eddde79",
   "metadata": {},
   "outputs": [
    {
     "name": "stdout",
     "output_type": "stream",
     "text": [
      "3.0\n"
     ]
    }
   ],
   "source": [
    "a=[1,2]\n",
    "b=[1,5]\n",
    "print(math.sqrt(math.pow((b[0]-a[0]),2)+math.pow((b[1]-a[1]),2)))"
   ]
  },
  {
   "cell_type": "code",
   "execution_count": 48,
   "id": "59575495-30be-4ed4-af50-3d554326e0b8",
   "metadata": {},
   "outputs": [
    {
     "name": "stdout",
     "output_type": "stream",
     "text": [
      "3.0\n"
     ]
    }
   ],
   "source": [
    "a=[1,2]\n",
    "b=[1,5]\n",
    "v1=b[0]-a[0]\n",
    "v2=b[1]-a[1]\n",
    "v11=v1**2\n",
    "v22=v2**2\n",
    "print(math.sqrt(v11+v22))"
   ]
  },
  {
   "cell_type": "code",
   "execution_count": 54,
   "id": "531ebb6b-8449-467f-80b6-0b6a1e210f1f",
   "metadata": {},
   "outputs": [
    {
     "name": "stdout",
     "output_type": "stream",
     "text": [
      "1 2\n",
      "2 3\n",
      "============\n",
      "2 3\n",
      "2 3\n",
      "============\n",
      "3 4\n",
      "2 3\n",
      "============\n"
     ]
    }
   ],
   "source": [
    "points=[[1,2],[2,3],[3,4]]\n",
    "val=[2,3]\n",
    "\n",
    "for i in points:\n",
    "    print(i[0],i[1])\n",
    "    print(val[0],val[1])\n",
    "    print('============')"
   ]
  },
  {
   "cell_type": "code",
   "execution_count": 64,
   "id": "af1dd75e-e08a-48e6-b9a8-615805feb079",
   "metadata": {},
   "outputs": [
    {
     "name": "stdout",
     "output_type": "stream",
     "text": [
      "1 2\n",
      "2 3\n",
      "3-2=2,2-1=1\n",
      "2.23606797749979\n",
      "==============\n",
      "2 3\n",
      "2 3\n",
      "3-2=1,2-2=0\n",
      "1.0\n",
      "==============\n",
      "5 4\n",
      "2 3\n",
      "3-2=-2,2-5=-3\n",
      "3.605551275463989\n",
      "==============\n"
     ]
    }
   ],
   "source": [
    "points=[[1,2],[2,3],[5,4]]\n",
    "val=[2,3]\n",
    "\n",
    "for i in points:\n",
    "    print(i[0],i[1])\n",
    "    print(val[0],val[1])\n",
    "    o1=val[0]-i[0]\n",
    "    o2=val[1]-i[0]\n",
    "    print(f\"{val[1]}-{val[0]}={o2},{val[0]}-{i[0]}={o1}\")\n",
    "    v11=o1**2\n",
    "    v22=o2**2\n",
    "    print(math.sqrt(v11+v22))\n",
    "    print('==============')"
   ]
  },
  {
   "cell_type": "code",
   "execution_count": 70,
   "id": "ebed475b-02f6-408a-a560-8f729e47db80",
   "metadata": {},
   "outputs": [
    {
     "data": {
      "text/plain": [
       "['hello', 'hai', 'how', 'are', 'you']"
      ]
     },
     "execution_count": 70,
     "metadata": {},
     "output_type": "execute_result"
    }
   ],
   "source": [
    "# Q8) str='hello hai how are you'\n",
    "# Maximum len of word using split and max method\n",
    "# sum of all the indexes of the maximum len of word using append\n",
    "str='hello hai how are you'\n",
    "words=str.split()\n",
    "str2=[]\n",
    "for i in words:\n",
    "    x=len(i)\n",
    "    str2.append(i)\n",
    "str2"
   ]
  },
  {
   "cell_type": "code",
   "execution_count": 1,
   "id": "d0043bf7-89b6-4c9d-9a30-3cd41cdc1527",
   "metadata": {},
   "outputs": [
    {
     "name": "stdout",
     "output_type": "stream",
     "text": [
      "hello\n"
     ]
    }
   ],
   "source": [
    "str='hello hai how are you'\n",
    "words=str.split()\n",
    "len_words=[]\n",
    "for i in words:\n",
    "    x=len(i)\n",
    "    len_words.append(x)\n",
    "max_len=max(len_words)\n",
    "\n",
    "for i in words:\n",
    "    if len(i)==max_len:\n",
    "        print(i)"
   ]
  },
  {
   "cell_type": "code",
   "execution_count": 5,
   "id": "0a5b43f9-f2c7-4470-9f58-585d07db6bac",
   "metadata": {},
   "outputs": [
    {
     "name": "stdin",
     "output_type": "stream",
     "text": [
      "What is capital of India Delhi\n",
      "Who is PM of India Modi\n",
      "Who is ICT ODI captian Rohit\n"
     ]
    },
    {
     "name": "stdout",
     "output_type": "stream",
     "text": [
      "The total marks are: 3\n"
     ]
    }
   ],
   "source": [
    "qns_lists=['What is capital of India',\n",
    "         'Who is PM of India',\n",
    "         'Who is ICT ODI captian']\n",
    "ans_list = ['Delhi', 'Modi', 'Rohit']\n",
    "marks=0\n",
    "for i in range(len(qns_lists)):\n",
    "    ans=input(qns_lists[i])\n",
    "    if ans.lower()==ans_list[i].lower():\n",
    "        marks=marks+1\n",
    "\n",
    "print(\"The total marks are:\",marks)"
   ]
  },
  {
   "cell_type": "code",
   "execution_count": null,
   "id": "502ea6b4-1863-4e4d-b316-710dfc3e9fbb",
   "metadata": {},
   "outputs": [],
   "source": [
    "clear\n",
    "copy\n",
    "count\n",
    "extend\n",
    "index\n",
    "insert\n",
    "pop\n",
    "remove\n",
    "reverse\n",
    "sort"
   ]
  },
  {
   "cell_type": "markdown",
   "id": "2242f3e8-dd70-4965-8c6c-d1ee235a5310",
   "metadata": {},
   "source": [
    "**Copy**"
   ]
  },
  {
   "cell_type": "code",
   "execution_count": 23,
   "id": "b04e3b94-ba73-4307-b0cf-c6cbae9d0995",
   "metadata": {},
   "outputs": [
    {
     "data": {
      "text/plain": [
       "[1, 2, 3, 100, 200, 300, 'A']"
      ]
     },
     "execution_count": 23,
     "metadata": {},
     "output_type": "execute_result"
    }
   ],
   "source": [
    "l1=[1,2,3,100,200,300,'A']\n",
    "l2=l1.copy()\n",
    "l2"
   ]
  },
  {
   "cell_type": "markdown",
   "id": "0b27d9f9-9ecb-4af6-8b59-30cdb1e588fc",
   "metadata": {},
   "source": [
    "**clear**"
   ]
  },
  {
   "cell_type": "code",
   "execution_count": 26,
   "id": "3a705893-566c-4761-bdae-7ea58ad41f6a",
   "metadata": {},
   "outputs": [
    {
     "data": {
      "text/plain": [
       "[]"
      ]
     },
     "execution_count": 26,
     "metadata": {},
     "output_type": "execute_result"
    }
   ],
   "source": [
    "l1.clear()\n",
    "l1"
   ]
  },
  {
   "cell_type": "code",
   "execution_count": 28,
   "id": "8945b275-d99d-44c8-a790-afaad625eeef",
   "metadata": {},
   "outputs": [
    {
     "data": {
      "text/plain": [
       "[1, 2, 3, 100, 200, 300, 'A']"
      ]
     },
     "execution_count": 28,
     "metadata": {},
     "output_type": "execute_result"
    }
   ],
   "source": [
    "l2"
   ]
  },
  {
   "cell_type": "code",
   "execution_count": 34,
   "id": "f22f45b9-b790-437a-923e-8c25d66aad9d",
   "metadata": {},
   "outputs": [
    {
     "name": "stdout",
     "output_type": "stream",
     "text": [
      "[1, 2, 3, 4, ['A', 'B', 'C', 'D']]\n",
      "['A', 'B', 'C', 'D']\n"
     ]
    }
   ],
   "source": [
    "l1=[1,2,3,4]\n",
    "l2=['A','B','C','D']\n",
    "l1.append(l2)\n",
    "print(l1)\n",
    "print(l2)"
   ]
  },
  {
   "cell_type": "code",
   "execution_count": 36,
   "id": "e382e18b-5b64-4d0a-bba9-15f707efbf68",
   "metadata": {},
   "outputs": [
    {
     "name": "stdout",
     "output_type": "stream",
     "text": [
      "[1, 2, 3, 4, 'A', 'B', 'C', 'D']\n",
      "['A', 'B', 'C', 'D']\n"
     ]
    }
   ],
   "source": [
    "l1=[1,2,3,4]\n",
    "l2=['A','B','C','D']\n",
    "l1.extend(l2)\n",
    "print(l1)\n",
    "print(l2)"
   ]
  },
  {
   "cell_type": "code",
   "execution_count": 40,
   "id": "24c0570d-1f6f-458e-bd9f-4528ade0f2c1",
   "metadata": {},
   "outputs": [
    {
     "name": "stdout",
     "output_type": "stream",
     "text": [
      "[1, 2, 3, 4]\n",
      "['A', 'B', 'C', 'D']\n"
     ]
    }
   ],
   "source": [
    "l1=[1,2,3,4]\n",
    "l2=['A','B','C','D']\n",
    "l1.count(l1)\n",
    "print(l1)\n",
    "print(l2)"
   ]
  },
  {
   "cell_type": "code",
   "execution_count": 44,
   "id": "c979e175-528c-46fa-a35d-75a1c51ca6dc",
   "metadata": {},
   "outputs": [
    {
     "name": "stdout",
     "output_type": "stream",
     "text": [
      "[1, 2, 3, 4]\n",
      "['A', 'B', 'C', 'D', 1, 2, 3, 4]\n"
     ]
    }
   ],
   "source": [
    "l1=[1,2,3,4]\n",
    "l2=['A','B','C','D']\n",
    "l2.extend(l1)\n",
    "print(l1)\n",
    "print(l2)"
   ]
  },
  {
   "cell_type": "code",
   "execution_count": 46,
   "id": "cd48c5cc-0ddd-404d-9da2-5fc029183fcf",
   "metadata": {},
   "outputs": [
    {
     "name": "stdout",
     "output_type": "stream",
     "text": [
      "[1, 2, 3, 4, 'A', 'B', 'C', 'D']\n",
      "['A', 'B', 'C', 'D', 1, 2, 3, 4]\n",
      "[1, 2, 3, 4]\n",
      "['A', 'B', 'C', 'D']\n"
     ]
    }
   ],
   "source": [
    "l1=[1,2,3,4]\n",
    "l2=['A','B','C','D']\n",
    "print(l1+l2)\n",
    "print(l2+l1)\n",
    "print(l1)\n",
    "print(l2)"
   ]
  },
  {
   "cell_type": "code",
   "execution_count": 48,
   "id": "8be41524-14cd-4fb2-bb50-5c143a4b212f",
   "metadata": {},
   "outputs": [],
   "source": [
    "l1=[1,2,3,4]\n",
    "l1.extend('apple')"
   ]
  },
  {
   "cell_type": "code",
   "execution_count": 50,
   "id": "c2b77ab8-e35b-47a6-9a5e-ddad754de31d",
   "metadata": {},
   "outputs": [
    {
     "data": {
      "text/plain": [
       "[1, 2, 3, 4, 'a', 'p', 'p', 'l', 'e']"
      ]
     },
     "execution_count": 50,
     "metadata": {},
     "output_type": "execute_result"
    }
   ],
   "source": [
    "l1"
   ]
  },
  {
   "cell_type": "code",
   "execution_count": 56,
   "id": "88df00d8-66b9-459a-8a68-3d3efc97e840",
   "metadata": {},
   "outputs": [
    {
     "ename": "TypeError",
     "evalue": "'int' object is not iterable",
     "output_type": "error",
     "traceback": [
      "\u001b[1;31m---------------------------------------------------------------------------\u001b[0m",
      "\u001b[1;31mTypeError\u001b[0m                                 Traceback (most recent call last)",
      "Cell \u001b[1;32mIn[56], line 2\u001b[0m\n\u001b[0;32m      1\u001b[0m l1\u001b[38;5;241m=\u001b[39m[\u001b[38;5;241m1\u001b[39m,\u001b[38;5;241m2\u001b[39m,\u001b[38;5;241m3\u001b[39m,\u001b[38;5;241m4\u001b[39m]\n\u001b[1;32m----> 2\u001b[0m l1\u001b[38;5;241m.\u001b[39mextend(\u001b[38;5;241m10\u001b[39m)\n\u001b[0;32m      3\u001b[0m l1\n",
      "\u001b[1;31mTypeError\u001b[0m: 'int' object is not iterable"
     ]
    }
   ],
   "source": [
    "l1=[1,2,3,4]\n",
    "l1.extend(10)\n",
    "l1"
   ]
  },
  {
   "cell_type": "code",
   "execution_count": 60,
   "id": "c2bae31a-19a5-40a7-bea7-bc582c685022",
   "metadata": {},
   "outputs": [
    {
     "data": {
      "text/plain": [
       "[1, 2, 3, 4, 10, 20]"
      ]
     },
     "execution_count": 60,
     "metadata": {},
     "output_type": "execute_result"
    }
   ],
   "source": [
    "l1=[1,2,3,4]\n",
    "l1.extend((10,20))\n",
    "l1"
   ]
  },
  {
   "cell_type": "code",
   "execution_count": null,
   "id": "7ea75e59-64c5-497e-8e2d-410f1cd17ae0",
   "metadata": {},
   "outputs": [],
   "source": [
    "- append just appened the value with base data type\n",
    "\n",
    "- extend is concatenate the value, and the list will be overwrite with new values\n",
    "\n",
    "- extend can take any iterable format type i.e. string, list, tuple\n",
    "\n",
    "- extend and concatenation both are same\n",
    "\n",
    "- the list will not overwrite in concatenation"
   ]
  },
  {
   "cell_type": "code",
   "execution_count": 66,
   "id": "53602255-9d26-4fda-92da-2bda10aa3c93",
   "metadata": {},
   "outputs": [
    {
     "data": {
      "text/plain": [
       "(3, 6)"
      ]
     },
     "execution_count": 66,
     "metadata": {},
     "output_type": "execute_result"
    }
   ],
   "source": [
    "l1=[1,2,3,'Apple',10,20,'Apple',40]\n",
    "l1.index(2)\n",
    "i1=l1.index('Apple')\n",
    "i2=l1.index('Apple',i1+1)\n",
    "i1,i2"
   ]
  },
  {
   "cell_type": "code",
   "execution_count": null,
   "id": "4fe7b0e0-90cc-47a2-93fd-33a9451a9749",
   "metadata": {},
   "outputs": [],
   "source": [
    "- case-1: Directly get the index\n",
    "\n",
    "- case-2: Next value index, by providing start\n",
    "\n",
    "- case-3: Between the values"
   ]
  },
  {
   "cell_type": "code",
   "execution_count": null,
   "id": "b833e07c-9976-44dc-907f-4cc0414bb8b4",
   "metadata": {},
   "outputs": [],
   "source": [
    "- Copy/clear\n",
    "\n",
    "- Append"
   ]
  },
  {
   "cell_type": "markdown",
   "id": "9e92ef77-64c5-48b8-8d21-fe7c29c51f6c",
   "metadata": {},
   "source": [
    "**Insert**\n",
    "\n",
    "- Will insert the element based on index\n",
    "\n",
    "- Append will add the element at last only"
   ]
  },
  {
   "cell_type": "code",
   "execution_count": 8,
   "id": "46ec2958-2b46-4d69-8338-2e64aed73da0",
   "metadata": {},
   "outputs": [
    {
     "data": {
      "text/plain": [
       "[1, 2, 3, 'Banana', 'Apple', 10, 20, 'Apple', 40]"
      ]
     },
     "execution_count": 8,
     "metadata": {},
     "output_type": "execute_result"
    }
   ],
   "source": [
    "l1=[1,2,3,'Apple', 10,20,'Apple',40]\n",
    "i1=l1.index('Apple')\n",
    "l1.insert(i1,'Banana')\n",
    "l1"
   ]
  },
  {
   "cell_type": "code",
   "execution_count": 22,
   "id": "1e1a5fad-3fb5-49d6-8bb0-c0452ecbaa81",
   "metadata": {},
   "outputs": [
    {
     "data": {
      "text/plain": [
       "[1, 2, 3, 'Apple', 10, 20, 'Apple', 'Cherry', 40]"
      ]
     },
     "execution_count": 22,
     "metadata": {},
     "output_type": "execute_result"
    }
   ],
   "source": [
    "l1=[1,2,3,'Apple', 10,20,'Apple',40]\n",
    "i1=l1.index(40)\n",
    "l1.insert(i1,'Cherry')\n",
    "l1"
   ]
  },
  {
   "cell_type": "code",
   "execution_count": 24,
   "id": "a5dedbb6-ab59-45b3-a511-5052bcf82775",
   "metadata": {},
   "outputs": [
    {
     "name": "stdout",
     "output_type": "stream",
     "text": [
      "I like apples\n"
     ]
    }
   ],
   "source": [
    "txt = \"I like bananas\"\n",
    "\n",
    "x = txt.replace(\"bananas\", \"apples\")\n",
    "\n",
    "print(x)"
   ]
  },
  {
   "cell_type": "code",
   "execution_count": null,
   "id": "52859aa2-ebbb-440d-824a-ef4bd52ed656",
   "metadata": {},
   "outputs": [],
   "source": [
    "l1=[1,2,3,'Apple', 10,20,'Apple',40]\n",
    "i1=l1.index(40)\n",
    "l1.insert(i1,'Cherry')\n",
    "l1"
   ]
  },
  {
   "cell_type": "code",
   "execution_count": 55,
   "id": "f93bfbda-c14e-4d41-a2a6-6d2aa01fb0df",
   "metadata": {},
   "outputs": [
    {
     "data": {
      "text/plain": [
       "[1, 2, 3, 'Apple', 10, 20, 'Cherry', 'Apple', 40]"
      ]
     },
     "execution_count": 55,
     "metadata": {},
     "output_type": "execute_result"
    }
   ],
   "source": [
    "l1 = [1, 2, 3, 'Apple', 10, 20, 'Apple', 40]\n",
    "i1 = l1.index('Apple')\n",
    "i2= l1.index('Apple', i1 + 1)\n",
    "l1.insert(i2,'Cherry')\n",
    "l1"
   ]
  },
  {
   "cell_type": "code",
   "execution_count": 46,
   "id": "2935465c-d5f3-4f1f-9ec3-3297a4259962",
   "metadata": {},
   "outputs": [
    {
     "data": {
      "text/plain": [
       "['__add__',\n",
       " '__class__',\n",
       " '__class_getitem__',\n",
       " '__contains__',\n",
       " '__delattr__',\n",
       " '__delitem__',\n",
       " '__dir__',\n",
       " '__doc__',\n",
       " '__eq__',\n",
       " '__format__',\n",
       " '__ge__',\n",
       " '__getattribute__',\n",
       " '__getitem__',\n",
       " '__getstate__',\n",
       " '__gt__',\n",
       " '__hash__',\n",
       " '__iadd__',\n",
       " '__imul__',\n",
       " '__init__',\n",
       " '__init_subclass__',\n",
       " '__iter__',\n",
       " '__le__',\n",
       " '__len__',\n",
       " '__lt__',\n",
       " '__mul__',\n",
       " '__ne__',\n",
       " '__new__',\n",
       " '__reduce__',\n",
       " '__reduce_ex__',\n",
       " '__repr__',\n",
       " '__reversed__',\n",
       " '__rmul__',\n",
       " '__setattr__',\n",
       " '__setitem__',\n",
       " '__sizeof__',\n",
       " '__str__',\n",
       " '__subclasshook__',\n",
       " 'append',\n",
       " 'clear',\n",
       " 'copy',\n",
       " 'count',\n",
       " 'extend',\n",
       " 'index',\n",
       " 'insert',\n",
       " 'pop',\n",
       " 'remove',\n",
       " 'reverse',\n",
       " 'sort']"
      ]
     },
     "execution_count": 46,
     "metadata": {},
     "output_type": "execute_result"
    }
   ],
   "source": [
    "dir([])"
   ]
  },
  {
   "cell_type": "markdown",
   "id": "d6998a03-b11c-412d-8862-914471dc050f",
   "metadata": {},
   "source": [
    "**pop-remove-del**\n",
    "\n",
    "- pop will remoove the item \n",
    "\n",
    "- pop also display the item which is removing \n",
    "\n",
    "- pop will take one argument:index\n",
    "\n",
    "- pop will remove the item based on index\n",
    "\n",
    "- if you dont provide any index, by default it will remove last value\n",
    "\n",
    "- because the default indexvalue is -1"
   ]
  },
  {
   "cell_type": "code",
   "execution_count": 49,
   "id": "5e2f2150-a986-43cb-bdce-14754ab733ca",
   "metadata": {},
   "outputs": [
    {
     "data": {
      "text/plain": [
       "[1, 2, 3, 'Apple', 10, 20, 'Apple']"
      ]
     },
     "execution_count": 49,
     "metadata": {},
     "output_type": "execute_result"
    }
   ],
   "source": [
    "l1 = [1, 2, 3, 'Apple', 10, 20, 'Apple', 40]\n",
    "l1.pop()\n",
    "l1"
   ]
  },
  {
   "cell_type": "code",
   "execution_count": 83,
   "id": "06413ee1-51d3-4963-b1e9-1963ad483b8c",
   "metadata": {},
   "outputs": [
    {
     "data": {
      "text/plain": [
       "[1, 2, 3, 'Apple', 10, 20, 40]"
      ]
     },
     "execution_count": 83,
     "metadata": {},
     "output_type": "execute_result"
    }
   ],
   "source": [
    "#Second apple\n",
    "l1 = [1, 2, 3, 'Apple', 10, 20, 'Apple', 40]\n",
    "i1=l1.index('Apple')\n",
    "i2=l1.index('Apple',i1+1)\n",
    "l1.pop(i2)\n",
    "l1"
   ]
  },
  {
   "cell_type": "code",
   "execution_count": 91,
   "id": "c5a61cd4-f054-404b-9355-53963503634c",
   "metadata": {},
   "outputs": [
    {
     "data": {
      "text/plain": [
       "[1, 2, 3, 10, 20, 40]"
      ]
     },
     "execution_count": 91,
     "metadata": {},
     "output_type": "execute_result"
    }
   ],
   "source": [
    "# two apple remove\n",
    "l1 = [1, 2, 3, 'Apple', 10, 20, 'Apple', 40]\n",
    "i1=l1.index('Apple')\n",
    "l1.pop(i1)\n",
    "i2=l1.index('Apple')\n",
    "l1.pop(i2)\n",
    "l1"
   ]
  },
  {
   "cell_type": "code",
   "execution_count": 93,
   "id": "4c4fa6b7-a25e-4edc-bcee-4383f502751c",
   "metadata": {},
   "outputs": [
    {
     "name": "stdout",
     "output_type": "stream",
     "text": [
      "hai how are you im good thank you\n"
     ]
    }
   ],
   "source": [
    "str='hai apple how are you apple im good apple thank you apple'\n",
    "word_list = str.split()\n",
    "while 'apple' in word_list:\n",
    "    word_list.pop(word_list.index('apple'))\n",
    "new_str = ' '.join(word_list)\n",
    "print(new_str)\n"
   ]
  },
  {
   "cell_type": "code",
   "execution_count": 138,
   "id": "9f97ddd2-517b-4236-8248-6fdd314e06e7",
   "metadata": {},
   "outputs": [
    {
     "data": {
      "text/plain": [
       "'hai how are you im good thank you'"
      ]
     },
     "execution_count": 138,
     "metadata": {},
     "output_type": "execute_result"
    }
   ],
   "source": [
    "l1='hai apple how are you apple im good apple thank you apple'\n",
    "l2=l1.split()\n",
    "count=l2.count('apple')\n",
    "for i in range(count):\n",
    "    i1=l2.index('apple')\n",
    "    l2.pop(i1)\n",
    "l3=' '.join(l2)\n",
    "l3"
   ]
  },
  {
   "cell_type": "markdown",
   "id": "5e9774b1-9adf-4dd5-bd80-6c2eb23a3f48",
   "metadata": {},
   "source": [
    "**Remove**\n",
    "\n",
    "- remove will take value\n",
    "\n",
    "- remove will"
   ]
  },
  {
   "cell_type": "code",
   "execution_count": 132,
   "id": "11dc2d7b-2fbe-403e-80e0-12ef433a6420",
   "metadata": {},
   "outputs": [
    {
     "data": {
      "text/plain": [
       "[1, 2, 3, 10, 20, 'Apple', 40]"
      ]
     },
     "execution_count": 132,
     "metadata": {},
     "output_type": "execute_result"
    }
   ],
   "source": [
    "l1 = [1, 2, 3, 'Apple', 10, 20, 'Apple', 40]\n",
    "l1.remove('Apple')\n",
    "l1"
   ]
  },
  {
   "cell_type": "code",
   "execution_count": 150,
   "id": "acaf4fc0-4670-4f29-85a6-fc256627baff",
   "metadata": {},
   "outputs": [
    {
     "data": {
      "text/plain": [
       "'hai how are you im good thank you'"
      ]
     },
     "execution_count": 150,
     "metadata": {},
     "output_type": "execute_result"
    }
   ],
   "source": [
    "l1='hai apple how are you apple im good apple thank you apple'\n",
    "l2=l1.split()\n",
    "count=l2.count('apple')\n",
    "for i in range(count):\n",
    "    l2.remove('apple')\n",
    "l3=' '.join(l2)\n",
    "l3"
   ]
  },
  {
   "cell_type": "markdown",
   "id": "901e031b-39c8-4676-917d-72d630a9995c",
   "metadata": {},
   "source": [
    "**del**"
   ]
  },
  {
   "cell_type": "code",
   "execution_count": 162,
   "id": "cc4ec6a0-1b92-4d1d-8649-96f15ff5b386",
   "metadata": {},
   "outputs": [
    {
     "data": {
      "text/plain": [
       "[1, 2, 3, 'Apple', 10, 20, 40]"
      ]
     },
     "execution_count": 162,
     "metadata": {},
     "output_type": "execute_result"
    }
   ],
   "source": [
    "l1 = [1, 2, 3, 'Apple', 10, 20, 'Apple', 40]\n",
    "del(l1[6])\n",
    "l1"
   ]
  },
  {
   "cell_type": "markdown",
   "id": "9624334e-97f1-4a35-8012-12cf62294fbe",
   "metadata": {},
   "source": [
    "- append / extend / insert/ concatenation\n",
    "\n",
    "- pop / remove/ del\n",
    "\n",
    "- sort/ sorted\n",
    "\n",
    "- reverse/reveresed\n",
    "\n",
    "- count and index ==== can use anywhere"
   ]
  },
  {
   "cell_type": "code",
   "execution_count": 165,
   "id": "c6ddbddd-4a96-42b6-b7bb-806b13c44cd7",
   "metadata": {},
   "outputs": [
    {
     "data": {
      "text/plain": [
       "['__add__',\n",
       " '__class__',\n",
       " '__class_getitem__',\n",
       " '__contains__',\n",
       " '__delattr__',\n",
       " '__dir__',\n",
       " '__doc__',\n",
       " '__eq__',\n",
       " '__format__',\n",
       " '__ge__',\n",
       " '__getattribute__',\n",
       " '__getitem__',\n",
       " '__getnewargs__',\n",
       " '__getstate__',\n",
       " '__gt__',\n",
       " '__hash__',\n",
       " '__init__',\n",
       " '__init_subclass__',\n",
       " '__iter__',\n",
       " '__le__',\n",
       " '__len__',\n",
       " '__lt__',\n",
       " '__mul__',\n",
       " '__ne__',\n",
       " '__new__',\n",
       " '__reduce__',\n",
       " '__reduce_ex__',\n",
       " '__repr__',\n",
       " '__rmul__',\n",
       " '__setattr__',\n",
       " '__sizeof__',\n",
       " '__str__',\n",
       " '__subclasshook__',\n",
       " 'count',\n",
       " 'index']"
      ]
     },
     "execution_count": 165,
     "metadata": {},
     "output_type": "execute_result"
    }
   ],
   "source": [
    "dir(())"
   ]
  },
  {
   "cell_type": "code",
   "execution_count": null,
   "id": "689ba842-4257-48d3-819d-5b1f61036919",
   "metadata": {},
   "outputs": [],
   "source": []
  }
 ],
 "metadata": {
  "kernelspec": {
   "display_name": "Python 3 (ipykernel)",
   "language": "python",
   "name": "python3"
  },
  "language_info": {
   "codemirror_mode": {
    "name": "ipython",
    "version": 3
   },
   "file_extension": ".py",
   "mimetype": "text/x-python",
   "name": "python",
   "nbconvert_exporter": "python",
   "pygments_lexer": "ipython3",
   "version": "3.11.7"
  }
 },
 "nbformat": 4,
 "nbformat_minor": 5
}
