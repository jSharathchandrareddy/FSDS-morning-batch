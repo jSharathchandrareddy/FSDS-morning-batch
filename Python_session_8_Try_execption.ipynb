{
 "cells": [
  {
   "cell_type": "markdown",
   "id": "7b0c5bad-5dd4-432a-bab2-b13591d37934",
   "metadata": {},
   "source": [
    "**try-except**\n",
    "- Generally in real time we write n number of python lines\n",
    "\n",
    "- There is a situation we might get an error, that error might be unknown\n",
    "\n",
    "- this Unkown error does not cause any harm\n",
    "\n",
    "- even though we are getting error we need to proceed further\n",
    "\n",
    "- also we need to catch that error\n",
    "\n",
    "- because we already known python is a sequential process"
   ]
  },
  {
   "cell_type": "markdown",
   "id": "13b72c90-a31a-4f23-b050-9406f96389b5",
   "metadata": {},
   "source": [
    "- try - except has two blocks\n",
    "\n",
    "- try block as actual code\n",
    "\n",
    "- except block will catch the error\n",
    "\n",
    "**syntax**\n",
    "try:\n",
    "    <CODE>\n",
    "except:\n",
    "    <code>\n"
   ]
  },
  {
   "cell_type": "code",
   "execution_count": 6,
   "id": "b8607860-dd22-48e9-97e2-63fd2c6c916a",
   "metadata": {},
   "outputs": [
    {
     "name": "stdin",
     "output_type": "stream",
     "text": [
      "enter the number1: 10\n",
      "enter the number2: ten\n"
     ]
    },
    {
     "ename": "NameError",
     "evalue": "name 'ten' is not defined",
     "output_type": "error",
     "traceback": [
      "\u001b[1;31m---------------------------------------------------------------------------\u001b[0m",
      "\u001b[1;31mNameError\u001b[0m                                 Traceback (most recent call last)",
      "Cell \u001b[1;32mIn[6], line 2\u001b[0m\n\u001b[0;32m      1\u001b[0m n1\u001b[38;5;241m=\u001b[39m\u001b[38;5;28meval\u001b[39m(\u001b[38;5;28minput\u001b[39m(\u001b[38;5;124m\"\u001b[39m\u001b[38;5;124menter the number1:\u001b[39m\u001b[38;5;124m\"\u001b[39m))\n\u001b[1;32m----> 2\u001b[0m n2\u001b[38;5;241m=\u001b[39m\u001b[38;5;28meval\u001b[39m(\u001b[38;5;28minput\u001b[39m(\u001b[38;5;124m\"\u001b[39m\u001b[38;5;124menter the number2:\u001b[39m\u001b[38;5;124m\"\u001b[39m))\n\u001b[0;32m      3\u001b[0m add\u001b[38;5;241m=\u001b[39mn1\u001b[38;5;241m+\u001b[39mn2\n\u001b[0;32m      4\u001b[0m \u001b[38;5;28mprint\u001b[39m(\u001b[38;5;124m\"\u001b[39m\u001b[38;5;124madd\u001b[39m\u001b[38;5;124m\"\u001b[39m)\n",
      "File \u001b[1;32m<string>:1\u001b[0m\n",
      "\u001b[1;31mNameError\u001b[0m: name 'ten' is not defined"
     ]
    }
   ],
   "source": [
    "n1=eval(input(\"enter the number1:\"))\n",
    "n2=eval(input(\"enter the number2:\"))\n",
    "add=n1+n2\n",
    "print(\"add\")"
   ]
  },
  {
   "cell_type": "code",
   "execution_count": 8,
   "id": "c688496b-e0d2-4298-8510-c0b8e79faf8f",
   "metadata": {},
   "outputs": [
    {
     "name": "stdin",
     "output_type": "stream",
     "text": [
      "enter the number1: 10\n",
      "enter the number2: ten\n"
     ]
    },
    {
     "name": "stdout",
     "output_type": "stream",
     "text": [
      "your getting error\n"
     ]
    }
   ],
   "source": [
    "try:\n",
    "    n1=eval(input(\"enter the number1:\"))\n",
    "    n2=eval(input(\"enter the number2:\"))\n",
    "    add=n1+n2\n",
    "    print(\"add\")\n",
    "except:\n",
    "    print(\"your getting error\")"
   ]
  },
  {
   "cell_type": "code",
   "execution_count": null,
   "id": "f62d2b26-a58c-4d6d-ae97-5a6b4d2afa0f",
   "metadata": {},
   "outputs": [],
   "source": [
    "**Note**\n",
    "\n",
    "- Generally try expcet block will use to catch the errors\n"
   ]
  },
  {
   "cell_type": "code",
   "execution_count": null,
   "id": "eae30a9e-5399-4571-9cca-8971d3dd83a0",
   "metadata": {},
   "outputs": [],
   "source": [
    "# name error\n",
    "# indentation error"
   ]
  },
  {
   "cell_type": "code",
   "execution_count": 20,
   "id": "44bf324f-2d02-471a-918f-d881465a1dee",
   "metadata": {},
   "outputs": [
    {
     "name": "stdin",
     "output_type": "stream",
     "text": [
      "enter the number1: 20\n",
      "enter the number2: ten\n"
     ]
    },
    {
     "name": "stdout",
     "output_type": "stream",
     "text": [
      "the error is name 'ten' is not defined\n"
     ]
    }
   ],
   "source": [
    "try:\n",
    "    n1=eval(input(\"enter the number1:\"))\n",
    "    n2=eval(input(\"enter the number2:\"))\n",
    "    add=n1+n2\n",
    "    div=n1/n2\n",
    "    print(f\"{add}and {div}\")\n",
    "except Exception as e:\n",
    "    print(f\"the error is {e}\")"
   ]
  },
  {
   "cell_type": "code",
   "execution_count": null,
   "id": "1ca8d8bb-256f-4a38-9066-465406d0cf16",
   "metadata": {},
   "outputs": [],
   "source": [
    "# now onward every code\n",
    "# need to use try-except"
   ]
  },
  {
   "cell_type": "code",
   "execution_count": 28,
   "id": "af020e16-ccc9-48d2-b248-94eff5c0d7fa",
   "metadata": {},
   "outputs": [
    {
     "name": "stdin",
     "output_type": "stream",
     "text": [
      "enter the number: 0\n"
     ]
    },
    {
     "name": "stdout",
     "output_type": "stream",
     "text": [
      "the 0 is even\n"
     ]
    }
   ],
   "source": [
    "try:\n",
    "    num=eval(input(\"enter the number:\"))\n",
    "    if num%2==0:\n",
    "        print(f\"the {num} is even\")\n",
    "    else: print(f\"the {num} is odd\")\n",
    "except Exception as e:\n",
    "    print(f\"the error is {e}\")"
   ]
  },
  {
   "cell_type": "code",
   "execution_count": null,
   "id": "dc823928-f304-4758-b7c9-8ec048bb06b4",
   "metadata": {},
   "outputs": [],
   "source": []
  }
 ],
 "metadata": {
  "kernelspec": {
   "display_name": "Python 3 (ipykernel)",
   "language": "python",
   "name": "python3"
  },
  "language_info": {
   "codemirror_mode": {
    "name": "ipython",
    "version": 3
   },
   "file_extension": ".py",
   "mimetype": "text/x-python",
   "name": "python",
   "nbconvert_exporter": "python",
   "pygments_lexer": "ipython3",
   "version": "3.11.7"
  }
 },
 "nbformat": 4,
 "nbformat_minor": 5
}
